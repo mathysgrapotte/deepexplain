{
 "cells": [
  {
   "cell_type": "markdown",
   "metadata": {
    "id": "3GcNLOpMkT4M"
   },
   "source": [
    "# Finding Similar Inputs"
   ]
  },
  {
   "cell_type": "markdown",
   "metadata": {
    "id": "ineS3BcpppBz"
   },
   "source": [
    "## Introduction\n",
    "Neural network classifiers usually make mistakes on test data. \n",
    "\n",
    "![Network Misclassificaton](https://drive.google.com/uc?export=view&id=1p5K8QTbYvfcTLvjNIXjna1H3SO1mum5s)\n",
    "\n",
    "This method may help to explain why an input was misclassified. We will:\n",
    "- Train a neural network on MNIST\n",
    "- Find a few misclassified test inputs\n",
    "- Answer the question: which are the training examples most similar to the misclassifed input from the point of view of the network?"
   ]
  },
  {
   "cell_type": "markdown",
   "metadata": {
    "id": "Xx1FJks2bkZq"
   },
   "source": [
    "Our goal is to obtain similar inputs:\n",
    "\n",
    "![Similar inputs example](https://drive.google.com/uc?export=view&id=1FegdgNS8yhqvGkPUOlQRHzEkXlWAs8gc)"
   ]
  },
  {
   "cell_type": "markdown",
   "metadata": {
    "id": "jJMO88UBbkZr"
   },
   "source": [
    "## Method\n",
    "This method is inspired from [Caruana et al (1999)](https://www.ncbi.nlm.nih.gov/pmc/articles/PMC2232607/).\n",
    "\n",
    "We will save the activations of one hidden layer for the whole training dataset.\n",
    "\n",
    "![Method diagram](https://drive.google.com/uc?export=view&id=1BcnEpgFmQTKC3u7HNyZXe91V3-evflzE)\n",
    "\n",
    "The activations will look like this:\n",
    "\n",
    "|                  | Neuron 1 | Neuron 2 | Neuron 3 |   ...    | Neuron n |\n",
    "| ---------------- | -------- | -------- | -------- | -------- | -------- |\n",
    "| Training image 1 |    0.5   |   0.7    |   2.1    |   ...    |   -1.1   |\n",
    "| Training image 2 |    -1.5  |   1.8    |   -3.2   |   ...    |   2.7    |\n",
    "| Training image 3 |    0.2   |   -0.3   |   1.1    |   ...    |   3.5    |\n",
    "|       ...        |    ...   |   ...    |   ...    |   ...    |   ...    |\n",
    "| Training image N |   -1.2   |   1.5    |   0.1    |   ...    |   0.7    |\n",
    "| Test image       |   0.8    |   0.3    |   0.9    |   ...    |   0.2    |\n",
    "\n",
    "Then, we will compare the activations of the **test image** with **each** training image, and find the closest ones.\n",
    "\n",
    "To find the closest training image we can use a **K-Nearest-Negihbor** approach with Euclidean distance.\n",
    "\n",
    "In 2-dimensions, the Euclidean distance between two points is\n",
    "\n",
    "$d = \\sqrt{(x_1 - x_0)^2 + (y_1 - y_0)^2}$\n",
    "\n",
    "In n dimensions we can do the same\n",
    "\n",
    "$d = \\sqrt{(x_1 - x_0)^2 + (y_1 - y_0)^2 + (z_1 - z_0)^2 + ...}$\n",
    "\n",
    "For example, in the table above, the distance between *Test image* and *Training image 1* would be computed as:\n",
    "\n",
    "$d = \\sqrt{(0.8 - 0.5)^2 + (0.3 - 0.7)^2 + (0.9 - 2.1)^2 + ... + (0.2 - (-1.1))^2)}$\n",
    "\n",
    "We compute the distance between *Test image* and each training image, then choose the images with smallest distance.\n",
    "\n",
    "> ⚠️ This method relies on unverified assumptions: \n",
    "> 1. two inputs are similar from the network's point of view if they have similar activations; \n",
    "> 2. comparing activations with euclidean distance is a good idea.\n",
    "> \n",
    "> The method can be used to get a hypothesis, but it will require further verification.\n",
    "\n",
    "> Note: in the original paper, they record *all* layers. We picked only one for simplicity."
   ]
  },
  {
   "cell_type": "markdown",
   "metadata": {
    "id": "LQtRstvykYfz"
   },
   "source": [
    "## Code"
   ]
  },
  {
   "cell_type": "code",
   "execution_count": 1,
   "metadata": {
    "cellView": "form",
    "id": "jx6TYiAsC1y5"
   },
   "outputs": [
    {
     "name": "stdout",
     "output_type": "stream",
     "text": [
      "\u001b[33mWARNING: Value for scheme.platlib does not match. Please report this to <https://github.com/pypa/pip/issues/10151>\n",
      "distutils: /usr/local/lib/python3.8/dist-packages\n",
      "sysconfig: /usr/lib/python3.8/site-packages\u001b[0m\n",
      "\u001b[33mWARNING: Value for scheme.purelib does not match. Please report this to <https://github.com/pypa/pip/issues/10151>\n",
      "distutils: /usr/local/lib/python3.8/dist-packages\n",
      "sysconfig: /usr/lib/python3.8/site-packages\u001b[0m\n",
      "\u001b[33mWARNING: Value for scheme.headers does not match. Please report this to <https://github.com/pypa/pip/issues/10151>\n",
      "distutils: /usr/local/include/python3.8/UNKNOWN\n",
      "sysconfig: /usr/include/python3.8/UNKNOWN\u001b[0m\n",
      "\u001b[33mWARNING: Value for scheme.scripts does not match. Please report this to <https://github.com/pypa/pip/issues/10151>\n",
      "distutils: /usr/local/bin\n",
      "sysconfig: /usr/bin\u001b[0m\n",
      "\u001b[33mWARNING: Value for scheme.data does not match. Please report this to <https://github.com/pypa/pip/issues/10151>\n",
      "distutils: /usr/local\n",
      "sysconfig: /usr\u001b[0m\n",
      "\u001b[33mWARNING: Additional context:\n",
      "user = False\n",
      "home = None\n",
      "root = None\n",
      "prefix = None\u001b[0m\n",
      "Defaulting to user installation because normal site-packages is not writeable\n",
      "Requirement already satisfied: torch in /home/cristi/.local/lib/python3.8/site-packages (1.10.0)\n",
      "Requirement already satisfied: torchvision in /home/cristi/.local/lib/python3.8/site-packages (0.11.1)\n",
      "Requirement already satisfied: typing-extensions in /home/cristi/.local/lib/python3.8/site-packages (from torch) (3.10.0.2)\n",
      "Requirement already satisfied: numpy in /home/cristi/.local/lib/python3.8/site-packages (from torchvision) (1.21.4)\n",
      "Requirement already satisfied: pillow!=8.3.0,>=5.3.0 in /usr/lib/python3/dist-packages (from torchvision) (7.0.0)\n",
      "\u001b[33mWARNING: You are using pip version 21.2.1; however, version 21.3.1 is available.\n",
      "You should consider upgrading via the '/usr/bin/python3 -m pip install --upgrade pip' command.\u001b[0m\n"
     ]
    },
    {
     "data": {
      "text/plain": [
       "<All keys matched successfully>"
      ]
     },
     "execution_count": 1,
     "metadata": {},
     "output_type": "execute_result"
    }
   ],
   "source": [
    "#@title Download dataset and train the model\n",
    "!pip install torch torchvision\n",
    "%matplotlib inline\n",
    "import matplotlib.pyplot as plt\n",
    "import numpy as np\n",
    "import torch\n",
    "import torch.nn as nn\n",
    "import torchvision\n",
    "from data_and_models import get_mnist_dataset, mnist_conv_model\n",
    "mnist_train_dataset = get_mnist_dataset(root='./data',train=True)\n",
    "mnist_test_dataset = get_mnist_dataset(root='./data',train=False)\n",
    "mnist_train_loader = torch.utils.data.DataLoader(mnist_train_dataset,batch_size=64, shuffle=True)\n",
    "mnist_test_loader = torch.utils.data.DataLoader(mnist_test_dataset,batch_size=1000, shuffle=True)\n",
    "model = mnist_conv_model()\n",
    "model.load_state_dict(torch.load('models/mnist_full_model.pth'))"
   ]
  },
  {
   "cell_type": "code",
   "execution_count": 2,
   "metadata": {
    "id": "DaSWU1CzqRGC"
   },
   "outputs": [],
   "source": [
    "# By default, when given inputs, the model returns only the outputs.\n",
    "# To record activations in PyTorch, we can use a forward hook, which is a regular Python function. \n",
    "# When we attach the hook to a layer, our hook will be called every time that layer is used.\n",
    "activations = None # This global variable is used to read the activations after the computations\n",
    "def hook_fc1(model, input, output):\n",
    "  global activations\n",
    "  activations = output.detach() # Only record the layer's output\n",
    "model.fc1.register_forward_hook(hook_fc1);"
   ]
  },
  {
   "cell_type": "code",
   "execution_count": 3,
   "metadata": {
    "colab": {
     "base_uri": "https://localhost:8080/"
    },
    "id": "X4csPnKbEyK-",
    "outputId": "a797ea40-3848-49cc-9883-e69351f97e47"
   },
   "outputs": [
    {
     "name": "stdout",
     "output_type": "stream",
     "text": [
      "torch.Size([60000, 1, 28, 28]) torch.Size([60000]) torch.Size([60000]) torch.Size([60000, 50])\n"
     ]
    }
   ],
   "source": [
    "# Record the activations of all training examples\n",
    "# To avoid the complexity of batching, we load the full training dataset in 1 batch\n",
    "full_training_dataset_loader = torch.utils.data.DataLoader(mnist_train_dataset, batch_size=len(mnist_train_dataset))\n",
    "with torch.no_grad(): # disable gradients to make computations faster\n",
    "  activations = None\n",
    "  train_images, train_labels = next(iter(full_training_dataset_loader))\n",
    "  # Predict for all training images\n",
    "  train_outputs = model(train_images).data\n",
    "  # train_outputs contains a list of probabilities (one for each digit 0-9)\n",
    "  # For misclassifications, we're interested in the digit having the highest probability\n",
    "  train_predictions = train_outputs.max(dim=1)[1]\n",
    "  # Save the activations in a separate variable\n",
    "  train_activations = activations\n",
    "\n",
    "  print(train_images.shape, train_labels.shape, train_predictions.shape, train_activations.shape)"
   ]
  },
  {
   "cell_type": "code",
   "execution_count": 4,
   "metadata": {
    "colab": {
     "base_uri": "https://localhost:8080/"
    },
    "id": "GbqXFOftSdde",
    "outputId": "07bd1bca-fa0c-445f-85f3-aa5ad7b3c82e"
   },
   "outputs": [
    {
     "name": "stdout",
     "output_type": "stream",
     "text": [
      "torch.Size([10000, 1, 28, 28]) torch.Size([10000]) torch.Size([10000]) torch.Size([10000, 50])\n"
     ]
    }
   ],
   "source": [
    "# Record the activations of all test examples\n",
    "full_test_dataset_loader = torch.utils.data.DataLoader(mnist_test_dataset, batch_size=len(mnist_test_dataset))\n",
    "with torch.no_grad():\n",
    "  activations = None\n",
    "  test_images, test_labels = next(iter(full_test_dataset_loader))\n",
    "  test_outputs = model(test_images).data\n",
    "  test_predictions = test_outputs.max(dim=1)[1]\n",
    "  test_activations = activations\n",
    "  print(test_images.shape, test_labels.shape, test_predictions.shape, test_activations.shape)"
   ]
  },
  {
   "cell_type": "code",
   "execution_count": 5,
   "metadata": {
    "id": "bJn9aZQ-djPx"
   },
   "outputs": [],
   "source": [
    "# Find the first 4 images that were misclassified\n",
    "misclassification_indices = (test_predictions - test_labels).nonzero(as_tuple=True)[0].tolist()\n",
    "test_indices = misclassification_indices[0:4]"
   ]
  },
  {
   "cell_type": "markdown",
   "metadata": {
    "id": "lgJoyLMIIcNl"
   },
   "source": [
    "### Finding the closest examples:\n"
   ]
  },
  {
   "cell_type": "code",
   "execution_count": 6,
   "metadata": {
    "colab": {
     "base_uri": "https://localhost:8080/",
     "height": 989
    },
    "id": "K0m4KJ_9JwH3",
    "outputId": "db57cdac-3137-4e0f-c318-e6d8cd4c8d5b"
   },
   "outputs": [
    {
     "data": {
      "image/png": "[encoded data removed]",
      "text/plain": [
       "<Figure size 432x288 with 6 Axes>"
      ]
     },
     "metadata": {},
     "output_type": "display_data"
    },
    {
     "data": {
      "image/png": "[encoded data removed]",
      "text/plain": [
       "<Figure size 432x288 with 6 Axes>"
      ]
     },
     "metadata": {},
     "output_type": "display_data"
    },
    {
     "data": {
      "image/png": "[encoded data removed]",
      "text/plain": [
       "<Figure size 432x288 with 6 Axes>"
      ]
     },
     "metadata": {},
     "output_type": "display_data"
    },
    {
     "data": {
      "image/png": "[encoded data removed]",
      "text/plain": [
       "<Figure size 432x288 with 6 Axes>"
      ]
     },
     "metadata": {},
     "output_type": "display_data"
    }
   ],
   "source": [
    "# For the first 4 misclassifications:\n",
    "for test_idx in test_indices:\n",
    "  # Find the closest examples\n",
    "  number_of_examples = 5\n",
    "  differences = train_activations - test_activations[test_idx:test_idx+1] # Take all train activations and subtract the test image's activation\n",
    "  distances = torch.norm(differences, dim=1, p=None) # Do the squared sum of all values \n",
    "  knn = distances.topk(number_of_examples, largest=False).indices # Get the indices of the smallest distances\n",
    "  # print('Smallest distances indices: ', knn.tolist())\n",
    "  # print('Smallest distances: ', distances.index_select(0, knn).tolist())\n",
    "\n",
    "  # Draw the test image and the most similar training images\n",
    "  fig = plt.figure()\n",
    "  fig.suptitle(\"T: True label, P: Predicted label\");\n",
    "  plt.tight_layout()\n",
    "  plt.subplot(2,number_of_examples,1)\n",
    "  plt.imshow(test_images[test_idx][0], cmap='gray', interpolation='none')\n",
    "  plt.title(\"T: {}, P: {}\".format(test_labels[test_idx], test_predictions[test_idx]))\n",
    "  plt.xticks([])\n",
    "  plt.yticks([])\n",
    "  for i in range(number_of_examples):\n",
    "    plt.subplot(2,number_of_examples,i+1+number_of_examples)\n",
    "    plt.imshow(train_images[knn[i]][0], cmap='gray', interpolation='none')\n",
    "    plt.title(\"T: {}, P: {}\".format(int(train_labels[knn[i]].item()), int(train_predictions[knn[i]].item())))\n",
    "    plt.xticks([])\n",
    "    plt.yticks([])"
   ]
  },
  {
   "cell_type": "markdown",
   "metadata": {
    "id": "lrYKqD0FjIIj"
   },
   "source": [
    "From the above examples, it is unclear why the misclassifications occur. Most of the times, the method returns similar images from the same true label that are also misclassified. To get more relevant results, we can only show training images with the true label equal to predicted value of test image."
   ]
  },
  {
   "cell_type": "code",
   "execution_count": 7,
   "metadata": {
    "colab": {
     "base_uri": "https://localhost:8080/",
     "height": 989
    },
    "id": "7bmYd7PWow5d",
    "outputId": "deb82d32-a64a-44b0-e493-6f03a4fd7cb9"
   },
   "outputs": [
    {
     "data": {
      "image/png": "[encoded data removed]",
      "text/plain": [
       "<Figure size 432x288 with 6 Axes>"
      ]
     },
     "metadata": {},
     "output_type": "display_data"
    },
    {
     "data": {
      "image/png": "[encoded data removed]",
      "text/plain": [
       "<Figure size 432x288 with 6 Axes>"
      ]
     },
     "metadata": {},
     "output_type": "display_data"
    },
    {
     "data": {
      "image/png": "[encoded data removed]",
      "text/plain": [
       "<Figure size 432x288 with 6 Axes>"
      ]
     },
     "metadata": {},
     "output_type": "display_data"
    },
    {
     "data": {
      "image/png": "[encoded data removed]",
      "text/plain": [
       "<Figure size 432x288 with 6 Axes>"
      ]
     },
     "metadata": {},
     "output_type": "display_data"
    }
   ],
   "source": [
    "# We can repeat the same procedure, but pick only training images from the test image's predicted label\n",
    "# (if test image is a 9 but misclassified as a 4, show closest training images from class 4)\n",
    "for test_idx in test_indices:\n",
    "  number_of_examples = 5\n",
    "  train_indices = (train_labels == test_predictions[test_idx]).nonzero(as_tuple=True)[0]\n",
    "\n",
    "  filtered_train_images = train_images.index_select(0, train_indices)\n",
    "  filtered_train_labels = train_labels.index_select(0, train_indices)\n",
    "  filtered_train_activations = train_activations.index_select(0, train_indices)\n",
    "  filtered_train_predictions = train_predictions.index_select(0, train_indices)\n",
    "\n",
    "  distances = torch.norm(filtered_train_activations - test_activations[test_idx:test_idx+1], dim=1, p=None)\n",
    "  knn = distances.topk(number_of_examples, largest=False).indices\n",
    "  # print('Smallest distances indices: ', knn.tolist())\n",
    "  # print('Smallest distances: ', distances.index_select(0, knn).tolist())\n",
    "\n",
    "  fig = plt.figure()\n",
    "  fig.suptitle(\"T: True label, P: Predicted label\");\n",
    "  plt.tight_layout()\n",
    "  plt.subplot(2,number_of_examples,1)\n",
    "  plt.imshow(test_images[test_idx][0], cmap='gray', interpolation='none')\n",
    "  plt.title(\"T: {}, P: {}\".format(test_labels[test_idx], test_predictions[test_idx]))\n",
    "  plt.xticks([])\n",
    "  plt.yticks([])\n",
    "  for i in range(number_of_examples):\n",
    "    plt.subplot(2,number_of_examples,i+1+number_of_examples)\n",
    "    plt.imshow(filtered_train_images[knn[i]][0], cmap='gray', interpolation='none')\n",
    "    plt.title(\"T: {}, P: {}\".format(int(filtered_train_labels[knn[i]].item()), int(filtered_train_predictions[knn[i]].item())))\n",
    "    plt.xticks([])\n",
    "    plt.yticks([])"
   ]
  },
  {
   "cell_type": "markdown",
   "metadata": {
    "id": "Fac7eMxBAui8"
   },
   "source": [
    "### Interpretation\n",
    "\n",
    "In the example below:\n",
    "\n",
    "<img src=\"https://drive.google.com/uc?export=view&id=1z2xlrt8sczKkpExevy2tZ0Pw5ntbiG08\" alt=\"Five misclassified as six\" width=\"400\"/>\n",
    "\n",
    "we can see the similarities between the test image of a digit \"5\" and some training images of the digit \"6\". Even for us humans it is difficult to define a rule that would differentiate the 5 from the 6s. Two distinctions would be that:\n",
    "- for the 5 the circle's left part is not aligned with the vertical line, and \n",
    "- there is a space between the top dash of 5 and the rest (which may imply the pen was raised from the paper).\n",
    "\n",
    "To fix this misclassification, one can try to change network's parameters or augment the dataset with small variations (rotations, translations, small noise) of the problematic image."
   ]
  },
  {
   "cell_type": "markdown",
   "metadata": {
    "id": "rTI7v4silQ1d"
   },
   "source": [
    "## Conclusion\n",
    "This method reveals similarities between test image with wrong label and training images with that label. This can help in 2 ways:\n",
    "1. Debugging: in some cases the machine learning developer can fix the problems by using data augmentation for images that occur infrequently and have insufficient training data, or adjusting the model parameters. In other cases it might be difficult even for a human to distinguish between 2 digits (example: some 7s and 1s are almost identical), and it might be acceptable for the network to make that mistake.\n",
    "2. Expert verification: in domains such as medicine or justice it is useful to find similar cases such that an expert can check the output. Similar inputs are a readable explaination even for non-technical users, it is similar to the way we humans think: by making connections between similar entities."
   ]
  }
 ],
 "metadata": {
  "colab": {
   "collapsed_sections": [],
   "name": "Copy of EEML Similar Inputs tutorial.ipynb",
   "provenance": []
  },
  "kernelspec": {
   "display_name": "autumn2021",
   "language": "python",
   "name": "autumn2021"
  },
  "language_info": {
   "codemirror_mode": {
    "name": "ipython",
    "version": 3
   },
   "file_extension": ".py",
   "mimetype": "text/x-python",
   "name": "python",
   "nbconvert_exporter": "python",
   "pygments_lexer": "ipython3",
   "version": "3.8.8"
  }
 },
 "nbformat": 4,
 "nbformat_minor": 1
}
