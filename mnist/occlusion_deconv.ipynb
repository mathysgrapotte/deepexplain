{
  "nbformat": 4,
  "nbformat_minor": 5,
  "metadata": {
    "kernelspec": {
      "display_name": "Python 3",
      "language": "python",
      "name": "python3"
    },
    "language_info": {
      "codemirror_mode": {
        "name": "ipython",
        "version": 3
      },
      "file_extension": ".py",
      "mimetype": "text/x-python",
      "name": "python",
      "nbconvert_exporter": "python",
      "pygments_lexer": "ipython3",
      "version": "3.6.12"
    },
    "colab": {
      "name": "occlusion_deconv.ipynb",
      "provenance": [],
      "collapsed_sections": [
        "vq1alM_R2pBY",
        "d1I8Aj3mF4FO",
        "H1oz3fKrQy3g"
      ]
    },
    "widgets": {
      "application/vnd.jupyter.widget-state+json": {
        "07d4484f15824d8ca31061c4fea3c42f": {
          "model_module": "@jupyter-widgets/controls",
          "model_name": "HBoxModel",
          "state": {
            "_view_name": "HBoxView",
            "_dom_classes": [],
            "_model_name": "HBoxModel",
            "_view_module": "@jupyter-widgets/controls",
            "_model_module_version": "1.5.0",
            "_view_count": null,
            "_view_module_version": "1.5.0",
            "box_style": "",
            "layout": "IPY_MODEL_f5c62f9a3ad44dcaa3500c43ba49e80b",
            "_model_module": "@jupyter-widgets/controls",
            "children": [
              "IPY_MODEL_f6220061c24342eda9f5b61dcbde8051",
              "IPY_MODEL_a3b324d1307f4ba7ba745ef77feb6ee5"
            ]
          }
        },
        "f5c62f9a3ad44dcaa3500c43ba49e80b": {
          "model_module": "@jupyter-widgets/base",
          "model_name": "LayoutModel",
          "state": {
            "_view_name": "LayoutView",
            "grid_template_rows": null,
            "right": null,
            "justify_content": null,
            "_view_module": "@jupyter-widgets/base",
            "overflow": null,
            "_model_module_version": "1.2.0",
            "_view_count": null,
            "flex_flow": null,
            "width": null,
            "min_width": null,
            "border": null,
            "align_items": null,
            "bottom": null,
            "_model_module": "@jupyter-widgets/base",
            "top": null,
            "grid_column": null,
            "overflow_y": null,
            "overflow_x": null,
            "grid_auto_flow": null,
            "grid_area": null,
            "grid_template_columns": null,
            "flex": null,
            "_model_name": "LayoutModel",
            "justify_items": null,
            "grid_row": null,
            "max_height": null,
            "align_content": null,
            "visibility": null,
            "align_self": null,
            "height": null,
            "min_height": null,
            "padding": null,
            "grid_auto_rows": null,
            "grid_gap": null,
            "max_width": null,
            "order": null,
            "_view_module_version": "1.2.0",
            "grid_template_areas": null,
            "object_position": null,
            "object_fit": null,
            "grid_auto_columns": null,
            "margin": null,
            "display": null,
            "left": null
          }
        },
        "f6220061c24342eda9f5b61dcbde8051": {
          "model_module": "@jupyter-widgets/controls",
          "model_name": "FloatProgressModel",
          "state": {
            "_view_name": "ProgressView",
            "style": "IPY_MODEL_91f38cee417c4a709bad69454ba897f5",
            "_dom_classes": [],
            "description": "",
            "_model_name": "FloatProgressModel",
            "bar_style": "success",
            "max": 9912422,
            "_view_module": "@jupyter-widgets/controls",
            "_model_module_version": "1.5.0",
            "value": 9912422,
            "_view_count": null,
            "_view_module_version": "1.5.0",
            "orientation": "horizontal",
            "min": 0,
            "description_tooltip": null,
            "_model_module": "@jupyter-widgets/controls",
            "layout": "IPY_MODEL_aebaffaa24c64796a0f3660ef2acad13"
          }
        },
        "a3b324d1307f4ba7ba745ef77feb6ee5": {
          "model_module": "@jupyter-widgets/controls",
          "model_name": "HTMLModel",
          "state": {
            "_view_name": "HTMLView",
            "style": "IPY_MODEL_afb21dcf3d504fcdb1ff6328696fdec4",
            "_dom_classes": [],
            "description": "",
            "_model_name": "HTMLModel",
            "placeholder": "​",
            "_view_module": "@jupyter-widgets/controls",
            "_model_module_version": "1.5.0",
            "value": " 9913344/? [03:24&lt;00:00, 48524.32it/s]",
            "_view_count": null,
            "_view_module_version": "1.5.0",
            "description_tooltip": null,
            "_model_module": "@jupyter-widgets/controls",
            "layout": "IPY_MODEL_e38fb8e535364d4dbb53d5e6d7a44e99"
          }
        },
        "91f38cee417c4a709bad69454ba897f5": {
          "model_module": "@jupyter-widgets/controls",
          "model_name": "ProgressStyleModel",
          "state": {
            "_view_name": "StyleView",
            "_model_name": "ProgressStyleModel",
            "description_width": "initial",
            "_view_module": "@jupyter-widgets/base",
            "_model_module_version": "1.5.0",
            "_view_count": null,
            "_view_module_version": "1.2.0",
            "bar_color": null,
            "_model_module": "@jupyter-widgets/controls"
          }
        },
        "aebaffaa24c64796a0f3660ef2acad13": {
          "model_module": "@jupyter-widgets/base",
          "model_name": "LayoutModel",
          "state": {
            "_view_name": "LayoutView",
            "grid_template_rows": null,
            "right": null,
            "justify_content": null,
            "_view_module": "@jupyter-widgets/base",
            "overflow": null,
            "_model_module_version": "1.2.0",
            "_view_count": null,
            "flex_flow": null,
            "width": null,
            "min_width": null,
            "border": null,
            "align_items": null,
            "bottom": null,
            "_model_module": "@jupyter-widgets/base",
            "top": null,
            "grid_column": null,
            "overflow_y": null,
            "overflow_x": null,
            "grid_auto_flow": null,
            "grid_area": null,
            "grid_template_columns": null,
            "flex": null,
            "_model_name": "LayoutModel",
            "justify_items": null,
            "grid_row": null,
            "max_height": null,
            "align_content": null,
            "visibility": null,
            "align_self": null,
            "height": null,
            "min_height": null,
            "padding": null,
            "grid_auto_rows": null,
            "grid_gap": null,
            "max_width": null,
            "order": null,
            "_view_module_version": "1.2.0",
            "grid_template_areas": null,
            "object_position": null,
            "object_fit": null,
            "grid_auto_columns": null,
            "margin": null,
            "display": null,
            "left": null
          }
        },
        "afb21dcf3d504fcdb1ff6328696fdec4": {
          "model_module": "@jupyter-widgets/controls",
          "model_name": "DescriptionStyleModel",
          "state": {
            "_view_name": "StyleView",
            "_model_name": "DescriptionStyleModel",
            "description_width": "",
            "_view_module": "@jupyter-widgets/base",
            "_model_module_version": "1.5.0",
            "_view_count": null,
            "_view_module_version": "1.2.0",
            "_model_module": "@jupyter-widgets/controls"
          }
        },
        "e38fb8e535364d4dbb53d5e6d7a44e99": {
          "model_module": "@jupyter-widgets/base",
          "model_name": "LayoutModel",
          "state": {
            "_view_name": "LayoutView",
            "grid_template_rows": null,
            "right": null,
            "justify_content": null,
            "_view_module": "@jupyter-widgets/base",
            "overflow": null,
            "_model_module_version": "1.2.0",
            "_view_count": null,
            "flex_flow": null,
            "width": null,
            "min_width": null,
            "border": null,
            "align_items": null,
            "bottom": null,
            "_model_module": "@jupyter-widgets/base",
            "top": null,
            "grid_column": null,
            "overflow_y": null,
            "overflow_x": null,
            "grid_auto_flow": null,
            "grid_area": null,
            "grid_template_columns": null,
            "flex": null,
            "_model_name": "LayoutModel",
            "justify_items": null,
            "grid_row": null,
            "max_height": null,
            "align_content": null,
            "visibility": null,
            "align_self": null,
            "height": null,
            "min_height": null,
            "padding": null,
            "grid_auto_rows": null,
            "grid_gap": null,
            "max_width": null,
            "order": null,
            "_view_module_version": "1.2.0",
            "grid_template_areas": null,
            "object_position": null,
            "object_fit": null,
            "grid_auto_columns": null,
            "margin": null,
            "display": null,
            "left": null
          }
        },
        "f33145f2f9524937b6b565d429038052": {
          "model_module": "@jupyter-widgets/controls",
          "model_name": "HBoxModel",
          "state": {
            "_view_name": "HBoxView",
            "_dom_classes": [],
            "_model_name": "HBoxModel",
            "_view_module": "@jupyter-widgets/controls",
            "_model_module_version": "1.5.0",
            "_view_count": null,
            "_view_module_version": "1.5.0",
            "box_style": "",
            "layout": "IPY_MODEL_4af81d2b8171455bb1fd0c35a2ae97da",
            "_model_module": "@jupyter-widgets/controls",
            "children": [
              "IPY_MODEL_1a7d0048f21f48b8a2ff18d0bbb15a30",
              "IPY_MODEL_744aaccc72a24fcabc52d021ed5dd59f"
            ]
          }
        },
        "4af81d2b8171455bb1fd0c35a2ae97da": {
          "model_module": "@jupyter-widgets/base",
          "model_name": "LayoutModel",
          "state": {
            "_view_name": "LayoutView",
            "grid_template_rows": null,
            "right": null,
            "justify_content": null,
            "_view_module": "@jupyter-widgets/base",
            "overflow": null,
            "_model_module_version": "1.2.0",
            "_view_count": null,
            "flex_flow": null,
            "width": null,
            "min_width": null,
            "border": null,
            "align_items": null,
            "bottom": null,
            "_model_module": "@jupyter-widgets/base",
            "top": null,
            "grid_column": null,
            "overflow_y": null,
            "overflow_x": null,
            "grid_auto_flow": null,
            "grid_area": null,
            "grid_template_columns": null,
            "flex": null,
            "_model_name": "LayoutModel",
            "justify_items": null,
            "grid_row": null,
            "max_height": null,
            "align_content": null,
            "visibility": null,
            "align_self": null,
            "height": null,
            "min_height": null,
            "padding": null,
            "grid_auto_rows": null,
            "grid_gap": null,
            "max_width": null,
            "order": null,
            "_view_module_version": "1.2.0",
            "grid_template_areas": null,
            "object_position": null,
            "object_fit": null,
            "grid_auto_columns": null,
            "margin": null,
            "display": null,
            "left": null
          }
        },
        "1a7d0048f21f48b8a2ff18d0bbb15a30": {
          "model_module": "@jupyter-widgets/controls",
          "model_name": "FloatProgressModel",
          "state": {
            "_view_name": "ProgressView",
            "style": "IPY_MODEL_a51493447388457d97a7e56ecbd85a0d",
            "_dom_classes": [],
            "description": "",
            "_model_name": "FloatProgressModel",
            "bar_style": "success",
            "max": 28881,
            "_view_module": "@jupyter-widgets/controls",
            "_model_module_version": "1.5.0",
            "value": 28881,
            "_view_count": null,
            "_view_module_version": "1.5.0",
            "orientation": "horizontal",
            "min": 0,
            "description_tooltip": null,
            "_model_module": "@jupyter-widgets/controls",
            "layout": "IPY_MODEL_f1126fd2f2e64374935a676f5ff6d500"
          }
        },
        "744aaccc72a24fcabc52d021ed5dd59f": {
          "model_module": "@jupyter-widgets/controls",
          "model_name": "HTMLModel",
          "state": {
            "_view_name": "HTMLView",
            "style": "IPY_MODEL_8446e41db10148d59b585a3c0ca480c2",
            "_dom_classes": [],
            "description": "",
            "_model_name": "HTMLModel",
            "placeholder": "​",
            "_view_module": "@jupyter-widgets/controls",
            "_model_module_version": "1.5.0",
            "value": " 29696/? [00:38&lt;00:00, 771.84it/s]",
            "_view_count": null,
            "_view_module_version": "1.5.0",
            "description_tooltip": null,
            "_model_module": "@jupyter-widgets/controls",
            "layout": "IPY_MODEL_004907de404c44c5b1ffb7d55e7c752c"
          }
        },
        "a51493447388457d97a7e56ecbd85a0d": {
          "model_module": "@jupyter-widgets/controls",
          "model_name": "ProgressStyleModel",
          "state": {
            "_view_name": "StyleView",
            "_model_name": "ProgressStyleModel",
            "description_width": "initial",
            "_view_module": "@jupyter-widgets/base",
            "_model_module_version": "1.5.0",
            "_view_count": null,
            "_view_module_version": "1.2.0",
            "bar_color": null,
            "_model_module": "@jupyter-widgets/controls"
          }
        },
        "f1126fd2f2e64374935a676f5ff6d500": {
          "model_module": "@jupyter-widgets/base",
          "model_name": "LayoutModel",
          "state": {
            "_view_name": "LayoutView",
            "grid_template_rows": null,
            "right": null,
            "justify_content": null,
            "_view_module": "@jupyter-widgets/base",
            "overflow": null,
            "_model_module_version": "1.2.0",
            "_view_count": null,
            "flex_flow": null,
            "width": null,
            "min_width": null,
            "border": null,
            "align_items": null,
            "bottom": null,
            "_model_module": "@jupyter-widgets/base",
            "top": null,
            "grid_column": null,
            "overflow_y": null,
            "overflow_x": null,
            "grid_auto_flow": null,
            "grid_area": null,
            "grid_template_columns": null,
            "flex": null,
            "_model_name": "LayoutModel",
            "justify_items": null,
            "grid_row": null,
            "max_height": null,
            "align_content": null,
            "visibility": null,
            "align_self": null,
            "height": null,
            "min_height": null,
            "padding": null,
            "grid_auto_rows": null,
            "grid_gap": null,
            "max_width": null,
            "order": null,
            "_view_module_version": "1.2.0",
            "grid_template_areas": null,
            "object_position": null,
            "object_fit": null,
            "grid_auto_columns": null,
            "margin": null,
            "display": null,
            "left": null
          }
        },
        "8446e41db10148d59b585a3c0ca480c2": {
          "model_module": "@jupyter-widgets/controls",
          "model_name": "DescriptionStyleModel",
          "state": {
            "_view_name": "StyleView",
            "_model_name": "DescriptionStyleModel",
            "description_width": "",
            "_view_module": "@jupyter-widgets/base",
            "_model_module_version": "1.5.0",
            "_view_count": null,
            "_view_module_version": "1.2.0",
            "_model_module": "@jupyter-widgets/controls"
          }
        },
        "004907de404c44c5b1ffb7d55e7c752c": {
          "model_module": "@jupyter-widgets/base",
          "model_name": "LayoutModel",
          "state": {
            "_view_name": "LayoutView",
            "grid_template_rows": null,
            "right": null,
            "justify_content": null,
            "_view_module": "@jupyter-widgets/base",
            "overflow": null,
            "_model_module_version": "1.2.0",
            "_view_count": null,
            "flex_flow": null,
            "width": null,
            "min_width": null,
            "border": null,
            "align_items": null,
            "bottom": null,
            "_model_module": "@jupyter-widgets/base",
            "top": null,
            "grid_column": null,
            "overflow_y": null,
            "overflow_x": null,
            "grid_auto_flow": null,
            "grid_area": null,
            "grid_template_columns": null,
            "flex": null,
            "_model_name": "LayoutModel",
            "justify_items": null,
            "grid_row": null,
            "max_height": null,
            "align_content": null,
            "visibility": null,
            "align_self": null,
            "height": null,
            "min_height": null,
            "padding": null,
            "grid_auto_rows": null,
            "grid_gap": null,
            "max_width": null,
            "order": null,
            "_view_module_version": "1.2.0",
            "grid_template_areas": null,
            "object_position": null,
            "object_fit": null,
            "grid_auto_columns": null,
            "margin": null,
            "display": null,
            "left": null
          }
        },
        "ebc5c4829f2c4332b735118cebcb0d89": {
          "model_module": "@jupyter-widgets/controls",
          "model_name": "HBoxModel",
          "state": {
            "_view_name": "HBoxView",
            "_dom_classes": [],
            "_model_name": "HBoxModel",
            "_view_module": "@jupyter-widgets/controls",
            "_model_module_version": "1.5.0",
            "_view_count": null,
            "_view_module_version": "1.5.0",
            "box_style": "",
            "layout": "IPY_MODEL_fb37863614284f30a05dd13895fa05b6",
            "_model_module": "@jupyter-widgets/controls",
            "children": [
              "IPY_MODEL_a7e8338216b5451996f668ab51ffea91",
              "IPY_MODEL_af3ca674e85b4fadb457d56cb6dc75d7"
            ]
          }
        },
        "fb37863614284f30a05dd13895fa05b6": {
          "model_module": "@jupyter-widgets/base",
          "model_name": "LayoutModel",
          "state": {
            "_view_name": "LayoutView",
            "grid_template_rows": null,
            "right": null,
            "justify_content": null,
            "_view_module": "@jupyter-widgets/base",
            "overflow": null,
            "_model_module_version": "1.2.0",
            "_view_count": null,
            "flex_flow": null,
            "width": null,
            "min_width": null,
            "border": null,
            "align_items": null,
            "bottom": null,
            "_model_module": "@jupyter-widgets/base",
            "top": null,
            "grid_column": null,
            "overflow_y": null,
            "overflow_x": null,
            "grid_auto_flow": null,
            "grid_area": null,
            "grid_template_columns": null,
            "flex": null,
            "_model_name": "LayoutModel",
            "justify_items": null,
            "grid_row": null,
            "max_height": null,
            "align_content": null,
            "visibility": null,
            "align_self": null,
            "height": null,
            "min_height": null,
            "padding": null,
            "grid_auto_rows": null,
            "grid_gap": null,
            "max_width": null,
            "order": null,
            "_view_module_version": "1.2.0",
            "grid_template_areas": null,
            "object_position": null,
            "object_fit": null,
            "grid_auto_columns": null,
            "margin": null,
            "display": null,
            "left": null
          }
        },
        "a7e8338216b5451996f668ab51ffea91": {
          "model_module": "@jupyter-widgets/controls",
          "model_name": "FloatProgressModel",
          "state": {
            "_view_name": "ProgressView",
            "style": "IPY_MODEL_57593833ee2949cb8a13d2be573bfced",
            "_dom_classes": [],
            "description": "",
            "_model_name": "FloatProgressModel",
            "bar_style": "success",
            "max": 1648877,
            "_view_module": "@jupyter-widgets/controls",
            "_model_module_version": "1.5.0",
            "value": 1648877,
            "_view_count": null,
            "_view_module_version": "1.5.0",
            "orientation": "horizontal",
            "min": 0,
            "description_tooltip": null,
            "_model_module": "@jupyter-widgets/controls",
            "layout": "IPY_MODEL_969016b894534eb9811766faddc06ed2"
          }
        },
        "af3ca674e85b4fadb457d56cb6dc75d7": {
          "model_module": "@jupyter-widgets/controls",
          "model_name": "HTMLModel",
          "state": {
            "_view_name": "HTMLView",
            "style": "IPY_MODEL_3c40e53739db427195281486f8d25f42",
            "_dom_classes": [],
            "description": "",
            "_model_name": "HTMLModel",
            "placeholder": "​",
            "_view_module": "@jupyter-widgets/controls",
            "_model_module_version": "1.5.0",
            "value": " 1649664/? [00:38&lt;00:00, 43143.27it/s]",
            "_view_count": null,
            "_view_module_version": "1.5.0",
            "description_tooltip": null,
            "_model_module": "@jupyter-widgets/controls",
            "layout": "IPY_MODEL_e443093826e841e8b70aa12a379402a4"
          }
        },
        "57593833ee2949cb8a13d2be573bfced": {
          "model_module": "@jupyter-widgets/controls",
          "model_name": "ProgressStyleModel",
          "state": {
            "_view_name": "StyleView",
            "_model_name": "ProgressStyleModel",
            "description_width": "initial",
            "_view_module": "@jupyter-widgets/base",
            "_model_module_version": "1.5.0",
            "_view_count": null,
            "_view_module_version": "1.2.0",
            "bar_color": null,
            "_model_module": "@jupyter-widgets/controls"
          }
        },
        "969016b894534eb9811766faddc06ed2": {
          "model_module": "@jupyter-widgets/base",
          "model_name": "LayoutModel",
          "state": {
            "_view_name": "LayoutView",
            "grid_template_rows": null,
            "right": null,
            "justify_content": null,
            "_view_module": "@jupyter-widgets/base",
            "overflow": null,
            "_model_module_version": "1.2.0",
            "_view_count": null,
            "flex_flow": null,
            "width": null,
            "min_width": null,
            "border": null,
            "align_items": null,
            "bottom": null,
            "_model_module": "@jupyter-widgets/base",
            "top": null,
            "grid_column": null,
            "overflow_y": null,
            "overflow_x": null,
            "grid_auto_flow": null,
            "grid_area": null,
            "grid_template_columns": null,
            "flex": null,
            "_model_name": "LayoutModel",
            "justify_items": null,
            "grid_row": null,
            "max_height": null,
            "align_content": null,
            "visibility": null,
            "align_self": null,
            "height": null,
            "min_height": null,
            "padding": null,
            "grid_auto_rows": null,
            "grid_gap": null,
            "max_width": null,
            "order": null,
            "_view_module_version": "1.2.0",
            "grid_template_areas": null,
            "object_position": null,
            "object_fit": null,
            "grid_auto_columns": null,
            "margin": null,
            "display": null,
            "left": null
          }
        },
        "3c40e53739db427195281486f8d25f42": {
          "model_module": "@jupyter-widgets/controls",
          "model_name": "DescriptionStyleModel",
          "state": {
            "_view_name": "StyleView",
            "_model_name": "DescriptionStyleModel",
            "description_width": "",
            "_view_module": "@jupyter-widgets/base",
            "_model_module_version": "1.5.0",
            "_view_count": null,
            "_view_module_version": "1.2.0",
            "_model_module": "@jupyter-widgets/controls"
          }
        },
        "e443093826e841e8b70aa12a379402a4": {
          "model_module": "@jupyter-widgets/base",
          "model_name": "LayoutModel",
          "state": {
            "_view_name": "LayoutView",
            "grid_template_rows": null,
            "right": null,
            "justify_content": null,
            "_view_module": "@jupyter-widgets/base",
            "overflow": null,
            "_model_module_version": "1.2.0",
            "_view_count": null,
            "flex_flow": null,
            "width": null,
            "min_width": null,
            "border": null,
            "align_items": null,
            "bottom": null,
            "_model_module": "@jupyter-widgets/base",
            "top": null,
            "grid_column": null,
            "overflow_y": null,
            "overflow_x": null,
            "grid_auto_flow": null,
            "grid_area": null,
            "grid_template_columns": null,
            "flex": null,
            "_model_name": "LayoutModel",
            "justify_items": null,
            "grid_row": null,
            "max_height": null,
            "align_content": null,
            "visibility": null,
            "align_self": null,
            "height": null,
            "min_height": null,
            "padding": null,
            "grid_auto_rows": null,
            "grid_gap": null,
            "max_width": null,
            "order": null,
            "_view_module_version": "1.2.0",
            "grid_template_areas": null,
            "object_position": null,
            "object_fit": null,
            "grid_auto_columns": null,
            "margin": null,
            "display": null,
            "left": null
          }
        },
        "b683cad58eda4654be40c6e8c938b5fc": {
          "model_module": "@jupyter-widgets/controls",
          "model_name": "HBoxModel",
          "state": {
            "_view_name": "HBoxView",
            "_dom_classes": [],
            "_model_name": "HBoxModel",
            "_view_module": "@jupyter-widgets/controls",
            "_model_module_version": "1.5.0",
            "_view_count": null,
            "_view_module_version": "1.5.0",
            "box_style": "",
            "layout": "IPY_MODEL_957aec281cd541ebbe5f4883954c2cb1",
            "_model_module": "@jupyter-widgets/controls",
            "children": [
              "IPY_MODEL_9b67d9cb90624b83b6a258aff1484d58",
              "IPY_MODEL_5722e77f62d34e33b5c95688467c50cd"
            ]
          }
        },
        "957aec281cd541ebbe5f4883954c2cb1": {
          "model_module": "@jupyter-widgets/base",
          "model_name": "LayoutModel",
          "state": {
            "_view_name": "LayoutView",
            "grid_template_rows": null,
            "right": null,
            "justify_content": null,
            "_view_module": "@jupyter-widgets/base",
            "overflow": null,
            "_model_module_version": "1.2.0",
            "_view_count": null,
            "flex_flow": null,
            "width": null,
            "min_width": null,
            "border": null,
            "align_items": null,
            "bottom": null,
            "_model_module": "@jupyter-widgets/base",
            "top": null,
            "grid_column": null,
            "overflow_y": null,
            "overflow_x": null,
            "grid_auto_flow": null,
            "grid_area": null,
            "grid_template_columns": null,
            "flex": null,
            "_model_name": "LayoutModel",
            "justify_items": null,
            "grid_row": null,
            "max_height": null,
            "align_content": null,
            "visibility": null,
            "align_self": null,
            "height": null,
            "min_height": null,
            "padding": null,
            "grid_auto_rows": null,
            "grid_gap": null,
            "max_width": null,
            "order": null,
            "_view_module_version": "1.2.0",
            "grid_template_areas": null,
            "object_position": null,
            "object_fit": null,
            "grid_auto_columns": null,
            "margin": null,
            "display": null,
            "left": null
          }
        },
        "9b67d9cb90624b83b6a258aff1484d58": {
          "model_module": "@jupyter-widgets/controls",
          "model_name": "FloatProgressModel",
          "state": {
            "_view_name": "ProgressView",
            "style": "IPY_MODEL_39ad6a38af9d4a99982ace123e5947d3",
            "_dom_classes": [],
            "description": "",
            "_model_name": "FloatProgressModel",
            "bar_style": "success",
            "max": 4542,
            "_view_module": "@jupyter-widgets/controls",
            "_model_module_version": "1.5.0",
            "value": 4542,
            "_view_count": null,
            "_view_module_version": "1.5.0",
            "orientation": "horizontal",
            "min": 0,
            "description_tooltip": null,
            "_model_module": "@jupyter-widgets/controls",
            "layout": "IPY_MODEL_eb952e19920b48628171265f41717b6b"
          }
        },
        "5722e77f62d34e33b5c95688467c50cd": {
          "model_module": "@jupyter-widgets/controls",
          "model_name": "HTMLModel",
          "state": {
            "_view_name": "HTMLView",
            "style": "IPY_MODEL_b67de3a3d5d64d8984807c51bd8f93bc",
            "_dom_classes": [],
            "description": "",
            "_model_name": "HTMLModel",
            "placeholder": "​",
            "_view_module": "@jupyter-widgets/controls",
            "_model_module_version": "1.5.0",
            "value": " 5120/? [00:00&lt;00:00, 29273.26it/s]",
            "_view_count": null,
            "_view_module_version": "1.5.0",
            "description_tooltip": null,
            "_model_module": "@jupyter-widgets/controls",
            "layout": "IPY_MODEL_4fe19d58ee32461dbb700a468062c767"
          }
        },
        "39ad6a38af9d4a99982ace123e5947d3": {
          "model_module": "@jupyter-widgets/controls",
          "model_name": "ProgressStyleModel",
          "state": {
            "_view_name": "StyleView",
            "_model_name": "ProgressStyleModel",
            "description_width": "initial",
            "_view_module": "@jupyter-widgets/base",
            "_model_module_version": "1.5.0",
            "_view_count": null,
            "_view_module_version": "1.2.0",
            "bar_color": null,
            "_model_module": "@jupyter-widgets/controls"
          }
        },
        "eb952e19920b48628171265f41717b6b": {
          "model_module": "@jupyter-widgets/base",
          "model_name": "LayoutModel",
          "state": {
            "_view_name": "LayoutView",
            "grid_template_rows": null,
            "right": null,
            "justify_content": null,
            "_view_module": "@jupyter-widgets/base",
            "overflow": null,
            "_model_module_version": "1.2.0",
            "_view_count": null,
            "flex_flow": null,
            "width": null,
            "min_width": null,
            "border": null,
            "align_items": null,
            "bottom": null,
            "_model_module": "@jupyter-widgets/base",
            "top": null,
            "grid_column": null,
            "overflow_y": null,
            "overflow_x": null,
            "grid_auto_flow": null,
            "grid_area": null,
            "grid_template_columns": null,
            "flex": null,
            "_model_name": "LayoutModel",
            "justify_items": null,
            "grid_row": null,
            "max_height": null,
            "align_content": null,
            "visibility": null,
            "align_self": null,
            "height": null,
            "min_height": null,
            "padding": null,
            "grid_auto_rows": null,
            "grid_gap": null,
            "max_width": null,
            "order": null,
            "_view_module_version": "1.2.0",
            "grid_template_areas": null,
            "object_position": null,
            "object_fit": null,
            "grid_auto_columns": null,
            "margin": null,
            "display": null,
            "left": null
          }
        },
        "b67de3a3d5d64d8984807c51bd8f93bc": {
          "model_module": "@jupyter-widgets/controls",
          "model_name": "DescriptionStyleModel",
          "state": {
            "_view_name": "StyleView",
            "_model_name": "DescriptionStyleModel",
            "description_width": "",
            "_view_module": "@jupyter-widgets/base",
            "_model_module_version": "1.5.0",
            "_view_count": null,
            "_view_module_version": "1.2.0",
            "_model_module": "@jupyter-widgets/controls"
          }
        },
        "4fe19d58ee32461dbb700a468062c767": {
          "model_module": "@jupyter-widgets/base",
          "model_name": "LayoutModel",
          "state": {
            "_view_name": "LayoutView",
            "grid_template_rows": null,
            "right": null,
            "justify_content": null,
            "_view_module": "@jupyter-widgets/base",
            "overflow": null,
            "_model_module_version": "1.2.0",
            "_view_count": null,
            "flex_flow": null,
            "width": null,
            "min_width": null,
            "border": null,
            "align_items": null,
            "bottom": null,
            "_model_module": "@jupyter-widgets/base",
            "top": null,
            "grid_column": null,
            "overflow_y": null,
            "overflow_x": null,
            "grid_auto_flow": null,
            "grid_area": null,
            "grid_template_columns": null,
            "flex": null,
            "_model_name": "LayoutModel",
            "justify_items": null,
            "grid_row": null,
            "max_height": null,
            "align_content": null,
            "visibility": null,
            "align_self": null,
            "height": null,
            "min_height": null,
            "padding": null,
            "grid_auto_rows": null,
            "grid_gap": null,
            "max_width": null,
            "order": null,
            "_view_module_version": "1.2.0",
            "grid_template_areas": null,
            "object_position": null,
            "object_fit": null,
            "grid_auto_columns": null,
            "margin": null,
            "display": null,
            "left": null
          }
        }
      }
    }
  },
  "cells": [
    {
      "cell_type": "markdown",
      "metadata": {
        "id": "o35R4wXp7f3-"
      },
      "source": [
        "# Deconvolution and occlusion analysis\n",
        "\n",
        "In this part, we look at two methods that are a bit old but often pop up in tutorials on deep learning or in papers.\n",
        "\n",
        "In summary, we could say that these aim to provide explanation for a *given input image*. We will shortly see that these methods are rather for illustration purposes than rigorous explanition.\n",
        "\n",
        "**DISCLAIMER:** the notebook reflects the understanding of the author, so watch out for mistakes"
      ],
      "id": "o35R4wXp7f3-"
    },
    {
      "cell_type": "markdown",
      "metadata": {
        "id": "vq1alM_R2pBY"
      },
      "source": [
        "## CNN implementation & training\n",
        "\n",
        "In this tutorial, we will work with a simple CNN trained on two classes of MNIST.\n",
        "\n",
        "Below, we only implement the standard pipeline. In lack of time, one can skip most of this, since we'll only need the trained model for further investigations."
      ],
      "id": "vq1alM_R2pBY"
    },
    {
      "cell_type": "code",
      "metadata": {
        "id": "OOG3gqDBEya5"
      },
      "source": [
        "import torch \n",
        "import torchvision\n",
        "import torchvision.datasets as datasets\n",
        "import torch.nn as nn\n",
        "import torch.nn.functional as F"
      ],
      "id": "OOG3gqDBEya5",
      "execution_count": 1,
      "outputs": []
    },
    {
      "cell_type": "code",
      "metadata": {
        "id": "AU99_yWY-jRr"
      },
      "source": [
        "import numpy as np"
      ],
      "id": "AU99_yWY-jRr",
      "execution_count": 2,
      "outputs": []
    },
    {
      "cell_type": "code",
      "metadata": {
        "id": "s9vzCZwI-PQp",
        "colab": {
          "base_uri": "https://localhost:8080/",
          "height": 556,
          "referenced_widgets": [
            "07d4484f15824d8ca31061c4fea3c42f",
            "f5c62f9a3ad44dcaa3500c43ba49e80b",
            "f6220061c24342eda9f5b61dcbde8051",
            "a3b324d1307f4ba7ba745ef77feb6ee5",
            "91f38cee417c4a709bad69454ba897f5",
            "aebaffaa24c64796a0f3660ef2acad13",
            "afb21dcf3d504fcdb1ff6328696fdec4",
            "e38fb8e535364d4dbb53d5e6d7a44e99",
            "f33145f2f9524937b6b565d429038052",
            "4af81d2b8171455bb1fd0c35a2ae97da",
            "1a7d0048f21f48b8a2ff18d0bbb15a30",
            "744aaccc72a24fcabc52d021ed5dd59f",
            "a51493447388457d97a7e56ecbd85a0d",
            "f1126fd2f2e64374935a676f5ff6d500",
            "8446e41db10148d59b585a3c0ca480c2",
            "004907de404c44c5b1ffb7d55e7c752c",
            "ebc5c4829f2c4332b735118cebcb0d89",
            "fb37863614284f30a05dd13895fa05b6",
            "a7e8338216b5451996f668ab51ffea91",
            "af3ca674e85b4fadb457d56cb6dc75d7",
            "57593833ee2949cb8a13d2be573bfced",
            "969016b894534eb9811766faddc06ed2",
            "3c40e53739db427195281486f8d25f42",
            "e443093826e841e8b70aa12a379402a4",
            "b683cad58eda4654be40c6e8c938b5fc",
            "957aec281cd541ebbe5f4883954c2cb1",
            "9b67d9cb90624b83b6a258aff1484d58",
            "5722e77f62d34e33b5c95688467c50cd",
            "39ad6a38af9d4a99982ace123e5947d3",
            "eb952e19920b48628171265f41717b6b",
            "b67de3a3d5d64d8984807c51bd8f93bc",
            "4fe19d58ee32461dbb700a468062c767"
          ]
        },
        "outputId": "c0ef6688-2b85-4476-8872-b45f5910388a"
      },
      "source": [
        "mnist_trainset = datasets.MNIST(root='./data', train=True, download=True, transform=lambda x: np.array(x))\n",
        "mnist_testset = datasets.MNIST(root='./data', train=False, download=True, transform=lambda x: np.array(x))"
      ],
      "id": "s9vzCZwI-PQp",
      "execution_count": 3,
      "outputs": [
        {
          "output_type": "stream",
          "text": [
            "Downloading http://yann.lecun.com/exdb/mnist/train-images-idx3-ubyte.gz\n",
            "Downloading http://yann.lecun.com/exdb/mnist/train-images-idx3-ubyte.gz to ./data/MNIST/raw/train-images-idx3-ubyte.gz\n"
          ],
          "name": "stdout"
        },
        {
          "output_type": "display_data",
          "data": {
            "application/vnd.jupyter.widget-view+json": {
              "model_id": "07d4484f15824d8ca31061c4fea3c42f",
              "version_minor": 0,
              "version_major": 2
            },
            "text/plain": [
              "HBox(children=(FloatProgress(value=0.0, max=9912422.0), HTML(value='')))"
            ]
          },
          "metadata": {
            "tags": []
          }
        },
        {
          "output_type": "stream",
          "text": [
            "\n",
            "Extracting ./data/MNIST/raw/train-images-idx3-ubyte.gz to ./data/MNIST/raw\n",
            "\n",
            "Downloading http://yann.lecun.com/exdb/mnist/train-labels-idx1-ubyte.gz\n",
            "Downloading http://yann.lecun.com/exdb/mnist/train-labels-idx1-ubyte.gz to ./data/MNIST/raw/train-labels-idx1-ubyte.gz\n"
          ],
          "name": "stdout"
        },
        {
          "output_type": "display_data",
          "data": {
            "application/vnd.jupyter.widget-view+json": {
              "model_id": "f33145f2f9524937b6b565d429038052",
              "version_minor": 0,
              "version_major": 2
            },
            "text/plain": [
              "HBox(children=(FloatProgress(value=0.0, max=28881.0), HTML(value='')))"
            ]
          },
          "metadata": {
            "tags": []
          }
        },
        {
          "output_type": "stream",
          "text": [
            "\n",
            "Extracting ./data/MNIST/raw/train-labels-idx1-ubyte.gz to ./data/MNIST/raw\n",
            "\n",
            "Downloading http://yann.lecun.com/exdb/mnist/t10k-images-idx3-ubyte.gz\n",
            "Downloading http://yann.lecun.com/exdb/mnist/t10k-images-idx3-ubyte.gz to ./data/MNIST/raw/t10k-images-idx3-ubyte.gz\n"
          ],
          "name": "stdout"
        },
        {
          "output_type": "display_data",
          "data": {
            "application/vnd.jupyter.widget-view+json": {
              "model_id": "ebc5c4829f2c4332b735118cebcb0d89",
              "version_minor": 0,
              "version_major": 2
            },
            "text/plain": [
              "HBox(children=(FloatProgress(value=0.0, max=1648877.0), HTML(value='')))"
            ]
          },
          "metadata": {
            "tags": []
          }
        },
        {
          "output_type": "stream",
          "text": [
            "\n",
            "Extracting ./data/MNIST/raw/t10k-images-idx3-ubyte.gz to ./data/MNIST/raw\n",
            "\n",
            "Downloading http://yann.lecun.com/exdb/mnist/t10k-labels-idx1-ubyte.gz\n",
            "Downloading http://yann.lecun.com/exdb/mnist/t10k-labels-idx1-ubyte.gz to ./data/MNIST/raw/t10k-labels-idx1-ubyte.gz\n"
          ],
          "name": "stdout"
        },
        {
          "output_type": "display_data",
          "data": {
            "application/vnd.jupyter.widget-view+json": {
              "model_id": "b683cad58eda4654be40c6e8c938b5fc",
              "version_minor": 0,
              "version_major": 2
            },
            "text/plain": [
              "HBox(children=(FloatProgress(value=0.0, max=4542.0), HTML(value='')))"
            ]
          },
          "metadata": {
            "tags": []
          }
        },
        {
          "output_type": "stream",
          "text": [
            "\n",
            "Extracting ./data/MNIST/raw/t10k-labels-idx1-ubyte.gz to ./data/MNIST/raw\n",
            "\n"
          ],
          "name": "stdout"
        },
        {
          "output_type": "stream",
          "text": [
            "/usr/local/lib/python3.7/dist-packages/torchvision/datasets/mnist.py:498: UserWarning: The given NumPy array is not writeable, and PyTorch does not support non-writeable tensors. This means you can write to the underlying (supposedly non-writeable) NumPy array using the tensor. You may want to copy the array to protect its data or make it writeable before converting it to a tensor. This type of warning will be suppressed for the rest of this program. (Triggered internally at  /pytorch/torch/csrc/utils/tensor_numpy.cpp:180.)\n",
            "  return torch.from_numpy(parsed.astype(m[2], copy=False)).view(*s)\n"
          ],
          "name": "stderr"
        }
      ]
    },
    {
      "cell_type": "code",
      "metadata": {
        "id": "Qjnl8yWOxulG"
      },
      "source": [
        "\n",
        "from torch.utils.data import DataLoader, Subset"
      ],
      "id": "Qjnl8yWOxulG",
      "execution_count": 4,
      "outputs": []
    },
    {
      "cell_type": "code",
      "metadata": {
        "id": "YiqKsm7ZyrPk"
      },
      "source": [
        "def retrieve_indices(classes,dataset):\n",
        "  class_indices=[i for i,label in enumerate(dataset.targets) if int(label) in classes] # label itself was a tensor :/\n",
        "  return class_indices"
      ],
      "id": "YiqKsm7ZyrPk",
      "execution_count": 5,
      "outputs": []
    },
    {
      "cell_type": "code",
      "metadata": {
        "id": "OcEwxZsGD7jN"
      },
      "source": [
        "\n",
        "classes=[1,8]"
      ],
      "id": "OcEwxZsGD7jN",
      "execution_count": 6,
      "outputs": []
    },
    {
      "cell_type": "code",
      "metadata": {
        "id": "xgYRb3BWu1vo"
      },
      "source": [
        "trainset=Subset(mnist_trainset,retrieve_indices(classes,mnist_trainset))"
      ],
      "id": "xgYRb3BWu1vo",
      "execution_count": 7,
      "outputs": []
    },
    {
      "cell_type": "code",
      "metadata": {
        "id": "BZrGLbCD0HhS"
      },
      "source": [
        "testset=Subset(mnist_testset,retrieve_indices(classes,mnist_testset))"
      ],
      "id": "BZrGLbCD0HhS",
      "execution_count": 8,
      "outputs": []
    },
    {
      "cell_type": "code",
      "metadata": {
        "id": "amnXnEbpu1Oe"
      },
      "source": [
        "train_dataloader=DataLoader(trainset,batch_size=50,shuffle=True)"
      ],
      "id": "amnXnEbpu1Oe",
      "execution_count": 9,
      "outputs": []
    },
    {
      "cell_type": "code",
      "metadata": {
        "id": "C5cGlbRpu97A"
      },
      "source": [
        "test_dataloader=DataLoader(testset,batch_size=50,shuffle=True)"
      ],
      "id": "C5cGlbRpu97A",
      "execution_count": 10,
      "outputs": []
    },
    {
      "cell_type": "code",
      "metadata": {
        "id": "north-guitar"
      },
      "source": [
        "class mnist_cnn(nn.Module):\n",
        "\n",
        "  def __init__(self,batch_transform,loss):\n",
        "    super(mnist_cnn,self).__init__()\n",
        "\n",
        "    self.conv1=nn.Conv2d(in_channels=1,out_channels=10,kernel_size=4,stride=2)\n",
        "    self.conv2=nn.Conv2d(in_channels=10,out_channels=20,kernel_size=3,stride=2)\n",
        "    self.conv3=nn.Conv2d(in_channels=20,out_channels=10,kernel_size=2,stride=2)\n",
        "    self.dense=nn.Linear(in_features=90,out_features=1)\n",
        "    self.batch_transform=batch_transform\n",
        "    self.loss=loss\n",
        "\n",
        "  def forward(self,x):\n",
        "\n",
        "    x=self.batch_transform(x) # eg. rescale\n",
        "    x=F.relu(self.conv1(x))\n",
        "    x=F.relu(self.conv2(x))\n",
        "    x=F.relu(self.conv3(x))\n",
        "    x=torch.flatten(x,start_dim=1)\n",
        "    x=torch.sigmoid(self.dense(x))\n",
        "\n",
        "    return x "
      ],
      "id": "north-guitar",
      "execution_count": 11,
      "outputs": []
    },
    {
      "cell_type": "code",
      "metadata": {
        "id": "CeNZm3x58LrD"
      },
      "source": [
        "def binarize_labels(labels,classes): # classes[0] becomes ~0, classes[1] ~1\n",
        " \n",
        "  return ((labels-classes[0])/(classes[1]-classes[0])).to(torch.float32)"
      ],
      "id": "CeNZm3x58LrD",
      "execution_count": 12,
      "outputs": []
    },
    {
      "cell_type": "code",
      "metadata": {
        "id": "TUzy9w5a5Atm"
      },
      "source": [
        "def trainstep(model,optimizer,batch):\n",
        "\n",
        "  labels=binarize_labels(batch[1],classes)\n",
        "\n",
        "  optimizer.zero_grad()\n",
        "  logits=model(batch[0])[:,0]\n",
        "\n",
        "  loss=model.loss(logits,labels)\n",
        "\n",
        "  loss.backward()\n",
        "  optimizer.step()\n",
        "\n",
        "  return loss.detach()\n",
        "\n"
      ],
      "id": "TUzy9w5a5Atm",
      "execution_count": 13,
      "outputs": []
    },
    {
      "cell_type": "code",
      "metadata": {
        "id": "0A6g0xwZE_yJ"
      },
      "source": [
        "model=mnist_cnn(batch_transform=lambda x: (x/255.).reshape(-1,1,28,28), loss=nn.BCELoss()) # standard choice to rescale image"
      ],
      "id": "0A6g0xwZE_yJ",
      "execution_count": 14,
      "outputs": []
    },
    {
      "cell_type": "code",
      "metadata": {
        "id": "sFFxzxRNL0BI"
      },
      "source": [
        "def accuracy(model,batch):\n",
        "\n",
        "  n=batch[0].shape[0]\n",
        "\n",
        "  probabilities=model(batch[0])[:,0]\n",
        "\n",
        "  correct=0\n",
        "\n",
        "  for i in range(n):\n",
        "    if probabilities[i]>0.5 and batch[1][i]>4:\n",
        "      correct+=1\n",
        "    elif probabilities[i]<0.5 and batch[1][i]<4:\n",
        "      correct+=1\n",
        "  return correct/n\n"
      ],
      "id": "sFFxzxRNL0BI",
      "execution_count": 15,
      "outputs": []
    },
    {
      "cell_type": "code",
      "metadata": {
        "id": "B2JERXCVFTE8"
      },
      "source": [
        "optimizer=torch.optim.Adam(model.parameters(),lr=1e-4)"
      ],
      "id": "B2JERXCVFTE8",
      "execution_count": 16,
      "outputs": []
    },
    {
      "cell_type": "code",
      "metadata": {
        "id": "HTl7ZoRC_cFP",
        "colab": {
          "base_uri": "https://localhost:8080/"
        },
        "outputId": "f5158061-b9a8-4346-92f0-18e7c9598eb6"
      },
      "source": [
        "for i in range(10):\n",
        "  full_loss=0\n",
        "  full_accuracy=0\n",
        "  for j,batch in enumerate(train_dataloader):\n",
        "    loss=trainstep(model,optimizer,batch)\n",
        "    full_loss=full_loss*j/(j+1)+loss.detach()/(j+1) # compute average in a 'sliding' manner, maybe familiar from RL\n",
        "    full_accuracy=full_accuracy*j/(j+1)+accuracy(model,batch)/(j+1)\n",
        "  print('epoch completed')\n",
        "  print(full_loss)\n",
        "  print(full_accuracy)\n",
        "  \n",
        "  "
      ],
      "id": "HTl7ZoRC_cFP",
      "execution_count": 17,
      "outputs": [
        {
          "output_type": "stream",
          "text": [
            "epoch completed\n",
            "tensor(0.6486)\n",
            "0.7113510520487266\n",
            "epoch completed\n",
            "tensor(0.3254)\n",
            "0.9431746031746026\n",
            "epoch completed\n",
            "tensor(0.1382)\n",
            "0.9608213362864519\n",
            "epoch completed\n",
            "tensor(0.0942)\n",
            "0.9710188261351049\n",
            "epoch completed\n",
            "tensor(0.0741)\n",
            "0.9765873015873011\n",
            "epoch completed\n",
            "tensor(0.0626)\n",
            "0.9794315245478028\n",
            "epoch completed\n",
            "tensor(0.0548)\n",
            "0.9815743816906601\n",
            "epoch completed\n",
            "tensor(0.0500)\n",
            "0.9825396825396823\n",
            "epoch completed\n",
            "tensor(0.0460)\n",
            "0.9839553340716127\n",
            "epoch completed\n",
            "tensor(0.0429)\n",
            "0.9852380952380951\n"
          ],
          "name": "stdout"
        }
      ]
    },
    {
      "cell_type": "markdown",
      "metadata": {
        "id": "d1I8Aj3mF4FO"
      },
      "source": [
        "## Occlusion analysis\n",
        "\n",
        "The idea is to mask out a part of the image and see how class probabilities vary. Idea is taken from https://arxiv.org/abs/1311.2901v2 by Zeiler and Fergus"
      ],
      "id": "d1I8Aj3mF4FO"
    },
    {
      "cell_type": "code",
      "metadata": {
        "id": "M8WtRMe41rzq"
      },
      "source": [
        "import matplotlib.pyplot as plt\n"
      ],
      "id": "M8WtRMe41rzq",
      "execution_count": 18,
      "outputs": []
    },
    {
      "cell_type": "code",
      "metadata": {
        "id": "COQDSqwCGVMv"
      },
      "source": [
        "def mask_to_background(image,mask_size,top_left_anchor):\n",
        "\n",
        "  # background of characters is 0\n",
        "\n",
        "  x_a,y_a=top_left_anchor # expected as a tuple of 2\n",
        "\n",
        "  if x_a+mask_size<=image.shape[0] and y_a+mask_size<=image.shape[1]:\n",
        "\n",
        "    mask=torch.ones(image.shape,dtype=torch.float32)\n",
        "    mask[x_a:x_a+mask_size,y_a:y_a+mask_size].multiply_(0)\n",
        "\n",
        "    return image*mask\n",
        "  else:\n",
        "    print('invalid parameter combination')\n"
      ],
      "id": "COQDSqwCGVMv",
      "execution_count": 23,
      "outputs": []
    },
    {
      "cell_type": "markdown",
      "metadata": {
        "id": "0OhJZp7TJRxV"
      },
      "source": [
        "Let us consider dividing the picture into a 7-by-7 grid (mask size 4) and occluding one square one time."
      ],
      "id": "0OhJZp7TJRxV"
    },
    {
      "cell_type": "code",
      "metadata": {
        "id": "o-Me44iWOFRb"
      },
      "source": [
        "image=next(iter(test_dataloader))[0][0]"
      ],
      "id": "o-Me44iWOFRb",
      "execution_count": 115,
      "outputs": []
    },
    {
      "cell_type": "code",
      "metadata": {
        "colab": {
          "base_uri": "https://localhost:8080/",
          "height": 283
        },
        "id": "OIWnKCINJ3rF",
        "outputId": "685e7a3f-c591-4659-a784-e7ed52102566"
      },
      "source": [
        "plt.imshow(image)"
      ],
      "id": "OIWnKCINJ3rF",
      "execution_count": 116,
      "outputs": [
        {
          "output_type": "execute_result",
          "data": {
            "text/plain": [
              "<matplotlib.image.AxesImage at 0x7f08d3c2bb10>"
            ]
          },
          "metadata": {
            "tags": []
          },
          "execution_count": 116
        },
        {
          "output_type": "display_data",
          "data": {
            "image/png": "[encoded data removed]",
            "text/plain": [
              "<Figure size 432x288 with 1 Axes>"
            ]
          },
          "metadata": {
            "tags": [],
            "needs_background": "light"
          }
        }
      ]
    },
    {
      "cell_type": "code",
      "metadata": {
        "colab": {
          "base_uri": "https://localhost:8080/",
          "height": 283
        },
        "id": "uqcrwBgU5ATE",
        "outputId": "7921105b-38d3-4fe5-d976-b234a0f02801"
      },
      "source": [
        "plt.imshow(mask_to_background(image,mask_size=4,top_left_anchor=(18,18)))"
      ],
      "id": "uqcrwBgU5ATE",
      "execution_count": 118,
      "outputs": [
        {
          "output_type": "execute_result",
          "data": {
            "text/plain": [
              "<matplotlib.image.AxesImage at 0x7f08d21ea510>"
            ]
          },
          "metadata": {
            "tags": []
          },
          "execution_count": 118
        },
        {
          "output_type": "display_data",
          "data": {
            "image/png": "[encoded data removed]",
            "text/plain": [
              "<Figure size 432x288 with 1 Axes>"
            ]
          },
          "metadata": {
            "tags": [],
            "needs_background": "light"
          }
        }
      ]
    },
    {
      "cell_type": "code",
      "metadata": {
        "id": "6Z6rUEdZLfvu"
      },
      "source": [
        "occlusion_map=torch.zeros(image.shape,dtype=torch.float32) # store results here"
      ],
      "id": "6Z6rUEdZLfvu",
      "execution_count": 119,
      "outputs": []
    },
    {
      "cell_type": "code",
      "metadata": {
        "id": "yb2Ng-6KKDRV"
      },
      "source": [
        "m=4\n",
        "\n",
        "for x_a in range(7):\n",
        "  for y_a in range(7):\n",
        "    masked_image=mask_to_background(image,mask_size=m,top_left_anchor=(x_a*m,y_a*m))\n",
        "    prob=model(masked_image.reshape(1,28,28))\n",
        "    occlusion_map[x_a*m:x_a*m+m,y_a*m:y_a*m+m]=prob # store results that spatially correspond to original image"
      ],
      "id": "yb2Ng-6KKDRV",
      "execution_count": 120,
      "outputs": []
    },
    {
      "cell_type": "code",
      "metadata": {
        "colab": {
          "base_uri": "https://localhost:8080/",
          "height": 575
        },
        "id": "gQ4tT27wMAGF",
        "outputId": "01ab3301-9f36-41d4-bb7a-d55c82235462"
      },
      "source": [
        "plt.figure()\n",
        "plt.imshow(image)\n",
        "plt.title('original image')\n",
        "plt.show()\n",
        "\n",
        "plt.figure()\n",
        "plt.imshow(occlusion_map.detach().numpy())\n",
        "plt.title('occlusion sensitivity map - probability of class 8\\n\\n')\n",
        "plt.colorbar()\n",
        "plt.show()"
      ],
      "id": "gQ4tT27wMAGF",
      "execution_count": 121,
      "outputs": [
        {
          "output_type": "display_data",
          "data": {
            "image/png": "[encoded data removed]",
            "text/plain": [
              "<Figure size 432x288 with 1 Axes>"
            ]
          },
          "metadata": {
            "tags": [],
            "needs_background": "light"
          }
        },
        {
          "output_type": "display_data",
          "data": {
            "image/png": "[encoded data removed]",
            "text/plain": [
              "<Figure size 432x288 with 2 Axes>"
            ]
          },
          "metadata": {
            "tags": [],
            "needs_background": "light"
          }
        }
      ]
    },
    {
      "cell_type": "markdown",
      "metadata": {
        "id": "H1oz3fKrQy3g"
      },
      "source": [
        "## Deconvolutions\n",
        "\n"
      ],
      "id": "H1oz3fKrQy3g"
    },
    {
      "cell_type": "markdown",
      "metadata": {
        "id": "mnGPV6RjpZYO"
      },
      "source": [
        " ### intro\n",
        " \n",
        " We'll more or less follow: https://arxiv.org/abs/1311.2901v2 by Zeiler and Fergus whose paper promises to *'reveals the input stimuli that excite individual feature maps at any layer in the model'*. For some impressive figures, one shall refer to the paper but in summary, we can say that the real meaning of the outputs of the explanatory model is more or less unclear. It is also a question however, if it is meaningful to analyze single neuronal activations.\n",
        "\n",
        "The purpose of this part in the tutorial is to give an insight into what is behind the omnipresent 'let us visualize what triggers single neurons' figures in intros to deep learning. Thus, the interested reader is advised to read through the rather lengthly theory part of the text too.\n",
        "\n",
        "If you are skeptical about all of this (well, maybe you should be...) then just skim through the rest without taking it too seriously. \n",
        "\n",
        "Either way, I highly recommend to look into paper [Towards falsifiable interpretability research](https://arxiv.org/abs/1311.2901v2) for a more recent, critical view on interpretability methods for DNNs with interesting takeaways for methods like this."
      ],
      "id": "mnGPV6RjpZYO"
    },
    {
      "cell_type": "markdown",
      "metadata": {
        "id": "2o0HF3oJ--wC"
      },
      "source": [
        "### the method\n",
        "\n",
        "The method is best summarized in the words of the authors:\n",
        "\n",
        "*'To examine a convnet, a deconvnet is attached to each\n",
        "of its layers, as illustrated in Fig. 1(top), providing a\n",
        "continuous path back to image pixels. To start, an\n",
        "input image is presented to the convnet and features\n",
        "computed throughout the layers. To examine a given\n",
        "convnet activation, we set all other activations in the\n",
        "layer to zero and pass the feature maps as input to\n",
        "the attached deconvnet layer. Then we successively\n",
        "(i) unpool, (ii) rectify and (iii) filter to reconstruct\n",
        "the activity in the layer beneath that gave rise to the\n",
        "chosen activation. This is then repeated until input\n",
        "pixel space is reached.'*\n",
        "\n",
        "\n",
        "*'Unpooling: In the convnet, the max pooling operation is non-invertible, however we can obtain an approximate inverse by...'* (we won't need this in the tutorial)\n",
        "\n",
        "*'Rectification: The convnet uses relu non-linearities,\n",
        "which rectify the feature maps thus ensuring the feature maps are always positive. To obtain valid feature reconstructions at each layer (which also should\n",
        "be positive), we pass the reconstructed signal through\n",
        "a relu non-linearity.'*\n",
        "\n",
        "*'Filtering: The convnet uses learned filters to con-\n",
        "volve the feature maps from the previous layer. To\n",
        "invert this, the deconvnet uses transposed versions of\n",
        "the same filters, but applied to the rectified maps, not\n",
        "the output of the layer beneath. In practice this means\n",
        "flipping each filter vertically and horizontally.'*\n",
        "\n"
      ],
      "id": "2o0HF3oJ--wC"
    },
    {
      "cell_type": "markdown",
      "metadata": {
        "id": "Mfe9BhGkU0wo"
      },
      "source": [
        "### OK but what does this mean?\n",
        "\n",
        "Before jumping into code, let's familiarize ourselves with the way deconvolutional networks work. This seemingly simple goal is not so straightforward to achieve, since the original paper we follow and the Pytorch documentation do not seem to refer to the same thing.\n",
        "\n",
        "In the **paper**, it is said that '*we successively\n",
        "(i) unpool, (ii) rectify and (iii) filter to reconstruct\n",
        "the activity in the layer beneath that gave rise to the\n",
        "chosen activation...*' In other words, the process of deconvolution is seen as some kind of inversion.\n",
        "\n",
        "We hope to achieve 'filtering' with the transposed convolution layer of **Pytorch**, where the [documentation](https://pytorch.org/docs/stable/generated/torch.nn.ConvTranspose2d.html) reads as: *'This module can be seen as the gradient of Conv2d with respect to its input. It is also known as a fractionally-strided convolution or a deconvolution (although it is not an actual deconvolution operation)'*\n",
        "\n",
        "Nice. \n",
        "\n",
        "To make sense of all of this, we refer to yet another resource that approaches from theory-side: https://link.springer.com/chapter/10.1007/978-3-319-46466-4_8 \n",
        "\n",
        "Based on that, we can say the following:\n",
        "\n",
        "Suppose that we have a (scalar) feature p that is dependent on the output of a convolutional layer and we know the gradient of p with respect to the output.\n",
        "\n",
        " First we aim to compute the gradient of p with respect to the *input* of the layer. Conceptually, it is very simple, since the convolution operation is basically $\\mathbf{y}=A \\mathbf{x}+\\mathbf{b}$ where matrix A does the convolution (with a nontrivial structure) and both **x** input and **y** output are represented as vectors. \n",
        "\n",
        " The desired output is: $ (\\frac{\\partial p}{\\partial \\mathbf{x}})_i = \\frac{\\partial p}{\\partial x_i}= \\sum_j \\frac{\\partial p}{\\partial y_j} \\frac{\\partial y_j}{\\partial x_i} = \\sum_j   \\frac{\\partial p}{\\partial y_j} A_{ji} = ( A^T  \\frac{\\partial p}{\\partial \\mathbf{y}})_i$\n",
        "\n",
        " Now we can see that the paper and docs are basically the same for 'filtering' but it is unclear in what sense this operation will contribute to *' reconstruct the activity in the layer beneath that gave rise to the chosen activation'* \n",
        "\n",
        "Moreover, the use of ReLU needs to be thought over. The paper proposes that ReLU is applied before passing features through the transposed convlayers. The reader is reminded that this choice is (i) not straightforward (ii) not the only choice. Different ways to 'reverse' ReLU and it leads to significatly different outcomes according to the cited Springer chapter. Also, this particular choice makes the interpretation of the outputs of a deconvolutional net hardly interpretable, since this is *not* the gradient of p wrt. the input pixels. (Note that other choices with ReLU lead to a well defined meaning of the output, see SaliNets for network saliency.)\n",
        "\n",
        "In practice, we mask out all but one activation in a custom layer and then pass through deconvolutions. It is not hard to realize that in this case, p is the (chosen activation) times (the output of the chosen neuron). It also makes clear that there is not much point in passing a whole activation block through the deconv architecture.\n",
        "\n",
        " \n",
        "\n"
      ],
      "id": "Mfe9BhGkU0wo"
    },
    {
      "cell_type": "markdown",
      "metadata": {
        "id": "srHoFOpuu9_C"
      },
      "source": [
        "Now then let's get down to coding finally:"
      ],
      "id": "srHoFOpuu9_C"
    },
    {
      "cell_type": "code",
      "metadata": {
        "id": "8Z2FrconvGZ7"
      },
      "source": [
        "image=next(iter(train_dataloader))[0][0]"
      ],
      "id": "8Z2FrconvGZ7",
      "execution_count": 28,
      "outputs": []
    },
    {
      "cell_type": "code",
      "metadata": {
        "colab": {
          "base_uri": "https://localhost:8080/",
          "height": 283
        },
        "id": "J_hTrfuKvL_j",
        "outputId": "8e5bab6b-465c-42a1-ea62-495d7331a6ec"
      },
      "source": [
        "plt.imshow(image)"
      ],
      "id": "J_hTrfuKvL_j",
      "execution_count": 29,
      "outputs": [
        {
          "output_type": "execute_result",
          "data": {
            "text/plain": [
              "<matplotlib.image.AxesImage at 0x7f08d42e9210>"
            ]
          },
          "metadata": {
            "tags": []
          },
          "execution_count": 29
        },
        {
          "output_type": "display_data",
          "data": {
            "image/png": "[encoded data removed]",
            "text/plain": [
              "<Figure size 432x288 with 1 Axes>"
            ]
          },
          "metadata": {
            "tags": [],
            "needs_background": "light"
          }
        }
      ]
    },
    {
      "cell_type": "code",
      "metadata": {
        "id": "kodl-78D7R4Y"
      },
      "source": [
        "# compute activation maps\n",
        "activations=[]\n",
        "x=image.reshape(1,28,28)\n",
        "x=model.batch_transform(x)\n",
        "for layer in [model.conv1,model.conv2,model.conv3]:\n",
        "  x=F.relu(layer(x))\n",
        "  activations.append(x)"
      ],
      "id": "kodl-78D7R4Y",
      "execution_count": 30,
      "outputs": []
    },
    {
      "cell_type": "code",
      "metadata": {
        "id": "jJtOc4Jz8V_W"
      },
      "source": [
        "def mask(x,y,d,size): # make a mask for picking a given neuronal activation \n",
        "  mask=torch.zeros(size,dtype=torch.float32)\n",
        "  mask[:,d,x,y]=1.\n",
        "\n",
        "  return mask"
      ],
      "id": "jJtOc4Jz8V_W",
      "execution_count": 31,
      "outputs": []
    },
    {
      "cell_type": "markdown",
      "metadata": {
        "id": "NZihwMIXYqMJ"
      },
      "source": [
        "One could go in a less pedestrian way for the deconvnet, but since our net is lightweight, there is no point in it. We will re-use the weights from the trained convlayers as suggested in the paper. The only question is if we need to flip the kernels. Let's try first without that!"
      ],
      "id": "NZihwMIXYqMJ"
    },
    {
      "cell_type": "code",
      "metadata": {
        "id": "RCq3zY2jOHjN"
      },
      "source": [
        "# we'll use the hyperparameters from the original net\n",
        "# set bias to zero: it is not meaningful to use them when doing deconvolution\n",
        "\n",
        "deconv1=nn.ConvTranspose2d(in_channels=10,out_channels=1,kernel_size=4,stride=2)\n",
        "deconv1.weight=nn.Parameter(model.conv1.weight)\n",
        "deconv1.bias=None\n",
        "\n",
        "deconv2=nn.ConvTranspose2d(in_channels=20,out_channels=10,kernel_size=3,stride=2)\n",
        "deconv2.weight=nn.Parameter(model.conv2.weight)\n",
        "deconv2.bias=None\n",
        "\n",
        "deconv3=nn.ConvTranspose2d(in_channels=10,out_channels=20,kernel_size=2,stride=2)\n",
        "deconv3.weight=nn.Parameter(model.conv3.weight)\n",
        "deconv3.bias=None\n"
      ],
      "id": "RCq3zY2jOHjN",
      "execution_count": 32,
      "outputs": []
    },
    {
      "cell_type": "code",
      "metadata": {
        "id": "gmSTVpT6FKfW"
      },
      "source": [
        "def deconv_from_layer_list(input,layers): # implementing the method from the paper\n",
        "  x=input\n",
        "  for layer in layers:\n",
        "    x=layer(F.relu(x))\n",
        "  return x"
      ],
      "id": "gmSTVpT6FKfW",
      "execution_count": 33,
      "outputs": []
    },
    {
      "cell_type": "code",
      "metadata": {
        "id": "PwrRktG9FpIJ"
      },
      "source": [
        "activation=activations[0]*mask(1,1,1,activations[0].shape) # pick one from the first activation block's second kernel at position 1,1"
      ],
      "id": "PwrRktG9FpIJ",
      "execution_count": 34,
      "outputs": []
    },
    {
      "cell_type": "code",
      "metadata": {
        "id": "YCOvu8GGGQVC"
      },
      "source": [
        "out=deconv_from_layer_list(activation,[deconv1]) # deconvolve - what do you expect go get?"
      ],
      "id": "YCOvu8GGGQVC",
      "execution_count": 35,
      "outputs": []
    },
    {
      "cell_type": "code",
      "metadata": {
        "colab": {
          "base_uri": "https://localhost:8080/",
          "height": 531
        },
        "id": "CTdxEstc1wWh",
        "outputId": "817af573-25b5-4737-f028-2b0d3d2e6bda"
      },
      "source": [
        "out_=out.detach().numpy()\n",
        "\n",
        "plt.figure()\n",
        "plt.imshow(image[:,:])\n",
        "plt.figure()\n",
        "plt.imshow(out_[0,0,:,:])\n",
        "plt.colorbar()"
      ],
      "id": "CTdxEstc1wWh",
      "execution_count": 37,
      "outputs": [
        {
          "output_type": "execute_result",
          "data": {
            "text/plain": [
              "<matplotlib.colorbar.Colorbar at 0x7f08d411fb10>"
            ]
          },
          "metadata": {
            "tags": []
          },
          "execution_count": 37
        },
        {
          "output_type": "display_data",
          "data": {
            "image/png": "[encoded data removed]",
            "text/plain": [
              "<Figure size 432x288 with 1 Axes>"
            ]
          },
          "metadata": {
            "tags": [],
            "needs_background": "light"
          }
        },
        {
          "output_type": "display_data",
          "data": {
            "image/png": "[encoded data removed]",
            "text/plain": [
              "<Figure size 432x288 with 2 Axes>"
            ]
          },
          "metadata": {
            "tags": [],
            "needs_background": "light"
          }
        }
      ]
    },
    {
      "cell_type": "markdown",
      "metadata": {
        "id": "JbrcDpomw_mM"
      },
      "source": [
        "Yup, it looks like a convolutional kernel! When thinking about it, it is obvious that this is what we shall get. Now the proof is in the pudding: "
      ],
      "id": "JbrcDpomw_mM"
    },
    {
      "cell_type": "code",
      "metadata": {
        "colab": {
          "base_uri": "https://localhost:8080/"
        },
        "id": "7yTdXNBhNMPX",
        "outputId": "d334a772-9580-4b07-fd29-ab875411c0e5"
      },
      "source": [
        "activation[0,1,1,1] # we picked this feature and set everything else to 0"
      ],
      "id": "7yTdXNBhNMPX",
      "execution_count": 38,
      "outputs": [
        {
          "output_type": "execute_result",
          "data": {
            "text/plain": [
              "tensor(0.2208, grad_fn=<SelectBackward>)"
            ]
          },
          "metadata": {
            "tags": []
          },
          "execution_count": 38
        }
      ]
    },
    {
      "cell_type": "code",
      "metadata": {
        "colab": {
          "base_uri": "https://localhost:8080/"
        },
        "id": "7MqBuBW1S1el",
        "outputId": "ce853612-91ce-4be9-dea2-fa84bdfee068"
      },
      "source": [
        "out_[0,0,2:6,2:6] # the colorful (nonzero) area above"
      ],
      "id": "7MqBuBW1S1el",
      "execution_count": 39,
      "outputs": [
        {
          "output_type": "execute_result",
          "data": {
            "text/plain": [
              "array([[-0.0213485 ,  0.01172877,  0.06317053, -0.02939272],\n",
              "       [-0.02395218, -0.03492154,  0.05169481,  0.03717804],\n",
              "       [ 0.04151992,  0.03870743,  0.04570105,  0.07462555],\n",
              "       [-0.02181742,  0.02903338,  0.00723445,  0.05708337]],\n",
              "      dtype=float32)"
            ]
          },
          "metadata": {
            "tags": []
          },
          "execution_count": 39
        }
      ]
    },
    {
      "cell_type": "code",
      "metadata": {
        "id": "rCCfNN8RuCDx",
        "colab": {
          "base_uri": "https://localhost:8080/"
        },
        "outputId": "c0fe22d8-4114-48af-d874-4fd546934d91"
      },
      "source": [
        "model.conv1.weight[1,0,:,:] # weight from model corresponding to the same filter we want to deconvolve"
      ],
      "id": "rCCfNN8RuCDx",
      "execution_count": 40,
      "outputs": [
        {
          "output_type": "execute_result",
          "data": {
            "text/plain": [
              "tensor([[-0.0967,  0.0531,  0.2862, -0.1331],\n",
              "        [-0.1085, -0.1582,  0.2342,  0.1684],\n",
              "        [ 0.1881,  0.1753,  0.2070,  0.3380],\n",
              "        [-0.0988,  0.1315,  0.0328,  0.2586]], grad_fn=<SliceBackward>)"
            ]
          },
          "metadata": {
            "tags": []
          },
          "execution_count": 40
        }
      ]
    },
    {
      "cell_type": "markdown",
      "metadata": {
        "id": "zwKddJnJyMy5"
      },
      "source": [
        "One can check that we got back our (conv kernel) times (activation) as expected so it was right not to flip weights when initializing transposed convlayers."
      ],
      "id": "zwKddJnJyMy5"
    },
    {
      "cell_type": "code",
      "metadata": {
        "colab": {
          "base_uri": "https://localhost:8080/",
          "height": 299
        },
        "id": "qs3uOxczz1uY",
        "outputId": "74e06986-7698-460f-9c5f-57fd0422a7ff"
      },
      "source": [
        "plt.figure()\n",
        "plt.title('original image')\n",
        "plt.imshow(image)"
      ],
      "id": "qs3uOxczz1uY",
      "execution_count": 41,
      "outputs": [
        {
          "output_type": "execute_result",
          "data": {
            "text/plain": [
              "<matplotlib.image.AxesImage at 0x7f08d4079a10>"
            ]
          },
          "metadata": {
            "tags": []
          },
          "execution_count": 41
        },
        {
          "output_type": "display_data",
          "data": {
            "image/png": "[encoded data removed]",
            "text/plain": [
              "<Figure size 432x288 with 1 Axes>"
            ]
          },
          "metadata": {
            "tags": [],
            "needs_background": "light"
          }
        }
      ]
    },
    {
      "cell_type": "code",
      "metadata": {
        "id": "G_wPZBzkyG8u"
      },
      "source": [
        "# for a more interesting example\n",
        "\n",
        "outputs=[]\n",
        "\n",
        "for kernel in range(10):\n",
        "  for x_ in range(3):\n",
        "    for y_ in range(3):\n",
        "      text='reconstruction from kernel %d, x: %d, y: %d'%(kernel,x_,y_)\n",
        "\n",
        "      activation=activations[2]*mask(x_,y_,kernel,activations[2].shape)\n",
        "      out=deconv_from_layer_list(activation,[deconv3,deconv2,deconv1]) # behold the order of deconv layers\n",
        "\n",
        "      out_=out.detach().numpy()\n",
        "      fig=(out_[0,0,:,:])\n",
        "\n",
        "      outputs.append((float(activation[0,kernel,x_,y_].detach()),text,fig))\n",
        "\n",
        "     \n"
      ],
      "id": "G_wPZBzkyG8u",
      "execution_count": 44,
      "outputs": []
    },
    {
      "cell_type": "code",
      "metadata": {
        "id": "Trm6Z09Dxz8B"
      },
      "source": [
        "sorted_outputs=sorted(outputs,key=lambda x: -x[0])  # descending by activation"
      ],
      "id": "Trm6Z09Dxz8B",
      "execution_count": 47,
      "outputs": []
    },
    {
      "cell_type": "code",
      "metadata": {
        "colab": {
          "base_uri": "https://localhost:8080/",
          "height": 1000
        },
        "id": "hUPfjICs1wL6",
        "outputId": "cf6db1eb-c9c8-4fc7-87bf-6aefbaa61e10"
      },
      "source": [
        "for i in range(10): # top 10 outputs\n",
        "  plt.figure()\n",
        "  plt.title(sorted_outputs[i][1]+ 'activation: %f'%(sorted_outputs[i][0]))\n",
        "  plt.imshow(sorted_outputs[i][2])\n",
        "  plt.show()"
      ],
      "id": "hUPfjICs1wL6",
      "execution_count": 48,
      "outputs": [
        {
          "output_type": "display_data",
          "data": {
            "image/png": "[encoded data removed]",
            "text/plain": [
              "<Figure size 432x288 with 1 Axes>"
            ]
          },
          "metadata": {
            "tags": [],
            "needs_background": "light"
          }
        },
        {
          "output_type": "display_data",
          "data": {
            "image/png": "[encoded data removed]",
            "text/plain": [
              "<Figure size 432x288 with 1 Axes>"
            ]
          },
          "metadata": {
            "tags": [],
            "needs_background": "light"
          }
        },
        {
          "output_type": "display_data",
          "data": {
            "image/png": "[encoded data removed]",
            "text/plain": [
              "<Figure size 432x288 with 1 Axes>"
            ]
          },
          "metadata": {
            "tags": [],
            "needs_background": "light"
          }
        },
        {
          "output_type": "display_data",
          "data": {
            "image/png": "[encoded data removed]",
            "text/plain": [
              "<Figure size 432x288 with 1 Axes>"
            ]
          },
          "metadata": {
            "tags": [],
            "needs_background": "light"
          }
        },
        {
          "output_type": "display_data",
          "data": {
            "image/png": "[encoded data removed]",
            "text/plain": [
              "<Figure size 432x288 with 1 Axes>"
            ]
          },
          "metadata": {
            "tags": [],
            "needs_background": "light"
          }
        },
        {
          "output_type": "display_data",
          "data": {
            "image/png": "[encoded data removed]",
            "text/plain": [
              "<Figure size 432x288 with 1 Axes>"
            ]
          },
          "metadata": {
            "tags": [],
            "needs_background": "light"
          }
        },
        {
          "output_type": "display_data",
          "data": {
            "image/png": "[encoded data removed]",
            "text/plain": [
              "<Figure size 432x288 with 1 Axes>"
            ]
          },
          "metadata": {
            "tags": [],
            "needs_background": "light"
          }
        },
        {
          "output_type": "display_data",
          "data": {
            "image/png": "[encoded data removed]",
            "text/plain": [
              "<Figure size 432x288 with 1 Axes>"
            ]
          },
          "metadata": {
            "tags": [],
            "needs_background": "light"
          }
        },
        {
          "output_type": "display_data",
          "data": {
            "image/png": "[encoded data removed]",
            "text/plain": [
              "<Figure size 432x288 with 1 Axes>"
            ]
          },
          "metadata": {
            "tags": [],
            "needs_background": "light"
          }
        },
        {
          "output_type": "display_data",
          "data": {
            "image/png": "[encoded data removed]",
            "text/plain": [
              "<Figure size 432x288 with 1 Axes>"
            ]
          },
          "metadata": {
            "tags": [],
            "needs_background": "light"
          }
        }
      ]
    },
    {
      "cell_type": "markdown",
      "metadata": {
        "id": "1TX-Snz12alW"
      },
      "source": [
        "Well, it is not very informative. Let's see for an 8!"
      ],
      "id": "1TX-Snz12alW"
    },
    {
      "cell_type": "code",
      "metadata": {
        "colab": {
          "base_uri": "https://localhost:8080/",
          "height": 299
        },
        "id": "17UbhK1X2S3U",
        "outputId": "56db4fd2-dee8-4a3a-af8b-46c751137aeb"
      },
      "source": [
        "image=next(iter(train_dataloader))[0][0]\n",
        "plt.figure()\n",
        "plt.title('original image')\n",
        "plt.imshow(image)"
      ],
      "id": "17UbhK1X2S3U",
      "execution_count": 72,
      "outputs": [
        {
          "output_type": "execute_result",
          "data": {
            "text/plain": [
              "<matplotlib.image.AxesImage at 0x7f08d1d91310>"
            ]
          },
          "metadata": {
            "tags": []
          },
          "execution_count": 72
        },
        {
          "output_type": "display_data",
          "data": {
            "image/png": "[encoded data removed]",
            "text/plain": [
              "<Figure size 432x288 with 1 Axes>"
            ]
          },
          "metadata": {
            "tags": [],
            "needs_background": "light"
          }
        }
      ]
    },
    {
      "cell_type": "code",
      "metadata": {
        "id": "-lcLfzv02J4a"
      },
      "source": [
        "# compute activation maps\n",
        "activations=[]\n",
        "x=image.reshape(1,28,28)\n",
        "x=model.batch_transform(x)\n",
        "for layer in [model.conv1,model.conv2,model.conv3]:\n",
        "  x=F.relu(layer(x))\n",
        "  activations.append(x)"
      ],
      "id": "-lcLfzv02J4a",
      "execution_count": 73,
      "outputs": []
    },
    {
      "cell_type": "code",
      "metadata": {
        "id": "RmRUwdLN2p3j"
      },
      "source": [
        "# for a more interesting example\n",
        "\n",
        "outputs=[]\n",
        "\n",
        "for kernel in range(10):\n",
        "  for x_ in range(3):\n",
        "    for y_ in range(3):\n",
        "      text='reconstruction from kernel %d, x: %d, y: %d'%(kernel,x_,y_)\n",
        "\n",
        "      activation=activations[2]*mask(x_,y_,kernel,activations[2].shape)\n",
        "      out=deconv_from_layer_list(activation,[deconv3,deconv2,deconv1]) # behold the order of deconv layers\n",
        "\n",
        "      out_=out.detach().numpy()\n",
        "      fig=(out_[0,0,:,:])\n",
        "\n",
        "      outputs.append((float(activation[0,kernel,x_,y_].detach()),text,fig))"
      ],
      "id": "RmRUwdLN2p3j",
      "execution_count": 74,
      "outputs": []
    },
    {
      "cell_type": "code",
      "metadata": {
        "colab": {
          "base_uri": "https://localhost:8080/",
          "height": 1000
        },
        "id": "-aWcPfAr2wTf",
        "outputId": "45c5123b-93d4-4378-d247-475354f9bca7"
      },
      "source": [
        "sorted_outputs=sorted(outputs,key=lambda x: -x[0])  # descending by activation\n",
        "for i in range(10): # top 10 outputs\n",
        "  plt.figure()\n",
        "  plt.title(sorted_outputs[i][1]+ 'activation: %f'%(sorted_outputs[i][0]))\n",
        "  plt.imshow(sorted_outputs[i][2])\n",
        "  plt.show()"
      ],
      "id": "-aWcPfAr2wTf",
      "execution_count": 75,
      "outputs": [
        {
          "output_type": "display_data",
          "data": {
            "image/png": "[encoded data removed]",
            "text/plain": [
              "<Figure size 432x288 with 1 Axes>"
            ]
          },
          "metadata": {
            "tags": [],
            "needs_background": "light"
          }
        },
        {
          "output_type": "display_data",
          "data": {
            "image/png": "[encoded data removed]",
            "text/plain": [
              "<Figure size 432x288 with 1 Axes>"
            ]
          },
          "metadata": {
            "tags": [],
            "needs_background": "light"
          }
        },
        {
          "output_type": "display_data",
          "data": {
            "image/png": "[encoded data removed]",
            "text/plain": [
              "<Figure size 432x288 with 1 Axes>"
            ]
          },
          "metadata": {
            "tags": [],
            "needs_background": "light"
          }
        },
        {
          "output_type": "display_data",
          "data": {
            "image/png": "[encoded data removed]",
            "text/plain": [
              "<Figure size 432x288 with 1 Axes>"
            ]
          },
          "metadata": {
            "tags": [],
            "needs_background": "light"
          }
        },
        {
          "output_type": "display_data",
          "data": {
            "image/png": "[encoded data removed]",
            "text/plain": [
              "<Figure size 432x288 with 1 Axes>"
            ]
          },
          "metadata": {
            "tags": [],
            "needs_background": "light"
          }
        },
        {
          "output_type": "display_data",
          "data": {
            "image/png": "[encoded data removed]",
            "text/plain": [
              "<Figure size 432x288 with 1 Axes>"
            ]
          },
          "metadata": {
            "tags": [],
            "needs_background": "light"
          }
        },
        {
          "output_type": "display_data",
          "data": {
            "image/png": "[encoded data removed]",
            "text/plain": [
              "<Figure size 432x288 with 1 Axes>"
            ]
          },
          "metadata": {
            "tags": [],
            "needs_background": "light"
          }
        },
        {
          "output_type": "display_data",
          "data": {
            "image/png": "[encoded data removed]",
            "text/plain": [
              "<Figure size 432x288 with 1 Axes>"
            ]
          },
          "metadata": {
            "tags": [],
            "needs_background": "light"
          }
        },
        {
          "output_type": "display_data",
          "data": {
            "image/png": "[encoded data removed]",
            "text/plain": [
              "<Figure size 432x288 with 1 Axes>"
            ]
          },
          "metadata": {
            "tags": [],
            "needs_background": "light"
          }
        },
        {
          "output_type": "display_data",
          "data": {
            "image/png": "[encoded data removed]",
            "text/plain": [
              "<Figure size 432x288 with 1 Axes>"
            ]
          },
          "metadata": {
            "tags": [],
            "needs_background": "light"
          }
        }
      ]
    },
    {
      "cell_type": "markdown",
      "metadata": {
        "id": "66f-Utjn3YkG"
      },
      "source": [
        "Well, let's say that we can observe some horizontal lines that may be absent for 1s but present for 8s. Anyway, this demo is not very convincing but this is what we could to with such a simple architecture.\n",
        "\n",
        "For fancy images, refer to the sources linked."
      ],
      "id": "66f-Utjn3YkG"
    }
  ]
}