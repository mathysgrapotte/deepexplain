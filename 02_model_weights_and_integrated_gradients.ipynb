{
 "cells": [
  {
   "cell_type": "markdown",
   "metadata": {
    "id": "Vgyb7SEtcyg5"
   },
   "source": [
    "### Model definition: \n",
    "\n",
    "We are going to use a simple CNN in order to make our predictions on the MNIST dataset\n",
    "\n",
    "\n",
    "# <span style=\"color:red\"> ADD REPRESENTATION OF THE SIMPLE CNN HERE </span>\n",
    "\n",
    "This simple CNN will help us with model interpretation as it is easy to understand\n",
    "\n"
   ]
  },
  {
   "cell_type": "code",
   "execution_count": null,
   "metadata": {
    "id": "1lmI0WB4cyg5",
    "pycharm": {
     "name": "#%%\n"
    }
   },
   "outputs": [],
   "source": [
    "class CnnModel(nn.Module):\n",
    "    def __init__(self):\n",
    "        super(CnnModel, self).__init__()\n",
    "        self.conv1 = nn.Conv2d(1, 1, (5, 5), bias=True)\n",
    "        self.flatt = nn.Flatten()\n",
    "        self.dense1 = nn.Linear(576, 10)\n",
    "        \n",
    "\n",
    "    def forward(self, x):\n",
    "        x = self.conv1(x)\n",
    "        x = F.relu(x)\n",
    "        x = self.flatt(x)\n",
    "        x1 = self.dense1(x)\n",
    "        return(F.softmax(x1, dim=1))\n",
    "        "
   ]
  },
  {
   "cell_type": "code",
   "execution_count": null,
   "metadata": {
    "id": "gH0QZiNMcyg5",
    "pycharm": {
     "name": "#%%\n"
    }
   },
   "outputs": [],
   "source": [
    "# We now instantiate an object (net) of the CnnModel class, net being our architecture \n",
    "net = CnnModel()"
   ]
  },
  {
   "cell_type": "code",
   "execution_count": null,
   "metadata": {
    "id": "p-H0K-nWcyg6",
    "outputId": "112e1224-666d-4607-fb0d-82c3ccc5b54c",
    "pycharm": {
     "name": "#%%\n"
    }
   },
   "outputs": [
    {
     "name": "stdout",
     "output_type": "stream",
     "text": [
      "Epoch [1/10], Step [100/600], Loss: 1.5846\n",
      "Epoch [1/10], Step [200/600], Loss: 1.7129\n",
      "Epoch [1/10], Step [300/600], Loss: 1.6053\n",
      "Epoch [1/10], Step [400/600], Loss: 1.7136\n",
      "Epoch [1/10], Step [500/600], Loss: 1.6073\n",
      "Epoch [1/10], Step [600/600], Loss: 1.6475\n",
      "Epoch [2/10], Step [100/600], Loss: 1.5605\n",
      "Epoch [2/10], Step [200/600], Loss: 1.5825\n",
      "Epoch [2/10], Step [300/600], Loss: 1.5939\n",
      "Epoch [2/10], Step [400/600], Loss: 1.5416\n",
      "Epoch [2/10], Step [500/600], Loss: 1.5935\n",
      "Epoch [2/10], Step [600/600], Loss: 1.5791\n",
      "Epoch [3/10], Step [100/600], Loss: 1.5589\n",
      "Epoch [3/10], Step [200/600], Loss: 1.5089\n",
      "Epoch [3/10], Step [300/600], Loss: 1.5568\n",
      "Epoch [3/10], Step [400/600], Loss: 1.5830\n",
      "Epoch [3/10], Step [500/600], Loss: 1.5575\n",
      "Epoch [3/10], Step [600/600], Loss: 1.5374\n",
      "Epoch [4/10], Step [100/600], Loss: 1.5898\n",
      "Epoch [4/10], Step [200/600], Loss: 1.5711\n",
      "Epoch [4/10], Step [300/600], Loss: 1.5404\n",
      "Epoch [4/10], Step [400/600], Loss: 1.5403\n",
      "Epoch [4/10], Step [500/600], Loss: 1.5209\n",
      "Epoch [4/10], Step [600/600], Loss: 1.5254\n",
      "Epoch [5/10], Step [100/600], Loss: 1.4907\n",
      "Epoch [5/10], Step [200/600], Loss: 1.5661\n",
      "Epoch [5/10], Step [300/600], Loss: 1.5726\n",
      "Epoch [5/10], Step [400/600], Loss: 1.5213\n",
      "Epoch [5/10], Step [500/600], Loss: 1.5715\n",
      "Epoch [5/10], Step [600/600], Loss: 1.5433\n",
      "Epoch [6/10], Step [100/600], Loss: 1.5579\n",
      "Epoch [6/10], Step [200/600], Loss: 1.5361\n",
      "Epoch [6/10], Step [300/600], Loss: 1.5574\n",
      "Epoch [6/10], Step [400/600], Loss: 1.5230\n",
      "Epoch [6/10], Step [500/600], Loss: 1.5603\n",
      "Epoch [6/10], Step [600/600], Loss: 1.5652\n",
      "Epoch [7/10], Step [100/600], Loss: 1.5219\n",
      "Epoch [7/10], Step [200/600], Loss: 1.5538\n",
      "Epoch [7/10], Step [300/600], Loss: 1.5012\n",
      "Epoch [7/10], Step [400/600], Loss: 1.5528\n",
      "Epoch [7/10], Step [500/600], Loss: 1.5024\n",
      "Epoch [7/10], Step [600/600], Loss: 1.5119\n",
      "Epoch [8/10], Step [100/600], Loss: 1.5283\n",
      "Epoch [8/10], Step [200/600], Loss: 1.6121\n",
      "Epoch [8/10], Step [300/600], Loss: 1.5612\n",
      "Epoch [8/10], Step [400/600], Loss: 1.5322\n",
      "Epoch [8/10], Step [500/600], Loss: 1.5142\n",
      "Epoch [8/10], Step [600/600], Loss: 1.5109\n",
      "Epoch [9/10], Step [100/600], Loss: 1.5932\n",
      "Epoch [9/10], Step [200/600], Loss: 1.5601\n",
      "Epoch [9/10], Step [300/600], Loss: 1.5207\n",
      "Epoch [9/10], Step [400/600], Loss: 1.5115\n",
      "Epoch [9/10], Step [500/600], Loss: 1.5125\n",
      "Epoch [9/10], Step [600/600], Loss: 1.5132\n",
      "Epoch [10/10], Step [100/600], Loss: 1.5322\n",
      "Epoch [10/10], Step [200/600], Loss: 1.5264\n",
      "Epoch [10/10], Step [300/600], Loss: 1.5856\n",
      "Epoch [10/10], Step [400/600], Loss: 1.5313\n",
      "Epoch [10/10], Step [500/600], Loss: 1.5149\n",
      "Epoch [10/10], Step [600/600], Loss: 1.5117\n"
     ]
    }
   ],
   "source": [
    "optimizer = optim.Adam(net.parameters(), lr = 0.01) \n",
    "loss_func = nn.CrossEntropyLoss()  \n",
    "num_epochs = 10\n",
    "total_step = len(Data_train) \n",
    "for epoch in range(num_epochs):\n",
    "    for i, (images,labels) in enumerate(Data_train):\n",
    "        b_x = Variable(images)   # images\n",
    "        b_y = Variable(labels)   # labels\n",
    "        output = net(b_x)\n",
    "        loss = loss_func(output, b_y)\n",
    "        optimizer.zero_grad()\n",
    "        loss.backward() \n",
    "        optimizer.step()  \n",
    "        if (i+1) % 100 == 0:\n",
    "            print ('Epoch [{}/{}], Step [{}/{}], Loss: {:.4f}' .format(epoch + 1, num_epochs, i + 1, total_step, loss.item()))\n"
   ]
  },
  {
   "cell_type": "code",
   "execution_count": null,
   "metadata": {
    "id": "Cz9AsRnycyg6",
    "pycharm": {
     "name": "#%%\n"
    }
   },
   "outputs": [],
   "source": [
    "Data_test = torch.utils.data.DataLoader(mnist_testset, \n",
    "                                          batch_size=100, \n",
    "                                          shuffle=True,\n",
    "                                          num_workers=1)"
   ]
  },
  {
   "cell_type": "code",
   "execution_count": null,
   "metadata": {
    "id": "ZbwvSnmXcyg7",
    "outputId": "8ed26238-c2c0-4bf5-c738-b1ddc0cba7cb",
    "pycharm": {
     "name": "#%%\n"
    }
   },
   "outputs": [
    {
     "name": "stdout",
     "output_type": "stream",
     "text": [
      "\n",
      "Test set: Avg. loss: 0.0002, Accuracy: 9229/10000 (92%)\n",
      "\n"
     ]
    }
   ],
   "source": [
    "# Let's begin our testing loop. \n",
    "\n",
    "net.eval()\n",
    "test_loss = 0\n",
    "correct = 0\n",
    "test_losses = []\n",
    "with torch.no_grad():\n",
    "    for images, labels in Data_test:\n",
    "        output = net(images)\n",
    "        test_loss += loss_func(output, labels).item()\n",
    "        pred = output.data.max(1, keepdim=True)[1]\n",
    "        correct += pred.eq(labels.data.view_as(pred)).sum()\n",
    "        test_loss /= len(Data_test.dataset)\n",
    "        test_losses.append(test_loss)\n",
    "\n",
    "print('\\nTest set: Avg. loss: {:.4f}, Accuracy: {}/{} ({:.0f}%)\\n'.format(test_loss, correct, \n",
    "        len(Data_test.dataset),100. * correct / len(Data_test.dataset)))"
   ]
  },
  {
   "cell_type": "markdown",
   "metadata": {
    "id": "7KnfXff1cyg8"
   },
   "source": [
    "# Analysing the model by looking at the weights\n",
    "\n",
    "\n",
    "\n",
    "# <span style=\"color:red\"> ADDING PRESENTATION WITH IMAGES AND TEXT ABOUT RETAINING MODEL WEIGHTS AND THE WAY CONVOLUTION WORKS </span>\n"
   ]
  },
  {
   "cell_type": "code",
   "execution_count": null,
   "metadata": {
    "id": "9SV33KBKcyg8",
    "pycharm": {
     "name": "#%%\n"
    }
   },
   "outputs": [],
   "source": [
    "# define the input\n",
    "input1 = first[0][1].reshape(1, 1, 28, 28) # Change the second value to change the example"
   ]
  },
  {
   "cell_type": "code",
   "execution_count": null,
   "metadata": {
    "id": "CzaJqS55cyg8",
    "pycharm": {
     "name": "#%%\n"
    }
   },
   "outputs": [],
   "source": [
    "conv = net.conv1.weight.reshape(5,5).detach().numpy() # Let's fetch the convolution filter learned by the model"
   ]
  },
  {
   "cell_type": "code",
   "execution_count": null,
   "metadata": {
    "id": "Db6bHF1zcyg8",
    "outputId": "233f5fbe-977b-4161-be88-dc5058386b85",
    "pycharm": {
     "name": "#%%\n"
    }
   },
   "outputs": [
    {
     "data": {
      "text/plain": [
       "Text(0.5, 1.0, '5x5 Convolution filter learned by the model')"
      ]
     },
     "execution_count": 14,
     "metadata": {},
     "output_type": "execute_result"
    },
    {
     "data": {
      "image/png": "[encoded data removed]",
      "text/plain": [
       "<Figure size 432x288 with 2 Axes>"
      ]
     },
     "metadata": {
      "needs_background": "light"
     },
     "output_type": "display_data"
    }
   ],
   "source": [
    "plt.imshow(conv) # Let's plot \n",
    "plt.colorbar()\n",
    "plt.title(\"5x5 Convolution filter learned by the model\")"
   ]
  },
  {
   "cell_type": "code",
   "execution_count": null,
   "metadata": {
    "id": "SVjxPuQpcyg9",
    "outputId": "6d4e61fb-de53-431c-e5e9-aa79507bd635",
    "pycharm": {
     "name": "#%%\n"
    }
   },
   "outputs": [
    {
     "data": {
      "text/plain": [
       "<matplotlib.colorbar.Colorbar at 0x7fe0b050c130>"
      ]
     },
     "execution_count": 15,
     "metadata": {},
     "output_type": "execute_result"
    },
    {
     "data": {
      "image/png": "[encoded data removed]",
      "text/plain": [
       "<Figure size 432x288 with 2 Axes>"
      ]
     },
     "metadata": {
      "needs_background": "light"
     },
     "output_type": "display_data"
    }
   ],
   "source": [
    "\n",
    "#first[0][0] is the first image from the first batch\n",
    "first[0][1].shape # Change the second value to change the example\n",
    "first_ndarray = first[0][1].squeeze().numpy()\n",
    "# numpy() function is the converter form torch.Tensor to numpy array.\n",
    "plt.title(\"Our input\")\n",
    "plt.imshow(first_ndarray)\n",
    "plt.colorbar()"
   ]
  },
  {
   "cell_type": "code",
   "execution_count": null,
   "metadata": {
    "id": "KTvPFu07cyg9",
    "pycharm": {
     "name": "#%%\n"
    }
   },
   "outputs": [],
   "source": [
    "# Here we retrieve the output of the convolution layer from the input \n",
    "out_conv = net.conv1(input1).reshape(24,24).detach().numpy()"
   ]
  },
  {
   "cell_type": "code",
   "execution_count": null,
   "metadata": {
    "id": "adzUpVaXcyg9",
    "outputId": "16a5717b-3a57-4ed1-86e2-96d83f849236",
    "pycharm": {
     "name": "#%%\n"
    }
   },
   "outputs": [
    {
     "data": {
      "text/plain": [
       "<matplotlib.colorbar.Colorbar at 0x7fe0a0883b50>"
      ]
     },
     "execution_count": 17,
     "metadata": {},
     "output_type": "execute_result"
    },
    {
     "data": {
      "image/png": "[encoded data removed]",
      "text/plain": [
       "<Figure size 432x288 with 2 Axes>"
      ]
     },
     "metadata": {
      "needs_background": "light"
     },
     "output_type": "display_data"
    }
   ],
   "source": [
    "plt.title(\"Convolved input\")\n",
    "plt.imshow(out_conv)\n",
    "plt.colorbar()"
   ]
  },
  {
   "cell_type": "markdown",
   "metadata": {
    "id": "E-pXgbRccyg-"
   },
   "source": [
    "## Questions to participants : \n",
    "\n",
    "What is the effect of convolution in your opinion ? How could that help ? \n",
    "\n",
    "(Answer -> improve contrast, more distinctions between borders = better prediction)"
   ]
  },
  {
   "cell_type": "markdown",
   "metadata": {
    "id": "CLc9_6Oucyg-"
   },
   "source": [
    "# <span style=\"color:red\"> ADDING IMAGE SHOWING HOW THE WEIGHTS ARE DISTRIBUTED RELATING TO CLASS </span>"
   ]
  },
  {
   "cell_type": "code",
   "execution_count": null,
   "metadata": {
    "id": "Ftmm1ibhcyg-",
    "pycharm": {
     "name": "#%%\n"
    }
   },
   "outputs": [],
   "source": [
    "# Here we retrieve the weights of the Dense layer (related to the right class)\n",
    "right_class = first[1][1].item() # Change the second value to change the example\n",
    "w = net.dense1.weight[right_class].reshape(24,24).detach().numpy()"
   ]
  },
  {
   "cell_type": "code",
   "execution_count": null,
   "metadata": {
    "id": "CBtYtKEBcyg-",
    "outputId": "eda374d2-89f9-4e00-c183-d7d8914df640",
    "pycharm": {
     "name": "#%%\n"
    }
   },
   "outputs": [
    {
     "data": {
      "text/plain": [
       "<matplotlib.colorbar.Colorbar at 0x7fe078037fa0>"
      ]
     },
     "execution_count": 19,
     "metadata": {},
     "output_type": "execute_result"
    },
    {
     "data": {
      "image/png": "[encoded data removed]",
      "text/plain": [
       "<Figure size 432x288 with 2 Axes>"
      ]
     },
     "metadata": {
      "needs_background": "light"
     },
     "output_type": "display_data"
    }
   ],
   "source": [
    "plt.title(\"Dense layer weights related to the target class\")\n",
    "plt.imshow(w)\n",
    "plt.colorbar()"
   ]
  },
  {
   "cell_type": "markdown",
   "metadata": {
    "id": "ySFpd7uncyg-"
   },
   "source": [
    "## Question to participants : \n",
    "\n",
    "Do you see that the model is learning the right thing ? (i.e : does this look like the right class?)\n",
    "\n",
    "(Answer -> depends on example, don't hesitate to let participants try other examples) "
   ]
  },
  {
   "cell_type": "code",
   "execution_count": null,
   "metadata": {
    "id": "IH_9w4_Jcyg_",
    "outputId": "e8a02653-f578-43fd-a5d3-ff1f758b7117",
    "pycharm": {
     "name": "#%%\n"
    }
   },
   "outputs": [
    {
     "data": {
      "text/plain": [
       "<matplotlib.colorbar.Colorbar at 0x7fe0e07dc8e0>"
      ]
     },
     "execution_count": 20,
     "metadata": {},
     "output_type": "execute_result"
    },
    {
     "data": {
      "image/png": "[encoded data removed]",
      "text/plain": [
       "<Figure size 432x288 with 2 Axes>"
      ]
     },
     "metadata": {
      "needs_background": "light"
     },
     "output_type": "display_data"
    }
   ],
   "source": [
    "plt.title(\"Output of convolutioned input multiplied by the weight\")\n",
    "plt.imshow((out_conv*w))\n",
    "plt.colorbar()"
   ]
  },
  {
   "cell_type": "markdown",
   "metadata": {
    "id": "7bt9c_yIcyg_"
   },
   "source": [
    "# **Integrated Gradients** : simple, yet powerful explainability method\n",
    "\n",
    "*What is it?*\n",
    "\n",
    "Integrated Gradients is an axiomatic model interpretability algorithm that assigns an importance score to each input feature by approximating the integral of gradients of the model’s output with respect to the inputs along the path (straight line) from given baselines / references to inputs.\n",
    "\n",
    "source: https://captum.ai/api/integrated_gradients.html\n",
    "\n",
    "\n",
    "The integral of integrated gradients can be efficiently approximated via a summation. We simply sum the gradients at points occurring at\n",
    "sufficiently small intervals along the straightline path from\n",
    "the baseline x' to the input x.\n",
    "\n",
    "![Integrated grads.png](data:image/png;base64,iVBORw0KGgoAAAANSUhEUgAAAj0AAABsCAIAAAAOvpQtAAAAAXNSR0IArs4c6QAAAARnQU1BAACxjwv8YQUAAAAJcEhZcwAAEnQAABJ0Ad5mH3gAAC0dSURBVHhe7d15OFT7Hwdws6Oytae9qNumfrqVm4rqqu4tSzsJUUISqciVSrlt2rRoTxGJq6LoqezRwqNSxCPEk/UhHstj5plzHr9ZzjArYwxm6vP6q3POzDjnNOf7nu9yvkehFQAAAJAfkFsAAADkCeQWAAAAeQK5BQAAQJ5AbgEAAJAnkFsAAPmAVCSfd7be5u6529F6m9+9oANO/sn12LbWpnfnHbdsM/1jvmN47ufwQ87Ou/e42piudo8ooIm3PeOim6Ozmf5C58ivXx/9u8fzwD97bE1M9sdWoqztTC2FsSd32Ng67HTb7bzJzOJgdCEV29KKVib677B13LXL1ni53Y2sj8F7LK0c3batXX84obb9A4B0QG4BAOQAUhiySVvzzzMfm5lL1Pc+umS82ppQLLeQogvWrrFN1ETncSSViatPv2Otp7/3maU6/0RuZ9uRVvRboJ37s2bqS6cxJNUJJiffNbaiVbeMVYkjtz9nZxNa9cJrvqbW+hs5Laxleu4xPbVpe1Ox3TlhsTW4kM74Jy1510Ql1WkO0TX04oDF/YhabqnsYBQKrXkXk/QNwZbEh1amPUkt7/r7fhKQW0AuoAhCpyO/7HUqKTHOGrW6IDMl7mHEw7iUjNySmpbeqhx07T8U+XLWUK3fQv98zjuqb/zdj2Jw9ht7d9Hyqw77ElvQiivLlJUWB5RyDuLH9RUUypKLnW0vZ2+nohWBRkqUP47nsf4K8j3lfuQ7dnULKbq+arDirAMZbRWsVmrizvGkMU7xjDXN0a4217BdaY6yHESavDedEVa04oTQqKwazh8TgJRGORmZX81t/0zxId/Cty2zup3XQSb+xCC3gBygvnAYTVBQIC04XSyyEAAC6m7+TVHAD7F5zK4h8KFXpFxwXD5tEBmn0A5HGTxl8ZYjkZ/revZEc3YNW+xMy0unscR+RoFlnL1qfmQ9lDTdK4NZw2nXGGkxkKx7KJuzlvbGYwqRvPgCtihyexm23BRlOZj8v4MfeT+VoSXBeTxRefGFEq6z0hi+Xo0wxCaa9+TS3uz7jTTcNkboKefR+Oawof6exB/YYtc1vz9mpO/2QnQu/rwgt4AcgNySiOjcQstjPeYPIeEUcIrDdc0cvY+du3j+1JH9DmsXaasRcQqEEXZPJakEiK9ruUV/f0CHRJpzNJdT26K92q1N0twWx5cZSS4TSGN3JHB2Hfl6Sp9MnLQnHVsWuR2rtNBSXLUYNaiXAofO/vu6vp+5Ao2a4DyOGWVYNQuDFJ7Spwwwvl2DLYv0I9Zhqu6+1CZsUTL0nFOGk8zDyn+5iwJyC8gByC2JiMgttDrWZXo/nAJeRccuKLsBW4tBaj+E7F668SJ3zaIHdC23WDGlbhHJOQ4k128OWcXs7o/WluTjx56xupgYaz/7ziarbwjnHBGS4zdXccCi0+xWPzG2f/GbS1ZbF9Y21KMNPct7BknR5E4jtszwI8pKkzTWLpo96KK5NCe/hhlqNUEmA8jz/sU+kv7+nM8dYWey5fX+mWMsI2uxRck1J7tO0d4eV4ct/iogt4Ac6F5u0VJ8DGfoLPN7K9N9AT2wl0JzC/0eZj6SgMORte0etTW78evZ0GLoWm611kVtHq5iHMRuU6Pl39k4jlH9OZRNb37p6XTjO3tv0fJAIyXCEPMH7FfRC64ZjxxjdvUL53x2ur3q+l/9FA3PC8sZarrHVOUZXhnYa+mlkbaThs33SWHlBVpxy1iNyKj9UdHvN00GElXW3WclKb3ghq3d9UJOHbEdUnB+sYbOP5kCzZESQApOL1TTPZgljc+SH5BbQA50L7eoT+1G4AnjnBN7tumrm3pgL4XlVnOSixZRAUfUcnrelz/Su5hbrWhptPti/Y2+ly8e93D2vJka7Tl7wlJ3Pxf7E2mc6lNjhPlA0m9rHGxsvM5fPrVn4/J1h56VcYVGZ9upcdtG9pvn90l4AjR9uLJ5vr75gfMBfu52Zn+t9QzPaWvja0zy0ptu6nPx5G4796CYC2vmLnM9e/G4u+224wlVQr6vzC4w5TlHcwQDTRJoWeAylVFbY7vX4ihnILeAHIDckoiQ3KoJWaOBV8ApLzrzVTrFpoS6mlsstNqi/NIGbL+RH0W5xXXtB8Ea3jeKOWq9qSIv73sj/xels+2MT6wrLeX6QCGQxrK8LyX1Ql6DNJTm5ldwznNzRV5O8Q8RVSBmLxpF58B7adWQkKLTC5WG2Tz+lYILcgvIAWG5Rf8YaGdqsvHkKyq9Iu26p+WK+bq6cw3Ntp+MLeKU/EhJzHF3V1eXNTP64/BquhtcXFl2H43ibrxp+Bzuu81s4VRNdXXNaYttTz4vEUiO+k8Rx3Zu+muBnoHx5j0XE/LyU0LP7Lff8Jeh3h9OEaxmJ/qna9tMTSz8mV38zUUvL+2zMVtmHfiF9WdaSpJveJob6owbpq6qMXLqfGOn80lct95Iay/R6rfBfi7mf86bPX+5uevpRzl1PwRyq/E/y8GM2KIIbw0TrhuHxiF617AXMCGVrwJ3rzOcNlKtf3+1YWMn6S7dvP9ybB5f/5so9E+HdUlqa+6JqkR2tr3XMHeEMtL+WQc/T2jlbyMD/Y+fvfOygH30SFXWw6unT14ITfmG9eVxY9bfKFquKZwGz441leUXVgv8ceFrZRbkFpADwnKL+tJxDAGnssrL12gEZYDmpKmTR6qScAoKONI420fVrJfR33nNoBCJRAIep4DD4QmMfzJRtN041zhaFu08cwAeR1QbP9do5bJ541UJONLYjew7SNnQqli3WSp4nPLI/xkY6mlrsP6G8jDt6bNmz50353cTf9YPZ1rSzvEEvLpF2Ic7NlP7M0eW40gzfZibWh5ZDcLjCAM0p/9htHqThclsTQoOR9HaEoF1y0hnL+lf71pMoDB3DUdS1dT+beJgZaXRBgu0iDy5RX+3fxpJQYE4uW0InRi6cWgsHe4a9hpGLie4T1PG4ZRH65lZb91qs2Gl/uRBZBxp9hFxmtOoNV9fev5OIem4xeZXCinZO9vei9DKq8uVKYsviOpapBeGu62zOhiSlJEW6WkwWsflyfePl7du9rmf9jH+xIqRw5ac4x7UyNYQukaVPO8YZ3xJB1pSPKYr4/AaSwO+YGuYuNaKcbJlAeQWkAOic4tRzKvN80qoYl1vjZ+vmo0kKOCUFl8oZb2GrTnYTAknrAUOKbz69yA8XnWO+9MSdjlOK43ZOVOZMNA0iFOu1D/dOoaA1/jzTDarHQYpj7afRMKrLD5fwHOJswp3nLL2tIkUvJqO5bHwlJyKZtZH0N6ec9x383Ulp7RByh5sYhwMYYz9M67had3bS+Zduap4BbzKNMvzKRWsv0SvSPrXaDgBx5NbLU9sh+GZ59G/SPwCqnuH1smusV7DUBdspoIjTtj2lGuIHa3idVhM271WHaBnh/h4evsc8vHev8/rVkZ7qyims+29iTXWXuRtBo2pB9Zsf1CC/ec0hq5RIWlqzbMNr0JbG6OYVWX8oM0PBfafluY+iTTEmrsbU4Tq28YDGL8gCKMdXmBrmLjWYruFVqdcObBv7x6x7d27/9+oPDH+r6QDcgvIAZG5xao7pLWXAbS3nlOJCoSxO+KxFUyiEqE5fgejIqG6+BzP9dbyzkuHpPTnJXYktDy2GYInjN/Z/l60/NJSRRx5/kmeDiJW4c6oiuBV/zj0upOmLfp7n5kkRunuyHOjUDf2soX5EkaRZnyTp/UPyT06h8STW6w+NMZ51O9ybkl6aJ3tGmc579g8kgJJrDqDfGu8t7o/afo/fDdMsyFfTplYBLXfjVV/17Qfjqi1K5l5Muk5N7eabNwXlsP3/WBAi08vIDFvn+Y+xcLRCmNOeXoHpnBNusggsFaC3PL0+w9yCwAuonOLMMIulutCRkvOLiIr4AdaRmErmEQkAnOuOgJO5a+A7CIeBdFO2iTOz9qaq8soCqS5nBtymFoebh6EJ/L1J2CFO2mq51vBcoVf/a2VFEat0PQud4VL8r1k/NzWZoY1a8ohLkjBiT94c4ue6T2D2U6o7Z7G205Ie31sld7cdnor/21rSezOoXW6a9hya1PsVkZNGa+ma+sfmV5Y12sFYG9DKy4tIYvK59qHR06+aq80MatRRMYX/En7KhGqryyj8N0W/XOD3AJyQHRuYT0tHGjpeUNGbmmIk1vVV4wojGqEcGTmpHWMF1Gf2Y8kEDRtY9obvvJP/EHG8d/nwy7cidq7X/EGAjekvvTz6/iYyLAbDrqM9KCsus1de5F8LxuCjBVxOMW/b/KNORDMrdbmaJtheAUceRFnYj8MLcVbX1uLZcxACk6BoLm17edAdw6t013Dlhn/c2UPt/2mxOw9U1DAEfsPn2poc/w51i76E0GLzywki9dOixSdXkDGqZje6fzu5MagVRRRlbifEuQWkAMd5NZs389cRUAXcgstC2C8lDjZ+mJomKDw+Dx2/z319f4ZFJzyrJ0xzAF8aF3m2b+HE/CDzIJ4xh5ghbvwBriWoufnnE1mj1ZhDulgFst4PJ7xL7FyS5y9ZEUbbsDaML4RB0Jyq7UuwmIII7iUFvjz9s+1oWd565CE5JZkh9bprmHLLEhNZrD3JkOdUWokHPPjcISB8w+94ukEZEJRnjMvXzj1rbb5gUX7cddMFUfW9xdy4zK/2usrGPWtwyJuPfsJQW4BOdATudXa8th6MJ7AuqOnA7R33joUAoGAwytqjBw9pB8Rh1eZueMRb2pxCnfywjO89RhGUCR5z1XH4/tPWLL1UOCD569zvtdRG+4YM+pQ4tW3xNjLlqhNGnjG3+Y6OSzCcouRwx5TGbFAnGAfy543go+o3JLs0DrdNWyZF1KXn3DngPF4Cg6nvOg0d8Ci30M2jVWb4ys48628YPdv8U8ILETLU7sRBOIUDzHmT2FV4siGAfxfSsmhNa9v+/kc8BbbgQOHzjzpvVsCIbeAHJBGbo3mHQbBUBu6diCeMHLL4w7u6aGlumlRpnu+eHPff7+TjfV2zxO34ouEjKQWUbgjRWcWKeKIk5xfcocEs1lHRG5JspdoScBiJRxOZVkg701ZSM6R2QK51YpWR2+dyEgu0kSbyFLBgkbs3BLr0DrdNWxZmOanWzUJONUN4VynG62JP+lyIDy30x4fmcUaTzjc7mlnR0BL3zuZiB+2Jab96FtSvGxOCbstgDmtPWmw1SPpnRW0Mv7cHpedzuLb6eoT1nv9a5BbQA50L7daIi3U8bj2SbrpdT/YsyW0pO+focgowK3uF/NccQ3ZoefDc1mrWqJthpJGW0cJm6+Hm4jCnXW3qwJppncmVxrVv9yhRRTIrW7sJVp2c5UaHkccvSGooK3sQmte7JpG4R0Hj6lLPjBPDa+A6z/V6loW3wNLxM4t8Q6ts13D1rQ2v424l1HNXSajVcGrNRiB3Ul9WN6glVeWKTHqRoJj/1oyz5pOGTvL+RHzwST0jH+mkxTIBufa8h6tvGu56oTQu9kaw9aKef8WWptyyupvE6db2dxfCeFrZRnkFpAD3cstdgmLU9Qy3X/82D8Oq6YOXcIZVNGc6b9kCAFHGjp7veuRS3fv3T5/yMn0f8Mobc9VQqvCNgzD48ga46bNZJo163+/z1+62m7f8TvJJVxXuajGNGqKqzYRhyOPNHA4Gng3NPjSoW1G2ip4Zl8QX251Zy9badn+BuqMJCKoz9rg6X/t9tUTO5dPUFPXGIAXlluskspv2ShGdODIQ3RW2e/3O33+7Alfb9ctxn9oMe+sFqedUMxD63jXsBfRM7ymkwiqExas3+F97NyV65dPuJtNUcHjSNq7En+y+Yvo2Yd0KcxJeLFlDuZDVogK+EHr7lWjaPl9W6NFszUobXdb0PJvbVnv91ZITZ998igTd4kxXwZaGWjEvAMcP3RLNLaKgXutnAQX5BaQA93LrVak4OrKoQTWyAEcXmmE7mqfGM6tnYxQyL2/Z7mWCpG1mTmWTWWCoZ3/C2woW8O7c3+P5GzjhR8w3T6S84h1UYV7K1r93GOuBvuPMz6dPHDSn07nDhoPwvPnVnf2kgGtTDhqrK3GHh+BIw2etcEvLvVfPcF2wjboj6ygfWvmaCozR1Kw4fBkDe1FmzwuPP5Q1fbJ3T60jnaN85LajCDPdXNH928/1YyYnmN38yOWWmh14gkHO6dNhnPWXPwg3xUwZkBReIfBstQleumN13O6FHLd197cJfhLc/F9e93pK72v3b12xGmD9ZHnIh6zhX47Z6A03OaxwAAWIeg5gWbjVTVmOPxXjq1h4lor/E/IHMgt8EugV31KiI1LeP25nD3VA7+m7x9Tn8fGJb7Nq+IqFZvid2qR8ANm2d9K+VJSXsFU/r0o53VcyHG73wcScARN64diTHiH1BWkP4uJeZ764ZuwOVnbSbaXXGg1uanPnqfldmGqOaSx/Etm6ou4l+kfC6uaOtw9IcQ+NPF2jVZTkJn68mn0kxev82ra6w9ozX87bS7m0WnpeyZRpnq+5S/y5Qs1dbe2ktD54NH6wjcvX6YXtE3JS68teBP/IuVTheiThn6/slx1NMwHDwBgoSbsGEfAD7KI4KkXsaEVV5f3wwnewQukD624sd3tWROrQYw8xCJCjJ8KMg35clJfbZZgjUsSSOEZA3j+FgCAg/7JdzYZpzTnUKZgv0L9q70zSDglg7Ni3F4DpII5ZxRptH3cT1CzaErZPW2czaPuB3BzostkLftYeU/yroLcAkAktIr1RHuC2lRTt9N3H8enZb7PePXi4e0Tzn9pq+DxKrqeib9aidF36qOshpMm/ST1W7Q22m7ybK/XQgdaiI2WfXyR9voQ6d23JS8gtwDoCPoj45brX1MGYhNCsOEoQ2aY7A35WI+9CPQ4tOqOmbriXL8cpLUu1vdYgvgdeLKqPtXbYNH+FMm/Q81Zfkv0XOKYw+Z/NZBbAIiBVvv17YtH4SHBIeGPXmYUiXqWLegpLY+sBrPuUULyA6xcooXO9SFvkOLwrUstbuRJUoNESsK3LjG/niv/+S0JyC0AgOxDS0MtJ+pYHPV1sPaOkZfh2p1Dq9IfJnBupugCtDL1UWLpL/vrCXILACAfmivycoqhqgsgtwAAAMgVyC0AAADyBHILAACAPIHcAgAAIE8gtwAAAMgTyC0AAADyBHILAACAPIHcAgAAIE8gtwAAAMgTyC0AAADyBHILAACAPIHcAgBID1qZcsPPe6/L9u2nk4Q8JhoAKYDcAgBIUX1+atQ/BgOI45x/gmdkAdkEuQUAkCr6p8O6ZI0N4VDdAj0EcgsAIE1o+eU/lRSXXPz1nh4PegvkFgBAmhofmGuQ/nfwIzwnC/QUyC0AgBRRE3eOJ41xfMns3Gr6HPavz2Ef++UL7UJL2ZsB6D7ILQCA9NA/++qS1daF1dO+PT7kfPjxN+r3K8sHEEc7vsBeAEC3QW4BAKQGLQ80UlI0OBgR4Lb7SkY9cxW9JDEsKrMaeruA1EBuAfBrain99Llc2kPVGyMsBhKUVNRHL3I4GZJc1ISt/gX0yOkEwkFuASD/6jPvBCXXYQtioX88rEumLL7wHVuWDlqSywTSOOeEptpPkfv0B6rqHkhrwTb1lK4fek9oO51YtZKWFXo9uUpIHVPUBpFvAEJAbgHQW9Afmbc87e13urnvdnOxs3I89aKEhm1q1/I18X5IsEghkellCPZSNrTmpZfppkvZXQoIeobXNNIAw7MFvJ/VTUjOkdlkjY0PWHduNd41VSLrnypEWumfL/vdK2O9QrokOvSeIHg66YXBdiu2PygROL+iNoh8AxAEuQVA76C+P7V2w5lMzt249LJY1zmT1wUxynUeTXnx928dWDGCgOs/1/nqvTC20ODbV/y9LGcPIqpb/MddTNO/XFo5x/5JLbYoJlr6nknk8Q7PO741GKnML6jtQhUArQhcpqz056Uy5nvQqkAjRbWNEc2t1HTvLSc+S788luzQe4Lw09mU5jl/wcHXzdhiO1EbRL4B8IHcAqBXNERaDCYO2xLNFToNj6w1h64NqRSIhh/BZqp4JaPAcr4taPnl5TP3pLVX0pCvl1dMtbhf0cX2JWqyi5bakoCvHWcJ/YPPXKMAVgiJh/p8+6j+C/3z2R+Lfo+wmzpzo6/v9i1He6AhT8JD7wkiT2fdM4fp8w5lClaqRW0Q+QbAA3ILgF5BzQ7a534pjbv+gpZfWExRMb3DX2NoidumSSDN9hWso7TE2K87W9z2Ec3xO7R19r/r6h2+LS8cx2vviG/EFkWhZ3nPXnK2pAvBgNaXltRy7zS1+mtOYa04xTDta/LLHKHVP6Q8/elrgWyX8NB7QgenEyk4tXD0+jDBwZSiNoh8A+AGuQVAb6LWFmYmxadmlzUxc+viEjJJ58B73tKXnuE1nUQYvzOJU943p98NzWa9hhp/9MjzthpbI6O+Ns3jTVd/nTc93Tpl+aWijitbDF3PrW5oeu27QHvJsTesofPtkO+PHGdpr77FX5eR8NB7QoenEyn0X6Dx1zXBWqGoDSLfALhAbgHQK9DqdzfdTJascQ8IexIXfdffw/PmuxSPqUSS7iF2JnGgxWcWkfEDzSOwH/BoRbC5ySkhAyio8U7jhlk/FhiUgFYm+u+wddy1y9Z4ud2NrI/BeyytHN22rV1/OIFV22vIjHj4UYyhDL2aW4zdrkn01tdeerw9upDvDx1maZtcyhbo8ZH00CXRvdNJS9/7m8baUL44ZhC1QeQbQDvILQB6Hv1rsKX20Hn/pPxoKz3p2f7bF+lQ8CqrQ3g7f5idWzjCyCUOHp6ennt32SzTVp+y97VgzQItPr2g3+9Hc/kCjfr+hMXW4EJmFNKSd01UUp3mEF1DLw5Y3I+o5ZbalQqKWLllbW29seuePHmCvZ8HWpt0YAEWXUhp1PZZ2qZCQqsXDr1dtz+z5vqK/r/tE/L/h23AltqJWg/aQW4B0NNoWb5z+ivOPsw71SyzGCTiFBee5h1RyO7cmuEa/f7jx48fMlMj3f+YYBsjpPCmpbhqKRtdqcYWMc3RrjbXvrGzpjnKchBp8t50RplJK04Ijcqq6VKdQ6zcunPnzs2u+/TpE/Z+fmhtss/CSUs8/Gxnapte/iR8bF2PH3qb7n9mC+NdGhaRghUybAO21E7U+j6HUKnCG0N7H+QWAD2sIWrzUDxZ/xRfH00To3zCKxuc5e0ZYXdujd3R9tDFxnA766AabIEb9YXDKGXjINGjK2hv9v1GGm4bI0aTIEPjk50zRmmO4DZEhUxRG4YtsGmOW3i4p3uVaNlH5igRBq8JFtnJ041Db37urjua9zD5aGpOXBWQi72cS9dOZxtq7FbNAavvCQYwtgFbaidqfR+i1eTEnrebPXzphS6MLu1JkFugA0hDZVWTbHxT5RftrccUInEK/yCCprhto0iam//jHUzI7txS53roIr2soEhoAU17tVtbeflVYZHGghSe0qcMML4t8gWd6eX+LTbkW4SdzuQ1p294zJ9o4PtK+Pj5Hj90IST9TGb1aaiQrjjOBmypnaj1faM5/uj61eYOPv/a6JDIC89gVc++BrklKbTmXUzSN1mpN/eIliQ3bTJpxKYHXEUrWpn2JLX8pz5saaO93vsbkfLXjR/YMgtSeMlIfejKq/zj5Fh3bikuvSjG71q09JxBP93Dn3gaHxkFTWlOfg1zXU2QyQDyvH/z2H+B/v6cz52uZVDv5xYrtH5bdyOXUdlkDdPQMhQaXT1+6O26+5nM26/7CQwZZeBswBbbiFrft5i3bJAht+QcUhrlZGR+lXl5/byoCTvGERQI4xxfcLdxIN/Cty2zup3Xw21FPxNquuf0ftM837afsoZ3xwxHz3B4KPBI4OandpoE0iyfDwLFnBC05F1ag80juOeuRStuGasRNbfFUdHvN00GElXW3Wf959ELbtjaXeefmqMTvZxbWGjd/NJ2VTGHaehrGx5NE4iunj50jBQ+k7mnQy2jBCcYFrVB5Bv6FOSW/Gt8c9hQf08iz+/nnw8tzV2biFOc6/eZvwxtfn/MSN/thYQ93d2B5F6zWWywSDyGa061RUXj6zPbbZ0slhvtDC9qLoo+tnvX7r37dm3662+3iCJ60+ewg66ue/a6bTHSW+YV2wO3zjR9CDTX/X29b1B0XMz9S17mhos3+yfxTqLalHJy8xqTRZOHqqmpac40Mltr7vOks2lWm+O2jdHelcz9E6IxyUtvuqnPxZO77dyDYi6smbvM9ezF4+62244ndHnS1l7NrYb43bOmrL/VHlpszGEaCyatuMQ/dLCHD52j25+JfPGbO3h1iOBcVKI2iHxD34Lcknc/Yh2m6u5LlbHfQ1LHGh+AH7g6WHAWIsbGnFOGk8zD+Kch6nktWUf0+uMUFPBqhifelFXwKCspKsjJSnkacnbPGh0NIg6ntPIW+7cFUnxpi1tcE/Wl0xjSaD1Tu/MZrN4jpMhfX3HEn5Z2LndyWd0PtNf7flOc6SPYpiMN9JqcxIf3gsOikz+UNkrpxFHT907Tdk7g7TtBGkpz8ys465or8nKKf0h0RL2aW0j5xywhswwzoHVfMr7U8e9Fzx46l259JvL5yNzxdjGC84CI2iDyDX0Mcku+tbzeP3OMZaSs/RySOvqnw7okotauJN6CoU1zsusU7e1x0p92rjO0j8f1VfCM5Bq04rLoycxp+bfMNCmzfFgjz9Hyqw77EqloRaCREmG01X+cJKZ/8JlFIk/fk8oZ9kB9Zq9JniobkweJBy29s2aK2a3SHilNGN8BveWXOq9+9k1ltkcPXUrqY7f/b1kANl8jN1EbRL6hr0FuyTOk4PxiDZ1/MuWnYJMQkn9cj6zcNkWqEEjB6YVqugezev9U0D6fNlRjJpf6knO5Iv88UnzRaALPLLZNUZaDSTO82/7z0Iory5QVDdqn+2Pk2EzSIItI0cOrZRDyLdh8vvWDnhmf3FT7Q8TvlnZ9V5nt0UPvPrQ2frfhqguCX1FRG0S+QQZAbskx5h0cynOO5sjezyEpQ4vPGigPNQ/vaMwvWha4TGXU1tg+aDClfwlYqs5MLrVFpz4JbVtiQMsur1x1qb0pk3mvKmmsU3xbB0pT1ObBZK6ClFnFJKuvvSd3demGt6fMzU+87puZgfq2Mtunh94hak6g+UqP54IT5IraIPINMgFyS34xSz6KsCGtPxtGJBmpTtmb3vFwSaTo9EKlYTaPxQkutCxyn/2Z9A6aFemFD/ZuPftOVArxQQoCVwxiJBduwB9+70XsJv2d9zqvtpummP3dZDWued+Y9wCRRto/47yb9ei/weYP6lqR3CuHb0k2AK2vUAtiIgVH3fWivqvM9vmhC0X7FB2RJWyvRG0Q+YZOSfvaEgpyS24xf49TuAo6QbTyt5GB/sfP3nlZwO5YRaqyHl49ffJCaMo3wfvl+0rne1kTZDpiaUCnE4Yzq58ULdcUca4HWsFd84kjFom4kZReeG+z9pA5nvHij1FEim4YD2EmV7/ffd4KP7lIQ3Utp5kLrbr+Vz9Fw4C27hAk79g8slr73IBIwYk/KIM3/deI1r/YY3mcd6pb0ImftzIrB6R+bQnBvGOOTJrPfHq1LIDcEhtaeXW5MmWxqJlO6IXhbuusDoYkZaRFehqM1nF58v3j5a2bfe6nfYw/sWLksCXnBMaT9wHx9hKtL/xS2mnHRmtrQ+gaVfK8Y9itmJ2h5QdtmDB84eHU9rllWbALa9+LLo5WRkvurB5OYCSX0iyvtM4qfdS4bSP76R1rb+JtDF2rqrriavsdVC1vDuuNW+x20tPWMfCDGAcP2v3clVk5IO1rqx09+5rjxg3rjOdrD1ZXHzxRb9Xa9RvsLmZ0p+4mBZBbYmP9pBxh91Rodasx9cCa7Q9KsMuxMXSNCklTa55tOOPr0hhlORivgB+0+WGfF4bS3ktamvsk0hBhc9iIQMu7vX7CsAWH2qdFZ11YQ+d4SHRhod9DN2gyk4syfU9yJ0OHkbrS0jru4pJWU1LGNx6d/qM4J69CdmrG8gIqszJAyteWbIPcElvjvdX9SdP/yRByzSFfTplYBLUPAai/a9oPR9TalczMOHrOza0mG/eF5QgGHor25hdK0r0Ujfk4CRJZZBVUKOqXm+vGD9P3Sa5FsQtrrudLiTuj0fIHlqMIOMKItXd7bV4HwA8qs7JButeWLIPcEhdacWkJmSS8Uaz24ZGTr9qvRmY1hEgYYfekowsU/R6yaazaHF/eZ1v0JEn2shPVV5ZRSLq+XWwBpX65sXbc0D+cvTZ0/8JCiq4bT9A7kNpBrzTocVCZlRXSvLZkGOSWuNDiMwvJpAX+nT/eHCk6vYCMUzG902EfNFoTf9LlQDj73hZRkKILRqoEnIJYcHjyuB3PsXd2Sry97ERj0CqKiDpoxxri7McScAMWn+efV7ZL0NqEfXr/s/tPYJo/NqSuoqqvy8mWlpb1AEhk48aN2NeoK7pzbTU1NWF/u4vS0tKwj+gVkFvi4tS3Or+X/cddM1UcWd9fSp3PCLWlWSwtLbQu/LoSey87asysvb6CUd8SmJe7E7SvIZu0h8932mMydtiiw6/4upLF1vIp4G+dVRc/i2rZpGf4rPdqf84sWplyw897r8v27aeTpDyNTgcP1KPT6bcAkMjt27exr5HYunlt0Wg07G93UVFREfYRvQJyS2zs/i2vTusWLU/tRhCIUzy4pv+WQeLtZSeNmaw6KNkwQER9RyjGhWWpPXzBQWb3cUvO9dVjhy3k6koWG/o90k5X/59k0e2DaOV1M2Pu54HU56dG/WMwgDjOue2ZjN0mcw/UA78wKV1bcgByS2ys8YTD7Z520h1ES987mYgftoXryeotKV42p9o6rdHqxBMOdk6bDOesufhBagVoF3W6l2ydNGbS3nhMIQ22eiR2Dxm9MNRKezi745iNdXkNZVxqbWvEUf/KZ5HuloiO5qZDSy4vH2fFOzqSdRORBtczGbtDNh+oJ0vQH5m3PO3td7q573ZzsbNyPPVC+MS5QBqkdW3JBcgtsaGVV5YpMSoXAj+sWzLPmk4ZO8v5EfPGPnrGP9NJCmSDc23D29DKu5arTnACAa35b6fNxTw6LX3PJMpUz7dd7hmSVJf2UkyNYWu7cP8WvSjMetII7guLjX15Ca4XhfblqtmsvwOyO0pLau51M00yX88bWn75TyXFJRe7Uj3slIxNJCA7qO9Prd1wJpPzG4FeFus6Z/K6ILh1qydI69qSF5Bb4qNnH9KlMJ8hhy1jaEkuE4gK+EHr7lWjaPl9W6NFszUo809inaK0/Ftb1vu1TeiAVtzY7vasiXkf5nTyEIuIXhsG16W9FBPzICgTd4k1Xwa9+L7N5BHzDyQJvYBYl9eQ+WJcXmhFjOOsmXahn0pK+ZUUF+Z/epcUfcffzWyaOgGHoxgF8ty50vjAXIP0v4PSHcEJuSVcQ6TFYOIwnomNGx5Zaw5dGyLswTigG6R1bckRyK0uYJb9FMEZresSvfTG6zldCrnua2/uEvylufi+ve70ld7X7l474rTB+shzwcdUtcTvGE8abR/Xi3PSdm0vxWnMRL+dM1AabvNYnBnn0NL7u6z+7ejSacm97bjpRPswCqHQ0lsmzGkJxYIfZsszxp+auHM8aYzjS+bhNH0O+9fnsI/98oV2oeytkoLcEo6aHbTP/VIa9/8481RRujmCFQiQ0rUlVyC3uoKaultbSdh88Gh94ZuXL9ML2h4oR68teBP/IuVThdAyvz7KajhpkntaL3+RxN5LsRoz0e9XlquO7pP54CVC/+yrS1ZbF1ZP+/b4kPPhx9+ojAMYQBztyNra+HSnzijNEZ3QHLvwMN/lD7nVIWptYWZSfGp2GeNrgpZfXEIm/QoTU4MeBrnVJciXk/pqs7r5DCG06o6ZuuJcP0b81cX6HpPe4DZpEasxEyk8Y9A3z9+SDFoeaKSkaHAwIsBt95UM1kR69JLEsKjMatZmiUFuCYdWv7vpZrJkjXtA2JO46Lv+Hp4336V4TCWSdA+xp3lCKxP9d9g67tpla7zc7kbWx+A9llaObtvWrj+c8DO1aMmhvnkOaJdAbnVRU8ruaeNsHnWnX6rlkdVg1mgGJD/AyiWa/Sh5GdRhY2ZzostkLftY+ZmmojHCYiBBSUV99CKHkyHJRVKrJUJuCUH/GmypPXTeP1yDsOnZ/tsX6VDwKuxZC6nvT1hsDS5kJhgteddEJdVpDtE19OKAxf2IWm6pP1GLltzpu+eAdgHkVlehtdF2k2d7vZZ8Iga0NNRyoo7FUV8Ha+8Ywb4vWdFRYyYt+/gi7fUhUh2Y17OYfZOkcc4JTbWfIvfpD1TVPZDW0XhE8UFuCaBl+c7przj7MO8AGGY8EXGKC08zRxQ2R7vaXMNOWXOU5SDS5L3pjC8arTghNCqL94Eb6I/U8+7+ifLzC0m+9e1zQMUFuSWB+lRvg0X7U7rzkNXmiryc4rZ+JhnUUWNmc5bfEj2XuG49z6eXITlHZpM1Nj5g/XRsvGuqRNZnPkqI/vmy3z3WC8Ts3xq38HDbkyjZILf4NURtHopnnF++aYaaGPGEVzY4yz9RGvMpbqThtjGifkYgxQ+8dl5+Jy/dqD+JvnsOqFggtySCFIdvXWpxI+/nbc8Q2ZiJlIRvXWJ+PVfmeuU6wvj1uExZ6c9LrHvv0KpAI0W1jRHNrdR07y0nPrNfIikZe6Be36O99ZhCJE7x4Mv3prhto0iam//jH0yIFJ7Spwwwvl2DLQNZIOvPAYXckhRalf4w4dtPW1iJasxEK1MfJZbKcEVRKOrz7aP6L/TH5pZEv0fYTZ250dd3+5ajHUwU1QnZfKBe36O93vsbkfLXDZ5+W6TwkpH60JVX2+pgzaU5+TXMr1FNkMkA8rx/sXvX6e/P+dxpuxmeVhTt7+Oxc9d5ieewBBKR+eeAQm4BkWS+MVN8aH1pSS33xUWt/ppTWPvLh0xPoKZ7Tu83zZNr5suGd8cMR89weMjpD0UrbhmrEZm38KPfb5oMJKqsu8/qLqYX3LC1u84pBKnvju3wf9+QfVh3MLNyDHqN7D8HFHILACBdTR8CzXV/X+8bFB0Xc/+Sl7nh4s3+SdxTlzQmeelNN/W5eHK3nXtQzIU1c5e5nr143N122/GEtpehPzKSsxpoWQdmDVsd/PM9sVeWyf5zQCG3AADSR6/JSXx4LzgsOvlDKd8TJFmQhtLc/ApOkSeqat/83GH82K2xja0I0ttNUb8ymX8OKOQWAEBGNUZZDp/s/opa+5+7R3TfjFwDsghyCwAgo5peuk773drXy+lAZDHUt0AbyC0AgOyi1pZVNUHvFuABuQUAAECeQG4BAACQJ5BbAAAA5AnkFgAAAHkCuQUAAECeQG4BAACQJ5BbAAAA5AnkFgAAAHkCuQUAAECeQG4BAACQH62t/weFsXt88SGwKQAAAABJRU5ErkJggg==)\n",
    "\n",
    "https://arxiv.org/pdf/1703.01365.pdf\n",
    "\n",
    "\n",
    "*Why is Integrated Gradients superior to other interpretability techniques?*\n",
    "\n",
    "-> it satisfies the two axioms **(Sensitivity and Implementation Invariance)**  that every attribution method must satisfy, but most known methods don't\n",
    "\n",
    "-> it requires no modification to the original network\n",
    "\n",
    "-> extraordinarily simple to implement\n",
    "\n",
    "-> can be used to debug networks, extract rules from a network and enable the users of the network to engage beter with the model\n",
    "\n",
    "\n",
    "For an easy-to-follow introduction to this topic, please read https://towardsdatascience.com/understanding-deep-learning-models-with-integrated-gradients-24ddce643dbf\n",
    "\n",
    "\n"
   ]
  },
  {
   "cell_type": "markdown",
   "metadata": {
    "id": "VY8gL0dQcyg_"
   },
   "source": [
    "Now, we'll prepare the right environment for implementing the Integrated Gradients method, using **Captum**, an open source, extensible library for model interpretability built on PyTorch. \n",
    "\n",
    "https://captum.ai/docs/introduction.html"
   ]
  },
  {
   "cell_type": "markdown",
   "metadata": {
    "id": "U6yXJS8wcyg_"
   },
   "source": [
    "### Let's implement it using the *Captum* library"
   ]
  },
  {
   "cell_type": "code",
   "execution_count": null,
   "metadata": {
    "id": "U_wNOxvycyhA",
    "outputId": "46803f37-211f-4d78-f4a4-3409334d3040",
    "pycharm": {
     "name": "#%%\n"
    }
   },
   "outputs": [
    {
     "data": {
      "text/plain": [
       "<matplotlib.colorbar.Colorbar at 0x7fe100bd5250>"
      ]
     },
     "execution_count": 31,
     "metadata": {},
     "output_type": "execute_result"
    },
    {
     "data": {
      "image/png": "[encoded data removed]",
      "text/plain": [
       "<Figure size 432x288 with 2 Axes>"
      ]
     },
     "metadata": {
      "needs_background": "light"
     },
     "output_type": "display_data"
    }
   ],
   "source": [
    "import captum.attr as attr\n",
    "\n",
    "input1.require_grad = True\n",
    "baseline = torch.zeros(tuple(input1.size()))\n",
    "\n",
    "# create an instance of my Integrated Gradients algorithm by passing the forward function of our model (net)\n",
    "ig = attr.IntegratedGradients(net)\n",
    "\n",
    "# to compute the attributions we are calling the attribute method on the ig object that we have created above\n",
    "# by passing the input and a target index we would like to attribute to\n",
    "attributions = ig.attribute(input1, target = 8)\n",
    "new_attributions = attributions.reshape(tuple(input1.squeeze().size()))\n",
    "plt.imshow(new_attributions)\n",
    "plt.colorbar()\n"
   ]
  },
  {
   "cell_type": "markdown",
   "metadata": {
    "id": "AAtBupt0cyhA"
   },
   "source": [
    "# <span style=\"color:red\"> ADD MORE INFORMATION ABOUT ATTRIBUTIONS </span>"
   ]
  },
  {
   "cell_type": "markdown",
   "metadata": {
    "id": "VlaNLmcOcyhA"
   },
   "source": [
    "## Question to participants : \n",
    "\n",
    "How do integrated gradients compare with looking at the weights ? What are the similarities ? The differences ? Can you explain them ? \n",
    "\n",
    "Answer -> integrated gradients looks at differences from a baseline, looks only at one example (doesn't generalize), takes into account bias (not only weights) which our weights analysis method doesn't do.\n",
    "\n",
    "However I.G. generalizes to more complicated models, weights analysis doesn't. "
   ]
  }
],
"metadata": {
 "kernelspec": {
  "display_name": "Python 3",
  "language": "python",
  "name": "python3"
 },
 "language_info": {
  "codemirror_mode": {
   "name": "ipython",
   "version": 3
  },
  "file_extension": ".py",
  "mimetype": "text/x-python",
  "name": "python",
  "nbconvert_exporter": "python",
  "pygments_lexer": "ipython3",
  "version": "3.8.5"
 }
},
"nbformat": 4,
"nbformat_minor": 4
}
