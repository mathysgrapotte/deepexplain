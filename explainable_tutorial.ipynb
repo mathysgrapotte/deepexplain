{
  "nbformat": 4,
  "nbformat_minor": 0,
  "metadata": {
    "colab": {
      "name": "project_try.ipynb",
      "provenance": [],
      "collapsed_sections": []
    },
    "kernelspec": {
      "name": "python3",
      "display_name": "Python 3"
    },
    "language_info": {
      "name": "python"
    },
    "widgets": {
      "application/vnd.jupyter.widget-state+json": {
        "5bca862886d64d2a98f00b7afc9b9675": {
          "model_module": "@jupyter-widgets/controls",
          "model_name": "HBoxModel",
          "state": {
            "_view_name": "HBoxView",
            "_dom_classes": [],
            "_model_name": "HBoxModel",
            "_view_module": "@jupyter-widgets/controls",
            "_model_module_version": "1.5.0",
            "_view_count": null,
            "_view_module_version": "1.5.0",
            "box_style": "",
            "layout": "IPY_MODEL_fc337089e3b44eeb8becb891ce1cf6d1",
            "_model_module": "@jupyter-widgets/controls",
            "children": [
              "IPY_MODEL_46abebee1b3146e1aa0aee803d207a3e",
              "IPY_MODEL_8d5fdf4a4e4a432699b9849926d3b9b1"
            ]
          }
        },
        "fc337089e3b44eeb8becb891ce1cf6d1": {
          "model_module": "@jupyter-widgets/base",
          "model_name": "LayoutModel",
          "state": {
            "_view_name": "LayoutView",
            "grid_template_rows": null,
            "right": null,
            "justify_content": null,
            "_view_module": "@jupyter-widgets/base",
            "overflow": null,
            "_model_module_version": "1.2.0",
            "_view_count": null,
            "flex_flow": null,
            "width": null,
            "min_width": null,
            "border": null,
            "align_items": null,
            "bottom": null,
            "_model_module": "@jupyter-widgets/base",
            "top": null,
            "grid_column": null,
            "overflow_y": null,
            "overflow_x": null,
            "grid_auto_flow": null,
            "grid_area": null,
            "grid_template_columns": null,
            "flex": null,
            "_model_name": "LayoutModel",
            "justify_items": null,
            "grid_row": null,
            "max_height": null,
            "align_content": null,
            "visibility": null,
            "align_self": null,
            "height": null,
            "min_height": null,
            "padding": null,
            "grid_auto_rows": null,
            "grid_gap": null,
            "max_width": null,
            "order": null,
            "_view_module_version": "1.2.0",
            "grid_template_areas": null,
            "object_position": null,
            "object_fit": null,
            "grid_auto_columns": null,
            "margin": null,
            "display": null,
            "left": null
          }
        },
        "46abebee1b3146e1aa0aee803d207a3e": {
          "model_module": "@jupyter-widgets/controls",
          "model_name": "FloatProgressModel",
          "state": {
            "_view_name": "ProgressView",
            "style": "IPY_MODEL_9d6fb6ee431d403783b409887f1ff3ec",
            "_dom_classes": [],
            "description": "",
            "_model_name": "FloatProgressModel",
            "bar_style": "success",
            "max": 9912422,
            "_view_module": "@jupyter-widgets/controls",
            "_model_module_version": "1.5.0",
            "value": 9912422,
            "_view_count": null,
            "_view_module_version": "1.5.0",
            "orientation": "horizontal",
            "min": 0,
            "description_tooltip": null,
            "_model_module": "@jupyter-widgets/controls",
            "layout": "IPY_MODEL_489be8e91cc64b94a568bae1397007fa"
          }
        },
        "8d5fdf4a4e4a432699b9849926d3b9b1": {
          "model_module": "@jupyter-widgets/controls",
          "model_name": "HTMLModel",
          "state": {
            "_view_name": "HTMLView",
            "style": "IPY_MODEL_55ccddbcf8f84ebb99672427274cabd0",
            "_dom_classes": [],
            "description": "",
            "_model_name": "HTMLModel",
            "placeholder": "​",
            "_view_module": "@jupyter-widgets/controls",
            "_model_module_version": "1.5.0",
            "value": " 9913344/? [51:34&lt;00:00, 3203.55it/s]",
            "_view_count": null,
            "_view_module_version": "1.5.0",
            "description_tooltip": null,
            "_model_module": "@jupyter-widgets/controls",
            "layout": "IPY_MODEL_1b7a053b0879425ab3d98ceaf69cbf06"
          }
        },
        "9d6fb6ee431d403783b409887f1ff3ec": {
          "model_module": "@jupyter-widgets/controls",
          "model_name": "ProgressStyleModel",
          "state": {
            "_view_name": "StyleView",
            "_model_name": "ProgressStyleModel",
            "description_width": "initial",
            "_view_module": "@jupyter-widgets/base",
            "_model_module_version": "1.5.0",
            "_view_count": null,
            "_view_module_version": "1.2.0",
            "bar_color": null,
            "_model_module": "@jupyter-widgets/controls"
          }
        },
        "489be8e91cc64b94a568bae1397007fa": {
          "model_module": "@jupyter-widgets/base",
          "model_name": "LayoutModel",
          "state": {
            "_view_name": "LayoutView",
            "grid_template_rows": null,
            "right": null,
            "justify_content": null,
            "_view_module": "@jupyter-widgets/base",
            "overflow": null,
            "_model_module_version": "1.2.0",
            "_view_count": null,
            "flex_flow": null,
            "width": null,
            "min_width": null,
            "border": null,
            "align_items": null,
            "bottom": null,
            "_model_module": "@jupyter-widgets/base",
            "top": null,
            "grid_column": null,
            "overflow_y": null,
            "overflow_x": null,
            "grid_auto_flow": null,
            "grid_area": null,
            "grid_template_columns": null,
            "flex": null,
            "_model_name": "LayoutModel",
            "justify_items": null,
            "grid_row": null,
            "max_height": null,
            "align_content": null,
            "visibility": null,
            "align_self": null,
            "height": null,
            "min_height": null,
            "padding": null,
            "grid_auto_rows": null,
            "grid_gap": null,
            "max_width": null,
            "order": null,
            "_view_module_version": "1.2.0",
            "grid_template_areas": null,
            "object_position": null,
            "object_fit": null,
            "grid_auto_columns": null,
            "margin": null,
            "display": null,
            "left": null
          }
        },
        "55ccddbcf8f84ebb99672427274cabd0": {
          "model_module": "@jupyter-widgets/controls",
          "model_name": "DescriptionStyleModel",
          "state": {
            "_view_name": "StyleView",
            "_model_name": "DescriptionStyleModel",
            "description_width": "",
            "_view_module": "@jupyter-widgets/base",
            "_model_module_version": "1.5.0",
            "_view_count": null,
            "_view_module_version": "1.2.0",
            "_model_module": "@jupyter-widgets/controls"
          }
        },
        "1b7a053b0879425ab3d98ceaf69cbf06": {
          "model_module": "@jupyter-widgets/base",
          "model_name": "LayoutModel",
          "state": {
            "_view_name": "LayoutView",
            "grid_template_rows": null,
            "right": null,
            "justify_content": null,
            "_view_module": "@jupyter-widgets/base",
            "overflow": null,
            "_model_module_version": "1.2.0",
            "_view_count": null,
            "flex_flow": null,
            "width": null,
            "min_width": null,
            "border": null,
            "align_items": null,
            "bottom": null,
            "_model_module": "@jupyter-widgets/base",
            "top": null,
            "grid_column": null,
            "overflow_y": null,
            "overflow_x": null,
            "grid_auto_flow": null,
            "grid_area": null,
            "grid_template_columns": null,
            "flex": null,
            "_model_name": "LayoutModel",
            "justify_items": null,
            "grid_row": null,
            "max_height": null,
            "align_content": null,
            "visibility": null,
            "align_self": null,
            "height": null,
            "min_height": null,
            "padding": null,
            "grid_auto_rows": null,
            "grid_gap": null,
            "max_width": null,
            "order": null,
            "_view_module_version": "1.2.0",
            "grid_template_areas": null,
            "object_position": null,
            "object_fit": null,
            "grid_auto_columns": null,
            "margin": null,
            "display": null,
            "left": null
          }
        },
        "73f11acf61a24d849ab87dce9669fc44": {
          "model_module": "@jupyter-widgets/controls",
          "model_name": "HBoxModel",
          "state": {
            "_view_name": "HBoxView",
            "_dom_classes": [],
            "_model_name": "HBoxModel",
            "_view_module": "@jupyter-widgets/controls",
            "_model_module_version": "1.5.0",
            "_view_count": null,
            "_view_module_version": "1.5.0",
            "box_style": "",
            "layout": "IPY_MODEL_cdcd19581dab4e809c88a29c1300d946",
            "_model_module": "@jupyter-widgets/controls",
            "children": [
              "IPY_MODEL_dcaf135a6afd403f8fac10f2a332e0d7",
              "IPY_MODEL_550c10d6cd3a422a9797dd399bfd69fb"
            ]
          }
        },
        "cdcd19581dab4e809c88a29c1300d946": {
          "model_module": "@jupyter-widgets/base",
          "model_name": "LayoutModel",
          "state": {
            "_view_name": "LayoutView",
            "grid_template_rows": null,
            "right": null,
            "justify_content": null,
            "_view_module": "@jupyter-widgets/base",
            "overflow": null,
            "_model_module_version": "1.2.0",
            "_view_count": null,
            "flex_flow": null,
            "width": null,
            "min_width": null,
            "border": null,
            "align_items": null,
            "bottom": null,
            "_model_module": "@jupyter-widgets/base",
            "top": null,
            "grid_column": null,
            "overflow_y": null,
            "overflow_x": null,
            "grid_auto_flow": null,
            "grid_area": null,
            "grid_template_columns": null,
            "flex": null,
            "_model_name": "LayoutModel",
            "justify_items": null,
            "grid_row": null,
            "max_height": null,
            "align_content": null,
            "visibility": null,
            "align_self": null,
            "height": null,
            "min_height": null,
            "padding": null,
            "grid_auto_rows": null,
            "grid_gap": null,
            "max_width": null,
            "order": null,
            "_view_module_version": "1.2.0",
            "grid_template_areas": null,
            "object_position": null,
            "object_fit": null,
            "grid_auto_columns": null,
            "margin": null,
            "display": null,
            "left": null
          }
        },
        "dcaf135a6afd403f8fac10f2a332e0d7": {
          "model_module": "@jupyter-widgets/controls",
          "model_name": "FloatProgressModel",
          "state": {
            "_view_name": "ProgressView",
            "style": "IPY_MODEL_4f5fa878a0c94f039b9f8322c32bdb75",
            "_dom_classes": [],
            "description": "",
            "_model_name": "FloatProgressModel",
            "bar_style": "success",
            "max": 28881,
            "_view_module": "@jupyter-widgets/controls",
            "_model_module_version": "1.5.0",
            "value": 28881,
            "_view_count": null,
            "_view_module_version": "1.5.0",
            "orientation": "horizontal",
            "min": 0,
            "description_tooltip": null,
            "_model_module": "@jupyter-widgets/controls",
            "layout": "IPY_MODEL_d7dda62306a84a72aec5dc2a627413ae"
          }
        },
        "550c10d6cd3a422a9797dd399bfd69fb": {
          "model_module": "@jupyter-widgets/controls",
          "model_name": "HTMLModel",
          "state": {
            "_view_name": "HTMLView",
            "style": "IPY_MODEL_981e8105f8cd4468b528424371a81747",
            "_dom_classes": [],
            "description": "",
            "_model_name": "HTMLModel",
            "placeholder": "​",
            "_view_module": "@jupyter-widgets/controls",
            "_model_module_version": "1.5.0",
            "value": " 29696/? [46:44&lt;00:00, 10.59it/s]",
            "_view_count": null,
            "_view_module_version": "1.5.0",
            "description_tooltip": null,
            "_model_module": "@jupyter-widgets/controls",
            "layout": "IPY_MODEL_7a2ffba0f5574d73a7c05095ce681b17"
          }
        },
        "4f5fa878a0c94f039b9f8322c32bdb75": {
          "model_module": "@jupyter-widgets/controls",
          "model_name": "ProgressStyleModel",
          "state": {
            "_view_name": "StyleView",
            "_model_name": "ProgressStyleModel",
            "description_width": "initial",
            "_view_module": "@jupyter-widgets/base",
            "_model_module_version": "1.5.0",
            "_view_count": null,
            "_view_module_version": "1.2.0",
            "bar_color": null,
            "_model_module": "@jupyter-widgets/controls"
          }
        },
        "d7dda62306a84a72aec5dc2a627413ae": {
          "model_module": "@jupyter-widgets/base",
          "model_name": "LayoutModel",
          "state": {
            "_view_name": "LayoutView",
            "grid_template_rows": null,
            "right": null,
            "justify_content": null,
            "_view_module": "@jupyter-widgets/base",
            "overflow": null,
            "_model_module_version": "1.2.0",
            "_view_count": null,
            "flex_flow": null,
            "width": null,
            "min_width": null,
            "border": null,
            "align_items": null,
            "bottom": null,
            "_model_module": "@jupyter-widgets/base",
            "top": null,
            "grid_column": null,
            "overflow_y": null,
            "overflow_x": null,
            "grid_auto_flow": null,
            "grid_area": null,
            "grid_template_columns": null,
            "flex": null,
            "_model_name": "LayoutModel",
            "justify_items": null,
            "grid_row": null,
            "max_height": null,
            "align_content": null,
            "visibility": null,
            "align_self": null,
            "height": null,
            "min_height": null,
            "padding": null,
            "grid_auto_rows": null,
            "grid_gap": null,
            "max_width": null,
            "order": null,
            "_view_module_version": "1.2.0",
            "grid_template_areas": null,
            "object_position": null,
            "object_fit": null,
            "grid_auto_columns": null,
            "margin": null,
            "display": null,
            "left": null
          }
        },
        "981e8105f8cd4468b528424371a81747": {
          "model_module": "@jupyter-widgets/controls",
          "model_name": "DescriptionStyleModel",
          "state": {
            "_view_name": "StyleView",
            "_model_name": "DescriptionStyleModel",
            "description_width": "",
            "_view_module": "@jupyter-widgets/base",
            "_model_module_version": "1.5.0",
            "_view_count": null,
            "_view_module_version": "1.2.0",
            "_model_module": "@jupyter-widgets/controls"
          }
        },
        "7a2ffba0f5574d73a7c05095ce681b17": {
          "model_module": "@jupyter-widgets/base",
          "model_name": "LayoutModel",
          "state": {
            "_view_name": "LayoutView",
            "grid_template_rows": null,
            "right": null,
            "justify_content": null,
            "_view_module": "@jupyter-widgets/base",
            "overflow": null,
            "_model_module_version": "1.2.0",
            "_view_count": null,
            "flex_flow": null,
            "width": null,
            "min_width": null,
            "border": null,
            "align_items": null,
            "bottom": null,
            "_model_module": "@jupyter-widgets/base",
            "top": null,
            "grid_column": null,
            "overflow_y": null,
            "overflow_x": null,
            "grid_auto_flow": null,
            "grid_area": null,
            "grid_template_columns": null,
            "flex": null,
            "_model_name": "LayoutModel",
            "justify_items": null,
            "grid_row": null,
            "max_height": null,
            "align_content": null,
            "visibility": null,
            "align_self": null,
            "height": null,
            "min_height": null,
            "padding": null,
            "grid_auto_rows": null,
            "grid_gap": null,
            "max_width": null,
            "order": null,
            "_view_module_version": "1.2.0",
            "grid_template_areas": null,
            "object_position": null,
            "object_fit": null,
            "grid_auto_columns": null,
            "margin": null,
            "display": null,
            "left": null
          }
        },
        "45c11e014a43408ba6981dc70e371f8b": {
          "model_module": "@jupyter-widgets/controls",
          "model_name": "HBoxModel",
          "state": {
            "_view_name": "HBoxView",
            "_dom_classes": [],
            "_model_name": "HBoxModel",
            "_view_module": "@jupyter-widgets/controls",
            "_model_module_version": "1.5.0",
            "_view_count": null,
            "_view_module_version": "1.5.0",
            "box_style": "",
            "layout": "IPY_MODEL_ce6656ec17194eadbc4af1cade5f1295",
            "_model_module": "@jupyter-widgets/controls",
            "children": [
              "IPY_MODEL_eae6ce4b6e6340acae504a81fd26462e",
              "IPY_MODEL_0ff77cca15304f3bbda085533b7d30b2"
            ]
          }
        },
        "ce6656ec17194eadbc4af1cade5f1295": {
          "model_module": "@jupyter-widgets/base",
          "model_name": "LayoutModel",
          "state": {
            "_view_name": "LayoutView",
            "grid_template_rows": null,
            "right": null,
            "justify_content": null,
            "_view_module": "@jupyter-widgets/base",
            "overflow": null,
            "_model_module_version": "1.2.0",
            "_view_count": null,
            "flex_flow": null,
            "width": null,
            "min_width": null,
            "border": null,
            "align_items": null,
            "bottom": null,
            "_model_module": "@jupyter-widgets/base",
            "top": null,
            "grid_column": null,
            "overflow_y": null,
            "overflow_x": null,
            "grid_auto_flow": null,
            "grid_area": null,
            "grid_template_columns": null,
            "flex": null,
            "_model_name": "LayoutModel",
            "justify_items": null,
            "grid_row": null,
            "max_height": null,
            "align_content": null,
            "visibility": null,
            "align_self": null,
            "height": null,
            "min_height": null,
            "padding": null,
            "grid_auto_rows": null,
            "grid_gap": null,
            "max_width": null,
            "order": null,
            "_view_module_version": "1.2.0",
            "grid_template_areas": null,
            "object_position": null,
            "object_fit": null,
            "grid_auto_columns": null,
            "margin": null,
            "display": null,
            "left": null
          }
        },
        "eae6ce4b6e6340acae504a81fd26462e": {
          "model_module": "@jupyter-widgets/controls",
          "model_name": "FloatProgressModel",
          "state": {
            "_view_name": "ProgressView",
            "style": "IPY_MODEL_3f06aec7319140758b70c3b08ae6136e",
            "_dom_classes": [],
            "description": "",
            "_model_name": "FloatProgressModel",
            "bar_style": "success",
            "max": 1648877,
            "_view_module": "@jupyter-widgets/controls",
            "_model_module_version": "1.5.0",
            "value": 1648877,
            "_view_count": null,
            "_view_module_version": "1.5.0",
            "orientation": "horizontal",
            "min": 0,
            "description_tooltip": null,
            "_model_module": "@jupyter-widgets/controls",
            "layout": "IPY_MODEL_f6909ee1e4a446f9bab9f574a87dd09a"
          }
        },
        "0ff77cca15304f3bbda085533b7d30b2": {
          "model_module": "@jupyter-widgets/controls",
          "model_name": "HTMLModel",
          "state": {
            "_view_name": "HTMLView",
            "style": "IPY_MODEL_1ca64f693b4d439aad0be10f1fd2e41d",
            "_dom_classes": [],
            "description": "",
            "_model_name": "HTMLModel",
            "placeholder": "​",
            "_view_module": "@jupyter-widgets/controls",
            "_model_module_version": "1.5.0",
            "value": " 1649664/? [00:02&lt;00:00, 676571.08it/s]",
            "_view_count": null,
            "_view_module_version": "1.5.0",
            "description_tooltip": null,
            "_model_module": "@jupyter-widgets/controls",
            "layout": "IPY_MODEL_ec3d343d424a458ba25e6e5a877e560f"
          }
        },
        "3f06aec7319140758b70c3b08ae6136e": {
          "model_module": "@jupyter-widgets/controls",
          "model_name": "ProgressStyleModel",
          "state": {
            "_view_name": "StyleView",
            "_model_name": "ProgressStyleModel",
            "description_width": "initial",
            "_view_module": "@jupyter-widgets/base",
            "_model_module_version": "1.5.0",
            "_view_count": null,
            "_view_module_version": "1.2.0",
            "bar_color": null,
            "_model_module": "@jupyter-widgets/controls"
          }
        },
        "f6909ee1e4a446f9bab9f574a87dd09a": {
          "model_module": "@jupyter-widgets/base",
          "model_name": "LayoutModel",
          "state": {
            "_view_name": "LayoutView",
            "grid_template_rows": null,
            "right": null,
            "justify_content": null,
            "_view_module": "@jupyter-widgets/base",
            "overflow": null,
            "_model_module_version": "1.2.0",
            "_view_count": null,
            "flex_flow": null,
            "width": null,
            "min_width": null,
            "border": null,
            "align_items": null,
            "bottom": null,
            "_model_module": "@jupyter-widgets/base",
            "top": null,
            "grid_column": null,
            "overflow_y": null,
            "overflow_x": null,
            "grid_auto_flow": null,
            "grid_area": null,
            "grid_template_columns": null,
            "flex": null,
            "_model_name": "LayoutModel",
            "justify_items": null,
            "grid_row": null,
            "max_height": null,
            "align_content": null,
            "visibility": null,
            "align_self": null,
            "height": null,
            "min_height": null,
            "padding": null,
            "grid_auto_rows": null,
            "grid_gap": null,
            "max_width": null,
            "order": null,
            "_view_module_version": "1.2.0",
            "grid_template_areas": null,
            "object_position": null,
            "object_fit": null,
            "grid_auto_columns": null,
            "margin": null,
            "display": null,
            "left": null
          }
        },
        "1ca64f693b4d439aad0be10f1fd2e41d": {
          "model_module": "@jupyter-widgets/controls",
          "model_name": "DescriptionStyleModel",
          "state": {
            "_view_name": "StyleView",
            "_model_name": "DescriptionStyleModel",
            "description_width": "",
            "_view_module": "@jupyter-widgets/base",
            "_model_module_version": "1.5.0",
            "_view_count": null,
            "_view_module_version": "1.2.0",
            "_model_module": "@jupyter-widgets/controls"
          }
        },
        "ec3d343d424a458ba25e6e5a877e560f": {
          "model_module": "@jupyter-widgets/base",
          "model_name": "LayoutModel",
          "state": {
            "_view_name": "LayoutView",
            "grid_template_rows": null,
            "right": null,
            "justify_content": null,
            "_view_module": "@jupyter-widgets/base",
            "overflow": null,
            "_model_module_version": "1.2.0",
            "_view_count": null,
            "flex_flow": null,
            "width": null,
            "min_width": null,
            "border": null,
            "align_items": null,
            "bottom": null,
            "_model_module": "@jupyter-widgets/base",
            "top": null,
            "grid_column": null,
            "overflow_y": null,
            "overflow_x": null,
            "grid_auto_flow": null,
            "grid_area": null,
            "grid_template_columns": null,
            "flex": null,
            "_model_name": "LayoutModel",
            "justify_items": null,
            "grid_row": null,
            "max_height": null,
            "align_content": null,
            "visibility": null,
            "align_self": null,
            "height": null,
            "min_height": null,
            "padding": null,
            "grid_auto_rows": null,
            "grid_gap": null,
            "max_width": null,
            "order": null,
            "_view_module_version": "1.2.0",
            "grid_template_areas": null,
            "object_position": null,
            "object_fit": null,
            "grid_auto_columns": null,
            "margin": null,
            "display": null,
            "left": null
          }
        },
        "e0a660a1bcbd486f8b89708866697105": {
          "model_module": "@jupyter-widgets/controls",
          "model_name": "HBoxModel",
          "state": {
            "_view_name": "HBoxView",
            "_dom_classes": [],
            "_model_name": "HBoxModel",
            "_view_module": "@jupyter-widgets/controls",
            "_model_module_version": "1.5.0",
            "_view_count": null,
            "_view_module_version": "1.5.0",
            "box_style": "",
            "layout": "IPY_MODEL_a3f9797336fd4ba08084f2bcd8149dc2",
            "_model_module": "@jupyter-widgets/controls",
            "children": [
              "IPY_MODEL_50d4ed933e864a149edb18ab3c91f110",
              "IPY_MODEL_97101b53c4b24f9cb62d5a344ba8f448"
            ]
          }
        },
        "a3f9797336fd4ba08084f2bcd8149dc2": {
          "model_module": "@jupyter-widgets/base",
          "model_name": "LayoutModel",
          "state": {
            "_view_name": "LayoutView",
            "grid_template_rows": null,
            "right": null,
            "justify_content": null,
            "_view_module": "@jupyter-widgets/base",
            "overflow": null,
            "_model_module_version": "1.2.0",
            "_view_count": null,
            "flex_flow": null,
            "width": null,
            "min_width": null,
            "border": null,
            "align_items": null,
            "bottom": null,
            "_model_module": "@jupyter-widgets/base",
            "top": null,
            "grid_column": null,
            "overflow_y": null,
            "overflow_x": null,
            "grid_auto_flow": null,
            "grid_area": null,
            "grid_template_columns": null,
            "flex": null,
            "_model_name": "LayoutModel",
            "justify_items": null,
            "grid_row": null,
            "max_height": null,
            "align_content": null,
            "visibility": null,
            "align_self": null,
            "height": null,
            "min_height": null,
            "padding": null,
            "grid_auto_rows": null,
            "grid_gap": null,
            "max_width": null,
            "order": null,
            "_view_module_version": "1.2.0",
            "grid_template_areas": null,
            "object_position": null,
            "object_fit": null,
            "grid_auto_columns": null,
            "margin": null,
            "display": null,
            "left": null
          }
        },
        "50d4ed933e864a149edb18ab3c91f110": {
          "model_module": "@jupyter-widgets/controls",
          "model_name": "FloatProgressModel",
          "state": {
            "_view_name": "ProgressView",
            "style": "IPY_MODEL_5a5ad7d094b149eeb95a66b26aef2780",
            "_dom_classes": [],
            "description": "",
            "_model_name": "FloatProgressModel",
            "bar_style": "success",
            "max": 4542,
            "_view_module": "@jupyter-widgets/controls",
            "_model_module_version": "1.5.0",
            "value": 4542,
            "_view_count": null,
            "_view_module_version": "1.5.0",
            "orientation": "horizontal",
            "min": 0,
            "description_tooltip": null,
            "_model_module": "@jupyter-widgets/controls",
            "layout": "IPY_MODEL_3697f67ec19c4d54bb9dd9cd50e3241e"
          }
        },
        "97101b53c4b24f9cb62d5a344ba8f448": {
          "model_module": "@jupyter-widgets/controls",
          "model_name": "HTMLModel",
          "state": {
            "_view_name": "HTMLView",
            "style": "IPY_MODEL_dbdbfc371ad8457ba5243112ee3c66f9",
            "_dom_classes": [],
            "description": "",
            "_model_name": "HTMLModel",
            "placeholder": "​",
            "_view_module": "@jupyter-widgets/controls",
            "_model_module_version": "1.5.0",
            "value": " 5120/? [00:00&lt;00:00, 36617.23it/s]",
            "_view_count": null,
            "_view_module_version": "1.5.0",
            "description_tooltip": null,
            "_model_module": "@jupyter-widgets/controls",
            "layout": "IPY_MODEL_f75143d50eb644da9d9de8ae6aa3eb1d"
          }
        },
        "5a5ad7d094b149eeb95a66b26aef2780": {
          "model_module": "@jupyter-widgets/controls",
          "model_name": "ProgressStyleModel",
          "state": {
            "_view_name": "StyleView",
            "_model_name": "ProgressStyleModel",
            "description_width": "initial",
            "_view_module": "@jupyter-widgets/base",
            "_model_module_version": "1.5.0",
            "_view_count": null,
            "_view_module_version": "1.2.0",
            "bar_color": null,
            "_model_module": "@jupyter-widgets/controls"
          }
        },
        "3697f67ec19c4d54bb9dd9cd50e3241e": {
          "model_module": "@jupyter-widgets/base",
          "model_name": "LayoutModel",
          "state": {
            "_view_name": "LayoutView",
            "grid_template_rows": null,
            "right": null,
            "justify_content": null,
            "_view_module": "@jupyter-widgets/base",
            "overflow": null,
            "_model_module_version": "1.2.0",
            "_view_count": null,
            "flex_flow": null,
            "width": null,
            "min_width": null,
            "border": null,
            "align_items": null,
            "bottom": null,
            "_model_module": "@jupyter-widgets/base",
            "top": null,
            "grid_column": null,
            "overflow_y": null,
            "overflow_x": null,
            "grid_auto_flow": null,
            "grid_area": null,
            "grid_template_columns": null,
            "flex": null,
            "_model_name": "LayoutModel",
            "justify_items": null,
            "grid_row": null,
            "max_height": null,
            "align_content": null,
            "visibility": null,
            "align_self": null,
            "height": null,
            "min_height": null,
            "padding": null,
            "grid_auto_rows": null,
            "grid_gap": null,
            "max_width": null,
            "order": null,
            "_view_module_version": "1.2.0",
            "grid_template_areas": null,
            "object_position": null,
            "object_fit": null,
            "grid_auto_columns": null,
            "margin": null,
            "display": null,
            "left": null
          }
        },
        "dbdbfc371ad8457ba5243112ee3c66f9": {
          "model_module": "@jupyter-widgets/controls",
          "model_name": "DescriptionStyleModel",
          "state": {
            "_view_name": "StyleView",
            "_model_name": "DescriptionStyleModel",
            "description_width": "",
            "_view_module": "@jupyter-widgets/base",
            "_model_module_version": "1.5.0",
            "_view_count": null,
            "_view_module_version": "1.2.0",
            "_model_module": "@jupyter-widgets/controls"
          }
        },
        "f75143d50eb644da9d9de8ae6aa3eb1d": {
          "model_module": "@jupyter-widgets/base",
          "model_name": "LayoutModel",
          "state": {
            "_view_name": "LayoutView",
            "grid_template_rows": null,
            "right": null,
            "justify_content": null,
            "_view_module": "@jupyter-widgets/base",
            "overflow": null,
            "_model_module_version": "1.2.0",
            "_view_count": null,
            "flex_flow": null,
            "width": null,
            "min_width": null,
            "border": null,
            "align_items": null,
            "bottom": null,
            "_model_module": "@jupyter-widgets/base",
            "top": null,
            "grid_column": null,
            "overflow_y": null,
            "overflow_x": null,
            "grid_auto_flow": null,
            "grid_area": null,
            "grid_template_columns": null,
            "flex": null,
            "_model_name": "LayoutModel",
            "justify_items": null,
            "grid_row": null,
            "max_height": null,
            "align_content": null,
            "visibility": null,
            "align_self": null,
            "height": null,
            "min_height": null,
            "padding": null,
            "grid_auto_rows": null,
            "grid_gap": null,
            "max_width": null,
            "order": null,
            "_view_module_version": "1.2.0",
            "grid_template_areas": null,
            "object_position": null,
            "object_fit": null,
            "grid_auto_columns": null,
            "margin": null,
            "display": null,
            "left": null
          }
        }
      }
    }
  },
  "cells": [
    {
      "cell_type": "markdown",
      "metadata": {
        "id": "lMSbGBbbh-ow"
      },
      "source": [
        "# **Integrated Gradients** : simple, yet powerful explainability method\n",
        "\n",
        "*What is it?*\n",
        "\n",
        "Integrated Gradients is an axiomatic model interpretability algorithm that assigns an importance score to each input feature by approximating the integral of gradients of the model’s output with respect to the inputs along the path (straight line) from given baselines / references to inputs. \n",
        "\n",
        "source: https://captum.ai/api/integrated_gradients.html\n",
        "\n",
        "\n",
        "The integral of integrated gradients can be efficiently approximated via a summation. We simply sum the gradients at points occurring at\n",
        "sufficiently small intervals along the straightline path from\n",
        "the baseline x' to the input x.\n",
        "\n",
        "![Integrated grads.png](data:image/png;base64,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)\n",
        "\n",
        "https://arxiv.org/pdf/1703.01365.pdf\n",
        "\n",
        "\n",
        "*Why is Integrated Gradients superior to other interpretability techniques?*\n",
        "\n",
        "-> it satisfies the two axioms **(Sensitivity and Implementation Invariance)**  that every attribution method must satisfy, but most known methods don't\n",
        "\n",
        "-> it requires no modification to the original network\n",
        "\n",
        "-> extraordinarily simple to implement\n",
        "\n",
        "-> can be used to debug networks, extract rules from a network and enable the users of the network to engage beter with the model\n",
        "\n",
        "\n",
        "For an easy-to-follow introduction to this topic, please read https://towardsdatascience.com/understanding-deep-learning-models-with-integrated-gradients-24ddce643dbf"
      ]
    },
    {
      "cell_type": "code",
      "metadata": {
        "id": "NZzhsVDaA1ax"
      },
      "source": [
        "import torch \n",
        "import torchvision\n",
        "import torchvision.datasets as datasets\n",
        "import torch.nn as nn\n",
        "import torch.nn.functional as F\n",
        "import numpy as np\n",
        "from torch.utils.data import DataLoader\n",
        "from torchvision.transforms import ToTensor\n",
        "from torch import optim \n",
        "from torch.autograd import Variable\n",
        "import matplotlib.pyplot as plt"
      ],
      "execution_count": 2,
      "outputs": []
    },
    {
      "cell_type": "code",
      "metadata": {
        "colab": {
          "base_uri": "https://localhost:8080/",
          "height": 645,
          "referenced_widgets": [
            "5bca862886d64d2a98f00b7afc9b9675",
            "fc337089e3b44eeb8becb891ce1cf6d1",
            "46abebee1b3146e1aa0aee803d207a3e",
            "8d5fdf4a4e4a432699b9849926d3b9b1",
            "9d6fb6ee431d403783b409887f1ff3ec",
            "489be8e91cc64b94a568bae1397007fa",
            "55ccddbcf8f84ebb99672427274cabd0",
            "1b7a053b0879425ab3d98ceaf69cbf06",
            "73f11acf61a24d849ab87dce9669fc44",
            "cdcd19581dab4e809c88a29c1300d946",
            "dcaf135a6afd403f8fac10f2a332e0d7",
            "550c10d6cd3a422a9797dd399bfd69fb",
            "4f5fa878a0c94f039b9f8322c32bdb75",
            "d7dda62306a84a72aec5dc2a627413ae",
            "981e8105f8cd4468b528424371a81747",
            "7a2ffba0f5574d73a7c05095ce681b17",
            "45c11e014a43408ba6981dc70e371f8b",
            "ce6656ec17194eadbc4af1cade5f1295",
            "eae6ce4b6e6340acae504a81fd26462e",
            "0ff77cca15304f3bbda085533b7d30b2",
            "3f06aec7319140758b70c3b08ae6136e",
            "f6909ee1e4a446f9bab9f574a87dd09a",
            "1ca64f693b4d439aad0be10f1fd2e41d",
            "ec3d343d424a458ba25e6e5a877e560f",
            "e0a660a1bcbd486f8b89708866697105",
            "a3f9797336fd4ba08084f2bcd8149dc2",
            "50d4ed933e864a149edb18ab3c91f110",
            "97101b53c4b24f9cb62d5a344ba8f448",
            "5a5ad7d094b149eeb95a66b26aef2780",
            "3697f67ec19c4d54bb9dd9cd50e3241e",
            "dbdbfc371ad8457ba5243112ee3c66f9",
            "f75143d50eb644da9d9de8ae6aa3eb1d"
          ]
        },
        "id": "MNdi_XNXA6MT",
        "outputId": "47fa0781-5a7d-4b7f-8ccd-5093c3a2c5f1"
      },
      "source": [
        "mnist_trainset = datasets.MNIST(root='./data', train=True, download=True, transform=ToTensor())"
      ],
      "execution_count": 3,
      "outputs": [
        {
          "output_type": "stream",
          "text": [
            "Downloading http://yann.lecun.com/exdb/mnist/train-images-idx3-ubyte.gz\n",
            "Downloading http://yann.lecun.com/exdb/mnist/train-images-idx3-ubyte.gz to ./data/MNIST/raw/train-images-idx3-ubyte.gz\n"
          ],
          "name": "stdout"
        },
        {
          "output_type": "display_data",
          "data": {
            "application/vnd.jupyter.widget-view+json": {
              "model_id": "5bca862886d64d2a98f00b7afc9b9675",
              "version_minor": 0,
              "version_major": 2
            },
            "text/plain": [
              "HBox(children=(FloatProgress(value=0.0, max=9912422.0), HTML(value='')))"
            ]
          },
          "metadata": {
            "tags": []
          }
        },
        {
          "output_type": "stream",
          "text": [
            "\n",
            "Extracting ./data/MNIST/raw/train-images-idx3-ubyte.gz to ./data/MNIST/raw\n",
            "\n",
            "Downloading http://yann.lecun.com/exdb/mnist/train-labels-idx1-ubyte.gz\n",
            "Downloading http://yann.lecun.com/exdb/mnist/train-labels-idx1-ubyte.gz to ./data/MNIST/raw/train-labels-idx1-ubyte.gz\n"
          ],
          "name": "stdout"
        },
        {
          "output_type": "display_data",
          "data": {
            "application/vnd.jupyter.widget-view+json": {
              "model_id": "73f11acf61a24d849ab87dce9669fc44",
              "version_minor": 0,
              "version_major": 2
            },
            "text/plain": [
              "HBox(children=(FloatProgress(value=0.0, max=28881.0), HTML(value='')))"
            ]
          },
          "metadata": {
            "tags": []
          }
        },
        {
          "output_type": "stream",
          "text": [
            "\n",
            "Extracting ./data/MNIST/raw/train-labels-idx1-ubyte.gz to ./data/MNIST/raw\n",
            "\n",
            "Downloading http://yann.lecun.com/exdb/mnist/t10k-images-idx3-ubyte.gz\n",
            "Downloading http://yann.lecun.com/exdb/mnist/t10k-images-idx3-ubyte.gz to ./data/MNIST/raw/t10k-images-idx3-ubyte.gz\n",
            "Failed to download (trying next):\n",
            "HTTP Error 503: Service Unavailable\n",
            "\n",
            "Downloading https://ossci-datasets.s3.amazonaws.com/mnist/t10k-images-idx3-ubyte.gz\n",
            "Downloading https://ossci-datasets.s3.amazonaws.com/mnist/t10k-images-idx3-ubyte.gz to ./data/MNIST/raw/t10k-images-idx3-ubyte.gz\n"
          ],
          "name": "stdout"
        },
        {
          "output_type": "display_data",
          "data": {
            "application/vnd.jupyter.widget-view+json": {
              "model_id": "45c11e014a43408ba6981dc70e371f8b",
              "version_minor": 0,
              "version_major": 2
            },
            "text/plain": [
              "HBox(children=(FloatProgress(value=0.0, max=1648877.0), HTML(value='')))"
            ]
          },
          "metadata": {
            "tags": []
          }
        },
        {
          "output_type": "stream",
          "text": [
            "\n",
            "Extracting ./data/MNIST/raw/t10k-images-idx3-ubyte.gz to ./data/MNIST/raw\n",
            "\n",
            "Downloading http://yann.lecun.com/exdb/mnist/t10k-labels-idx1-ubyte.gz\n",
            "Downloading http://yann.lecun.com/exdb/mnist/t10k-labels-idx1-ubyte.gz to ./data/MNIST/raw/t10k-labels-idx1-ubyte.gz\n"
          ],
          "name": "stdout"
        },
        {
          "output_type": "display_data",
          "data": {
            "application/vnd.jupyter.widget-view+json": {
              "model_id": "e0a660a1bcbd486f8b89708866697105",
              "version_minor": 0,
              "version_major": 2
            },
            "text/plain": [
              "HBox(children=(FloatProgress(value=0.0, max=4542.0), HTML(value='')))"
            ]
          },
          "metadata": {
            "tags": []
          }
        },
        {
          "output_type": "stream",
          "text": [
            "\n",
            "Extracting ./data/MNIST/raw/t10k-labels-idx1-ubyte.gz to ./data/MNIST/raw\n",
            "\n"
          ],
          "name": "stdout"
        },
        {
          "output_type": "stream",
          "text": [
            "/usr/local/lib/python3.7/dist-packages/torchvision/datasets/mnist.py:498: UserWarning: The given NumPy array is not writeable, and PyTorch does not support non-writeable tensors. This means you can write to the underlying (supposedly non-writeable) NumPy array using the tensor. You may want to copy the array to protect its data or make it writeable before converting it to a tensor. This type of warning will be suppressed for the rest of this program. (Triggered internally at  /pytorch/torch/csrc/utils/tensor_numpy.cpp:180.)\n",
            "  return torch.from_numpy(parsed.astype(m[2], copy=False)).view(*s)\n"
          ],
          "name": "stderr"
        }
      ]
    },
    {
      "cell_type": "markdown",
      "metadata": {
        "id": "cyinFpzRRx21"
      },
      "source": [
        "While training a model, we typically want to pass samples in “minibatches” (batch_size = 100), reshuffle the data at every epoch to reduce model overfitting (shuffle = True), and use Python’s multiprocessing to speed up data retrieval.\n",
        "\n",
        "DataLoader is an iterable that abstracts this complexity for us in an easy API.\n",
        "\n",
        "At the heart of PyTorch data loading utility is the **torch.utils.data.DataLoader** class. It represents **a Python iterable over a dataset**"
      ]
    },
    {
      "cell_type": "markdown",
      "metadata": {
        "id": "0CRHFRR9Ffc2"
      },
      "source": [
        "The snippet below has visualisation purposes (to get a good grasp of how our data actually looks like)\n",
        "\n"
      ]
    },
    {
      "cell_type": "code",
      "metadata": {
        "colab": {
          "base_uri": "https://localhost:8080/",
          "height": 1000
        },
        "id": "BhJU4Qb_BCob",
        "outputId": "ffd4db77-8c1a-4305-f031-459e5ccee822"
      },
      "source": [
        "Data_train = torch.utils.data.DataLoader(mnist_trainset, \n",
        "                                          batch_size=100, \n",
        "                                          shuffle=True,\n",
        "                                          num_workers=1)\n",
        "# We have loaded our MNIST dataset into the Dataloader object and can iterate through the dataset as needed\n",
        "print(Data_train)\n",
        "\n",
        "train_features, train_labels = next(iter(Data_train))\n",
        "#iter() calls the __iter__() method on the Data_train which returns an iterator\n",
        "#next() then calls the __next__() method on that iterator to get the first iteration. Running next() again will get the second item of the iterator, etc\n",
        "print(f'Feature batch shape: {train_features.size()}')\n",
        "print(f'Labels batch shape: {train_labels.size()}')\n",
        "img = train_features[0].squeeze()\n",
        "#torch.squeeze(input, dim=None, *, out=None) -> Returns a tensor with all the dimensions of input of size 1 removed.\n",
        "# For example, if input is of shape:(A×1×B×C×1×D) then the out tensor will be of shape: (A×B×C×D).\n",
        "label = train_labels[0]\n",
        "plt.imshow(img, cmap = 'gray')\n",
        "plt.show()\n",
        "print(f'Label: {label}')\n",
        "print(train_features)\n",
        "print(train_labels)"
      ],
      "execution_count": null,
      "outputs": [
        {
          "output_type": "stream",
          "text": [
            "<torch.utils.data.dataloader.DataLoader object at 0x7f99ae3309d0>\n",
            "Feature batch shape: torch.Size([100, 1, 28, 28])\n",
            "Labels batch shape: torch.Size([100])\n"
          ],
          "name": "stdout"
        },
        {
          "output_type": "display_data",
          "data": {
            "image/png": "[encoded data removed]",
            "text/plain": [
              "<Figure size 432x288 with 1 Axes>"
            ]
          },
          "metadata": {
            "tags": [],
            "needs_background": "light"
          }
        },
        {
          "output_type": "stream",
          "text": [
            "Label: 3\n",
            "tensor([[[[0., 0., 0.,  ..., 0., 0., 0.],\n",
            "          [0., 0., 0.,  ..., 0., 0., 0.],\n",
            "          [0., 0., 0.,  ..., 0., 0., 0.],\n",
            "          ...,\n",
            "          [0., 0., 0.,  ..., 0., 0., 0.],\n",
            "          [0., 0., 0.,  ..., 0., 0., 0.],\n",
            "          [0., 0., 0.,  ..., 0., 0., 0.]]],\n",
            "\n",
            "\n",
            "        [[[0., 0., 0.,  ..., 0., 0., 0.],\n",
            "          [0., 0., 0.,  ..., 0., 0., 0.],\n",
            "          [0., 0., 0.,  ..., 0., 0., 0.],\n",
            "          ...,\n",
            "          [0., 0., 0.,  ..., 0., 0., 0.],\n",
            "          [0., 0., 0.,  ..., 0., 0., 0.],\n",
            "          [0., 0., 0.,  ..., 0., 0., 0.]]],\n",
            "\n",
            "\n",
            "        [[[0., 0., 0.,  ..., 0., 0., 0.],\n",
            "          [0., 0., 0.,  ..., 0., 0., 0.],\n",
            "          [0., 0., 0.,  ..., 0., 0., 0.],\n",
            "          ...,\n",
            "          [0., 0., 0.,  ..., 0., 0., 0.],\n",
            "          [0., 0., 0.,  ..., 0., 0., 0.],\n",
            "          [0., 0., 0.,  ..., 0., 0., 0.]]],\n",
            "\n",
            "\n",
            "        ...,\n",
            "\n",
            "\n",
            "        [[[0., 0., 0.,  ..., 0., 0., 0.],\n",
            "          [0., 0., 0.,  ..., 0., 0., 0.],\n",
            "          [0., 0., 0.,  ..., 0., 0., 0.],\n",
            "          ...,\n",
            "          [0., 0., 0.,  ..., 0., 0., 0.],\n",
            "          [0., 0., 0.,  ..., 0., 0., 0.],\n",
            "          [0., 0., 0.,  ..., 0., 0., 0.]]],\n",
            "\n",
            "\n",
            "        [[[0., 0., 0.,  ..., 0., 0., 0.],\n",
            "          [0., 0., 0.,  ..., 0., 0., 0.],\n",
            "          [0., 0., 0.,  ..., 0., 0., 0.],\n",
            "          ...,\n",
            "          [0., 0., 0.,  ..., 0., 0., 0.],\n",
            "          [0., 0., 0.,  ..., 0., 0., 0.],\n",
            "          [0., 0., 0.,  ..., 0., 0., 0.]]],\n",
            "\n",
            "\n",
            "        [[[0., 0., 0.,  ..., 0., 0., 0.],\n",
            "          [0., 0., 0.,  ..., 0., 0., 0.],\n",
            "          [0., 0., 0.,  ..., 0., 0., 0.],\n",
            "          ...,\n",
            "          [0., 0., 0.,  ..., 0., 0., 0.],\n",
            "          [0., 0., 0.,  ..., 0., 0., 0.],\n",
            "          [0., 0., 0.,  ..., 0., 0., 0.]]]])\n",
            "tensor([3, 9, 1, 0, 3, 0, 9, 0, 5, 9, 8, 1, 0, 0, 1, 7, 7, 4, 7, 0, 8, 8, 2, 6,\n",
            "        6, 8, 8, 0, 3, 3, 9, 3, 0, 8, 4, 4, 1, 1, 9, 3, 5, 9, 2, 8, 3, 1, 7, 8,\n",
            "        2, 2, 2, 9, 8, 3, 4, 9, 5, 5, 1, 8, 4, 6, 9, 9, 6, 2, 8, 1, 2, 6, 5, 2,\n",
            "        1, 7, 0, 3, 4, 5, 1, 6, 7, 1, 5, 7, 3, 9, 1, 7, 2, 5, 1, 9, 8, 2, 8, 3,\n",
            "        5, 2, 2, 9])\n"
          ],
          "name": "stdout"
        }
      ]
    },
    {
      "cell_type": "markdown",
      "metadata": {
        "id": "WfADBc5OGFVk"
      },
      "source": [
        "Now, we'll create our  convolutional neural network architecture"
      ]
    },
    {
      "cell_type": "markdown",
      "metadata": {
        "id": "hsBUdDPrTRGk"
      },
      "source": [
        "**Out=In∗W+Bias**"
      ]
    },
    {
      "cell_type": "code",
      "metadata": {
        "id": "cHnughqJBHLL"
      },
      "source": [
        "class CnnModel(nn.Module):\n",
        "    def __init__(self):\n",
        "        super(CnnModel, self).__init__()\n",
        "        self.conv1 = nn.Conv2d(1, 1, (5, 5), bias=True)\n",
        "        self.flatt = nn.Flatten()\n",
        "        self.dense1 = nn.Linear(576, 10)\n",
        "        \n",
        "\n",
        "    def forward(self, x):\n",
        "        x = self.conv1(x)\n",
        "        x = F.relu(x)\n",
        "        x = self.flatt(x)\n",
        "        x1 = self.dense1(x)\n",
        "        return(F.softmax(x1))\n",
        "        \n"
      ],
      "execution_count": null,
      "outputs": []
    },
    {
      "cell_type": "code",
      "metadata": {
        "id": "9CBsR1xxBH9F"
      },
      "source": [
        "# We now instantiate an object (net) of the CnnModel class, net being our architecture \n",
        "net = CnnModel()"
      ],
      "execution_count": null,
      "outputs": []
    },
    {
      "cell_type": "markdown",
      "metadata": {
        "id": "C-6KhCteltzN"
      },
      "source": [
        "**Don't get confused!!**\n",
        "\n",
        "Our dataset is divided in smaller compartments called *batches*.\n",
        "\n",
        "The number of *epochs* is the number of times the whole dataset is passed forward and backward through the neural network at once. Since this would require big computational costs, we need to divide the data in batches of smaller sizes and feed our model with them one by one.\n"
      ]
    },
    {
      "cell_type": "markdown",
      "metadata": {
        "id": "YhWgmuqVlJLF"
      },
      "source": [
        "![WhatsApp Image 2021-07-26 at 00.31.22.jpeg](data:image/jpeg;base64,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)"
      ]
    },
    {
      "cell_type": "markdown",
      "metadata": {
        "id": "FIvUCzcEPH9g"
      },
      "source": [
        "We'll use Cross-Entropy as our loss function. Cross-entropy builds upon the idea of entropy from information theory and calculates the number of bits required to represent or transmit an average event from one distribution compared to another distribution.\n",
        "\n",
        "Adam is a replacement optimization algorithm for stochastic gradient descent for training deep learning models.\n",
        "\n",
        "\n",
        " For further details see \n",
        "1.   https://machinelearningmastery.com/cross-entropy-for-machine-learning/\n",
        "\n",
        "2.   https://machinelearningmastery.com/adam-optimization-algorithm-for-deep-learning/\n",
        "\n"
      ]
    },
    {
      "cell_type": "code",
      "metadata": {
        "colab": {
          "base_uri": "https://localhost:8080/"
        },
        "id": "north-guitar",
        "outputId": "b172614e-f89a-4fbe-b325-cd682e30d684"
      },
      "source": [
        "optimizer = optim.Adam(net.parameters(), lr = 0.01) \n",
        "loss_func = nn.CrossEntropyLoss()  \n",
        "num_epochs = 10\n",
        "total_step = len(Data_train) \n",
        "for epoch in range(num_epochs):\n",
        "    for i, (images,labels) in enumerate(Data_train):\n",
        "        b_x = Variable(images)   # images\n",
        "        b_y = Variable(labels)   # labels\n",
        "        output = net(b_x)\n",
        "        loss = loss_func(output, b_y)\n",
        "        optimizer.zero_grad()\n",
        "        loss.backward() \n",
        "        optimizer.step()  \n",
        "        if (i+1) % 100 == 0:\n",
        "            print ('Epoch [{}/{}], Step [{}/{}], Loss: {:.4f}' .format(epoch + 1, num_epochs, i + 1, total_step, loss.item()))\n"
      ],
      "execution_count": null,
      "outputs": [
        {
          "output_type": "stream",
          "text": [
            "/usr/local/lib/python3.7/dist-packages/ipykernel_launcher.py:14: UserWarning: Implicit dimension choice for softmax has been deprecated. Change the call to include dim=X as an argument.\n",
            "  \n"
          ],
          "name": "stderr"
        },
        {
          "output_type": "stream",
          "text": [
            "Epoch [1/10], Step [100/600], Loss: 1.5656\n",
            "Epoch [1/10], Step [200/600], Loss: 1.5331\n",
            "Epoch [1/10], Step [300/600], Loss: 1.5583\n",
            "Epoch [1/10], Step [400/600], Loss: 1.5758\n",
            "Epoch [1/10], Step [500/600], Loss: 1.5238\n",
            "Epoch [1/10], Step [600/600], Loss: 1.5676\n",
            "Epoch [2/10], Step [100/600], Loss: 1.5509\n",
            "Epoch [2/10], Step [200/600], Loss: 1.5337\n",
            "Epoch [2/10], Step [300/600], Loss: 1.5804\n",
            "Epoch [2/10], Step [400/600], Loss: 1.5514\n",
            "Epoch [2/10], Step [500/600], Loss: 1.5579\n",
            "Epoch [2/10], Step [600/600], Loss: 1.5123\n",
            "Epoch [3/10], Step [100/600], Loss: 1.5360\n",
            "Epoch [3/10], Step [200/600], Loss: 1.5246\n",
            "Epoch [3/10], Step [300/600], Loss: 1.5379\n",
            "Epoch [3/10], Step [400/600], Loss: 1.5180\n",
            "Epoch [3/10], Step [500/600], Loss: 1.5309\n",
            "Epoch [3/10], Step [600/600], Loss: 1.5590\n",
            "Epoch [4/10], Step [100/600], Loss: 1.5604\n",
            "Epoch [4/10], Step [200/600], Loss: 1.5419\n",
            "Epoch [4/10], Step [300/600], Loss: 1.5235\n",
            "Epoch [4/10], Step [400/600], Loss: 1.5244\n",
            "Epoch [4/10], Step [500/600], Loss: 1.5259\n",
            "Epoch [4/10], Step [600/600], Loss: 1.5498\n",
            "Epoch [5/10], Step [100/600], Loss: 1.5713\n",
            "Epoch [5/10], Step [200/600], Loss: 1.5819\n",
            "Epoch [5/10], Step [300/600], Loss: 1.5282\n",
            "Epoch [5/10], Step [400/600], Loss: 1.5641\n",
            "Epoch [5/10], Step [500/600], Loss: 1.5111\n",
            "Epoch [5/10], Step [600/600], Loss: 1.5413\n",
            "Epoch [6/10], Step [100/600], Loss: 1.5388\n",
            "Epoch [6/10], Step [200/600], Loss: 1.5358\n",
            "Epoch [6/10], Step [300/600], Loss: 1.5616\n",
            "Epoch [6/10], Step [400/600], Loss: 1.5417\n",
            "Epoch [6/10], Step [500/600], Loss: 1.5286\n",
            "Epoch [6/10], Step [600/600], Loss: 1.5016\n",
            "Epoch [7/10], Step [100/600], Loss: 1.5407\n",
            "Epoch [7/10], Step [200/600], Loss: 1.5341\n",
            "Epoch [7/10], Step [300/600], Loss: 1.5222\n",
            "Epoch [7/10], Step [400/600], Loss: 1.5667\n",
            "Epoch [7/10], Step [500/600], Loss: 1.5323\n",
            "Epoch [7/10], Step [600/600], Loss: 1.5046\n",
            "Epoch [8/10], Step [100/600], Loss: 1.4997\n",
            "Epoch [8/10], Step [200/600], Loss: 1.5487\n",
            "Epoch [8/10], Step [300/600], Loss: 1.5348\n",
            "Epoch [8/10], Step [400/600], Loss: 1.5412\n",
            "Epoch [8/10], Step [500/600], Loss: 1.5550\n",
            "Epoch [8/10], Step [600/600], Loss: 1.5181\n",
            "Epoch [9/10], Step [100/600], Loss: 1.5115\n",
            "Epoch [9/10], Step [200/600], Loss: 1.5392\n",
            "Epoch [9/10], Step [300/600], Loss: 1.5017\n",
            "Epoch [9/10], Step [400/600], Loss: 1.5607\n",
            "Epoch [9/10], Step [500/600], Loss: 1.5309\n",
            "Epoch [9/10], Step [600/600], Loss: 1.5271\n",
            "Epoch [10/10], Step [100/600], Loss: 1.5590\n",
            "Epoch [10/10], Step [200/600], Loss: 1.5463\n",
            "Epoch [10/10], Step [300/600], Loss: 1.5163\n",
            "Epoch [10/10], Step [400/600], Loss: 1.5115\n",
            "Epoch [10/10], Step [500/600], Loss: 1.5389\n",
            "Epoch [10/10], Step [600/600], Loss: 1.5144\n"
          ],
          "name": "stdout"
        }
      ]
    },
    {
      "cell_type": "code",
      "metadata": {
        "id": "t7O3umBGSC3n"
      },
      "source": [
        "# Every batch contains 100 images, as we set at the beggining, by giving the value 100 to the constructor argument 'mini_batch' .\n",
        "for i, (image, labels) in enumerate(Data_train):\n",
        "  print(f\"Batch's number {i} ---> Images from the batch: {image} ---> Labels:  {labels}\")\n",
        "  \n",
        "  "
      ],
      "execution_count": null,
      "outputs": []
    },
    {
      "cell_type": "code",
      "metadata": {
        "colab": {
          "base_uri": "https://localhost:8080/"
        },
        "id": "4LjB7zPS6n--",
        "outputId": "97bba0b4-bce6-4b21-dc38-e77a7c9db3e7"
      },
      "source": [
        "# The iter() function (which in turn calls the __iter__() method) returns an iterator from them. Iterator in Python is simply an object that can be iterated upon\n",
        "# We use the next() function to manually iterate through all the items of an iterator.\n",
        "# When we reach the end and there is no more data to be returned, it will raise the StopIteration\n",
        "# a Python iterator object must implement two special methods, __iter__() and __next__(), collectively called the iterator protocol.\n",
        "it = iter(Data_train)\n",
        "first = next(it) # this will output a list with 2 elements, corresponding to the first batch\n",
        "second = next(it) # # this will output a list with 2 elements, corresponding to the second batch\n",
        "print(type(first[0]))\n",
        "print(type(first[1]))\n",
        "print(type(first)) # first is a list containing 2 tensors\n",
        "print(f'This is the tensorial representation of the images in the first batch: {first[0]}')\n",
        "print(len(first[0]))\n",
        "print(first[0].size())\n",
        "print(f' Corresponding labels: {first[1]}')\n",
        "print(len(first[1]))\n",
        "print(first[1].size())\n"
      ],
      "execution_count": null,
      "outputs": [
        {
          "output_type": "stream",
          "text": [
            "<class 'torch.Tensor'>\n",
            "<class 'torch.Tensor'>\n",
            "<class 'list'>\n",
            "This is the tensorial representation of the images in the first batch: tensor([[[[0., 0., 0.,  ..., 0., 0., 0.],\n",
            "          [0., 0., 0.,  ..., 0., 0., 0.],\n",
            "          [0., 0., 0.,  ..., 0., 0., 0.],\n",
            "          ...,\n",
            "          [0., 0., 0.,  ..., 0., 0., 0.],\n",
            "          [0., 0., 0.,  ..., 0., 0., 0.],\n",
            "          [0., 0., 0.,  ..., 0., 0., 0.]]],\n",
            "\n",
            "\n",
            "        [[[0., 0., 0.,  ..., 0., 0., 0.],\n",
            "          [0., 0., 0.,  ..., 0., 0., 0.],\n",
            "          [0., 0., 0.,  ..., 0., 0., 0.],\n",
            "          ...,\n",
            "          [0., 0., 0.,  ..., 0., 0., 0.],\n",
            "          [0., 0., 0.,  ..., 0., 0., 0.],\n",
            "          [0., 0., 0.,  ..., 0., 0., 0.]]],\n",
            "\n",
            "\n",
            "        [[[0., 0., 0.,  ..., 0., 0., 0.],\n",
            "          [0., 0., 0.,  ..., 0., 0., 0.],\n",
            "          [0., 0., 0.,  ..., 0., 0., 0.],\n",
            "          ...,\n",
            "          [0., 0., 0.,  ..., 0., 0., 0.],\n",
            "          [0., 0., 0.,  ..., 0., 0., 0.],\n",
            "          [0., 0., 0.,  ..., 0., 0., 0.]]],\n",
            "\n",
            "\n",
            "        ...,\n",
            "\n",
            "\n",
            "        [[[0., 0., 0.,  ..., 0., 0., 0.],\n",
            "          [0., 0., 0.,  ..., 0., 0., 0.],\n",
            "          [0., 0., 0.,  ..., 0., 0., 0.],\n",
            "          ...,\n",
            "          [0., 0., 0.,  ..., 0., 0., 0.],\n",
            "          [0., 0., 0.,  ..., 0., 0., 0.],\n",
            "          [0., 0., 0.,  ..., 0., 0., 0.]]],\n",
            "\n",
            "\n",
            "        [[[0., 0., 0.,  ..., 0., 0., 0.],\n",
            "          [0., 0., 0.,  ..., 0., 0., 0.],\n",
            "          [0., 0., 0.,  ..., 0., 0., 0.],\n",
            "          ...,\n",
            "          [0., 0., 0.,  ..., 0., 0., 0.],\n",
            "          [0., 0., 0.,  ..., 0., 0., 0.],\n",
            "          [0., 0., 0.,  ..., 0., 0., 0.]]],\n",
            "\n",
            "\n",
            "        [[[0., 0., 0.,  ..., 0., 0., 0.],\n",
            "          [0., 0., 0.,  ..., 0., 0., 0.],\n",
            "          [0., 0., 0.,  ..., 0., 0., 0.],\n",
            "          ...,\n",
            "          [0., 0., 0.,  ..., 0., 0., 0.],\n",
            "          [0., 0., 0.,  ..., 0., 0., 0.],\n",
            "          [0., 0., 0.,  ..., 0., 0., 0.]]]])\n",
            "100\n",
            "torch.Size([100, 1, 28, 28])\n",
            " Corresponding labels: tensor([0, 0, 2, 3, 2, 1, 1, 1, 4, 2, 9, 9, 7, 2, 4, 5, 2, 8, 9, 4, 8, 0, 2, 2,\n",
            "        9, 8, 4, 7, 9, 7, 8, 3, 0, 1, 4, 5, 5, 1, 9, 0, 4, 9, 3, 8, 0, 9, 9, 4,\n",
            "        9, 4, 3, 2, 6, 0, 0, 9, 3, 8, 7, 2, 2, 0, 8, 3, 8, 8, 5, 2, 9, 9, 0, 1,\n",
            "        0, 2, 2, 6, 8, 4, 4, 9, 6, 1, 8, 6, 4, 8, 5, 1, 8, 9, 7, 3, 7, 8, 5, 6,\n",
            "        0, 6, 5, 3])\n",
            "100\n",
            "torch.Size([100])\n"
          ],
          "name": "stdout"
        }
      ]
    },
    {
      "cell_type": "code",
      "metadata": {
        "colab": {
          "base_uri": "https://localhost:8080/",
          "height": 1000
        },
        "id": "Qe4ti9sMW0xK",
        "outputId": "62223eaa-2382-4831-b3d7-fdf804cb3bbf"
      },
      "source": [
        "print(f'Label of this image: {first[1][0].item()}')\n",
        "#first[0][0] is the first image from the first batch\n",
        "first[0][0].shape\n",
        "first_ndarray = first[0][0].squeeze().numpy()\n",
        "# numpy() function is the converter form torch.Tensor to numpy array. This implicitly means that the converted tensor will be now processed on the CPU\n",
        "#as ndarrays can't run on GPU\n",
        "print(first_ndarray)\n",
        "plt.imshow(first_ndarray)\n",
        "plt.colorbar()\n",
        "\n",
        "\n"
      ],
      "execution_count": null,
      "outputs": [
        {
          "output_type": "stream",
          "text": [
            "Label of this image: 0\n",
            "[[0.         0.         0.         0.         0.         0.\n",
            "  0.         0.         0.         0.         0.         0.\n",
            "  0.         0.         0.         0.         0.         0.\n",
            "  0.         0.         0.         0.         0.         0.\n",
            "  0.         0.         0.         0.        ]\n",
            " [0.         0.         0.         0.         0.         0.\n",
            "  0.         0.         0.         0.         0.         0.\n",
            "  0.         0.         0.         0.         0.         0.\n",
            "  0.         0.         0.         0.         0.         0.\n",
            "  0.         0.         0.         0.        ]\n",
            " [0.         0.         0.         0.         0.         0.\n",
            "  0.         0.         0.         0.         0.         0.\n",
            "  0.         0.         0.         0.         0.         0.\n",
            "  0.         0.         0.         0.         0.         0.\n",
            "  0.         0.         0.         0.        ]\n",
            " [0.         0.         0.         0.         0.         0.\n",
            "  0.         0.         0.         0.         0.         0.\n",
            "  0.         0.         0.         0.         0.         0.\n",
            "  0.         0.         0.         0.         0.         0.\n",
            "  0.         0.         0.         0.        ]\n",
            " [0.         0.         0.         0.         0.         0.\n",
            "  0.         0.         0.         0.         0.         0.\n",
            "  0.         0.         0.         0.         0.         0.\n",
            "  0.         0.         0.         0.         0.         0.\n",
            "  0.         0.         0.         0.        ]\n",
            " [0.         0.         0.         0.         0.         0.\n",
            "  0.         0.         0.         0.         0.         0.\n",
            "  0.         0.2509804  0.89411765 0.7921569  0.12156863 0.\n",
            "  0.         0.         0.         0.         0.         0.\n",
            "  0.         0.         0.         0.        ]\n",
            " [0.         0.         0.         0.         0.         0.\n",
            "  0.         0.         0.         0.         0.         0.04705882\n",
            "  0.69803923 0.9764706  0.99215686 0.99607843 0.8745098  0.31764707\n",
            "  0.41960785 0.0627451  0.         0.         0.         0.\n",
            "  0.         0.         0.         0.        ]\n",
            " [0.         0.         0.         0.         0.         0.\n",
            "  0.         0.         0.         0.         0.         0.5686275\n",
            "  0.99215686 0.99215686 0.99215686 0.99607843 0.99215686 0.99215686\n",
            "  0.99215686 0.7647059  0.         0.         0.         0.\n",
            "  0.         0.         0.         0.        ]\n",
            " [0.         0.         0.         0.         0.         0.\n",
            "  0.         0.         0.         0.         0.1254902  0.9529412\n",
            "  0.99215686 0.99215686 0.99215686 0.99607843 0.99215686 0.99215686\n",
            "  0.99215686 0.99215686 0.43529412 0.         0.         0.\n",
            "  0.         0.         0.         0.        ]\n",
            " [0.         0.         0.         0.         0.         0.\n",
            "  0.         0.         0.         0.         0.5372549  0.99215686\n",
            "  0.99215686 0.99215686 0.8627451  0.99607843 0.99215686 0.99215686\n",
            "  0.99215686 0.99215686 0.70980394 0.         0.         0.\n",
            "  0.         0.         0.         0.        ]\n",
            " [0.         0.         0.         0.         0.         0.\n",
            "  0.         0.         0.         0.         0.7411765  0.99607843\n",
            "  0.8        0.33333334 0.         0.6666667  0.7529412  0.30588236\n",
            "  0.78431374 0.99607843 0.89411765 0.04705882 0.         0.\n",
            "  0.         0.         0.         0.        ]\n",
            " [0.         0.         0.         0.         0.         0.\n",
            "  0.         0.         0.         0.20784314 0.99607843 0.99215686\n",
            "  0.69803923 0.         0.         0.01960784 0.03137255 0.\n",
            "  0.7058824  0.99215686 0.99607843 0.07058824 0.         0.\n",
            "  0.         0.         0.         0.        ]\n",
            " [0.         0.         0.         0.         0.         0.\n",
            "  0.         0.         0.         0.40784314 0.99607843 0.9607843\n",
            "  0.21960784 0.         0.         0.         0.         0.\n",
            "  0.2509804  0.99215686 0.99607843 0.24705882 0.         0.\n",
            "  0.         0.         0.         0.        ]\n",
            " [0.         0.         0.         0.         0.         0.\n",
            "  0.         0.         0.         0.70980394 0.99607843 0.62352943\n",
            "  0.         0.         0.         0.         0.         0.\n",
            "  0.06666667 0.972549   0.99607843 0.5764706  0.         0.\n",
            "  0.         0.         0.         0.        ]\n",
            " [0.         0.         0.         0.         0.         0.\n",
            "  0.         0.         0.02745098 0.8117647  0.99607843 0.42352942\n",
            "  0.         0.         0.         0.         0.         0.\n",
            "  0.         0.5803922  0.99607843 0.7764706  0.         0.\n",
            "  0.         0.         0.         0.        ]\n",
            " [0.         0.         0.         0.         0.         0.\n",
            "  0.         0.         0.07450981 0.99607843 1.         0.42745098\n",
            "  0.         0.         0.         0.         0.         0.\n",
            "  0.02352941 0.6666667  1.         0.78039217 0.         0.\n",
            "  0.         0.         0.         0.        ]\n",
            " [0.         0.         0.         0.         0.         0.\n",
            "  0.         0.         0.14901961 0.99215686 0.99607843 0.34901962\n",
            "  0.         0.         0.         0.         0.         0.\n",
            "  0.3529412  0.99215686 0.99607843 0.24705882 0.         0.\n",
            "  0.         0.         0.         0.        ]\n",
            " [0.         0.         0.         0.         0.         0.\n",
            "  0.         0.         0.42745098 0.99215686 0.99607843 0.07058824\n",
            "  0.         0.         0.         0.         0.         0.1764706\n",
            "  0.9607843  0.99215686 0.64705884 0.01176471 0.         0.\n",
            "  0.         0.         0.         0.        ]\n",
            " [0.         0.         0.         0.         0.         0.\n",
            "  0.         0.         0.7058824  0.99215686 0.99607843 0.07058824\n",
            "  0.         0.         0.         0.         0.11764706 0.8352941\n",
            "  0.99215686 0.9647059  0.         0.         0.         0.\n",
            "  0.         0.         0.         0.        ]\n",
            " [0.         0.         0.         0.         0.         0.\n",
            "  0.         0.         0.78039217 0.99215686 0.99607843 0.19607843\n",
            "  0.         0.         0.         0.23137255 0.84705883 0.99215686\n",
            "  0.9647059  0.4117647  0.         0.         0.         0.\n",
            "  0.         0.         0.         0.        ]\n",
            " [0.         0.         0.         0.         0.         0.\n",
            "  0.         0.         0.5529412  0.99607843 1.         0.42745098\n",
            "  0.         0.02352941 0.5372549  1.         0.99607843 0.99607843\n",
            "  0.5921569  0.         0.         0.         0.         0.\n",
            "  0.         0.         0.         0.        ]\n",
            " [0.         0.         0.         0.         0.         0.\n",
            "  0.         0.         0.09803922 0.99215686 0.99607843 0.42352942\n",
            "  0.         0.48235294 0.99215686 0.99607843 0.99215686 0.5764706\n",
            "  0.01568628 0.         0.         0.         0.         0.\n",
            "  0.         0.         0.         0.        ]\n",
            " [0.         0.         0.         0.         0.         0.\n",
            "  0.         0.         0.01176471 0.7490196  0.99607843 0.9098039\n",
            "  0.59607846 0.9607843  0.99215686 0.99607843 0.80784315 0.01960784\n",
            "  0.         0.         0.         0.         0.         0.\n",
            "  0.         0.         0.         0.        ]\n",
            " [0.         0.         0.         0.         0.         0.\n",
            "  0.         0.         0.         0.5294118  0.99607843 0.99215686\n",
            "  0.99215686 0.99215686 0.99215686 0.99607843 0.4745098  0.\n",
            "  0.         0.         0.         0.         0.         0.\n",
            "  0.         0.         0.         0.        ]\n",
            " [0.         0.         0.         0.         0.         0.\n",
            "  0.         0.         0.         0.         0.50980395 0.70980394\n",
            "  0.9411765  0.63529414 0.5058824  0.53333336 0.01960784 0.\n",
            "  0.         0.         0.         0.         0.         0.\n",
            "  0.         0.         0.         0.        ]\n",
            " [0.         0.         0.         0.         0.         0.\n",
            "  0.         0.         0.         0.         0.         0.\n",
            "  0.         0.         0.         0.         0.         0.\n",
            "  0.         0.         0.         0.         0.         0.\n",
            "  0.         0.         0.         0.        ]\n",
            " [0.         0.         0.         0.         0.         0.\n",
            "  0.         0.         0.         0.         0.         0.\n",
            "  0.         0.         0.         0.         0.         0.\n",
            "  0.         0.         0.         0.         0.         0.\n",
            "  0.         0.         0.         0.        ]\n",
            " [0.         0.         0.         0.         0.         0.\n",
            "  0.         0.         0.         0.         0.         0.\n",
            "  0.         0.         0.         0.         0.         0.\n",
            "  0.         0.         0.         0.         0.         0.\n",
            "  0.         0.         0.         0.        ]]\n"
          ],
          "name": "stdout"
        },
        {
          "output_type": "execute_result",
          "data": {
            "text/plain": [
              "<matplotlib.colorbar.Colorbar at 0x7f99ad16bd10>"
            ]
          },
          "metadata": {
            "tags": []
          },
          "execution_count": 10
        },
        {
          "output_type": "display_data",
          "data": {
            "image/png": "[encoded data removed]",
            "text/plain": [
              "<Figure size 432x288 with 2 Axes>"
            ]
          },
          "metadata": {
            "tags": [],
            "needs_background": "light"
          }
        }
      ]
    },
    {
      "cell_type": "markdown",
      "metadata": {
        "id": "M-Q_jOis9zYS"
      },
      "source": [
        "Now, we'll prepare the right environment for implementing the Integrated Gradients method, using **Captum**, an open source, extensible library for model interpretability built on PyTorch. \n",
        "\n",
        "https://captum.ai/docs/introduction.html"
      ]
    },
    {
      "cell_type": "code",
      "metadata": {
        "colab": {
          "base_uri": "https://localhost:8080/"
        },
        "id": "ZNqSRE88ghfF",
        "outputId": "74c3cb82-4815-4bd0-e548-6d2ac218a485"
      },
      "source": [
        "!pip install captum\n",
        "from captum.attr import IntegratedGradients"
      ],
      "execution_count": null,
      "outputs": [
        {
          "output_type": "stream",
          "text": [
            "Collecting captum\n",
            "  Downloading captum-0.4.0-py3-none-any.whl (1.4 MB)\n",
            "\u001b[?25l\r\u001b[K     |▎                               | 10 kB 24.0 MB/s eta 0:00:01\r\u001b[K     |▌                               | 20 kB 26.8 MB/s eta 0:00:01\r\u001b[K     |▊                               | 30 kB 30.8 MB/s eta 0:00:01\r\u001b[K     |█                               | 40 kB 23.7 MB/s eta 0:00:01\r\u001b[K     |█▏                              | 51 kB 19.9 MB/s eta 0:00:01\r\u001b[K     |█▍                              | 61 kB 14.4 MB/s eta 0:00:01\r\u001b[K     |█▋                              | 71 kB 13.0 MB/s eta 0:00:01\r\u001b[K     |██                              | 81 kB 14.0 MB/s eta 0:00:01\r\u001b[K     |██▏                             | 92 kB 14.1 MB/s eta 0:00:01\r\u001b[K     |██▍                             | 102 kB 15.1 MB/s eta 0:00:01\r\u001b[K     |██▋                             | 112 kB 15.1 MB/s eta 0:00:01\r\u001b[K     |██▉                             | 122 kB 15.1 MB/s eta 0:00:01\r\u001b[K     |███                             | 133 kB 15.1 MB/s eta 0:00:01\r\u001b[K     |███▎                            | 143 kB 15.1 MB/s eta 0:00:01\r\u001b[K     |███▌                            | 153 kB 15.1 MB/s eta 0:00:01\r\u001b[K     |███▉                            | 163 kB 15.1 MB/s eta 0:00:01\r\u001b[K     |████                            | 174 kB 15.1 MB/s eta 0:00:01\r\u001b[K     |████▎                           | 184 kB 15.1 MB/s eta 0:00:01\r\u001b[K     |████▌                           | 194 kB 15.1 MB/s eta 0:00:01\r\u001b[K     |████▊                           | 204 kB 15.1 MB/s eta 0:00:01\r\u001b[K     |█████                           | 215 kB 15.1 MB/s eta 0:00:01\r\u001b[K     |█████▏                          | 225 kB 15.1 MB/s eta 0:00:01\r\u001b[K     |█████▌                          | 235 kB 15.1 MB/s eta 0:00:01\r\u001b[K     |█████▊                          | 245 kB 15.1 MB/s eta 0:00:01\r\u001b[K     |██████                          | 256 kB 15.1 MB/s eta 0:00:01\r\u001b[K     |██████▏                         | 266 kB 15.1 MB/s eta 0:00:01\r\u001b[K     |██████▍                         | 276 kB 15.1 MB/s eta 0:00:01\r\u001b[K     |██████▋                         | 286 kB 15.1 MB/s eta 0:00:01\r\u001b[K     |██████▉                         | 296 kB 15.1 MB/s eta 0:00:01\r\u001b[K     |███████                         | 307 kB 15.1 MB/s eta 0:00:01\r\u001b[K     |███████▍                        | 317 kB 15.1 MB/s eta 0:00:01\r\u001b[K     |███████▋                        | 327 kB 15.1 MB/s eta 0:00:01\r\u001b[K     |███████▉                        | 337 kB 15.1 MB/s eta 0:00:01\r\u001b[K     |████████                        | 348 kB 15.1 MB/s eta 0:00:01\r\u001b[K     |████████▎                       | 358 kB 15.1 MB/s eta 0:00:01\r\u001b[K     |████████▌                       | 368 kB 15.1 MB/s eta 0:00:01\r\u001b[K     |████████▊                       | 378 kB 15.1 MB/s eta 0:00:01\r\u001b[K     |█████████                       | 389 kB 15.1 MB/s eta 0:00:01\r\u001b[K     |█████████▎                      | 399 kB 15.1 MB/s eta 0:00:01\r\u001b[K     |█████████▌                      | 409 kB 15.1 MB/s eta 0:00:01\r\u001b[K     |█████████▊                      | 419 kB 15.1 MB/s eta 0:00:01\r\u001b[K     |██████████                      | 430 kB 15.1 MB/s eta 0:00:01\r\u001b[K     |██████████▏                     | 440 kB 15.1 MB/s eta 0:00:01\r\u001b[K     |██████████▍                     | 450 kB 15.1 MB/s eta 0:00:01\r\u001b[K     |██████████▋                     | 460 kB 15.1 MB/s eta 0:00:01\r\u001b[K     |███████████                     | 471 kB 15.1 MB/s eta 0:00:01\r\u001b[K     |███████████▏                    | 481 kB 15.1 MB/s eta 0:00:01\r\u001b[K     |███████████▍                    | 491 kB 15.1 MB/s eta 0:00:01\r\u001b[K     |███████████▋                    | 501 kB 15.1 MB/s eta 0:00:01\r\u001b[K     |███████████▉                    | 512 kB 15.1 MB/s eta 0:00:01\r\u001b[K     |████████████                    | 522 kB 15.1 MB/s eta 0:00:01\r\u001b[K     |████████████▎                   | 532 kB 15.1 MB/s eta 0:00:01\r\u001b[K     |████████████▌                   | 542 kB 15.1 MB/s eta 0:00:01\r\u001b[K     |████████████▉                   | 552 kB 15.1 MB/s eta 0:00:01\r\u001b[K     |█████████████                   | 563 kB 15.1 MB/s eta 0:00:01\r\u001b[K     |█████████████▎                  | 573 kB 15.1 MB/s eta 0:00:01\r\u001b[K     |█████████████▌                  | 583 kB 15.1 MB/s eta 0:00:01\r\u001b[K     |█████████████▊                  | 593 kB 15.1 MB/s eta 0:00:01\r\u001b[K     |██████████████                  | 604 kB 15.1 MB/s eta 0:00:01\r\u001b[K     |██████████████▏                 | 614 kB 15.1 MB/s eta 0:00:01\r\u001b[K     |██████████████▍                 | 624 kB 15.1 MB/s eta 0:00:01\r\u001b[K     |██████████████▊                 | 634 kB 15.1 MB/s eta 0:00:01\r\u001b[K     |███████████████                 | 645 kB 15.1 MB/s eta 0:00:01\r\u001b[K     |███████████████▏                | 655 kB 15.1 MB/s eta 0:00:01\r\u001b[K     |███████████████▍                | 665 kB 15.1 MB/s eta 0:00:01\r\u001b[K     |███████████████▋                | 675 kB 15.1 MB/s eta 0:00:01\r\u001b[K     |███████████████▉                | 686 kB 15.1 MB/s eta 0:00:01\r\u001b[K     |████████████████                | 696 kB 15.1 MB/s eta 0:00:01\r\u001b[K     |████████████████▍               | 706 kB 15.1 MB/s eta 0:00:01\r\u001b[K     |████████████████▋               | 716 kB 15.1 MB/s eta 0:00:01\r\u001b[K     |████████████████▉               | 727 kB 15.1 MB/s eta 0:00:01\r\u001b[K     |█████████████████               | 737 kB 15.1 MB/s eta 0:00:01\r\u001b[K     |█████████████████▎              | 747 kB 15.1 MB/s eta 0:00:01\r\u001b[K     |█████████████████▌              | 757 kB 15.1 MB/s eta 0:00:01\r\u001b[K     |█████████████████▊              | 768 kB 15.1 MB/s eta 0:00:01\r\u001b[K     |██████████████████              | 778 kB 15.1 MB/s eta 0:00:01\r\u001b[K     |██████████████████▎             | 788 kB 15.1 MB/s eta 0:00:01\r\u001b[K     |██████████████████▌             | 798 kB 15.1 MB/s eta 0:00:01\r\u001b[K     |██████████████████▊             | 808 kB 15.1 MB/s eta 0:00:01\r\u001b[K     |███████████████████             | 819 kB 15.1 MB/s eta 0:00:01\r\u001b[K     |███████████████████▏            | 829 kB 15.1 MB/s eta 0:00:01\r\u001b[K     |███████████████████▍            | 839 kB 15.1 MB/s eta 0:00:01\r\u001b[K     |███████████████████▋            | 849 kB 15.1 MB/s eta 0:00:01\r\u001b[K     |███████████████████▉            | 860 kB 15.1 MB/s eta 0:00:01\r\u001b[K     |████████████████████▏           | 870 kB 15.1 MB/s eta 0:00:01\r\u001b[K     |████████████████████▍           | 880 kB 15.1 MB/s eta 0:00:01\r\u001b[K     |████████████████████▋           | 890 kB 15.1 MB/s eta 0:00:01\r\u001b[K     |████████████████████▉           | 901 kB 15.1 MB/s eta 0:00:01\r\u001b[K     |█████████████████████           | 911 kB 15.1 MB/s eta 0:00:01\r\u001b[K     |█████████████████████▎          | 921 kB 15.1 MB/s eta 0:00:01\r\u001b[K     |█████████████████████▌          | 931 kB 15.1 MB/s eta 0:00:01\r\u001b[K     |█████████████████████▉          | 942 kB 15.1 MB/s eta 0:00:01\r\u001b[K     |██████████████████████          | 952 kB 15.1 MB/s eta 0:00:01\r\u001b[K     |██████████████████████▎         | 962 kB 15.1 MB/s eta 0:00:01\r\u001b[K     |██████████████████████▌         | 972 kB 15.1 MB/s eta 0:00:01\r\u001b[K     |██████████████████████▊         | 983 kB 15.1 MB/s eta 0:00:01\r\u001b[K     |███████████████████████         | 993 kB 15.1 MB/s eta 0:00:01\r\u001b[K     |███████████████████████▏        | 1.0 MB 15.1 MB/s eta 0:00:01\r\u001b[K     |███████████████████████▍        | 1.0 MB 15.1 MB/s eta 0:00:01\r\u001b[K     |███████████████████████▊        | 1.0 MB 15.1 MB/s eta 0:00:01\r\u001b[K     |████████████████████████        | 1.0 MB 15.1 MB/s eta 0:00:01\r\u001b[K     |████████████████████████▏       | 1.0 MB 15.1 MB/s eta 0:00:01\r\u001b[K     |████████████████████████▍       | 1.1 MB 15.1 MB/s eta 0:00:01\r\u001b[K     |████████████████████████▋       | 1.1 MB 15.1 MB/s eta 0:00:01\r\u001b[K     |████████████████████████▉       | 1.1 MB 15.1 MB/s eta 0:00:01\r\u001b[K     |█████████████████████████       | 1.1 MB 15.1 MB/s eta 0:00:01\r\u001b[K     |█████████████████████████▎      | 1.1 MB 15.1 MB/s eta 0:00:01\r\u001b[K     |█████████████████████████▋      | 1.1 MB 15.1 MB/s eta 0:00:01\r\u001b[K     |█████████████████████████▉      | 1.1 MB 15.1 MB/s eta 0:00:01\r\u001b[K     |██████████████████████████      | 1.1 MB 15.1 MB/s eta 0:00:01\r\u001b[K     |██████████████████████████▎     | 1.1 MB 15.1 MB/s eta 0:00:01\r\u001b[K     |██████████████████████████▌     | 1.1 MB 15.1 MB/s eta 0:00:01\r\u001b[K     |██████████████████████████▊     | 1.2 MB 15.1 MB/s eta 0:00:01\r\u001b[K     |███████████████████████████     | 1.2 MB 15.1 MB/s eta 0:00:01\r\u001b[K     |███████████████████████████▎    | 1.2 MB 15.1 MB/s eta 0:00:01\r\u001b[K     |███████████████████████████▌    | 1.2 MB 15.1 MB/s eta 0:00:01\r\u001b[K     |███████████████████████████▊    | 1.2 MB 15.1 MB/s eta 0:00:01\r\u001b[K     |████████████████████████████    | 1.2 MB 15.1 MB/s eta 0:00:01\r\u001b[K     |████████████████████████████▏   | 1.2 MB 15.1 MB/s eta 0:00:01\r\u001b[K     |████████████████████████████▍   | 1.2 MB 15.1 MB/s eta 0:00:01\r\u001b[K     |████████████████████████████▋   | 1.2 MB 15.1 MB/s eta 0:00:01\r\u001b[K     |████████████████████████████▉   | 1.2 MB 15.1 MB/s eta 0:00:01\r\u001b[K     |█████████████████████████████▏  | 1.3 MB 15.1 MB/s eta 0:00:01\r\u001b[K     |█████████████████████████████▍  | 1.3 MB 15.1 MB/s eta 0:00:01\r\u001b[K     |█████████████████████████████▋  | 1.3 MB 15.1 MB/s eta 0:00:01\r\u001b[K     |█████████████████████████████▉  | 1.3 MB 15.1 MB/s eta 0:00:01\r\u001b[K     |██████████████████████████████  | 1.3 MB 15.1 MB/s eta 0:00:01\r\u001b[K     |██████████████████████████████▎ | 1.3 MB 15.1 MB/s eta 0:00:01\r\u001b[K     |██████████████████████████████▌ | 1.3 MB 15.1 MB/s eta 0:00:01\r\u001b[K     |██████████████████████████████▊ | 1.3 MB 15.1 MB/s eta 0:00:01\r\u001b[K     |███████████████████████████████ | 1.3 MB 15.1 MB/s eta 0:00:01\r\u001b[K     |███████████████████████████████▎| 1.4 MB 15.1 MB/s eta 0:00:01\r\u001b[K     |███████████████████████████████▌| 1.4 MB 15.1 MB/s eta 0:00:01\r\u001b[K     |███████████████████████████████▊| 1.4 MB 15.1 MB/s eta 0:00:01\r\u001b[K     |████████████████████████████████| 1.4 MB 15.1 MB/s eta 0:00:01\r\u001b[K     |████████████████████████████████| 1.4 MB 15.1 MB/s \n",
            "\u001b[?25hRequirement already satisfied: numpy in /usr/local/lib/python3.7/dist-packages (from captum) (1.19.5)\n",
            "Requirement already satisfied: torch>=1.2 in /usr/local/lib/python3.7/dist-packages (from captum) (1.9.0+cu102)\n",
            "Requirement already satisfied: matplotlib in /usr/local/lib/python3.7/dist-packages (from captum) (3.2.2)\n",
            "Requirement already satisfied: typing-extensions in /usr/local/lib/python3.7/dist-packages (from torch>=1.2->captum) (3.7.4.3)\n",
            "Requirement already satisfied: cycler>=0.10 in /usr/local/lib/python3.7/dist-packages (from matplotlib->captum) (0.10.0)\n",
            "Requirement already satisfied: pyparsing!=2.0.4,!=2.1.2,!=2.1.6,>=2.0.1 in /usr/local/lib/python3.7/dist-packages (from matplotlib->captum) (2.4.7)\n",
            "Requirement already satisfied: kiwisolver>=1.0.1 in /usr/local/lib/python3.7/dist-packages (from matplotlib->captum) (1.3.1)\n",
            "Requirement already satisfied: python-dateutil>=2.1 in /usr/local/lib/python3.7/dist-packages (from matplotlib->captum) (2.8.1)\n",
            "Requirement already satisfied: six in /usr/local/lib/python3.7/dist-packages (from cycler>=0.10->matplotlib->captum) (1.15.0)\n",
            "Installing collected packages: captum\n",
            "Successfully installed captum-0.4.0\n"
          ],
          "name": "stdout"
        }
      ]
    },
    {
      "cell_type": "code",
      "metadata": {
        "colab": {
          "base_uri": "https://localhost:8080/",
          "height": 330
        },
        "id": "jGZALO8drECI",
        "outputId": "0ab9c276-ec2c-4918-d996-5f728fd4befb"
      },
      "source": [
        "input1 = first[0][0].reshape(1, 1, 28, 28)\n",
        "input1.require_grad = True\n",
        "\n",
        "baseline = torch.zeros(tuple(input1.size()))\n",
        "\n",
        "ig = IntegratedGradients(net)\n",
        "attributions = ig.attribute(input1, target = 8)\n",
        "\n",
        "new_attributions = attributions.reshape(tuple(input1.squeeze().size()))\n",
        "\n",
        "plt.imshow(new_attributions)\n",
        "plt.colorbar()\n"
      ],
      "execution_count": null,
      "outputs": [
        {
          "output_type": "stream",
          "text": [
            "/usr/local/lib/python3.7/dist-packages/ipykernel_launcher.py:14: UserWarning: Implicit dimension choice for softmax has been deprecated. Change the call to include dim=X as an argument.\n",
            "  \n"
          ],
          "name": "stderr"
        },
        {
          "output_type": "execute_result",
          "data": {
            "text/plain": [
              "<matplotlib.colorbar.Colorbar at 0x7f99acb10250>"
            ]
          },
          "metadata": {
            "tags": []
          },
          "execution_count": 15
        },
        {
          "output_type": "display_data",
          "data": {
            "image/png": "[encoded data removed]",
            "text/plain": [
              "<Figure size 432x288 with 2 Axes>"
            ]
          },
          "metadata": {
            "tags": [],
            "needs_background": "light"
          }
        }
      ]
    },
    {
      "cell_type": "code",
      "metadata": {
        "colab": {
          "base_uri": "https://localhost:8080/",
          "height": 283
        },
        "id": "vVOaErMm9mFu",
        "outputId": "6cd25418-b3a8-4fcc-ef77-e59566487e94"
      },
      "source": [
        "input1.size()\n",
        "# The size of input 1 is still torch.Size([1, 1, 28, 28]), so we are going to reshape it and plot input1\n",
        "\n",
        "\n",
        "plt.imshow(input1.reshape(28, 28))"
      ],
      "execution_count": null,
      "outputs": [
        {
          "output_type": "execute_result",
          "data": {
            "text/plain": [
              "<matplotlib.image.AxesImage at 0x7f99aca99610>"
            ]
          },
          "metadata": {
            "tags": []
          },
          "execution_count": 19
        },
        {
          "output_type": "display_data",
          "data": {
            "image/png": "[encoded data removed]",
            "text/plain": [
              "<Figure size 432x288 with 1 Axes>"
            ]
          },
          "metadata": {
            "tags": [],
            "needs_background": "light"
          }
        }
      ]
    },
    {
      "cell_type": "code",
      "metadata": {
        "id": "auo3blzm5pK0"
      },
      "source": [
        ""
      ],
      "execution_count": null,
      "outputs": []
    },
    {
      "cell_type": "code",
      "metadata": {
        "id": "1WoDxGZnt2dJ"
      },
      "source": [
        "\n"
      ],
      "execution_count": null,
      "outputs": []
    }
  ]
}