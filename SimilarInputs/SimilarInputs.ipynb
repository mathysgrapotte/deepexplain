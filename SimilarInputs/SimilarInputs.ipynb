{
  "nbformat": 4,
  "nbformat_minor": 0,
  "metadata": {
    "colab": {
      "name": "EEML Similar Inputs tutorial.ipynb",
      "provenance": [],
      "collapsed_sections": []
    },
    "kernelspec": {
      "name": "python3",
      "display_name": "Python 3"
    },
    "language_info": {
      "name": "python"
    }
  },
  "cells": [
    {
      "cell_type": "markdown",
      "metadata": {
        "id": "ineS3BcpppBz"
      },
      "source": [
        "# Finding Similar Inputs\n",
        "Neural network classifiers usually make mistakes on test data. \n",
        "\n",
        "<img src=\"https://drive.google.com/uc?export=download&id=1p5K8QTbYvfcTLvjNIXjna1H3SO1mum5s\">\n",
        "\n",
        "This method may help to explain why an input was misclassified. We will:\n",
        "- Train a neural network on MNIST images\n",
        "- Find a few misclassified test inputs\n",
        "- Answer the question: which are the training examples most similar to the misclassifed input from the point of view of the network?\n",
        "\n",
        "## Method\n",
        "Inspired from [Caruana et al (1999)](https://www.ncbi.nlm.nih.gov/pmc/articles/PMC2232607/).\n",
        "\n",
        "We will save the activations of one hidden layer for the whole training dataset. Note: in the original paper, they record *all layers*. We picked only one for simplicity and because intuitively a deep layer is more representative than a shallow one.\n",
        "\n",
        "<img src=\"https://drive.google.com/uc?export=download&id=1BcnEpgFmQTKC3u7HNyZXe91V3-evflzE\">\n",
        "\n",
        "The activations will look like this:\n",
        "\n",
        "|                  | Neuron 1 | Neuron 2 | Neuron 3 |   ...    | Neuron n |\n",
        "| ---------------- | -------- | -------- | -------- | -------- | -------- |\n",
        "| Training image 1 |    0.5   |   0.7    |   2.1    |   ...    |   -1.1   |\n",
        "| Training image 2 |    -1.5  |   1.8    |   -3.2   |   ...    |   2.7    |\n",
        "| Training image 3 |    0.2   |   -0.3   |   1.1    |   ...    |   3.5    |\n",
        "|       ...        |    ...   |   ...    |   ...    |   ...    |   ...    |\n",
        "| Training image T |   -1.2   |   1.5    |   0.1    |   ...    |   0.7    |\n",
        "| Test image       |   0.8    |   0.3    |   0.9    |   ...    |   0.2    |\n",
        "\n",
        "Then, we will compare the activations of the test image with those, and using k-nearest-neighbors, we'll return the closest images.\n",
        "\n",
        "> ⚠️ This method relies on unverified assumptions: \n",
        "> 1. two inputs are similar from the network's point of view if they have similar activations; \n",
        "> 2. comparing activations with euclidean distance is a good idea.\n",
        "> \n",
        "> The method can be used to get a hypothesis, but it will require further verification."
      ]
    },
    {
      "cell_type": "code",
      "metadata": {
        "colab": {
          "base_uri": "https://localhost:8080/",
          "height": 302
        },
        "id": "jx6TYiAsC1y5",
        "cellView": "form",
        "outputId": "2751376d-03a5-4365-cce4-13e730ab7348"
      },
      "source": [
        "#@title Download dataset\n",
        "# https://nextjournal.com/gkoehler/pytorch-mnist\n",
        "!pip install torch torchvision\n",
        "%matplotlib inline\n",
        "import matplotlib.pyplot as plt\n",
        "import numpy as np\n",
        "import torch\n",
        "import torch.nn as nn\n",
        "import torch.nn.functional as F\n",
        "import torchvision\n",
        "\n",
        "batch_size_train = 64\n",
        "batch_size_test = 1000\n",
        "\n",
        "random_seed = 1\n",
        "torch.backends.cudnn.enabled = False\n",
        "torch.manual_seed(random_seed)\n",
        "\n",
        "# Download the dataset\n",
        "train_dataset = torchvision.datasets.MNIST('/files/', train=True, download=True,\n",
        "                             transform=torchvision.transforms.Compose([\n",
        "                               torchvision.transforms.ToTensor(),\n",
        "                               torchvision.transforms.Normalize(\n",
        "                                 (0.1307,), (0.3081,))\n",
        "                             ]))\n",
        "train_loader = torch.utils.data.DataLoader(\n",
        "  train_dataset,\n",
        "  batch_size=batch_size_train, shuffle=True)\n",
        "\n",
        "test_dataset = torchvision.datasets.MNIST('/files/', train=False, download=True,\n",
        "                             transform=torchvision.transforms.Compose([\n",
        "                               torchvision.transforms.ToTensor(),\n",
        "                               torchvision.transforms.Normalize(\n",
        "                                 (0.1307,), (0.3081,))\n",
        "                             ]))\n",
        "test_loader = torch.utils.data.DataLoader(\n",
        "  test_dataset,\n",
        "  batch_size=batch_size_test, shuffle=True)\n",
        "\n",
        "print('Number of train images: {}'.format(len(train_dataset)))\n",
        "print('Number of test images: {}'.format(len(test_dataset)))\n",
        "print('Example training images:')\n",
        "\n",
        "fig = plt.figure()\n",
        "images, labels = next(iter(train_loader))\n",
        "for i in range(5):\n",
        "  plt.subplot(1,5,i+1)\n",
        "  plt.imshow(images[i][0], cmap='gray', interpolation='none')\n",
        "  plt.title(\"Label: {}\".format(labels[i]))\n",
        "  plt.xticks([])\n",
        "  plt.yticks([])"
      ],
      "execution_count": 1,
      "outputs": [
        {
          "output_type": "stream",
          "text": [
            "Requirement already satisfied: torch in /usr/local/lib/python3.7/dist-packages (1.9.0+cu102)\n",
            "Requirement already satisfied: torchvision in /usr/local/lib/python3.7/dist-packages (0.10.0+cu102)\n",
            "Requirement already satisfied: typing-extensions in /usr/local/lib/python3.7/dist-packages (from torch) (3.7.4.3)\n",
            "Requirement already satisfied: pillow>=5.3.0 in /usr/local/lib/python3.7/dist-packages (from torchvision) (7.1.2)\n",
            "Requirement already satisfied: numpy in /usr/local/lib/python3.7/dist-packages (from torchvision) (1.19.5)\n"
          ],
          "name": "stdout"
        },
        {
          "output_type": "stream",
          "text": [
            "/usr/local/lib/python3.7/dist-packages/torchvision/datasets/mnist.py:498: UserWarning: The given NumPy array is not writeable, and PyTorch does not support non-writeable tensors. This means you can write to the underlying (supposedly non-writeable) NumPy array using the tensor. You may want to copy the array to protect its data or make it writeable before converting it to a tensor. This type of warning will be suppressed for the rest of this program. (Triggered internally at  /pytorch/torch/csrc/utils/tensor_numpy.cpp:180.)\n",
            "  return torch.from_numpy(parsed.astype(m[2], copy=False)).view(*s)\n"
          ],
          "name": "stderr"
        },
        {
          "output_type": "stream",
          "text": [
            "Number of train images: 60000\n",
            "Number of test images: 10000\n",
            "Example training images:\n"
          ],
          "name": "stdout"
        },
        {
          "output_type": "display_data",
          "data": {
            "image/png": "[encoded data removed]",
            "text/plain": [
              "<Figure size 432x288 with 5 Axes>"
            ]
          },
          "metadata": {
            "tags": []
          }
        }
      ]
    },
    {
      "cell_type": "code",
      "metadata": {
        "id": "PzranhQJg4AJ",
        "cellView": "form"
      },
      "source": [
        "#@title Define the network\n",
        "class Net(nn.Module):\n",
        "    def __init__(self):\n",
        "        super(Net, self).__init__()\n",
        "        self.conv1 = nn.Conv2d(1, 5, kernel_size=5)\n",
        "        self.conv2 = nn.Conv2d(5, 2, kernel_size=5)\n",
        "        self.flatten = nn.Flatten()\n",
        "        self.fc1 = nn.Linear(800, 50)\n",
        "        self.fc2 = nn.Linear(50, 10)\n",
        "        self.softmax = nn.Softmax(dim=1)\n",
        "\n",
        "    def forward(self, x):\n",
        "        x = F.relu(self.conv1(x))\n",
        "        x = F.relu(self.conv2(x))\n",
        "        x = self.flatten(x)\n",
        "        x = F.relu(self.fc1(x))\n",
        "        x = self.fc2(x)\n",
        "        return self.softmax(x)\n",
        "\n",
        "network = Net()"
      ],
      "execution_count": 2,
      "outputs": []
    },
    {
      "cell_type": "code",
      "metadata": {
        "colab": {
          "base_uri": "https://localhost:8080/"
        },
        "id": "A768lVWKg-Tw",
        "cellView": "form",
        "outputId": "160ff390-7249-4ae6-d33c-4652605d4217"
      },
      "source": [
        "#@title Train the network\n",
        "n_epochs = 2\n",
        "learning_rate = 0.01\n",
        "momentum = 0.5\n",
        "log_interval = 200\n",
        "\n",
        "optimizer = torch.optim.SGD(network.parameters(), lr=learning_rate,\n",
        "                      momentum=momentum)\n",
        "train_losses = []\n",
        "train_counter = []\n",
        "test_losses = []\n",
        "test_counter = [i*len(train_loader.dataset) for i in range(n_epochs + 1)]\n",
        "\n",
        "loss_func = nn.CrossEntropyLoss()\n",
        "\n",
        "def train(epoch):\n",
        "  network.train()\n",
        "  for batch_idx, (data, label) in enumerate(train_loader):\n",
        "    optimizer.zero_grad()\n",
        "    output = network(data)\n",
        "    loss = loss_func(output, label)\n",
        "    loss.backward()\n",
        "    optimizer.step()\n",
        "    if batch_idx % log_interval == 0:\n",
        "      print('Train Epoch: {} [{}/{} ({:.0f}%)]\\tLoss: {:.6f}'.format(\n",
        "        epoch, batch_idx * len(data), len(train_loader.dataset),\n",
        "        100. * batch_idx / len(train_loader), loss.item()))\n",
        "      train_losses.append(loss.item())\n",
        "      train_counter.append(\n",
        "        (batch_idx*64) + ((epoch-1)*len(train_loader.dataset)))\n",
        "      # torch.save(network.state_dict(), '/results/model.pth')\n",
        "      # torch.save(optimizer.state_dict(), '/results/optimizer.pth')\n",
        "\n",
        "def test():\n",
        "  network.eval()\n",
        "  test_loss = 0\n",
        "  correct = 0\n",
        "  with torch.no_grad():\n",
        "    for data, label in test_loader:\n",
        "      output = network(data)\n",
        "      test_loss += loss_func(output, label).item()\n",
        "      pred = output.data.max(1, keepdim=True)[1]\n",
        "      correct += pred.eq(label.data.view_as(pred)).sum()\n",
        "  test_loss /= len(test_loader.dataset)\n",
        "  test_losses.append(test_loss)\n",
        "  print('\\nTest set: Avg. loss: {:.4f}, Accuracy: {}/{} ({:.0f}%)\\n'.format(\n",
        "    test_loss, correct, len(test_loader.dataset),\n",
        "    100. * correct / len(test_loader.dataset)))\n",
        "  \n",
        "test()\n",
        "for epoch in range(1, n_epochs + 1):\n",
        "  train(epoch)\n",
        "  test()"
      ],
      "execution_count": 3,
      "outputs": [
        {
          "output_type": "stream",
          "text": [
            "\n",
            "Test set: Avg. loss: 0.0023, Accuracy: 1094/10000 (11%)\n",
            "\n",
            "Train Epoch: 1 [0/60000 (0%)]\tLoss: 2.302211\n",
            "Train Epoch: 1 [12800/60000 (21%)]\tLoss: 2.302206\n",
            "Train Epoch: 1 [25600/60000 (43%)]\tLoss: 2.296480\n",
            "Train Epoch: 1 [38400/60000 (64%)]\tLoss: 1.761723\n",
            "Train Epoch: 1 [51200/60000 (85%)]\tLoss: 1.607051\n",
            "\n",
            "Test set: Avg. loss: 0.0016, Accuracy: 8168/10000 (82%)\n",
            "\n",
            "Train Epoch: 2 [0/60000 (0%)]\tLoss: 1.567890\n",
            "Train Epoch: 2 [12800/60000 (21%)]\tLoss: 1.639172\n",
            "Train Epoch: 2 [25600/60000 (43%)]\tLoss: 1.570138\n",
            "Train Epoch: 2 [38400/60000 (64%)]\tLoss: 1.704903\n",
            "Train Epoch: 2 [51200/60000 (85%)]\tLoss: 1.586292\n",
            "\n",
            "Test set: Avg. loss: 0.0016, Accuracy: 8375/10000 (84%)\n",
            "\n"
          ],
          "name": "stdout"
        }
      ]
    },
    {
      "cell_type": "code",
      "metadata": {
        "id": "DaSWU1CzqRGC"
      },
      "source": [
        "# By default, when given inputs, the model returns only the outputs.\n",
        "# To record activations in PyTorch, we can use a forward hook, which is a regular Python function. \n",
        "# When we attach the hook to a layer, every time that layer is used, our hook will be called.\n",
        "activations = None # This global variable is used to read the activations after the computations\n",
        "def hook_fc1(model, input, output):\n",
        "  global activations\n",
        "  activations = output.detach() # Only record output of the layer's\n",
        "network.fc1.register_forward_hook(hook_fc1);"
      ],
      "execution_count": 4,
      "outputs": []
    },
    {
      "cell_type": "code",
      "metadata": {
        "colab": {
          "base_uri": "https://localhost:8080/"
        },
        "id": "X4csPnKbEyK-",
        "outputId": "5e5289d6-b4af-4f4f-83df-c9761310d9df"
      },
      "source": [
        "# Record the activations of all training examples\n",
        "# To avoid the complexity of batching, we load the full training dataset in 1 batch\n",
        "full_training_dataset_loader = torch.utils.data.DataLoader(train_dataset, batch_size=len(train_dataset))\n",
        "with torch.no_grad(): # disable gradients to make computations faster\n",
        "  activations = None\n",
        "  train_images, train_labels = next(iter(full_training_dataset_loader))\n",
        "  # Predict for all training images\n",
        "  train_predictions = network(train_images).data.max(dim=1)[1]\n",
        "  # Save the activations in a separate variable\n",
        "  train_activations = activations\n",
        "\n",
        "  print(train_images.shape, train_labels.shape, train_predictions.shape, train_activations.shape)"
      ],
      "execution_count": 5,
      "outputs": [
        {
          "output_type": "stream",
          "text": [
            "torch.Size([60000, 1, 28, 28]) torch.Size([60000]) torch.Size([60000]) torch.Size([60000, 50])\n"
          ],
          "name": "stdout"
        }
      ]
    },
    {
      "cell_type": "code",
      "metadata": {
        "colab": {
          "base_uri": "https://localhost:8080/"
        },
        "id": "GbqXFOftSdde",
        "outputId": "cd7e77bf-a6bc-4887-87a7-2e4e1df2bf8f"
      },
      "source": [
        "# Record the activations of all test examples\n",
        "full_test_dataset_loader = torch.utils.data.DataLoader(test_dataset, batch_size=len(test_dataset))\n",
        "with torch.no_grad():\n",
        "  activations = None\n",
        "  test_images, test_labels = next(iter(full_test_dataset_loader))\n",
        "  test_predictions = network(test_images).data.max(dim=1)[1]\n",
        "  test_activations = activations\n",
        "  print(test_images.shape, test_labels.shape, test_predictions.shape, test_activations.shape)"
      ],
      "execution_count": 6,
      "outputs": [
        {
          "output_type": "stream",
          "text": [
            "torch.Size([10000, 1, 28, 28]) torch.Size([10000]) torch.Size([10000]) torch.Size([10000, 50])\n"
          ],
          "name": "stdout"
        }
      ]
    },
    {
      "cell_type": "code",
      "metadata": {
        "id": "bJn9aZQ-djPx"
      },
      "source": [
        "# Find the first 4 images that were misclassified\n",
        "misclassification_indices = (test_predictions - test_labels).nonzero(as_tuple=True)[0].tolist()\n",
        "test_indices = misclassification_indices[0:4]"
      ],
      "execution_count": 11,
      "outputs": []
    },
    {
      "cell_type": "markdown",
      "metadata": {
        "id": "lgJoyLMIIcNl"
      },
      "source": [
        "## Finding the closest examples:\n",
        "The computed activations (for training & test images) are lists of numbers. To find the similarity between two activations, we can use the Euclidean distance.\n",
        "\n",
        "In 2-dimensions, the Euclidean distance between two points is $d = \\sqrt{(x_1 - x_0)^2 + (y_1 - y_0)^2}$\n",
        "\n",
        "Similarly, in n dimensions we can do the same $d = \\sqrt{(x_1 - x_0)^2 + (y_1 - y_0)^2 + (z_1 - z_0)^2 + ...}$"
      ]
    },
    {
      "cell_type": "code",
      "metadata": {
        "colab": {
          "base_uri": "https://localhost:8080/",
          "height": 989
        },
        "id": "K0m4KJ_9JwH3",
        "outputId": "64b813ac-29c9-43cb-fa3f-1d3a01387d06"
      },
      "source": [
        "# For the first 4 misclassifications:\n",
        "for test_idx in test_indices:\n",
        "  # Find the closest examples\n",
        "  number_of_examples = 5\n",
        "  differences = train_activations - test_activations[test_idx:test_idx+1] # Take all train activations and subtract the test image's activation\n",
        "  distances = torch.norm(differences, dim=1, p=None) # Do the squared sum of all values \n",
        "  knn = distances.topk(number_of_examples, largest=False).indices # Get the indices of the smallest distances\n",
        "  # print('Smallest distances indices: ', knn.tolist())\n",
        "  # print('Smallest distances: ', distances.index_select(0, knn).tolist())\n",
        "\n",
        "  # Draw the test image and the most similar training images\n",
        "  fig = plt.figure()\n",
        "  fig.suptitle(\"T: True label, P: Predicted label\");\n",
        "  plt.tight_layout()\n",
        "  plt.subplot(2,number_of_examples,1)\n",
        "  plt.imshow(test_images[test_idx][0], cmap='gray', interpolation='none')\n",
        "  plt.title(\"T: {}, P: {}\".format(test_labels[test_idx], test_predictions[test_idx]))\n",
        "  plt.xticks([])\n",
        "  plt.yticks([])\n",
        "  for i in range(number_of_examples):\n",
        "    plt.subplot(2,number_of_examples,i+1+number_of_examples)\n",
        "    plt.imshow(train_images[knn[i]][0], cmap='gray', interpolation='none')\n",
        "    plt.title(\"T: {}, P: {}\".format(int(train_labels[knn[i]].item()), int(train_predictions[knn[i]].item())))\n",
        "    plt.xticks([])\n",
        "    plt.yticks([])"
      ],
      "execution_count": 14,
      "outputs": [
        {
          "output_type": "display_data",
          "data": {
            "image/png": "[encoded data removed]",
            "text/plain": [
              "<Figure size 432x288 with 6 Axes>"
            ]
          },
          "metadata": {
            "tags": []
          }
        },
        {
          "output_type": "display_data",
          "data": {
            "image/png": "[encoded data removed]",
            "text/plain": [
              "<Figure size 432x288 with 6 Axes>"
            ]
          },
          "metadata": {
            "tags": []
          }
        },
        {
          "output_type": "display_data",
          "data": {
            "image/png": "[encoded data removed]",
            "text/plain": [
              "<Figure size 432x288 with 6 Axes>"
            ]
          },
          "metadata": {
            "tags": []
          }
        },
        {
          "output_type": "display_data",
          "data": {
            "image/png": "[encoded data removed]",
            "text/plain": [
              "<Figure size 432x288 with 6 Axes>"
            ]
          },
          "metadata": {
            "tags": []
          }
        }
      ]
    },
    {
      "cell_type": "code",
      "metadata": {
        "colab": {
          "base_uri": "https://localhost:8080/",
          "height": 989
        },
        "id": "7bmYd7PWow5d",
        "outputId": "907a6179-15c4-48e6-a908-a25ebda25ba8"
      },
      "source": [
        "# We can repeat the same procedure, but pick only training images from the test image's predicted label\n",
        "# (if test image is a 9 but misclassified as a 4, show closest training images from class 4)\n",
        "for test_idx in test_indices:\n",
        "  number_of_examples = 5\n",
        "  train_indices = (train_labels == test_predictions[test_idx]).nonzero(as_tuple=True)[0]\n",
        "\n",
        "  filtered_train_images = train_images.index_select(0, train_indices)\n",
        "  filtered_train_labels = train_labels.index_select(0, train_indices)\n",
        "  filtered_train_activations = train_activations.index_select(0, train_indices)\n",
        "  filtered_train_predictions = train_predictions.index_select(0, train_indices)\n",
        "\n",
        "  distances = torch.norm(filtered_train_activations - test_activations[test_idx:test_idx+1], dim=1, p=None)\n",
        "  knn = distances.topk(number_of_examples, largest=False).indices\n",
        "  # print('Smallest distances indices: ', knn.tolist())\n",
        "  # print('Smallest distances: ', distances.index_select(0, knn).tolist())\n",
        "\n",
        "  fig = plt.figure()\n",
        "  fig.suptitle(\"T: True label, P: Predicted label\");\n",
        "  plt.tight_layout()\n",
        "  plt.subplot(2,number_of_examples,1)\n",
        "  plt.imshow(test_images[test_idx][0], cmap='gray', interpolation='none')\n",
        "  plt.title(\"T: {}, P: {}\".format(test_labels[test_idx], test_predictions[test_idx]))\n",
        "  plt.xticks([])\n",
        "  plt.yticks([])\n",
        "  for i in range(number_of_examples):\n",
        "    plt.subplot(2,number_of_examples,i+1+number_of_examples)\n",
        "    plt.imshow(filtered_train_images[knn[i]][0], cmap='gray', interpolation='none')\n",
        "    plt.title(\"T: {}, P: {}\".format(int(filtered_train_labels[knn[i]].item()), int(filtered_train_predictions[knn[i]].item())))\n",
        "    plt.xticks([])\n",
        "    plt.yticks([])"
      ],
      "execution_count": 16,
      "outputs": [
        {
          "output_type": "display_data",
          "data": {
            "image/png": "[encoded data removed]",
            "text/plain": [
              "<Figure size 432x288 with 6 Axes>"
            ]
          },
          "metadata": {
            "tags": []
          }
        },
        {
          "output_type": "display_data",
          "data": {
            "image/png": "[encoded data removed]",
            "text/plain": [
              "<Figure size 432x288 with 6 Axes>"
            ]
          },
          "metadata": {
            "tags": []
          }
        },
        {
          "output_type": "display_data",
          "data": {
            "image/png": "[encoded data removed]",
            "text/plain": [
              "<Figure size 432x288 with 6 Axes>"
            ]
          },
          "metadata": {
            "tags": []
          }
        },
        {
          "output_type": "display_data",
          "data": {
            "image/png": "[encoded data removed]",
            "text/plain": [
              "<Figure size 432x288 with 6 Axes>"
            ]
          },
          "metadata": {
            "tags": []
          }
        }
      ]
    },
    {
      "cell_type": "code",
      "metadata": {
        "id": "c01pUjEDJDu_"
      },
      "source": [
        ""
      ],
      "execution_count": 9,
      "outputs": []
    }
  ]
}