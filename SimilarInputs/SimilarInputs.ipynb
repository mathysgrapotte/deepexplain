{
  "nbformat": 4,
  "nbformat_minor": 0,
  "metadata": {
    "colab": {
      "name": "EEML Similar Inputs tutorial.ipynb",
      "provenance": [],
      "collapsed_sections": []
    },
    "kernelspec": {
      "name": "python3",
      "display_name": "Python 3"
    },
    "language_info": {
      "name": "python"
    }
  },
  "cells": [
    {
      "cell_type": "markdown",
      "metadata": {
        "id": "ineS3BcpppBz"
      },
      "source": [
        "# Finding Similar Inputs\n",
        "In this section we will take a trained Neural Network and an input, and answer the following questions:\n",
        "* What does the Neural Network output for similar inputs?\n",
        "* Which inputs from the training data have similar activations as this input? In other words, which inputs are considered similar _by the network_?\n",
        "\n",
        "Answering these questions might be useful in domains such as Healthcare and Justice, where similar cases are considered when taking a decision.\n",
        "\n",
        "We will work with the Boston Housing dataset."
      ]
    },
    {
      "cell_type": "code",
      "metadata": {
        "id": "3A-4RD-nOKVC",
        "cellView": "form"
      },
      "source": [
        "#@title Train a Neural Network\n",
        "#@markdown (double click here to show the code)\n",
        "#@markdown * Loads the [Boston Housing dataset](https://github.com/scikit-learn/scikit-learn/blob/2beed55847ee70d363bdbfe14ee4401438fba057/sklearn/datasets/data/boston_house_prices.csv) \n",
        "#@markdown * Trains a Neural Network with 1 hidden layer as shown [here](https://colab.research.google.com/github/rpi-techfundamentals/fall2018-materials/blob/master/11-deep-learning2/02-regression-boston-housing-pytorch.ipynb)\n",
        "#@markdown \n",
        "!pip install torch torchvision\n",
        "%matplotlib inline\n",
        "import matplotlib.pyplot as plt\n",
        "import numpy as np\n",
        "import torch\n",
        "import torch.nn as nn\n",
        "import torch.nn.functional as F\n",
        "\n",
        "from sklearn.datasets import load_boston\n",
        "boston = load_boston()\n",
        "\n",
        "# Let's change the data to a Panda's Dataframe\n",
        "import pandas as pd\n",
        "boston_df = pd.DataFrame(boston['data'] )\n",
        "#Now add the column names.\n",
        "boston_df.columns = boston['feature_names']\n",
        "#Add the target as PRICE. \n",
        "boston_df['PRICE']= boston['target']\n",
        "\n",
        "#This will throw and error at import if haven't upgraded. \n",
        "# from sklearn.cross_validation  import train_test_split  \n",
        "from sklearn.model_selection  import train_test_split\n",
        "#y is the dependent variable.\n",
        "y = boston_df['PRICE']\n",
        "#As we know, iloc is used to slice the array by index number. Here this is the matrix of \n",
        "#independent variables.\n",
        "X = boston_df.iloc[:,0:13]\n",
        "\n",
        "# Split the data into a training set and a test set\n",
        "X_train, X_test, y_train, y_test = train_test_split(X, y, test_size=0.3, random_state=0)\n",
        "\n",
        "# print(X_train.shape, X_test.shape, y_train.shape, y_test.shape)\n",
        "\n",
        "#Define training hyperprameters.\n",
        "batch_size = 50\n",
        "num_epochs = 400\n",
        "learning_rate = 0.01\n",
        "size_hidden= 100\n",
        "\n",
        "#Calculate some other hyperparameters based on data.  \n",
        "batch_no = len(X_train) // batch_size  #batches\n",
        "cols=X_train.shape[1] #Number of columns in input matrix\n",
        "n_output=1\n",
        "\n",
        "#Create the model\n",
        "device = torch.device(\"cuda:0\" if torch.cuda.is_available() else \"cpu\")\n",
        "# Assume that we are on a CUDA machine, then this should print a CUDA device:\n",
        "print(\"Executing the model on :\",device)\n",
        "class Net(torch.nn.Module):\n",
        "    def __init__(self, n_feature, size_hidden, n_output):\n",
        "        super(Net, self).__init__()\n",
        "        self.hidden = torch.nn.Linear(cols, size_hidden)   # hidden layer\n",
        "        self.predict = torch.nn.Linear(size_hidden, n_output)   # output layer\n",
        "        \n",
        "    def forward(self, x):\n",
        "        x = F.relu(self.hidden(x))      # activation function for hidden layer\n",
        "        x = self.predict(x)             # linear output\n",
        "        return x\n",
        "net = Net(cols, size_hidden, n_output)\n",
        "\n",
        "#Adam is a specific flavor of gradient decent which is typically better\n",
        "optimizer = torch.optim.Adam(net.parameters(), lr=learning_rate)\n",
        "#optimizer = torch.optim.SGD(net.parameters(), lr=0.2)\n",
        "criterion = torch.nn.MSELoss(reduction='sum')  # this is for regression mean squared loss\n",
        "\n",
        "#Change to numpy arraay. \n",
        "X_train=X_train.values\n",
        "y_train=y_train.values\n",
        "X_test=X_test.values\n",
        "y_test=y_test.values\n",
        "\n",
        "from sklearn.utils import shuffle\n",
        "from torch.autograd import Variable\n",
        "running_loss = 0.0\n",
        "for epoch in range(num_epochs):\n",
        "    #Shuffle just mixes up the dataset between epocs\n",
        "    X_train, y_train = shuffle(X_train, y_train)\n",
        "    # Mini batch learning\n",
        "    for i in range(batch_no):\n",
        "        start = i * batch_size\n",
        "        end = start + batch_size\n",
        "        inputs = Variable(torch.FloatTensor(X_train[start:end]))\n",
        "        labels = Variable(torch.FloatTensor(y_train[start:end]))\n",
        "        # zero the parameter gradients\n",
        "        optimizer.zero_grad()\n",
        "\n",
        "        # forward + backward + optimize\n",
        "        outputs = net(inputs)\n",
        "        #print(\"outputs\",outputs)\n",
        "        #print(\"outputs\",outputs,outputs.shape,\"labels\",labels, labels.shape)\n",
        "        loss = criterion(outputs, torch.unsqueeze(labels,dim=1))\n",
        "        loss.backward()\n",
        "        optimizer.step()\n",
        "\n",
        "        # print statistics\n",
        "        running_loss += loss.item()\n",
        "      \n",
        "    # Only print losses for 5 steps (20%, 40% ... 100%)\n",
        "    if (epoch+1) * 5 % num_epochs == 0:\n",
        "      print('Epoch {}/{}'.format(epoch+1, num_epochs), \"loss: \",running_loss)\n",
        "    running_loss = 0.0"
      ],
      "execution_count": null,
      "outputs": []
    },
    {
      "cell_type": "code",
      "metadata": {
        "id": "4tzxLs2bQj_e"
      },
      "source": [
        "def hook(model, input, output):\n",
        "  global activation\n",
        "  activation = output.detach()\n",
        "with torch.no_grad(): # disable gradients to make computations faster\n",
        "  activation = None\n",
        "  net.hidden.register_forward_hook(hook)\n",
        "  net(torch.FloatTensor(X_train))\n",
        "  train_activation = activation\n",
        "  activation = None\n",
        "  net(torch.FloatTensor(X_test))\n",
        "  test_activation = activation"
      ],
      "execution_count": null,
      "outputs": []
    },
    {
      "cell_type": "code",
      "metadata": {
        "id": "hkC0uLcDU_se",
        "colab": {
          "base_uri": "https://localhost:8080/"
        },
        "outputId": "f7f7dacf-133a-492d-e43b-6a40f7fba368"
      },
      "source": [
        "# https://discuss.pytorch.org/t/k-nearest-neighbor-in-pytorch/59695\n",
        "number_of_examples = 5\n",
        "distances = torch.norm(train_activation - test_activation[0:1], dim=1, p=None)\n",
        "knn = distances.topk(number_of_examples, largest=False)\n",
        "print(X_train[knn.indices[0]])\n",
        "print(X_test[0])"
      ],
      "execution_count": null,
      "outputs": [
        {
          "output_type": "stream",
          "text": [
            "[6.6170e-02 0.0000e+00 3.2400e+00 0.0000e+00 4.6000e-01 5.8680e+00\n",
            " 2.5800e+01 5.2146e+00 4.0000e+00 4.3000e+02 1.6900e+01 3.8244e+02\n",
            " 9.9700e+00]\n",
            "[6.7240e-02 0.0000e+00 3.2400e+00 0.0000e+00 4.6000e-01 6.3330e+00\n",
            " 1.7200e+01 5.2146e+00 4.0000e+00 4.3000e+02 1.6900e+01 3.7521e+02\n",
            " 7.3400e+00]\n"
          ],
          "name": "stdout"
        }
      ]
    },
    {
      "cell_type": "code",
      "metadata": {
        "colab": {
          "base_uri": "https://localhost:8080/",
          "height": 255
        },
        "id": "duSIdm2vYUvk",
        "outputId": "35f7b1ee-0184-4eec-8e53-20764e0dde7d"
      },
      "source": [
        "result = pd.DataFrame(X_train[knn.indices])\n",
        "result.loc[number_of_examples] = X_test[0]\n",
        "result.columns = boston['feature_names']\n",
        "for i in range(number_of_examples):\n",
        "  result.loc[i, 'PRICE'] = y_train[knn.indices[i]]\n",
        "  result.loc[i, 'NORM'] = torch.norm(train_activation[knn.indices[i]] - test_activation).detach().numpy()\n",
        "result.loc[number_of_examples, 'PRICE'] = y_test[0]\n",
        "print(result.shape)\n",
        "result.head(n=10)"
      ],
      "execution_count": null,
      "outputs": [
        {
          "output_type": "stream",
          "text": [
            "(6, 15)\n"
          ],
          "name": "stdout"
        },
        {
          "output_type": "execute_result",
          "data": {
            "text/html": [
              "<div>\n",
              "<style scoped>\n",
              "    .dataframe tbody tr th:only-of-type {\n",
              "        vertical-align: middle;\n",
              "    }\n",
              "\n",
              "    .dataframe tbody tr th {\n",
              "        vertical-align: top;\n",
              "    }\n",
              "\n",
              "    .dataframe thead th {\n",
              "        text-align: right;\n",
              "    }\n",
              "</style>\n",
              "<table border=\"1\" class=\"dataframe\">\n",
              "  <thead>\n",
              "    <tr style=\"text-align: right;\">\n",
              "      <th></th>\n",
              "      <th>CRIM</th>\n",
              "      <th>ZN</th>\n",
              "      <th>INDUS</th>\n",
              "      <th>CHAS</th>\n",
              "      <th>NOX</th>\n",
              "      <th>RM</th>\n",
              "      <th>AGE</th>\n",
              "      <th>DIS</th>\n",
              "      <th>RAD</th>\n",
              "      <th>TAX</th>\n",
              "      <th>PTRATIO</th>\n",
              "      <th>B</th>\n",
              "      <th>LSTAT</th>\n",
              "      <th>PRICE</th>\n",
              "      <th>NORM</th>\n",
              "    </tr>\n",
              "  </thead>\n",
              "  <tbody>\n",
              "    <tr>\n",
              "      <th>0</th>\n",
              "      <td>0.06617</td>\n",
              "      <td>0.0</td>\n",
              "      <td>3.24</td>\n",
              "      <td>0.0</td>\n",
              "      <td>0.460</td>\n",
              "      <td>5.868</td>\n",
              "      <td>25.8</td>\n",
              "      <td>5.2146</td>\n",
              "      <td>4.0</td>\n",
              "      <td>430.0</td>\n",
              "      <td>16.9</td>\n",
              "      <td>382.44</td>\n",
              "      <td>9.97</td>\n",
              "      <td>19.3</td>\n",
              "      <td>4245.206543</td>\n",
              "    </tr>\n",
              "    <tr>\n",
              "      <th>1</th>\n",
              "      <td>0.08387</td>\n",
              "      <td>0.0</td>\n",
              "      <td>12.83</td>\n",
              "      <td>0.0</td>\n",
              "      <td>0.437</td>\n",
              "      <td>5.874</td>\n",
              "      <td>36.6</td>\n",
              "      <td>4.5026</td>\n",
              "      <td>5.0</td>\n",
              "      <td>398.0</td>\n",
              "      <td>18.7</td>\n",
              "      <td>396.06</td>\n",
              "      <td>9.10</td>\n",
              "      <td>20.3</td>\n",
              "      <td>4225.157227</td>\n",
              "    </tr>\n",
              "    <tr>\n",
              "      <th>2</th>\n",
              "      <td>0.08707</td>\n",
              "      <td>0.0</td>\n",
              "      <td>12.83</td>\n",
              "      <td>0.0</td>\n",
              "      <td>0.437</td>\n",
              "      <td>6.140</td>\n",
              "      <td>45.8</td>\n",
              "      <td>4.0905</td>\n",
              "      <td>5.0</td>\n",
              "      <td>398.0</td>\n",
              "      <td>18.7</td>\n",
              "      <td>386.96</td>\n",
              "      <td>10.27</td>\n",
              "      <td>20.8</td>\n",
              "      <td>4157.042969</td>\n",
              "    </tr>\n",
              "    <tr>\n",
              "      <th>3</th>\n",
              "      <td>0.14476</td>\n",
              "      <td>0.0</td>\n",
              "      <td>10.01</td>\n",
              "      <td>0.0</td>\n",
              "      <td>0.547</td>\n",
              "      <td>5.731</td>\n",
              "      <td>65.2</td>\n",
              "      <td>2.7592</td>\n",
              "      <td>6.0</td>\n",
              "      <td>432.0</td>\n",
              "      <td>17.8</td>\n",
              "      <td>391.50</td>\n",
              "      <td>13.61</td>\n",
              "      <td>19.3</td>\n",
              "      <td>4074.811279</td>\n",
              "    </tr>\n",
              "    <tr>\n",
              "      <th>4</th>\n",
              "      <td>0.17331</td>\n",
              "      <td>0.0</td>\n",
              "      <td>9.69</td>\n",
              "      <td>0.0</td>\n",
              "      <td>0.585</td>\n",
              "      <td>5.707</td>\n",
              "      <td>54.0</td>\n",
              "      <td>2.3817</td>\n",
              "      <td>6.0</td>\n",
              "      <td>391.0</td>\n",
              "      <td>19.2</td>\n",
              "      <td>396.90</td>\n",
              "      <td>12.01</td>\n",
              "      <td>21.8</td>\n",
              "      <td>4194.305664</td>\n",
              "    </tr>\n",
              "    <tr>\n",
              "      <th>5</th>\n",
              "      <td>0.06724</td>\n",
              "      <td>0.0</td>\n",
              "      <td>3.24</td>\n",
              "      <td>0.0</td>\n",
              "      <td>0.460</td>\n",
              "      <td>6.333</td>\n",
              "      <td>17.2</td>\n",
              "      <td>5.2146</td>\n",
              "      <td>4.0</td>\n",
              "      <td>430.0</td>\n",
              "      <td>16.9</td>\n",
              "      <td>375.21</td>\n",
              "      <td>7.34</td>\n",
              "      <td>22.6</td>\n",
              "      <td>NaN</td>\n",
              "    </tr>\n",
              "  </tbody>\n",
              "</table>\n",
              "</div>"
            ],
            "text/plain": [
              "      CRIM   ZN  INDUS  CHAS    NOX  ...  PTRATIO       B  LSTAT  PRICE         NORM\n",
              "0  0.06617  0.0   3.24   0.0  0.460  ...     16.9  382.44   9.97   19.3  4245.206543\n",
              "1  0.08387  0.0  12.83   0.0  0.437  ...     18.7  396.06   9.10   20.3  4225.157227\n",
              "2  0.08707  0.0  12.83   0.0  0.437  ...     18.7  386.96  10.27   20.8  4157.042969\n",
              "3  0.14476  0.0  10.01   0.0  0.547  ...     17.8  391.50  13.61   19.3  4074.811279\n",
              "4  0.17331  0.0   9.69   0.0  0.585  ...     19.2  396.90  12.01   21.8  4194.305664\n",
              "5  0.06724  0.0   3.24   0.0  0.460  ...     16.9  375.21   7.34   22.6          NaN\n",
              "\n",
              "[6 rows x 15 columns]"
            ]
          },
          "metadata": {
            "tags": []
          },
          "execution_count": 18
        }
      ]
    },
    {
      "cell_type": "markdown",
      "metadata": {
        "id": "KZjQFIEcCzLZ"
      },
      "source": [
        "##MNIST"
      ]
    },
    {
      "cell_type": "code",
      "metadata": {
        "colab": {
          "base_uri": "https://localhost:8080/"
        },
        "id": "jx6TYiAsC1y5",
        "outputId": "56673900-ff2d-4647-cedc-dff5ba050bbf"
      },
      "source": [
        "#@title Training a CNN for MNIST\n",
        "# https://nextjournal.com/gkoehler/pytorch-mnist\n",
        "import torchvision\n",
        "\n",
        "n_epochs = 3\n",
        "batch_size_train = 64\n",
        "batch_size_test = 1000\n",
        "learning_rate = 0.01\n",
        "momentum = 0.5\n",
        "log_interval = 200\n",
        "\n",
        "random_seed = 1\n",
        "torch.backends.cudnn.enabled = False\n",
        "torch.manual_seed(random_seed)\n",
        "\n",
        "# Download the dataset\n",
        "train_dataset = torchvision.datasets.MNIST('/files/', train=True, download=True,\n",
        "                             transform=torchvision.transforms.Compose([\n",
        "                               torchvision.transforms.ToTensor(),\n",
        "                               torchvision.transforms.Normalize(\n",
        "                                 (0.1307,), (0.3081,))\n",
        "                             ]))\n",
        "train_loader = torch.utils.data.DataLoader(\n",
        "  train_dataset,\n",
        "  batch_size=batch_size_train, shuffle=True)\n",
        "\n",
        "test_dataset = torchvision.datasets.MNIST('/files/', train=False, download=True,\n",
        "                             transform=torchvision.transforms.Compose([\n",
        "                               torchvision.transforms.ToTensor(),\n",
        "                               torchvision.transforms.Normalize(\n",
        "                                 (0.1307,), (0.3081,))\n",
        "                             ]))\n",
        "test_loader = torch.utils.data.DataLoader(\n",
        "  test_dataset,\n",
        "  batch_size=batch_size_test, shuffle=True)\n",
        "\n",
        "class Net(nn.Module):\n",
        "    def __init__(self):\n",
        "        super(Net, self).__init__()\n",
        "        self.conv1 = nn.Conv2d(1, 10, kernel_size=5)\n",
        "        self.conv2 = nn.Conv2d(10, 20, kernel_size=5)\n",
        "        self.conv2_drop = nn.Dropout2d()\n",
        "        self.fc1 = nn.Linear(320, 50)\n",
        "        self.fc2 = nn.Linear(50, 10)\n",
        "\n",
        "    def forward(self, x):\n",
        "        x = F.relu(F.max_pool2d(self.conv1(x), 2))\n",
        "        x = F.relu(F.max_pool2d(self.conv2_drop(self.conv2(x)), 2))\n",
        "        x = x.view(-1, 320)\n",
        "        x = F.relu(self.fc1(x))\n",
        "        x = F.dropout(x, training=self.training)\n",
        "        x = self.fc2(x)\n",
        "        return F.log_softmax(x)\n",
        "\n",
        "network = Net()\n",
        "optimizer = torch.optim.SGD(network.parameters(), lr=learning_rate,\n",
        "                      momentum=momentum)\n",
        "\n",
        "train_losses = []\n",
        "train_counter = []\n",
        "test_losses = []\n",
        "test_counter = [i*len(train_loader.dataset) for i in range(n_epochs + 1)]\n",
        "\n",
        "def train(epoch):\n",
        "  network.train()\n",
        "  for batch_idx, (data, target) in enumerate(train_loader):\n",
        "    optimizer.zero_grad()\n",
        "    output = network(data)\n",
        "    loss = F.nll_loss(output, target)\n",
        "    loss.backward()\n",
        "    optimizer.step()\n",
        "    if batch_idx % log_interval == 0:\n",
        "      print('Train Epoch: {} [{}/{} ({:.0f}%)]\\tLoss: {:.6f}'.format(\n",
        "        epoch, batch_idx * len(data), len(train_loader.dataset),\n",
        "        100. * batch_idx / len(train_loader), loss.item()))\n",
        "      train_losses.append(loss.item())\n",
        "      train_counter.append(\n",
        "        (batch_idx*64) + ((epoch-1)*len(train_loader.dataset)))\n",
        "      # torch.save(network.state_dict(), '/results/model.pth')\n",
        "      # torch.save(optimizer.state_dict(), '/results/optimizer.pth')\n",
        "\n",
        "def test():\n",
        "  network.eval()\n",
        "  test_loss = 0\n",
        "  correct = 0\n",
        "  with torch.no_grad():\n",
        "    for data, target in test_loader:\n",
        "      output = network(data)\n",
        "      test_loss += F.nll_loss(output, target, size_average=False).item()\n",
        "      pred = output.data.max(1, keepdim=True)[1]\n",
        "      correct += pred.eq(target.data.view_as(pred)).sum()\n",
        "  test_loss /= len(test_loader.dataset)\n",
        "  test_losses.append(test_loss)\n",
        "  print('\\nTest set: Avg. loss: {:.4f}, Accuracy: {}/{} ({:.0f}%)\\n'.format(\n",
        "    test_loss, correct, len(test_loader.dataset),\n",
        "    100. * correct / len(test_loader.dataset)))\n",
        "  \n",
        "test()\n",
        "for epoch in range(1, n_epochs + 1):\n",
        "  train(epoch)\n",
        "  test()"
      ],
      "execution_count": null,
      "outputs": [
        {
          "output_type": "stream",
          "text": [
            "/usr/local/lib/python3.7/dist-packages/ipykernel_launcher.py:53: UserWarning: Implicit dimension choice for log_softmax has been deprecated. Change the call to include dim=X as an argument.\n",
            "/usr/local/lib/python3.7/dist-packages/torch/nn/_reduction.py:42: UserWarning: size_average and reduce args will be deprecated, please use reduction='sum' instead.\n",
            "  warnings.warn(warning.format(ret))\n"
          ],
          "name": "stderr"
        },
        {
          "output_type": "stream",
          "text": [
            "\n",
            "Test set: Avg. loss: 2.3316, Accuracy: 1137/10000 (11%)\n",
            "\n",
            "Train Epoch: 1 [0/60000 (0%)]\tLoss: 2.360446\n",
            "Train Epoch: 1 [12800/60000 (21%)]\tLoss: 1.161339\n",
            "Train Epoch: 1 [25600/60000 (43%)]\tLoss: 0.621262\n",
            "Train Epoch: 1 [38400/60000 (64%)]\tLoss: 0.704334\n",
            "Train Epoch: 1 [51200/60000 (85%)]\tLoss: 0.845895\n",
            "\n",
            "Test set: Avg. loss: 0.1993, Accuracy: 9386/10000 (94%)\n",
            "\n",
            "Train Epoch: 2 [0/60000 (0%)]\tLoss: 0.460121\n",
            "Train Epoch: 2 [12800/60000 (21%)]\tLoss: 0.493157\n",
            "Train Epoch: 2 [25600/60000 (43%)]\tLoss: 0.399808\n",
            "Train Epoch: 2 [38400/60000 (64%)]\tLoss: 0.358245\n",
            "Train Epoch: 2 [51200/60000 (85%)]\tLoss: 0.408614\n",
            "\n",
            "Test set: Avg. loss: 0.1255, Accuracy: 9612/10000 (96%)\n",
            "\n",
            "Train Epoch: 3 [0/60000 (0%)]\tLoss: 0.204260\n",
            "Train Epoch: 3 [12800/60000 (21%)]\tLoss: 0.254541\n",
            "Train Epoch: 3 [25600/60000 (43%)]\tLoss: 0.164026\n",
            "Train Epoch: 3 [38400/60000 (64%)]\tLoss: 0.153244\n",
            "Train Epoch: 3 [51200/60000 (85%)]\tLoss: 0.311787\n",
            "\n",
            "Test set: Avg. loss: 0.1022, Accuracy: 9671/10000 (97%)\n",
            "\n"
          ],
          "name": "stdout"
        }
      ]
    },
    {
      "cell_type": "code",
      "metadata": {
        "colab": {
          "base_uri": "https://localhost:8080/"
        },
        "id": "X4csPnKbEyK-",
        "outputId": "aeee763c-0659-463d-f820-3d090c3ee4ac"
      },
      "source": [
        "network.eval() \n",
        "activation = None\n",
        "train_activations = []\n",
        "def hook_fc1(model, input, output):\n",
        "  global activation\n",
        "  activation = torch.cat([input[0].detach(), output.detach()], dim=1)\n",
        "hook_remove_handler = network.fc1.register_forward_hook(hook_fc1)\n",
        "with torch.no_grad(): # disable gradients to make computations faster\n",
        "  train_images = torch.Tensor()\n",
        "  train_activation = torch.Tensor()\n",
        "  train_targets = torch.Tensor()\n",
        "  train_predictions = torch.Tensor()\n",
        "  for batch_idx, (images, targets) in enumerate(train_loader):\n",
        "    activation = None\n",
        "    prediction = network(images).data.max(dim=1, keepdim=True)[1]\n",
        "    train_activation = torch.cat([train_activation, activation])\n",
        "    train_images = torch.cat([train_images, images])\n",
        "    train_targets = torch.cat([train_targets, targets])\n",
        "    train_predictions = torch.cat([train_predictions, prediction])\n",
        "    if batch_idx % log_interval == 0:\n",
        "      print('Batch: {}/{} ({:.0f}%)'.format(\n",
        "          batch_idx, len(train_loader),\n",
        "          100. * batch_idx / len(train_loader)))\n",
        "      \n",
        "  print('Done!')"
      ],
      "execution_count": null,
      "outputs": [
        {
          "output_type": "stream",
          "text": [
            "/usr/local/lib/python3.7/dist-packages/ipykernel_launcher.py:53: UserWarning: Implicit dimension choice for log_softmax has been deprecated. Change the call to include dim=X as an argument.\n"
          ],
          "name": "stderr"
        },
        {
          "output_type": "stream",
          "text": [
            "Batch: 0/938 (0%)\n",
            "Batch: 200/938 (21%)\n",
            "Batch: 400/938 (43%)\n",
            "Batch: 600/938 (64%)\n",
            "Batch: 800/938 (85%)\n"
          ],
          "name": "stdout"
        }
      ]
    },
    {
      "cell_type": "code",
      "metadata": {
        "colab": {
          "base_uri": "https://localhost:8080/"
        },
        "id": "GbqXFOftSdde",
        "outputId": "f5efe735-baab-4a26-a79f-08abd529032a"
      },
      "source": [
        "with torch.no_grad():\n",
        "  activation = None\n",
        "  test_images, test_targets = next(enumerate(test_loader))[1]\n",
        "  test_image = test_images[0:1, :, :, :]\n",
        "  test_target = test_targets[0]\n",
        "  test_prediction = network(test_image).data.max(dim=1, keepdim=True)[1][0].item()\n",
        "  test_activation = activation"
      ],
      "execution_count": null,
      "outputs": [
        {
          "output_type": "stream",
          "text": [
            "/usr/local/lib/python3.7/dist-packages/ipykernel_launcher.py:53: UserWarning: Implicit dimension choice for log_softmax has been deprecated. Change the call to include dim=X as an argument.\n"
          ],
          "name": "stderr"
        }
      ]
    },
    {
      "cell_type": "code",
      "metadata": {
        "colab": {
          "base_uri": "https://localhost:8080/",
          "height": 260
        },
        "id": "K0m4KJ_9JwH3",
        "outputId": "d5e8c0b7-cba5-44a7-e89e-935a81217afb"
      },
      "source": [
        "number_of_examples = 5\n",
        "distances = torch.norm(train_activation - test_activation, dim=1, p=None)\n",
        "knn = distances.topk(number_of_examples, largest=False)\n",
        "\n",
        "fig = plt.figure()\n",
        "plt.tight_layout()\n",
        "plt.subplot(2,5,1)\n",
        "plt.imshow(test_image[0][0], cmap='gray', interpolation='none')\n",
        "plt.title(\"T: {}, P: {}\".format(test_target, test_prediction))\n",
        "plt.xticks([])\n",
        "plt.yticks([])\n",
        "for i in range(5):\n",
        "  plt.subplot(2,5,i+6)\n",
        "  plt.imshow(train_images[knn.indices[i]][0], cmap='gray', interpolation='none')\n",
        "  plt.title(\"T: {}, P: {}\".format(int(train_targets[knn.indices[i]].item()), int(train_predictions[knn.indices[i]].item())))\n",
        "  plt.xticks([])\n",
        "  plt.yticks([])\n",
        "fig.suptitle(\"T: True label, P: Predicted label\");"
      ],
      "execution_count": null,
      "outputs": [
        {
          "output_type": "display_data",
          "data": {
            "image/png": "[encoded data removed]",
            "text/plain": [
              "<Figure size 432x288 with 6 Axes>"
            ]
          },
          "metadata": {
            "tags": []
          }
        }
      ]
    },
    {
      "cell_type": "code",
      "metadata": {
        "id": "Nc6hh3LjWLnV"
      },
      "source": [
        ""
      ],
      "execution_count": null,
      "outputs": []
    }
  ]
}