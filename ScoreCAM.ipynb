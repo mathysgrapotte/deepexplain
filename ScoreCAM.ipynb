{
  "nbformat": 4,
  "nbformat_minor": 0,
  "metadata": {
    "colab": {
      "name": "ScoreCAM-MNIST-EEML-version2.ipynb",
      "provenance": []
    },
    "kernelspec": {
      "name": "python3",
      "display_name": "Python 3"
    },
    "language_info": {
      "name": "python"
    },
    "accelerator": "GPU",
    "widgets": {
      "application/vnd.jupyter.widget-state+json": {
        "cfdd75bb9fa84af19df301643e580a16": {
          "model_module": "@jupyter-widgets/controls",
          "model_name": "HBoxModel",
          "model_module_version": "1.5.0",
          "state": {
            "_view_name": "HBoxView",
            "_dom_classes": [],
            "_model_name": "HBoxModel",
            "_view_module": "@jupyter-widgets/controls",
            "_model_module_version": "1.5.0",
            "_view_count": null,
            "_view_module_version": "1.5.0",
            "box_style": "",
            "layout": "IPY_MODEL_1285f1c562044bd0b7996e0dc98b042c",
            "_model_module": "@jupyter-widgets/controls",
            "children": [
              "IPY_MODEL_a9666d7f8e8a45d7b36d32b62107cfce",
              "IPY_MODEL_47dd1dbb24b7495580110626fa2fe8dc",
              "IPY_MODEL_f16b175dc78e4453a4ef57d89a162b09"
            ]
          }
        },
        "1285f1c562044bd0b7996e0dc98b042c": {
          "model_module": "@jupyter-widgets/base",
          "model_name": "LayoutModel",
          "model_module_version": "1.2.0",
          "state": {
            "_view_name": "LayoutView",
            "grid_template_rows": null,
            "right": null,
            "justify_content": null,
            "_view_module": "@jupyter-widgets/base",
            "overflow": null,
            "_model_module_version": "1.2.0",
            "_view_count": null,
            "flex_flow": null,
            "width": null,
            "min_width": null,
            "border": null,
            "align_items": null,
            "bottom": null,
            "_model_module": "@jupyter-widgets/base",
            "top": null,
            "grid_column": null,
            "overflow_y": null,
            "overflow_x": null,
            "grid_auto_flow": null,
            "grid_area": null,
            "grid_template_columns": null,
            "flex": null,
            "_model_name": "LayoutModel",
            "justify_items": null,
            "grid_row": null,
            "max_height": null,
            "align_content": null,
            "visibility": null,
            "align_self": null,
            "height": null,
            "min_height": null,
            "padding": null,
            "grid_auto_rows": null,
            "grid_gap": null,
            "max_width": null,
            "order": null,
            "_view_module_version": "1.2.0",
            "grid_template_areas": null,
            "object_position": null,
            "object_fit": null,
            "grid_auto_columns": null,
            "margin": null,
            "display": null,
            "left": null
          }
        },
        "a9666d7f8e8a45d7b36d32b62107cfce": {
          "model_module": "@jupyter-widgets/controls",
          "model_name": "HTMLModel",
          "model_module_version": "1.5.0",
          "state": {
            "_view_name": "HTMLView",
            "style": "IPY_MODEL_ab2d2bddc1964e63b0680da061b5e27c",
            "_dom_classes": [],
            "description": "",
            "_model_name": "HTMLModel",
            "placeholder": "​",
            "_view_module": "@jupyter-widgets/controls",
            "_model_module_version": "1.5.0",
            "value": "",
            "_view_count": null,
            "_view_module_version": "1.5.0",
            "description_tooltip": null,
            "_model_module": "@jupyter-widgets/controls",
            "layout": "IPY_MODEL_29b67241d6204c8eb7886cb9f73cc1a9"
          }
        },
        "47dd1dbb24b7495580110626fa2fe8dc": {
          "model_module": "@jupyter-widgets/controls",
          "model_name": "FloatProgressModel",
          "model_module_version": "1.5.0",
          "state": {
            "_view_name": "ProgressView",
            "style": "IPY_MODEL_35d759d03e3a48bd980ae1e0cd6d4cab",
            "_dom_classes": [],
            "description": "",
            "_model_name": "FloatProgressModel",
            "bar_style": "success",
            "max": 9912422,
            "_view_module": "@jupyter-widgets/controls",
            "_model_module_version": "1.5.0",
            "value": 9912422,
            "_view_count": null,
            "_view_module_version": "1.5.0",
            "orientation": "horizontal",
            "min": 0,
            "description_tooltip": null,
            "_model_module": "@jupyter-widgets/controls",
            "layout": "IPY_MODEL_5322e6b3299c49b9a2ef6330c35d1a1d"
          }
        },
        "f16b175dc78e4453a4ef57d89a162b09": {
          "model_module": "@jupyter-widgets/controls",
          "model_name": "HTMLModel",
          "model_module_version": "1.5.0",
          "state": {
            "_view_name": "HTMLView",
            "style": "IPY_MODEL_39141bc183d445608f61b718b7fe9ca5",
            "_dom_classes": [],
            "description": "",
            "_model_name": "HTMLModel",
            "placeholder": "​",
            "_view_module": "@jupyter-widgets/controls",
            "_model_module_version": "1.5.0",
            "value": " 9913344/? [00:00&lt;00:00, 19023080.80it/s]",
            "_view_count": null,
            "_view_module_version": "1.5.0",
            "description_tooltip": null,
            "_model_module": "@jupyter-widgets/controls",
            "layout": "IPY_MODEL_38f1821a153146d58f07478fe6dbcc91"
          }
        },
        "ab2d2bddc1964e63b0680da061b5e27c": {
          "model_module": "@jupyter-widgets/controls",
          "model_name": "DescriptionStyleModel",
          "model_module_version": "1.5.0",
          "state": {
            "_view_name": "StyleView",
            "_model_name": "DescriptionStyleModel",
            "description_width": "",
            "_view_module": "@jupyter-widgets/base",
            "_model_module_version": "1.5.0",
            "_view_count": null,
            "_view_module_version": "1.2.0",
            "_model_module": "@jupyter-widgets/controls"
          }
        },
        "29b67241d6204c8eb7886cb9f73cc1a9": {
          "model_module": "@jupyter-widgets/base",
          "model_name": "LayoutModel",
          "model_module_version": "1.2.0",
          "state": {
            "_view_name": "LayoutView",
            "grid_template_rows": null,
            "right": null,
            "justify_content": null,
            "_view_module": "@jupyter-widgets/base",
            "overflow": null,
            "_model_module_version": "1.2.0",
            "_view_count": null,
            "flex_flow": null,
            "width": null,
            "min_width": null,
            "border": null,
            "align_items": null,
            "bottom": null,
            "_model_module": "@jupyter-widgets/base",
            "top": null,
            "grid_column": null,
            "overflow_y": null,
            "overflow_x": null,
            "grid_auto_flow": null,
            "grid_area": null,
            "grid_template_columns": null,
            "flex": null,
            "_model_name": "LayoutModel",
            "justify_items": null,
            "grid_row": null,
            "max_height": null,
            "align_content": null,
            "visibility": null,
            "align_self": null,
            "height": null,
            "min_height": null,
            "padding": null,
            "grid_auto_rows": null,
            "grid_gap": null,
            "max_width": null,
            "order": null,
            "_view_module_version": "1.2.0",
            "grid_template_areas": null,
            "object_position": null,
            "object_fit": null,
            "grid_auto_columns": null,
            "margin": null,
            "display": null,
            "left": null
          }
        },
        "35d759d03e3a48bd980ae1e0cd6d4cab": {
          "model_module": "@jupyter-widgets/controls",
          "model_name": "ProgressStyleModel",
          "model_module_version": "1.5.0",
          "state": {
            "_view_name": "StyleView",
            "_model_name": "ProgressStyleModel",
            "description_width": "",
            "_view_module": "@jupyter-widgets/base",
            "_model_module_version": "1.5.0",
            "_view_count": null,
            "_view_module_version": "1.2.0",
            "bar_color": null,
            "_model_module": "@jupyter-widgets/controls"
          }
        },
        "5322e6b3299c49b9a2ef6330c35d1a1d": {
          "model_module": "@jupyter-widgets/base",
          "model_name": "LayoutModel",
          "model_module_version": "1.2.0",
          "state": {
            "_view_name": "LayoutView",
            "grid_template_rows": null,
            "right": null,
            "justify_content": null,
            "_view_module": "@jupyter-widgets/base",
            "overflow": null,
            "_model_module_version": "1.2.0",
            "_view_count": null,
            "flex_flow": null,
            "width": null,
            "min_width": null,
            "border": null,
            "align_items": null,
            "bottom": null,
            "_model_module": "@jupyter-widgets/base",
            "top": null,
            "grid_column": null,
            "overflow_y": null,
            "overflow_x": null,
            "grid_auto_flow": null,
            "grid_area": null,
            "grid_template_columns": null,
            "flex": null,
            "_model_name": "LayoutModel",
            "justify_items": null,
            "grid_row": null,
            "max_height": null,
            "align_content": null,
            "visibility": null,
            "align_self": null,
            "height": null,
            "min_height": null,
            "padding": null,
            "grid_auto_rows": null,
            "grid_gap": null,
            "max_width": null,
            "order": null,
            "_view_module_version": "1.2.0",
            "grid_template_areas": null,
            "object_position": null,
            "object_fit": null,
            "grid_auto_columns": null,
            "margin": null,
            "display": null,
            "left": null
          }
        },
        "39141bc183d445608f61b718b7fe9ca5": {
          "model_module": "@jupyter-widgets/controls",
          "model_name": "DescriptionStyleModel",
          "model_module_version": "1.5.0",
          "state": {
            "_view_name": "StyleView",
            "_model_name": "DescriptionStyleModel",
            "description_width": "",
            "_view_module": "@jupyter-widgets/base",
            "_model_module_version": "1.5.0",
            "_view_count": null,
            "_view_module_version": "1.2.0",
            "_model_module": "@jupyter-widgets/controls"
          }
        },
        "38f1821a153146d58f07478fe6dbcc91": {
          "model_module": "@jupyter-widgets/base",
          "model_name": "LayoutModel",
          "model_module_version": "1.2.0",
          "state": {
            "_view_name": "LayoutView",
            "grid_template_rows": null,
            "right": null,
            "justify_content": null,
            "_view_module": "@jupyter-widgets/base",
            "overflow": null,
            "_model_module_version": "1.2.0",
            "_view_count": null,
            "flex_flow": null,
            "width": null,
            "min_width": null,
            "border": null,
            "align_items": null,
            "bottom": null,
            "_model_module": "@jupyter-widgets/base",
            "top": null,
            "grid_column": null,
            "overflow_y": null,
            "overflow_x": null,
            "grid_auto_flow": null,
            "grid_area": null,
            "grid_template_columns": null,
            "flex": null,
            "_model_name": "LayoutModel",
            "justify_items": null,
            "grid_row": null,
            "max_height": null,
            "align_content": null,
            "visibility": null,
            "align_self": null,
            "height": null,
            "min_height": null,
            "padding": null,
            "grid_auto_rows": null,
            "grid_gap": null,
            "max_width": null,
            "order": null,
            "_view_module_version": "1.2.0",
            "grid_template_areas": null,
            "object_position": null,
            "object_fit": null,
            "grid_auto_columns": null,
            "margin": null,
            "display": null,
            "left": null
          }
        },
        "bfa66024b1a44fc68baacb94a99f3e49": {
          "model_module": "@jupyter-widgets/controls",
          "model_name": "HBoxModel",
          "model_module_version": "1.5.0",
          "state": {
            "_view_name": "HBoxView",
            "_dom_classes": [],
            "_model_name": "HBoxModel",
            "_view_module": "@jupyter-widgets/controls",
            "_model_module_version": "1.5.0",
            "_view_count": null,
            "_view_module_version": "1.5.0",
            "box_style": "",
            "layout": "IPY_MODEL_e9c98a3b95474d47b0a2f0aea307e44b",
            "_model_module": "@jupyter-widgets/controls",
            "children": [
              "IPY_MODEL_8ccd31d645184ff9825e0ac91e94b787",
              "IPY_MODEL_3e4ba8f685fe495285372f4a08b118ef",
              "IPY_MODEL_a1a3b37a550b4e198f4dd7a200c5f0e5"
            ]
          }
        },
        "e9c98a3b95474d47b0a2f0aea307e44b": {
          "model_module": "@jupyter-widgets/base",
          "model_name": "LayoutModel",
          "model_module_version": "1.2.0",
          "state": {
            "_view_name": "LayoutView",
            "grid_template_rows": null,
            "right": null,
            "justify_content": null,
            "_view_module": "@jupyter-widgets/base",
            "overflow": null,
            "_model_module_version": "1.2.0",
            "_view_count": null,
            "flex_flow": null,
            "width": null,
            "min_width": null,
            "border": null,
            "align_items": null,
            "bottom": null,
            "_model_module": "@jupyter-widgets/base",
            "top": null,
            "grid_column": null,
            "overflow_y": null,
            "overflow_x": null,
            "grid_auto_flow": null,
            "grid_area": null,
            "grid_template_columns": null,
            "flex": null,
            "_model_name": "LayoutModel",
            "justify_items": null,
            "grid_row": null,
            "max_height": null,
            "align_content": null,
            "visibility": null,
            "align_self": null,
            "height": null,
            "min_height": null,
            "padding": null,
            "grid_auto_rows": null,
            "grid_gap": null,
            "max_width": null,
            "order": null,
            "_view_module_version": "1.2.0",
            "grid_template_areas": null,
            "object_position": null,
            "object_fit": null,
            "grid_auto_columns": null,
            "margin": null,
            "display": null,
            "left": null
          }
        },
        "8ccd31d645184ff9825e0ac91e94b787": {
          "model_module": "@jupyter-widgets/controls",
          "model_name": "HTMLModel",
          "model_module_version": "1.5.0",
          "state": {
            "_view_name": "HTMLView",
            "style": "IPY_MODEL_01ce6f4abbcf43b181cf1987b6da23ed",
            "_dom_classes": [],
            "description": "",
            "_model_name": "HTMLModel",
            "placeholder": "​",
            "_view_module": "@jupyter-widgets/controls",
            "_model_module_version": "1.5.0",
            "value": "",
            "_view_count": null,
            "_view_module_version": "1.5.0",
            "description_tooltip": null,
            "_model_module": "@jupyter-widgets/controls",
            "layout": "IPY_MODEL_fbb3fbcc6e8142d1bd7973394e2d39d3"
          }
        },
        "3e4ba8f685fe495285372f4a08b118ef": {
          "model_module": "@jupyter-widgets/controls",
          "model_name": "FloatProgressModel",
          "model_module_version": "1.5.0",
          "state": {
            "_view_name": "ProgressView",
            "style": "IPY_MODEL_00b751eb51fd46a6b7d3eb0762af5be3",
            "_dom_classes": [],
            "description": "",
            "_model_name": "FloatProgressModel",
            "bar_style": "success",
            "max": 28881,
            "_view_module": "@jupyter-widgets/controls",
            "_model_module_version": "1.5.0",
            "value": 28881,
            "_view_count": null,
            "_view_module_version": "1.5.0",
            "orientation": "horizontal",
            "min": 0,
            "description_tooltip": null,
            "_model_module": "@jupyter-widgets/controls",
            "layout": "IPY_MODEL_0943ee42ac864cfd96dba69a0dc447eb"
          }
        },
        "a1a3b37a550b4e198f4dd7a200c5f0e5": {
          "model_module": "@jupyter-widgets/controls",
          "model_name": "HTMLModel",
          "model_module_version": "1.5.0",
          "state": {
            "_view_name": "HTMLView",
            "style": "IPY_MODEL_a74ab5dc03064bc789bd643aefb4864c",
            "_dom_classes": [],
            "description": "",
            "_model_name": "HTMLModel",
            "placeholder": "​",
            "_view_module": "@jupyter-widgets/controls",
            "_model_module_version": "1.5.0",
            "value": " 29696/? [00:00&lt;00:00, 659396.43it/s]",
            "_view_count": null,
            "_view_module_version": "1.5.0",
            "description_tooltip": null,
            "_model_module": "@jupyter-widgets/controls",
            "layout": "IPY_MODEL_30a195cf408542368a05edba41cb2168"
          }
        },
        "01ce6f4abbcf43b181cf1987b6da23ed": {
          "model_module": "@jupyter-widgets/controls",
          "model_name": "DescriptionStyleModel",
          "model_module_version": "1.5.0",
          "state": {
            "_view_name": "StyleView",
            "_model_name": "DescriptionStyleModel",
            "description_width": "",
            "_view_module": "@jupyter-widgets/base",
            "_model_module_version": "1.5.0",
            "_view_count": null,
            "_view_module_version": "1.2.0",
            "_model_module": "@jupyter-widgets/controls"
          }
        },
        "fbb3fbcc6e8142d1bd7973394e2d39d3": {
          "model_module": "@jupyter-widgets/base",
          "model_name": "LayoutModel",
          "model_module_version": "1.2.0",
          "state": {
            "_view_name": "LayoutView",
            "grid_template_rows": null,
            "right": null,
            "justify_content": null,
            "_view_module": "@jupyter-widgets/base",
            "overflow": null,
            "_model_module_version": "1.2.0",
            "_view_count": null,
            "flex_flow": null,
            "width": null,
            "min_width": null,
            "border": null,
            "align_items": null,
            "bottom": null,
            "_model_module": "@jupyter-widgets/base",
            "top": null,
            "grid_column": null,
            "overflow_y": null,
            "overflow_x": null,
            "grid_auto_flow": null,
            "grid_area": null,
            "grid_template_columns": null,
            "flex": null,
            "_model_name": "LayoutModel",
            "justify_items": null,
            "grid_row": null,
            "max_height": null,
            "align_content": null,
            "visibility": null,
            "align_self": null,
            "height": null,
            "min_height": null,
            "padding": null,
            "grid_auto_rows": null,
            "grid_gap": null,
            "max_width": null,
            "order": null,
            "_view_module_version": "1.2.0",
            "grid_template_areas": null,
            "object_position": null,
            "object_fit": null,
            "grid_auto_columns": null,
            "margin": null,
            "display": null,
            "left": null
          }
        },
        "00b751eb51fd46a6b7d3eb0762af5be3": {
          "model_module": "@jupyter-widgets/controls",
          "model_name": "ProgressStyleModel",
          "model_module_version": "1.5.0",
          "state": {
            "_view_name": "StyleView",
            "_model_name": "ProgressStyleModel",
            "description_width": "",
            "_view_module": "@jupyter-widgets/base",
            "_model_module_version": "1.5.0",
            "_view_count": null,
            "_view_module_version": "1.2.0",
            "bar_color": null,
            "_model_module": "@jupyter-widgets/controls"
          }
        },
        "0943ee42ac864cfd96dba69a0dc447eb": {
          "model_module": "@jupyter-widgets/base",
          "model_name": "LayoutModel",
          "model_module_version": "1.2.0",
          "state": {
            "_view_name": "LayoutView",
            "grid_template_rows": null,
            "right": null,
            "justify_content": null,
            "_view_module": "@jupyter-widgets/base",
            "overflow": null,
            "_model_module_version": "1.2.0",
            "_view_count": null,
            "flex_flow": null,
            "width": null,
            "min_width": null,
            "border": null,
            "align_items": null,
            "bottom": null,
            "_model_module": "@jupyter-widgets/base",
            "top": null,
            "grid_column": null,
            "overflow_y": null,
            "overflow_x": null,
            "grid_auto_flow": null,
            "grid_area": null,
            "grid_template_columns": null,
            "flex": null,
            "_model_name": "LayoutModel",
            "justify_items": null,
            "grid_row": null,
            "max_height": null,
            "align_content": null,
            "visibility": null,
            "align_self": null,
            "height": null,
            "min_height": null,
            "padding": null,
            "grid_auto_rows": null,
            "grid_gap": null,
            "max_width": null,
            "order": null,
            "_view_module_version": "1.2.0",
            "grid_template_areas": null,
            "object_position": null,
            "object_fit": null,
            "grid_auto_columns": null,
            "margin": null,
            "display": null,
            "left": null
          }
        },
        "a74ab5dc03064bc789bd643aefb4864c": {
          "model_module": "@jupyter-widgets/controls",
          "model_name": "DescriptionStyleModel",
          "model_module_version": "1.5.0",
          "state": {
            "_view_name": "StyleView",
            "_model_name": "DescriptionStyleModel",
            "description_width": "",
            "_view_module": "@jupyter-widgets/base",
            "_model_module_version": "1.5.0",
            "_view_count": null,
            "_view_module_version": "1.2.0",
            "_model_module": "@jupyter-widgets/controls"
          }
        },
        "30a195cf408542368a05edba41cb2168": {
          "model_module": "@jupyter-widgets/base",
          "model_name": "LayoutModel",
          "model_module_version": "1.2.0",
          "state": {
            "_view_name": "LayoutView",
            "grid_template_rows": null,
            "right": null,
            "justify_content": null,
            "_view_module": "@jupyter-widgets/base",
            "overflow": null,
            "_model_module_version": "1.2.0",
            "_view_count": null,
            "flex_flow": null,
            "width": null,
            "min_width": null,
            "border": null,
            "align_items": null,
            "bottom": null,
            "_model_module": "@jupyter-widgets/base",
            "top": null,
            "grid_column": null,
            "overflow_y": null,
            "overflow_x": null,
            "grid_auto_flow": null,
            "grid_area": null,
            "grid_template_columns": null,
            "flex": null,
            "_model_name": "LayoutModel",
            "justify_items": null,
            "grid_row": null,
            "max_height": null,
            "align_content": null,
            "visibility": null,
            "align_self": null,
            "height": null,
            "min_height": null,
            "padding": null,
            "grid_auto_rows": null,
            "grid_gap": null,
            "max_width": null,
            "order": null,
            "_view_module_version": "1.2.0",
            "grid_template_areas": null,
            "object_position": null,
            "object_fit": null,
            "grid_auto_columns": null,
            "margin": null,
            "display": null,
            "left": null
          }
        },
        "74a3ed80e27a47aebc03c7e488457f63": {
          "model_module": "@jupyter-widgets/controls",
          "model_name": "HBoxModel",
          "model_module_version": "1.5.0",
          "state": {
            "_view_name": "HBoxView",
            "_dom_classes": [],
            "_model_name": "HBoxModel",
            "_view_module": "@jupyter-widgets/controls",
            "_model_module_version": "1.5.0",
            "_view_count": null,
            "_view_module_version": "1.5.0",
            "box_style": "",
            "layout": "IPY_MODEL_5b112c90f7e64ac2a3606c486165349b",
            "_model_module": "@jupyter-widgets/controls",
            "children": [
              "IPY_MODEL_d9e9cd29fbc34897a832f08bd72843e5",
              "IPY_MODEL_29f35ebd7f1f423a98bb1a2ec1aa595a",
              "IPY_MODEL_739d7b4c07c94062b08992403ee933cb"
            ]
          }
        },
        "5b112c90f7e64ac2a3606c486165349b": {
          "model_module": "@jupyter-widgets/base",
          "model_name": "LayoutModel",
          "model_module_version": "1.2.0",
          "state": {
            "_view_name": "LayoutView",
            "grid_template_rows": null,
            "right": null,
            "justify_content": null,
            "_view_module": "@jupyter-widgets/base",
            "overflow": null,
            "_model_module_version": "1.2.0",
            "_view_count": null,
            "flex_flow": null,
            "width": null,
            "min_width": null,
            "border": null,
            "align_items": null,
            "bottom": null,
            "_model_module": "@jupyter-widgets/base",
            "top": null,
            "grid_column": null,
            "overflow_y": null,
            "overflow_x": null,
            "grid_auto_flow": null,
            "grid_area": null,
            "grid_template_columns": null,
            "flex": null,
            "_model_name": "LayoutModel",
            "justify_items": null,
            "grid_row": null,
            "max_height": null,
            "align_content": null,
            "visibility": null,
            "align_self": null,
            "height": null,
            "min_height": null,
            "padding": null,
            "grid_auto_rows": null,
            "grid_gap": null,
            "max_width": null,
            "order": null,
            "_view_module_version": "1.2.0",
            "grid_template_areas": null,
            "object_position": null,
            "object_fit": null,
            "grid_auto_columns": null,
            "margin": null,
            "display": null,
            "left": null
          }
        },
        "d9e9cd29fbc34897a832f08bd72843e5": {
          "model_module": "@jupyter-widgets/controls",
          "model_name": "HTMLModel",
          "model_module_version": "1.5.0",
          "state": {
            "_view_name": "HTMLView",
            "style": "IPY_MODEL_72ce1fe04bc74d4c8813493eac28c183",
            "_dom_classes": [],
            "description": "",
            "_model_name": "HTMLModel",
            "placeholder": "​",
            "_view_module": "@jupyter-widgets/controls",
            "_model_module_version": "1.5.0",
            "value": "",
            "_view_count": null,
            "_view_module_version": "1.5.0",
            "description_tooltip": null,
            "_model_module": "@jupyter-widgets/controls",
            "layout": "IPY_MODEL_577a3312a8fb4055825ac89ccf8b381e"
          }
        },
        "29f35ebd7f1f423a98bb1a2ec1aa595a": {
          "model_module": "@jupyter-widgets/controls",
          "model_name": "FloatProgressModel",
          "model_module_version": "1.5.0",
          "state": {
            "_view_name": "ProgressView",
            "style": "IPY_MODEL_d75aaec9cebb4ab49fbac0b68ebdd6e4",
            "_dom_classes": [],
            "description": "",
            "_model_name": "FloatProgressModel",
            "bar_style": "success",
            "max": 1648877,
            "_view_module": "@jupyter-widgets/controls",
            "_model_module_version": "1.5.0",
            "value": 1648877,
            "_view_count": null,
            "_view_module_version": "1.5.0",
            "orientation": "horizontal",
            "min": 0,
            "description_tooltip": null,
            "_model_module": "@jupyter-widgets/controls",
            "layout": "IPY_MODEL_6690cad2eefe408dba746a87375d101b"
          }
        },
        "739d7b4c07c94062b08992403ee933cb": {
          "model_module": "@jupyter-widgets/controls",
          "model_name": "HTMLModel",
          "model_module_version": "1.5.0",
          "state": {
            "_view_name": "HTMLView",
            "style": "IPY_MODEL_6d2b120efce24271b77f794003b9abdb",
            "_dom_classes": [],
            "description": "",
            "_model_name": "HTMLModel",
            "placeholder": "​",
            "_view_module": "@jupyter-widgets/controls",
            "_model_module_version": "1.5.0",
            "value": " 1649664/? [00:00&lt;00:00, 13434860.78it/s]",
            "_view_count": null,
            "_view_module_version": "1.5.0",
            "description_tooltip": null,
            "_model_module": "@jupyter-widgets/controls",
            "layout": "IPY_MODEL_b00fa0ba53054a7b9a975b301224e557"
          }
        },
        "72ce1fe04bc74d4c8813493eac28c183": {
          "model_module": "@jupyter-widgets/controls",
          "model_name": "DescriptionStyleModel",
          "model_module_version": "1.5.0",
          "state": {
            "_view_name": "StyleView",
            "_model_name": "DescriptionStyleModel",
            "description_width": "",
            "_view_module": "@jupyter-widgets/base",
            "_model_module_version": "1.5.0",
            "_view_count": null,
            "_view_module_version": "1.2.0",
            "_model_module": "@jupyter-widgets/controls"
          }
        },
        "577a3312a8fb4055825ac89ccf8b381e": {
          "model_module": "@jupyter-widgets/base",
          "model_name": "LayoutModel",
          "model_module_version": "1.2.0",
          "state": {
            "_view_name": "LayoutView",
            "grid_template_rows": null,
            "right": null,
            "justify_content": null,
            "_view_module": "@jupyter-widgets/base",
            "overflow": null,
            "_model_module_version": "1.2.0",
            "_view_count": null,
            "flex_flow": null,
            "width": null,
            "min_width": null,
            "border": null,
            "align_items": null,
            "bottom": null,
            "_model_module": "@jupyter-widgets/base",
            "top": null,
            "grid_column": null,
            "overflow_y": null,
            "overflow_x": null,
            "grid_auto_flow": null,
            "grid_area": null,
            "grid_template_columns": null,
            "flex": null,
            "_model_name": "LayoutModel",
            "justify_items": null,
            "grid_row": null,
            "max_height": null,
            "align_content": null,
            "visibility": null,
            "align_self": null,
            "height": null,
            "min_height": null,
            "padding": null,
            "grid_auto_rows": null,
            "grid_gap": null,
            "max_width": null,
            "order": null,
            "_view_module_version": "1.2.0",
            "grid_template_areas": null,
            "object_position": null,
            "object_fit": null,
            "grid_auto_columns": null,
            "margin": null,
            "display": null,
            "left": null
          }
        },
        "d75aaec9cebb4ab49fbac0b68ebdd6e4": {
          "model_module": "@jupyter-widgets/controls",
          "model_name": "ProgressStyleModel",
          "model_module_version": "1.5.0",
          "state": {
            "_view_name": "StyleView",
            "_model_name": "ProgressStyleModel",
            "description_width": "",
            "_view_module": "@jupyter-widgets/base",
            "_model_module_version": "1.5.0",
            "_view_count": null,
            "_view_module_version": "1.2.0",
            "bar_color": null,
            "_model_module": "@jupyter-widgets/controls"
          }
        },
        "6690cad2eefe408dba746a87375d101b": {
          "model_module": "@jupyter-widgets/base",
          "model_name": "LayoutModel",
          "model_module_version": "1.2.0",
          "state": {
            "_view_name": "LayoutView",
            "grid_template_rows": null,
            "right": null,
            "justify_content": null,
            "_view_module": "@jupyter-widgets/base",
            "overflow": null,
            "_model_module_version": "1.2.0",
            "_view_count": null,
            "flex_flow": null,
            "width": null,
            "min_width": null,
            "border": null,
            "align_items": null,
            "bottom": null,
            "_model_module": "@jupyter-widgets/base",
            "top": null,
            "grid_column": null,
            "overflow_y": null,
            "overflow_x": null,
            "grid_auto_flow": null,
            "grid_area": null,
            "grid_template_columns": null,
            "flex": null,
            "_model_name": "LayoutModel",
            "justify_items": null,
            "grid_row": null,
            "max_height": null,
            "align_content": null,
            "visibility": null,
            "align_self": null,
            "height": null,
            "min_height": null,
            "padding": null,
            "grid_auto_rows": null,
            "grid_gap": null,
            "max_width": null,
            "order": null,
            "_view_module_version": "1.2.0",
            "grid_template_areas": null,
            "object_position": null,
            "object_fit": null,
            "grid_auto_columns": null,
            "margin": null,
            "display": null,
            "left": null
          }
        },
        "6d2b120efce24271b77f794003b9abdb": {
          "model_module": "@jupyter-widgets/controls",
          "model_name": "DescriptionStyleModel",
          "model_module_version": "1.5.0",
          "state": {
            "_view_name": "StyleView",
            "_model_name": "DescriptionStyleModel",
            "description_width": "",
            "_view_module": "@jupyter-widgets/base",
            "_model_module_version": "1.5.0",
            "_view_count": null,
            "_view_module_version": "1.2.0",
            "_model_module": "@jupyter-widgets/controls"
          }
        },
        "b00fa0ba53054a7b9a975b301224e557": {
          "model_module": "@jupyter-widgets/base",
          "model_name": "LayoutModel",
          "model_module_version": "1.2.0",
          "state": {
            "_view_name": "LayoutView",
            "grid_template_rows": null,
            "right": null,
            "justify_content": null,
            "_view_module": "@jupyter-widgets/base",
            "overflow": null,
            "_model_module_version": "1.2.0",
            "_view_count": null,
            "flex_flow": null,
            "width": null,
            "min_width": null,
            "border": null,
            "align_items": null,
            "bottom": null,
            "_model_module": "@jupyter-widgets/base",
            "top": null,
            "grid_column": null,
            "overflow_y": null,
            "overflow_x": null,
            "grid_auto_flow": null,
            "grid_area": null,
            "grid_template_columns": null,
            "flex": null,
            "_model_name": "LayoutModel",
            "justify_items": null,
            "grid_row": null,
            "max_height": null,
            "align_content": null,
            "visibility": null,
            "align_self": null,
            "height": null,
            "min_height": null,
            "padding": null,
            "grid_auto_rows": null,
            "grid_gap": null,
            "max_width": null,
            "order": null,
            "_view_module_version": "1.2.0",
            "grid_template_areas": null,
            "object_position": null,
            "object_fit": null,
            "grid_auto_columns": null,
            "margin": null,
            "display": null,
            "left": null
          }
        },
        "9a9717d668c742f992b3814be71b7151": {
          "model_module": "@jupyter-widgets/controls",
          "model_name": "HBoxModel",
          "model_module_version": "1.5.0",
          "state": {
            "_view_name": "HBoxView",
            "_dom_classes": [],
            "_model_name": "HBoxModel",
            "_view_module": "@jupyter-widgets/controls",
            "_model_module_version": "1.5.0",
            "_view_count": null,
            "_view_module_version": "1.5.0",
            "box_style": "",
            "layout": "IPY_MODEL_fdf9811ad9984c4ba31b77de858df23e",
            "_model_module": "@jupyter-widgets/controls",
            "children": [
              "IPY_MODEL_e8cbfe4e553b47bc98c46782b0b07d60",
              "IPY_MODEL_543bc494c2784245a3786a5b619bffd6",
              "IPY_MODEL_93b59901f8934ffb8d4e0a59c92e934e"
            ]
          }
        },
        "fdf9811ad9984c4ba31b77de858df23e": {
          "model_module": "@jupyter-widgets/base",
          "model_name": "LayoutModel",
          "model_module_version": "1.2.0",
          "state": {
            "_view_name": "LayoutView",
            "grid_template_rows": null,
            "right": null,
            "justify_content": null,
            "_view_module": "@jupyter-widgets/base",
            "overflow": null,
            "_model_module_version": "1.2.0",
            "_view_count": null,
            "flex_flow": null,
            "width": null,
            "min_width": null,
            "border": null,
            "align_items": null,
            "bottom": null,
            "_model_module": "@jupyter-widgets/base",
            "top": null,
            "grid_column": null,
            "overflow_y": null,
            "overflow_x": null,
            "grid_auto_flow": null,
            "grid_area": null,
            "grid_template_columns": null,
            "flex": null,
            "_model_name": "LayoutModel",
            "justify_items": null,
            "grid_row": null,
            "max_height": null,
            "align_content": null,
            "visibility": null,
            "align_self": null,
            "height": null,
            "min_height": null,
            "padding": null,
            "grid_auto_rows": null,
            "grid_gap": null,
            "max_width": null,
            "order": null,
            "_view_module_version": "1.2.0",
            "grid_template_areas": null,
            "object_position": null,
            "object_fit": null,
            "grid_auto_columns": null,
            "margin": null,
            "display": null,
            "left": null
          }
        },
        "e8cbfe4e553b47bc98c46782b0b07d60": {
          "model_module": "@jupyter-widgets/controls",
          "model_name": "HTMLModel",
          "model_module_version": "1.5.0",
          "state": {
            "_view_name": "HTMLView",
            "style": "IPY_MODEL_4c162ae329554d1bbd2bd3223d311143",
            "_dom_classes": [],
            "description": "",
            "_model_name": "HTMLModel",
            "placeholder": "​",
            "_view_module": "@jupyter-widgets/controls",
            "_model_module_version": "1.5.0",
            "value": "",
            "_view_count": null,
            "_view_module_version": "1.5.0",
            "description_tooltip": null,
            "_model_module": "@jupyter-widgets/controls",
            "layout": "IPY_MODEL_ccabf910d7384433ad262aad897b5706"
          }
        },
        "543bc494c2784245a3786a5b619bffd6": {
          "model_module": "@jupyter-widgets/controls",
          "model_name": "FloatProgressModel",
          "model_module_version": "1.5.0",
          "state": {
            "_view_name": "ProgressView",
            "style": "IPY_MODEL_05de3e13c0d046b59e0f2b1b3c2f632d",
            "_dom_classes": [],
            "description": "",
            "_model_name": "FloatProgressModel",
            "bar_style": "success",
            "max": 4542,
            "_view_module": "@jupyter-widgets/controls",
            "_model_module_version": "1.5.0",
            "value": 4542,
            "_view_count": null,
            "_view_module_version": "1.5.0",
            "orientation": "horizontal",
            "min": 0,
            "description_tooltip": null,
            "_model_module": "@jupyter-widgets/controls",
            "layout": "IPY_MODEL_ed3a9765cbc84c49b784fa603ce9f19d"
          }
        },
        "93b59901f8934ffb8d4e0a59c92e934e": {
          "model_module": "@jupyter-widgets/controls",
          "model_name": "HTMLModel",
          "model_module_version": "1.5.0",
          "state": {
            "_view_name": "HTMLView",
            "style": "IPY_MODEL_1e5d334a82d0440e866f9c97237b73b1",
            "_dom_classes": [],
            "description": "",
            "_model_name": "HTMLModel",
            "placeholder": "​",
            "_view_module": "@jupyter-widgets/controls",
            "_model_module_version": "1.5.0",
            "value": " 5120/? [00:00&lt;00:00, 83959.22it/s]",
            "_view_count": null,
            "_view_module_version": "1.5.0",
            "description_tooltip": null,
            "_model_module": "@jupyter-widgets/controls",
            "layout": "IPY_MODEL_82c76af8b4a046ccbc6ff933cc8fa04f"
          }
        },
        "4c162ae329554d1bbd2bd3223d311143": {
          "model_module": "@jupyter-widgets/controls",
          "model_name": "DescriptionStyleModel",
          "model_module_version": "1.5.0",
          "state": {
            "_view_name": "StyleView",
            "_model_name": "DescriptionStyleModel",
            "description_width": "",
            "_view_module": "@jupyter-widgets/base",
            "_model_module_version": "1.5.0",
            "_view_count": null,
            "_view_module_version": "1.2.0",
            "_model_module": "@jupyter-widgets/controls"
          }
        },
        "ccabf910d7384433ad262aad897b5706": {
          "model_module": "@jupyter-widgets/base",
          "model_name": "LayoutModel",
          "model_module_version": "1.2.0",
          "state": {
            "_view_name": "LayoutView",
            "grid_template_rows": null,
            "right": null,
            "justify_content": null,
            "_view_module": "@jupyter-widgets/base",
            "overflow": null,
            "_model_module_version": "1.2.0",
            "_view_count": null,
            "flex_flow": null,
            "width": null,
            "min_width": null,
            "border": null,
            "align_items": null,
            "bottom": null,
            "_model_module": "@jupyter-widgets/base",
            "top": null,
            "grid_column": null,
            "overflow_y": null,
            "overflow_x": null,
            "grid_auto_flow": null,
            "grid_area": null,
            "grid_template_columns": null,
            "flex": null,
            "_model_name": "LayoutModel",
            "justify_items": null,
            "grid_row": null,
            "max_height": null,
            "align_content": null,
            "visibility": null,
            "align_self": null,
            "height": null,
            "min_height": null,
            "padding": null,
            "grid_auto_rows": null,
            "grid_gap": null,
            "max_width": null,
            "order": null,
            "_view_module_version": "1.2.0",
            "grid_template_areas": null,
            "object_position": null,
            "object_fit": null,
            "grid_auto_columns": null,
            "margin": null,
            "display": null,
            "left": null
          }
        },
        "05de3e13c0d046b59e0f2b1b3c2f632d": {
          "model_module": "@jupyter-widgets/controls",
          "model_name": "ProgressStyleModel",
          "model_module_version": "1.5.0",
          "state": {
            "_view_name": "StyleView",
            "_model_name": "ProgressStyleModel",
            "description_width": "",
            "_view_module": "@jupyter-widgets/base",
            "_model_module_version": "1.5.0",
            "_view_count": null,
            "_view_module_version": "1.2.0",
            "bar_color": null,
            "_model_module": "@jupyter-widgets/controls"
          }
        },
        "ed3a9765cbc84c49b784fa603ce9f19d": {
          "model_module": "@jupyter-widgets/base",
          "model_name": "LayoutModel",
          "model_module_version": "1.2.0",
          "state": {
            "_view_name": "LayoutView",
            "grid_template_rows": null,
            "right": null,
            "justify_content": null,
            "_view_module": "@jupyter-widgets/base",
            "overflow": null,
            "_model_module_version": "1.2.0",
            "_view_count": null,
            "flex_flow": null,
            "width": null,
            "min_width": null,
            "border": null,
            "align_items": null,
            "bottom": null,
            "_model_module": "@jupyter-widgets/base",
            "top": null,
            "grid_column": null,
            "overflow_y": null,
            "overflow_x": null,
            "grid_auto_flow": null,
            "grid_area": null,
            "grid_template_columns": null,
            "flex": null,
            "_model_name": "LayoutModel",
            "justify_items": null,
            "grid_row": null,
            "max_height": null,
            "align_content": null,
            "visibility": null,
            "align_self": null,
            "height": null,
            "min_height": null,
            "padding": null,
            "grid_auto_rows": null,
            "grid_gap": null,
            "max_width": null,
            "order": null,
            "_view_module_version": "1.2.0",
            "grid_template_areas": null,
            "object_position": null,
            "object_fit": null,
            "grid_auto_columns": null,
            "margin": null,
            "display": null,
            "left": null
          }
        },
        "1e5d334a82d0440e866f9c97237b73b1": {
          "model_module": "@jupyter-widgets/controls",
          "model_name": "DescriptionStyleModel",
          "model_module_version": "1.5.0",
          "state": {
            "_view_name": "StyleView",
            "_model_name": "DescriptionStyleModel",
            "description_width": "",
            "_view_module": "@jupyter-widgets/base",
            "_model_module_version": "1.5.0",
            "_view_count": null,
            "_view_module_version": "1.2.0",
            "_model_module": "@jupyter-widgets/controls"
          }
        },
        "82c76af8b4a046ccbc6ff933cc8fa04f": {
          "model_module": "@jupyter-widgets/base",
          "model_name": "LayoutModel",
          "model_module_version": "1.2.0",
          "state": {
            "_view_name": "LayoutView",
            "grid_template_rows": null,
            "right": null,
            "justify_content": null,
            "_view_module": "@jupyter-widgets/base",
            "overflow": null,
            "_model_module_version": "1.2.0",
            "_view_count": null,
            "flex_flow": null,
            "width": null,
            "min_width": null,
            "border": null,
            "align_items": null,
            "bottom": null,
            "_model_module": "@jupyter-widgets/base",
            "top": null,
            "grid_column": null,
            "overflow_y": null,
            "overflow_x": null,
            "grid_auto_flow": null,
            "grid_area": null,
            "grid_template_columns": null,
            "flex": null,
            "_model_name": "LayoutModel",
            "justify_items": null,
            "grid_row": null,
            "max_height": null,
            "align_content": null,
            "visibility": null,
            "align_self": null,
            "height": null,
            "min_height": null,
            "padding": null,
            "grid_auto_rows": null,
            "grid_gap": null,
            "max_width": null,
            "order": null,
            "_view_module_version": "1.2.0",
            "grid_template_areas": null,
            "object_position": null,
            "object_fit": null,
            "grid_auto_columns": null,
            "margin": null,
            "display": null,
            "left": null
          }
        }
      }
    }
  },
  "cells": [
    {
      "cell_type": "markdown",
      "metadata": {
        "id": "eFIp5smXK4MR"
      },
      "source": [
        "# ScoreCAM\n",
        "\n",
        "Score-CAM is another method based on Class Activation Mapping (CAM). This method unlike others that follow CAM approach does not use gradients and gets   the weight of each activation map through its forward passing when applied as a mask to the input, then the final score is obtained by a linear combination of weights and activation maps[1].\n",
        "\n",
        "## Introduction \n",
        "Visual Explainability Methods  produce a saliency map showing how important each pixel is for their label of classification. These are suitable for image data because they are visual-appealing and can be generally classified into two types:\n",
        "\n",
        "**a. Backpropagation-based Methods**\n",
        "These methods distinguish the effect of input features on the final prediction based on some evaluation of gradient signals passed from output to input during network training. Saliency maps highlight the pixels in order of importance to the DNN prediction, based on derivatives. Several works have followed line, some of these methods are: Activation Maximization , Deconvolution, Class Activation Mapping (CAM) and the subsequent methods Grad-CAM and GradCAM++ that\n",
        "generalize it, Layer-Wise Relevance Propagation (LRP), Deep Learning Important\n",
        "FeaTures (DeepLIFT), Integrated Gradients. These methods generally have low\n",
        "quality and noise and lose information in the backpropagation process (vanishing gradient) due to Sigmoid and ReLU activations.\n",
        "\n",
        "**b. Perturbation-based Methods**\n",
        "These methods compare the difference in the prediction when the input features are changed. The most known methods are Occlusion by different types of perturbations  such as replacing the region with a constant value, adding noise to a region, and blurring a region; and Smooth Masks.\n",
        "\n",
        "It is important to note that saliency-based methods have presented many disadvantages.\n",
        "Saliency maps are based on only one image (Local Methods,.3). Thus, to draw\n",
        "a conclusion for each class with these methods, the human will have to do it in a one-by-one\n",
        "process. Also, saliency-based methods are not robust, since they are vulnerable to adversarial attacks as it was presented by Ghorbani[4]. Kindermans and Hooker[5] explored how some saliency methods behaved when the input data was shifted, e.g. change in the input encoding from [0; 1] to [−1; 0], addition of constant squares or a hand drawn cat image in the background. Their results showed that explanations generated by methods such as Deconvolution, Integrated Gradients are different than the ones produced before these simple transformations, which means that explanations can be manipulated and these methods are not\n",
        "reliable.\n",
        "Since evaluating the quality of an explanation only with visual inspection can be deceiving, Adebayo et al.[2] proposed Sanity Checks, a new way to evaluate explanations based on the fact that if the prediction changes, the explanation would also change. For this, they performed two types of tests: the model parameter randomization test, and the data randomization test.\n",
        "Model parameters encode what the DNN has learned, in order to debug the DNN and thus,\n",
        "improve their performance, it is necessary that saliency methods be sensitive to model parameters. \n",
        "\n",
        "Figure 1 shows the explanation for an age bone predictor trained on Inception v4 and after randomizing all the weights in the model. \n",
        "\n",
        "Figure 2 shows the performance of explainability methods based on saliency maps after applying a cascading randomization on Inception V3 trained with ImageNet. Notice that even though the weights on the network change (that is, the\n",
        "prediction changed), the saliency map of some methods remains the same, while Gradient and GradCAM passed the sanity checks.\n",
        "\n",
        "\n"
      ]
    },
    {
      "cell_type": "markdown",
      "metadata": {
        "id": "9iWSTLptd7Gs"
      },
      "source": [
        "![picture](https://github.com/RosePY/deepexplain/blob/ScoreCAM/ScoreCAM/images/sanity-smooth.png?raw=true)\n",
        "\n",
        "*Figure 1: Explanations B (trained Inception v4) and C (Inception v4 with Random weights) showing no difference. Figure reproduced from Adebayo et al.[2].*\n",
        "\n",
        "![picture](https://github.com/RosePY/deepexplain/blob/ScoreCAM/ScoreCAM/images/saliency.png?raw=true)\n",
        "\n",
        "*Figure 2: Saliency results for diverse methods after Cascading Randomization on Inception\n",
        "V3. They do not accomplish sanity check question: When prediction changes, do explanations\n",
        "change? Figure reproduced from Adebayo et al.[2].*\n",
        "\n"
      ]
    },
    {
      "cell_type": "markdown",
      "metadata": {
        "id": "JkTwxF1Id4wr"
      },
      "source": [
        "Furthermore, saliency methods can obtain deceitful explanations. Fong et al. [3] showed\n",
        "how different visual methods can get a different explanation without the need of changing the\n",
        "input as it was discussed before. For example, in Figure 3, in the first row it can be seen in the firt\n",
        "row the results for some Backpropagation-based Methods and Perturbation-based Methods for\n",
        "the label “chocolate-sauce”, and how different the heatmaps are, some explanations highlighted\n",
        "he chocolate pot or the spoon or both. These different explanations generate confusion about\n",
        "what the network is really basing on for its decision. To prove what method was accurate, they\n",
        "occluded some regions in the image and compared how the prediction of the DNN changed\n",
        "(second row in Figure 3), demonstrating that the spoon was indeed what the DNN 3focused on.\n",
        "This can be because of some bias in the dataset that is most of chocolate sauce images have a\n",
        "spoon.\n",
        "\n",
        "\n",
        "![picture](https://github.com/RosePY/deepexplain/blob/ScoreCAM/ScoreCAM/images/falsifiabl.png?raw=true)\n",
        "*Figure 3: Comparison of Explanations for the label “Chocolate sauce”. The first row shows\n",
        "results from different visual methods. The second row shows how the prediction accuracy\n",
        "changes after occluding a part (red box) of the image. This network classified the image as a\n",
        "chocolate sauce with 0.61 of accuracy. When occluding the chocolate pot, the accuracy for this\n",
        "label turns to be 0.351. However, if just the handle of the spoon is occluded, the accuracy for\n",
        "the label ‘chocolate sauce’ drops to 0.015, even though the image still contains ins the chocolate\n",
        "pot and the part of the spoon with chocolate. Figure reproduced from Fong et al.[3].*\n"
      ]
    },
    {
      "cell_type": "markdown",
      "metadata": {
        "id": "ADMP8oXSgb2z"
      },
      "source": [
        "Last year, on CVPR 2020, a combination of perturbation and Class Activation Mapping based methods was presented. Wang et al.[1] proposed a visual explanation method, Score-CAM,  giving a score to each activation map according to how each one will affect the prediction when applied as a mask to the input image. In this notebook we will show some basic experiments with this method.\n",
        "\n",
        "The  published paper is available [here](https://openaccess.thecvf.com/content_CVPRW_2020/papers/w1/Wang_Score-CAM_Score-Weighted_Visual_Explanations_for_Convolutional_Neural_Networks_CVPRW_2020_paper.pdf)  and official code is on [Github](https://github.com/haofanwang/Score-CAM)"
      ]
    },
    {
      "cell_type": "markdown",
      "metadata": {
        "id": "P4cxwIzQ8sl9"
      },
      "source": [
        "## ScoreCAM Algorithm\n",
        "\n",
        "\n",
        "\n",
        "1.   Extract  activation maps at the desired layer\n",
        "2.   Upsample maps to the original input size in the network\n",
        "3.   Normalize maps values  in the range of 0-1\n",
        "4.   Apply the activation map as a mask to the input by multiplying the normalized activation map\n",
        "5.   Feed masked inputs into CNN model and softmax\n",
        "6.   Define weight as the score of target class\n",
        "7.   Get final class discriminative localization map as linear weighted combination of all activation maps\n",
        "\n",
        "\n"
      ]
    },
    {
      "cell_type": "markdown",
      "metadata": {
        "id": "rbiPwpe0Nl5S"
      },
      "source": [
        "## Simple Experiments\n",
        "\n",
        "### Importing a binary model for MNIST\n",
        "\n",
        "In this section, a trained classifier for classes 1 and 8 of MNIST is loaded."
      ]
    },
    {
      "cell_type": "code",
      "metadata": {
        "id": "eG2Wx-u72pAx"
      },
      "source": [
        "\n",
        "import torch\n",
        "import torchvision\n",
        "import torchvision.datasets as datasets\n",
        "import torch.nn as nn\n",
        "import torch.nn.functional as F\n",
        "import numpy as np\n",
        "\n",
        "from data_and_models import create_mnist_set,mnist_binary_cnn\n",
        "from torch.utils.data import DataLoader\n",
        "\n",
        "import pickle\n",
        "\n",
        "from cam import CAM\n",
        "import matplotlib.pyplot as plt\n"
      ],
      "execution_count": 20,
      "outputs": []
    },
    {
      "cell_type": "code",
      "metadata": {
        "colab": {
          "base_uri": "https://localhost:8080/"
        },
        "id": "C7aj29k3xVXM",
        "outputId": "2eb87d88-93be-449d-a611-fbd5307ebdb5"
      },
      "source": [
        "with open('models/mnist_binary_classes.txt','rb') as f:\n",
        "    classes=pickle.load(f)\n",
        "classes"
      ],
      "execution_count": 21,
      "outputs": [
        {
          "output_type": "execute_result",
          "data": {
            "text/plain": [
              "[1, 8]"
            ]
          },
          "metadata": {},
          "execution_count": 21
        }
      ]
    },
    {
      "cell_type": "code",
      "metadata": {
        "colab": {
          "base_uri": "https://localhost:8080/",
          "height": 428,
          "referenced_widgets": [
            "cfdd75bb9fa84af19df301643e580a16",
            "1285f1c562044bd0b7996e0dc98b042c",
            "a9666d7f8e8a45d7b36d32b62107cfce",
            "47dd1dbb24b7495580110626fa2fe8dc",
            "f16b175dc78e4453a4ef57d89a162b09",
            "ab2d2bddc1964e63b0680da061b5e27c",
            "29b67241d6204c8eb7886cb9f73cc1a9",
            "35d759d03e3a48bd980ae1e0cd6d4cab",
            "5322e6b3299c49b9a2ef6330c35d1a1d",
            "39141bc183d445608f61b718b7fe9ca5",
            "38f1821a153146d58f07478fe6dbcc91",
            "bfa66024b1a44fc68baacb94a99f3e49",
            "e9c98a3b95474d47b0a2f0aea307e44b",
            "8ccd31d645184ff9825e0ac91e94b787",
            "3e4ba8f685fe495285372f4a08b118ef",
            "a1a3b37a550b4e198f4dd7a200c5f0e5",
            "01ce6f4abbcf43b181cf1987b6da23ed",
            "fbb3fbcc6e8142d1bd7973394e2d39d3",
            "00b751eb51fd46a6b7d3eb0762af5be3",
            "0943ee42ac864cfd96dba69a0dc447eb",
            "a74ab5dc03064bc789bd643aefb4864c",
            "30a195cf408542368a05edba41cb2168",
            "74a3ed80e27a47aebc03c7e488457f63",
            "5b112c90f7e64ac2a3606c486165349b",
            "d9e9cd29fbc34897a832f08bd72843e5",
            "29f35ebd7f1f423a98bb1a2ec1aa595a",
            "739d7b4c07c94062b08992403ee933cb",
            "72ce1fe04bc74d4c8813493eac28c183",
            "577a3312a8fb4055825ac89ccf8b381e",
            "d75aaec9cebb4ab49fbac0b68ebdd6e4",
            "6690cad2eefe408dba746a87375d101b",
            "6d2b120efce24271b77f794003b9abdb",
            "b00fa0ba53054a7b9a975b301224e557",
            "9a9717d668c742f992b3814be71b7151",
            "fdf9811ad9984c4ba31b77de858df23e",
            "e8cbfe4e553b47bc98c46782b0b07d60",
            "543bc494c2784245a3786a5b619bffd6",
            "93b59901f8934ffb8d4e0a59c92e934e",
            "4c162ae329554d1bbd2bd3223d311143",
            "ccabf910d7384433ad262aad897b5706",
            "05de3e13c0d046b59e0f2b1b3c2f632d",
            "ed3a9765cbc84c49b784fa603ce9f19d",
            "1e5d334a82d0440e866f9c97237b73b1",
            "82c76af8b4a046ccbc6ff933cc8fa04f"
          ]
        },
        "id": "CU94ALXFxWwE",
        "outputId": "efca0bcc-96ce-4d8c-fcce-6a2b4c626852"
      },
      "source": [
        "trainset=create_mnist_set(root='./data',train=True,classes=classes)\n",
        "testset=create_mnist_set(root='./data',train=False,classes=classes)\n",
        "\n",
        "train_dataloader=DataLoader(trainset,batch_size=50,shuffle=True)\n",
        "test_dataloader=DataLoader(testset,batch_size=50,shuffle=True)"
      ],
      "execution_count": 22,
      "outputs": [
        {
          "output_type": "stream",
          "name": "stdout",
          "text": [
            "Downloading http://yann.lecun.com/exdb/mnist/train-images-idx3-ubyte.gz\n",
            "Downloading http://yann.lecun.com/exdb/mnist/train-images-idx3-ubyte.gz to ./data/MNIST/raw/train-images-idx3-ubyte.gz\n"
          ]
        },
        {
          "output_type": "display_data",
          "data": {
            "application/vnd.jupyter.widget-view+json": {
              "model_id": "cfdd75bb9fa84af19df301643e580a16",
              "version_minor": 0,
              "version_major": 2
            },
            "text/plain": [
              "  0%|          | 0/9912422 [00:00<?, ?it/s]"
            ]
          },
          "metadata": {}
        },
        {
          "output_type": "stream",
          "name": "stdout",
          "text": [
            "Extracting ./data/MNIST/raw/train-images-idx3-ubyte.gz to ./data/MNIST/raw\n",
            "\n",
            "Downloading http://yann.lecun.com/exdb/mnist/train-labels-idx1-ubyte.gz\n",
            "Downloading http://yann.lecun.com/exdb/mnist/train-labels-idx1-ubyte.gz to ./data/MNIST/raw/train-labels-idx1-ubyte.gz\n"
          ]
        },
        {
          "output_type": "display_data",
          "data": {
            "application/vnd.jupyter.widget-view+json": {
              "model_id": "bfa66024b1a44fc68baacb94a99f3e49",
              "version_minor": 0,
              "version_major": 2
            },
            "text/plain": [
              "  0%|          | 0/28881 [00:00<?, ?it/s]"
            ]
          },
          "metadata": {}
        },
        {
          "output_type": "stream",
          "name": "stdout",
          "text": [
            "Extracting ./data/MNIST/raw/train-labels-idx1-ubyte.gz to ./data/MNIST/raw\n",
            "\n",
            "Downloading http://yann.lecun.com/exdb/mnist/t10k-images-idx3-ubyte.gz\n",
            "Downloading http://yann.lecun.com/exdb/mnist/t10k-images-idx3-ubyte.gz to ./data/MNIST/raw/t10k-images-idx3-ubyte.gz\n"
          ]
        },
        {
          "output_type": "display_data",
          "data": {
            "application/vnd.jupyter.widget-view+json": {
              "model_id": "74a3ed80e27a47aebc03c7e488457f63",
              "version_minor": 0,
              "version_major": 2
            },
            "text/plain": [
              "  0%|          | 0/1648877 [00:00<?, ?it/s]"
            ]
          },
          "metadata": {}
        },
        {
          "output_type": "stream",
          "name": "stdout",
          "text": [
            "Extracting ./data/MNIST/raw/t10k-images-idx3-ubyte.gz to ./data/MNIST/raw\n",
            "\n",
            "Downloading http://yann.lecun.com/exdb/mnist/t10k-labels-idx1-ubyte.gz\n",
            "Downloading http://yann.lecun.com/exdb/mnist/t10k-labels-idx1-ubyte.gz to ./data/MNIST/raw/t10k-labels-idx1-ubyte.gz\n"
          ]
        },
        {
          "output_type": "display_data",
          "data": {
            "application/vnd.jupyter.widget-view+json": {
              "model_id": "9a9717d668c742f992b3814be71b7151",
              "version_minor": 0,
              "version_major": 2
            },
            "text/plain": [
              "  0%|          | 0/4542 [00:00<?, ?it/s]"
            ]
          },
          "metadata": {}
        },
        {
          "output_type": "stream",
          "name": "stdout",
          "text": [
            "Extracting ./data/MNIST/raw/t10k-labels-idx1-ubyte.gz to ./data/MNIST/raw\n",
            "\n"
          ]
        }
      ]
    },
    {
      "cell_type": "code",
      "metadata": {
        "colab": {
          "base_uri": "https://localhost:8080/"
        },
        "id": "nzZy3l6Yxs_E",
        "outputId": "e089c7d8-cac9-4bb1-bc01-9da36aed8e8b"
      },
      "source": [
        "model=mnist_binary_cnn() #use default arguments just as for the previously trained net\n",
        "model.load_state_dict(torch.load('models/mnist_binary_model.pth'))\n",
        "print(model)"
      ],
      "execution_count": 23,
      "outputs": [
        {
          "output_type": "stream",
          "name": "stdout",
          "text": [
            "mnist_binary_cnn(\n",
            "  (conv1): Conv2d(1, 10, kernel_size=(4, 4), stride=(2, 2))\n",
            "  (conv2): Conv2d(10, 20, kernel_size=(3, 3), stride=(2, 2))\n",
            "  (conv3): Conv2d(20, 10, kernel_size=(2, 2), stride=(2, 2))\n",
            "  (dense): Linear(in_features=90, out_features=1, bias=True)\n",
            "  (loss): BCELoss()\n",
            ")\n"
          ]
        }
      ]
    },
    {
      "cell_type": "markdown",
      "metadata": {
        "id": "pVgEzQEXf2pJ"
      },
      "source": [
        "### Score-CAM"
      ]
    },
    {
      "cell_type": "code",
      "metadata": {
        "id": "eQfR6HuN7q_Z"
      },
      "source": [
        "# Code adapted from https://github.com/yiskw713/ScoreCAM\n",
        "class ScoreCAM(CAM):\n",
        "    \"\"\" Score CAM \"\"\"\n",
        "\n",
        "    def __init__(self, model, target_layer, n_batch=32):\n",
        "        super().__init__(model, target_layer)\n",
        "        \"\"\"\n",
        "        Args:\n",
        "            model: a base model\n",
        "            target_layer: conv_layer you want to visualize\n",
        "        \"\"\"\n",
        "        self.n_batch = n_batch\n",
        "\n",
        "    def forward(self, x, idx=None):\n",
        "        \"\"\"\n",
        "        Args:\n",
        "            x: input image. shape =>(1, 3, H, W)\n",
        "            idx: the index of the target class\n",
        "        Return:\n",
        "            heatmap: class activation mappings of predicted classes\n",
        "        \"\"\"\n",
        "\n",
        "        with torch.no_grad():\n",
        "            _, _, H, W = x.shape\n",
        "            device = x.device\n",
        "\n",
        "            self.model.zero_grad()\n",
        "            score = self.model(x)\n",
        "            # Get probabilities for each class\n",
        "            prob = torch.Tensor([1-score.item(),score.item()])\n",
        "\n",
        "\n",
        "            if idx is None:\n",
        "                p, idx = torch.max(prob, dim=0)\n",
        "                idx = idx.item()\n",
        "                print(\"predicted class class:{} \\t probability {}\".format(classes[idx], p))\n",
        "\n",
        "            # 1. Getting activation maps\n",
        "            self.activations = self.values.activations.to('cpu').clone()\n",
        "            self.activations = F.relu(self.activations)\n",
        "            # 2. Upsampling\n",
        "            self.activations = F.interpolate(\n",
        "                self.activations, (H, W), mode='bilinear')\n",
        "            _, C, _, _ = self.activations.shape\n",
        "\n",
        "            # 3. Normalization\n",
        "            act_min, _ = self.activations.view(1, C, -1).min(dim=2)\n",
        "            act_min = act_min.view(1, C, 1, 1)\n",
        "            act_max, _ = self.activations.view(1, C, -1).max(dim=2)\n",
        "            act_max = act_max.view(1, C, 1, 1)\n",
        "            denominator = torch.where(\n",
        "                (act_max - act_min) != 0., act_max - act_min, torch.tensor(1.)\n",
        "            )\n",
        "\n",
        "            self.activations = self.activations / denominator\n",
        "\n",
        "           # 4. generate masked images and 5. calculate class probabilities\n",
        "            probs = []\n",
        "            for i in range(0, C, self.n_batch):\n",
        "                mask = self.activations[:, i:i+self.n_batch].transpose(0, 1)\n",
        "                mask = mask.to(device)\n",
        "                masked_x = x * mask\n",
        "                score = self.model(masked_x)\n",
        "                # Get probabilities for each class\n",
        "                torch_scores = torch.cat((1-score,score),1).to(device)\n",
        "                probs.append(F.softmax(torch_scores, dim=1)[:, idx].to(device).data)\n",
        "            \n",
        "            # 6. Extracting weight as the score \n",
        "            probs = torch.stack(probs)\n",
        "            weights = probs.view(1, C, 1, 1)\n",
        "\n",
        "            # 7. Linear weighted combination\n",
        "            cam = (weights * self.activations).sum(1, keepdim=True)\n",
        "            cam = F.relu(cam)\n",
        "            cam -= torch.min(cam)\n",
        "            cam /= torch.max(cam)\n",
        "\n",
        "        return cam.data, idx\n",
        "\n",
        "    def __call__(self, x):\n",
        "        return self.forward(x)"
      ],
      "execution_count": 24,
      "outputs": []
    },
    {
      "cell_type": "markdown",
      "metadata": {
        "id": "e0NMco1vPoDA"
      },
      "source": [
        "To test ScoreCAM, last convolutional layer will be chosen."
      ]
    },
    {
      "cell_type": "code",
      "metadata": {
        "id": "XHgxCz6KP6pa"
      },
      "source": [
        "target_layer = model.conv3\n",
        "Score_CAM = ScoreCAM(model, target_layer)"
      ],
      "execution_count": 25,
      "outputs": []
    },
    {
      "cell_type": "code",
      "metadata": {
        "colab": {
          "base_uri": "https://localhost:8080/",
          "height": 1000
        },
        "id": "LiPfN4JcSm8A",
        "outputId": "3602b0e7-658c-4b06-82e8-19684cd98778"
      },
      "source": [
        "for i in range(30):\n",
        "    print('\\n  Example ',i+1)\n",
        "    image=next(iter(test_dataloader))[0][0]\n",
        "    cam, idx = Score_CAM(torch.reshape(image, (1,1,image.shape[0], image.shape[1])))\n",
        "    \n",
        "    fig, axs = plt.subplots(ncols=2, figsize=(10, 3))\n",
        "    axs[0].imshow(image)\n",
        "    axs[0].set_title('original image')\n",
        "    axs[0].axis('off')\n",
        "\n",
        "    a=axs[1].imshow(cam.squeeze().numpy())\n",
        "    axs[1].set_title('ScoreCAM heatmap')\n",
        "    axs[1].axis('off')\n",
        "\n",
        "    plt.tight_layout()\n",
        "    plt.colorbar(a)\n",
        "    plt.show()"
      ],
      "execution_count": 26,
      "outputs": [
        {
          "output_type": "stream",
          "name": "stdout",
          "text": [
            "\n",
            "  Example  1\n",
            "predicted class class:8 \t probability 0.9999845027923584\n"
          ]
        },
        {
          "output_type": "stream",
          "name": "stderr",
          "text": [
            "/usr/local/lib/python3.7/dist-packages/torch/nn/functional.py:3613: UserWarning: Default upsampling behavior when mode=bilinear is changed to align_corners=False since 0.4.0. Please specify align_corners=True if the old behavior is desired. See the documentation of nn.Upsample for details.\n",
            "  \"See the documentation of nn.Upsample for details.\".format(mode)\n"
          ]
        },
        {
          "output_type": "display_data",
          "data": {
            "image/png": "[encoded data removed]",
            "text/plain": [
              "<Figure size 720x216 with 3 Axes>"
            ]
          },
          "metadata": {
            "needs_background": "light"
          }
        },
        {
          "output_type": "stream",
          "name": "stdout",
          "text": [
            "\n",
            "  Example  2\n",
            "predicted class class:1 \t probability 0.9973890781402588\n"
          ]
        },
        {
          "output_type": "display_data",
          "data": {
            "image/png": "[encoded data removed]",
            "text/plain": [
              "<Figure size 720x216 with 3 Axes>"
            ]
          },
          "metadata": {
            "needs_background": "light"
          }
        },
        {
          "output_type": "stream",
          "name": "stdout",
          "text": [
            "\n",
            "  Example  3\n",
            "predicted class class:1 \t probability 0.9849383234977722\n"
          ]
        },
        {
          "output_type": "display_data",
          "data": {
            "image/png": "[encoded data removed]",
            "text/plain": [
              "<Figure size 720x216 with 3 Axes>"
            ]
          },
          "metadata": {
            "needs_background": "light"
          }
        },
        {
          "output_type": "stream",
          "name": "stdout",
          "text": [
            "\n",
            "  Example  4\n",
            "predicted class class:8 \t probability 0.9680758714675903\n"
          ]
        },
        {
          "output_type": "display_data",
          "data": {
            "image/png": "[encoded data removed]",
            "text/plain": [
              "<Figure size 720x216 with 3 Axes>"
            ]
          },
          "metadata": {
            "needs_background": "light"
          }
        },
        {
          "output_type": "stream",
          "name": "stdout",
          "text": [
            "\n",
            "  Example  5\n",
            "predicted class class:1 \t probability 0.9972689151763916\n"
          ]
        },
        {
          "output_type": "display_data",
          "data": {
            "image/png": "[encoded data removed]",
            "text/plain": [
              "<Figure size 720x216 with 3 Axes>"
            ]
          },
          "metadata": {
            "needs_background": "light"
          }
        },
        {
          "output_type": "stream",
          "name": "stdout",
          "text": [
            "\n",
            "  Example  6\n",
            "predicted class class:1 \t probability 0.9815913438796997\n"
          ]
        },
        {
          "output_type": "display_data",
          "data": {
            "image/png": "[encoded data removed]",
            "text/plain": [
              "<Figure size 720x216 with 3 Axes>"
            ]
          },
          "metadata": {
            "needs_background": "light"
          }
        },
        {
          "output_type": "stream",
          "name": "stdout",
          "text": [
            "\n",
            "  Example  7\n",
            "predicted class class:8 \t probability 0.9999953508377075\n"
          ]
        },
        {
          "output_type": "display_data",
          "data": {
            "image/png": "[encoded data removed]",
            "text/plain": [
              "<Figure size 720x216 with 3 Axes>"
            ]
          },
          "metadata": {
            "needs_background": "light"
          }
        },
        {
          "output_type": "stream",
          "name": "stdout",
          "text": [
            "\n",
            "  Example  8\n",
            "predicted class class:1 \t probability 0.9823952913284302\n"
          ]
        },
        {
          "output_type": "display_data",
          "data": {
            "image/png": "[encoded data removed]",
            "text/plain": [
              "<Figure size 720x216 with 3 Axes>"
            ]
          },
          "metadata": {
            "needs_background": "light"
          }
        },
        {
          "output_type": "stream",
          "name": "stdout",
          "text": [
            "\n",
            "  Example  9\n",
            "predicted class class:1 \t probability 0.9988530874252319\n"
          ]
        },
        {
          "output_type": "display_data",
          "data": {
            "image/png": "[encoded data removed]",
            "text/plain": [
              "<Figure size 720x216 with 3 Axes>"
            ]
          },
          "metadata": {
            "needs_background": "light"
          }
        },
        {
          "output_type": "stream",
          "name": "stdout",
          "text": [
            "\n",
            "  Example  10\n",
            "predicted class class:1 \t probability 0.9990741014480591\n"
          ]
        },
        {
          "output_type": "display_data",
          "data": {
            "image/png": "[encoded data removed]",
            "text/plain": [
              "<Figure size 720x216 with 3 Axes>"
            ]
          },
          "metadata": {
            "needs_background": "light"
          }
        },
        {
          "output_type": "stream",
          "name": "stdout",
          "text": [
            "\n",
            "  Example  11\n",
            "predicted class class:8 \t probability 0.9999881982803345\n"
          ]
        },
        {
          "output_type": "display_data",
          "data": {
            "image/png": "[encoded data removed]",
            "text/plain": [
              "<Figure size 720x216 with 3 Axes>"
            ]
          },
          "metadata": {
            "needs_background": "light"
          }
        },
        {
          "output_type": "stream",
          "name": "stdout",
          "text": [
            "\n",
            "  Example  12\n",
            "predicted class class:8 \t probability 0.9999876022338867\n"
          ]
        },
        {
          "output_type": "display_data",
          "data": {
            "image/png": "[encoded data removed]",
            "text/plain": [
              "<Figure size 720x216 with 3 Axes>"
            ]
          },
          "metadata": {
            "needs_background": "light"
          }
        },
        {
          "output_type": "stream",
          "name": "stdout",
          "text": [
            "\n",
            "  Example  13\n",
            "predicted class class:1 \t probability 0.9993707537651062\n"
          ]
        },
        {
          "output_type": "display_data",
          "data": {
            "image/png": "[encoded data removed]",
            "text/plain": [
              "<Figure size 720x216 with 3 Axes>"
            ]
          },
          "metadata": {
            "needs_background": "light"
          }
        },
        {
          "output_type": "stream",
          "name": "stdout",
          "text": [
            "\n",
            "  Example  14\n",
            "predicted class class:8 \t probability 0.9999995231628418\n"
          ]
        },
        {
          "output_type": "display_data",
          "data": {
            "image/png": "[encoded data removed]",
            "text/plain": [
              "<Figure size 720x216 with 3 Axes>"
            ]
          },
          "metadata": {
            "needs_background": "light"
          }
        },
        {
          "output_type": "stream",
          "name": "stdout",
          "text": [
            "\n",
            "  Example  15\n",
            "predicted class class:1 \t probability 0.9991684556007385\n"
          ]
        },
        {
          "output_type": "display_data",
          "data": {
            "image/png": "[encoded data removed]",
            "text/plain": [
              "<Figure size 720x216 with 3 Axes>"
            ]
          },
          "metadata": {
            "needs_background": "light"
          }
        },
        {
          "output_type": "stream",
          "name": "stdout",
          "text": [
            "\n",
            "  Example  16\n",
            "predicted class class:8 \t probability 0.9999765157699585\n"
          ]
        },
        {
          "output_type": "display_data",
          "data": {
            "image/png": "[encoded data removed]",
            "text/plain": [
              "<Figure size 720x216 with 3 Axes>"
            ]
          },
          "metadata": {
            "needs_background": "light"
          }
        },
        {
          "output_type": "stream",
          "name": "stdout",
          "text": [
            "\n",
            "  Example  17\n",
            "predicted class class:8 \t probability 0.9996757507324219\n"
          ]
        },
        {
          "output_type": "display_data",
          "data": {
            "image/png": "[encoded data removed]",
            "text/plain": [
              "<Figure size 720x216 with 3 Axes>"
            ]
          },
          "metadata": {
            "needs_background": "light"
          }
        },
        {
          "output_type": "stream",
          "name": "stdout",
          "text": [
            "\n",
            "  Example  18\n",
            "predicted class class:8 \t probability 1.0\n"
          ]
        },
        {
          "output_type": "display_data",
          "data": {
            "image/png": "[encoded data removed]",
            "text/plain": [
              "<Figure size 720x216 with 3 Axes>"
            ]
          },
          "metadata": {
            "needs_background": "light"
          }
        },
        {
          "output_type": "stream",
          "name": "stdout",
          "text": [
            "\n",
            "  Example  19\n",
            "predicted class class:8 \t probability 0.9999963045120239\n"
          ]
        },
        {
          "output_type": "display_data",
          "data": {
            "image/png": "[encoded data removed]",
            "text/plain": [
              "<Figure size 720x216 with 3 Axes>"
            ]
          },
          "metadata": {
            "needs_background": "light"
          }
        },
        {
          "output_type": "stream",
          "name": "stdout",
          "text": [
            "\n",
            "  Example  20\n",
            "predicted class class:8 \t probability 0.9999860525131226\n"
          ]
        },
        {
          "output_type": "display_data",
          "data": {
            "image/png": "[encoded data removed]",
            "text/plain": [
              "<Figure size 720x216 with 3 Axes>"
            ]
          },
          "metadata": {
            "needs_background": "light"
          }
        },
        {
          "output_type": "stream",
          "name": "stdout",
          "text": [
            "\n",
            "  Example  21\n",
            "predicted class class:8 \t probability 0.9993308782577515\n"
          ]
        },
        {
          "output_type": "display_data",
          "data": {
            "image/png": "[encoded data removed]",
            "text/plain": [
              "<Figure size 720x216 with 3 Axes>"
            ]
          },
          "metadata": {
            "needs_background": "light"
          }
        },
        {
          "output_type": "stream",
          "name": "stdout",
          "text": [
            "\n",
            "  Example  22\n",
            "predicted class class:1 \t probability 0.9743313789367676\n"
          ]
        },
        {
          "output_type": "display_data",
          "data": {
            "image/png": "[encoded data removed]",
            "text/plain": [
              "<Figure size 720x216 with 3 Axes>"
            ]
          },
          "metadata": {
            "needs_background": "light"
          }
        },
        {
          "output_type": "stream",
          "name": "stdout",
          "text": [
            "\n",
            "  Example  23\n",
            "predicted class class:1 \t probability 0.9974958300590515\n"
          ]
        },
        {
          "output_type": "display_data",
          "data": {
            "image/png": "[encoded data removed]",
            "text/plain": [
              "<Figure size 720x216 with 3 Axes>"
            ]
          },
          "metadata": {
            "needs_background": "light"
          }
        },
        {
          "output_type": "stream",
          "name": "stdout",
          "text": [
            "\n",
            "  Example  24\n",
            "predicted class class:1 \t probability 0.9985966086387634\n"
          ]
        },
        {
          "output_type": "display_data",
          "data": {
            "image/png": "[encoded data removed]",
            "text/plain": [
              "<Figure size 720x216 with 3 Axes>"
            ]
          },
          "metadata": {
            "needs_background": "light"
          }
        },
        {
          "output_type": "stream",
          "name": "stdout",
          "text": [
            "\n",
            "  Example  25\n",
            "predicted class class:8 \t probability 0.9999990463256836\n"
          ]
        },
        {
          "output_type": "display_data",
          "data": {
            "image/png": "[encoded data removed]",
            "text/plain": [
              "<Figure size 720x216 with 3 Axes>"
            ]
          },
          "metadata": {
            "needs_background": "light"
          }
        },
        {
          "output_type": "stream",
          "name": "stdout",
          "text": [
            "\n",
            "  Example  26\n",
            "predicted class class:8 \t probability 0.9999814033508301\n"
          ]
        },
        {
          "output_type": "display_data",
          "data": {
            "image/png": "[encoded data removed]",
            "text/plain": [
              "<Figure size 720x216 with 3 Axes>"
            ]
          },
          "metadata": {
            "needs_background": "light"
          }
        },
        {
          "output_type": "stream",
          "name": "stdout",
          "text": [
            "\n",
            "  Example  27\n",
            "predicted class class:1 \t probability 0.9959796667098999\n"
          ]
        },
        {
          "output_type": "display_data",
          "data": {
            "image/png": "[encoded data removed]",
            "text/plain": [
              "<Figure size 720x216 with 3 Axes>"
            ]
          },
          "metadata": {
            "needs_background": "light"
          }
        },
        {
          "output_type": "stream",
          "name": "stdout",
          "text": [
            "\n",
            "  Example  28\n",
            "predicted class class:1 \t probability 0.9979422688484192\n"
          ]
        },
        {
          "output_type": "display_data",
          "data": {
            "image/png": "[encoded data removed]",
            "text/plain": [
              "<Figure size 720x216 with 3 Axes>"
            ]
          },
          "metadata": {
            "needs_background": "light"
          }
        },
        {
          "output_type": "stream",
          "name": "stdout",
          "text": [
            "\n",
            "  Example  29\n",
            "predicted class class:1 \t probability 0.8996137976646423\n"
          ]
        },
        {
          "output_type": "display_data",
          "data": {
            "image/png": "[encoded data removed]",
            "text/plain": [
              "<Figure size 720x216 with 3 Axes>"
            ]
          },
          "metadata": {
            "needs_background": "light"
          }
        },
        {
          "output_type": "stream",
          "name": "stdout",
          "text": [
            "\n",
            "  Example  30\n",
            "predicted class class:8 \t probability 0.9950891137123108\n"
          ]
        },
        {
          "output_type": "display_data",
          "data": {
            "image/png": "[encoded data removed]",
            "text/plain": [
              "<Figure size 720x216 with 3 Axes>"
            ]
          },
          "metadata": {
            "needs_background": "light"
          }
        }
      ]
    },
    {
      "cell_type": "markdown",
      "metadata": {
        "id": "ILQrXj3cb_tH"
      },
      "source": [
        "## Analysis\n",
        "\n",
        " From the ScoreCAM heatmaps obtained, we can say that our network is indeed looking to the center of the image where most of the digits are located. However, to get a further evaluation we will have to see each explanation for each image since this method is a local one.\n",
        " \n",
        "\n"
      ]
    },
    {
      "cell_type": "markdown",
      "metadata": {
        "id": "zDZUk0iejHmm"
      },
      "source": [
        "## References\n",
        "[1] H. Wang, Z. Wang, M. Du, F. Yang, Z. Zhang, S. Ding, P. Mardziel e X. Hu. Score-cam:\n",
        "Score-weighted visual explanations for convolutional neural networks. In Proceedings of\n",
        "the IEEE/CVF Conference on Computer Vision and Pattern Recognition Workshops, pages\n",
        "24–25, 2020.\n",
        "\n",
        "[2] J. Adebayo, J. Gilmer, M. Muelly, I. Goodfellow, M. Hardt e B. Kim. Sanity checks for saliency maps. Advances in Neural Information Processing Systems, 2018-Decem(NIPS):\n",
        "9505–9515, 2018. ISSN 10495258.\n",
        "\n",
        "[3] R. C. Fong e A. Vedaldi. Interpretable explanations of black boxes by meaningful perturbation. In Proceedings of the IEEE International Conference on Computer Vision, pages\n",
        "3429–3437, 2017. \n",
        "\n",
        "[4] A. Ghorbani, A. Abid e J. Zou. Interpretation of neural networks is fragile. Proceedings\n",
        "of the AAAI Conference on Artificial Intelligence, 33(01):3681–3688, Jul. 2019. doi: 10.\n",
        "1609/aaai.v33i01.33013681. URL https://ojs.aaai.org/index.php/AAAI/article/view/4252. \n",
        "\n",
        "[5] P.-J. Kindermans, S. Hooker, J. Adebayo, M. Alber, K. T. Schutt, S. D ¨ ahne, D. Erhan e ¨\n",
        "B. Kim. The (Un)reliability of Saliency Methods, pages 267–280. Springer International \n",
        "Publishing, Cham, 2019. ISBN 978-3-030-28954-6. doi: 10.1007/978-3-030-28954-6 URL https://doi.org/10.1007/978-3-030-28954-6_14\n"
      ]
    }
  ]
}