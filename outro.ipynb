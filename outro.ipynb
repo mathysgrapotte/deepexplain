{
  "nbformat": 4,
  "nbformat_minor": 0,
  "metadata": {
    "colab": {
      "name": "Untitled2.ipynb",
      "provenance": [],
      "authorship_tag": "ABX9TyPMezzu/sSFX4A+nQZ7mLmE",
      "include_colab_link": true
    },
    "kernelspec": {
      "name": "python3",
      "display_name": "Python 3"
    },
    "language_info": {
      "name": "python"
    }
  },
  "cells": [
    {
      "cell_type": "markdown",
      "metadata": {
        "id": "view-in-github",
        "colab_type": "text"
      },
      "source": [
        "<a href=\"https://colab.research.google.com/github/mathysgrapotte/deepexplain/blob/main/outro.ipynb\" target=\"_parent\"><img src=\"https://colab.research.google.com/assets/colab-badge.svg\" alt=\"Open In Colab\"/></a>"
      ]
    },
    {
      "cell_type": "markdown",
      "source": [
        "#Outro\n",
        "\n",
        "If you are reading this, it is quite likely that you have made it through the tutorial. Thank you for your effort, we hope there were things that you learned, methods you like and ones you disagree with.\n",
        "\n",
        "Of course, there are more methods we could have included but we could not due to lack of time. Thus the interested reader is invited to have a look at some of the methods we left out:\n",
        "\n",
        "[LIME](https://paperswithcode.com/paper/why-should-i-trust-you-explaining-the)\n",
        "\n",
        "\n",
        "[Demystifying Black-box Models with Symbolic Metamodels](https://papers.nips.cc/paper/2019/hash/567b8f5f423af15818a068235807edc0-Abstract.html)\n",
        "\n",
        "(add more stuff here....)\n",
        "\n",
        "Since the authors of the notebook consider themselves to be students in ML, allow us to borrow our final words from Ali Rahimi's NIPS 2017 Test-of-Time Award presentation:\n",
        "\n",
        "[video link on Youtube](https://www.youtube.com/watch?v=ORHFOnaEzPc)"
      ],
      "metadata": {
        "id": "hL7OPrgqjiOG"
      }
    },
    {
      "cell_type": "code",
      "source": [
        ""
      ],
      "metadata": {
        "id": "f4AzPo_zlxEz"
      },
      "execution_count": null,
      "outputs": []
    }
  ]
}