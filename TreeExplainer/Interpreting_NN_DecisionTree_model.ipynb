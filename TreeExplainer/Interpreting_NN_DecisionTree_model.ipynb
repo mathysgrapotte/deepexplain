{
  "nbformat": 4,
  "nbformat_minor": 0,
  "metadata": {
    "colab": {
      "name": "Interpreting_NN-Desicion_model.ipynb",
      "provenance": []
    },
    "kernelspec": {
      "name": "python3",
      "display_name": "Python 3"
    },
    "language_info": {
      "name": "python"
    }
  },
  "cells": [
    {
      "cell_type": "markdown",
      "metadata": {
        "id": "8PUeUjGkJFzh"
      },
      "source": [
        "Install TreeInterpreter <br>\n",
        "[Github](https://github.com/andosa/treeinterpreter) <br>\n",
        "[Blog Explainer](http://blog.datadive.net/interpreting-random-forests/)\n"
      ]
    },
    {
      "cell_type": "code",
      "metadata": {
        "id": "xiPM6GctJ14T",
        "colab": {
          "base_uri": "https://localhost:8080/"
        },
        "outputId": "4ed5c200-7349-4843-e759-2a31d29c1b3a"
      },
      "source": [
        "!pip install treeinterpreter"
      ],
      "execution_count": 1,
      "outputs": [
        {
          "output_type": "stream",
          "text": [
            "Collecting treeinterpreter\n",
            "  Downloading treeinterpreter-0.2.3-py2.py3-none-any.whl (6.0 kB)\n",
            "Installing collected packages: treeinterpreter\n",
            "Successfully installed treeinterpreter-0.2.3\n"
          ],
          "name": "stdout"
        }
      ]
    },
    {
      "cell_type": "markdown",
      "metadata": {
        "id": "GnonCA6jJSKJ"
      },
      "source": [
        "Downloading Model"
      ]
    },
    {
      "cell_type": "code",
      "metadata": {
        "colab": {
          "base_uri": "https://localhost:8080/"
        },
        "id": "aOewg3haQNdy",
        "outputId": "cfb93c8c-a0a2-45cb-eb89-5f767a53cb0f"
      },
      "source": [
        "!gdown https://drive.google.com/uc?id=1b16CKUyS32fTP4_ukBApfdAmi4jG-m1E\n",
        "!gdown https://drive.google.com/uc?id=1oUma4tu0OugNSe2AWmwN8Y6QA2U-7YuA"
      ],
      "execution_count": 2,
      "outputs": [
        {
          "output_type": "stream",
          "text": [
            "Downloading...\n",
            "From: https://drive.google.com/uc?id=1b16CKUyS32fTP4_ukBApfdAmi4jG-m1E\n",
            "To: /content/tree_regr.joblib\n",
            "100% 2.77k/2.77k [00:00<00:00, 10.8MB/s]\n",
            "Downloading...\n",
            "From: https://drive.google.com/uc?id=1oUma4tu0OugNSe2AWmwN8Y6QA2U-7YuA\n",
            "To: /content/df_test.csv\n",
            "100% 12.1k/12.1k [00:00<00:00, 11.4MB/s]\n"
          ],
          "name": "stdout"
        }
      ]
    },
    {
      "cell_type": "code",
      "metadata": {
        "id": "8-MfppLtJOW9",
        "colab": {
          "base_uri": "https://localhost:8080/"
        },
        "outputId": "e1bbafb0-d638-4646-92aa-d60a649b1d53"
      },
      "source": [
        "from treeinterpreter import treeinterpreter as ti\n",
        "import numpy as np\n",
        "from joblib import load\n",
        "import pandas as pd\n",
        "# Import the train_test_split function\n",
        "from sklearn.model_selection import train_test_split\n",
        "\n",
        "#Load Dataset\n",
        "#from sklearn.datasets import load_boston\n",
        "#boston = load_boston()\n",
        "input_file = \"/content/df_test.csv\"\n",
        "df = pd.read_csv(input_file, header = 0)\n",
        "\n",
        "df_features = ['CRIM', 'ZN', 'INDUS', 'CHAS', 'NOX', 'RM', 'AGE', 'DIS', 'RAD', 'TAX',\n",
        "       'PTRATIO', 'B', 'LSTAT']\n",
        "X = df[df_features]\n",
        "y = df.y_hat\n",
        "\n",
        "#Load model\n",
        "tree = load('/content/tree_regr.joblib') "
      ],
      "execution_count": 3,
      "outputs": [
        {
          "output_type": "stream",
          "text": [
            "/usr/local/lib/python3.7/dist-packages/sklearn/base.py:318: UserWarning: Trying to unpickle estimator DecisionTreeRegressor from version 0.24.2 when using version 0.22.2.post1. This might lead to breaking code or invalid results. Use at your own risk.\n",
            "  UserWarning)\n"
          ],
          "name": "stderr"
        }
      ]
    },
    {
      "cell_type": "code",
      "metadata": {
        "id": "-ISPJUwaSkwP",
        "colab": {
          "base_uri": "https://localhost:8080/"
        },
        "outputId": "c323bae1-1935-479d-a148-a97c08b9b61e"
      },
      "source": [
        "train_X, val_X, train_y, val_y = train_test_split(X, y, random_state = 1)\n",
        "print(X)"
      ],
      "execution_count": 4,
      "outputs": [
        {
          "output_type": "stream",
          "text": [
            "        CRIM    ZN  INDUS  CHAS    NOX  ...  RAD    TAX  PTRATIO       B  LSTAT\n",
            "0    0.09178   0.0   4.05     0  0.510  ...    5  296.0     16.6  395.50   9.04\n",
            "1    0.05644  40.0   6.41     1  0.447  ...    4  254.0     17.6  396.90   3.53\n",
            "2    0.10574   0.0  27.74     0  0.609  ...    4  711.0     20.1  390.11  18.07\n",
            "3    0.09164   0.0  10.81     0  0.413  ...    4  305.0     19.2  390.91   5.52\n",
            "4    5.09017   0.0  18.10     0  0.713  ...   24  666.0     20.2  385.09  17.27\n",
            "..       ...   ...    ...   ...    ...  ...  ...    ...      ...     ...    ...\n",
            "147  9.72418   0.0  18.10     0  0.740  ...   24  666.0     20.2  385.96  19.52\n",
            "148  0.98843   0.0   8.14     0  0.538  ...    4  307.0     21.0  394.54  19.88\n",
            "149  0.52693   0.0   6.20     0  0.504  ...    8  307.0     17.4  382.00   4.63\n",
            "150  5.58107   0.0  18.10     0  0.713  ...   24  666.0     20.2  100.19  16.22\n",
            "151  9.92485   0.0  18.10     0  0.740  ...   24  666.0     20.2  388.52  16.44\n",
            "\n",
            "[152 rows x 13 columns]\n"
          ],
          "name": "stdout"
        }
      ]
    },
    {
      "cell_type": "markdown",
      "metadata": {
        "id": "ygeNT2-4LPf_"
      },
      "source": [
        "Predicting biases and contributions"
      ]
    },
    {
      "cell_type": "code",
      "metadata": {
        "id": "PE0Ek3SVWbiq"
      },
      "source": [
        "# Use TreeInterpreter to caluclate bias and contributions\n",
        "prediction, bias, contributions = ti.predict(tree, val_X)"
      ],
      "execution_count": 6,
      "outputs": []
    },
    {
      "cell_type": "code",
      "metadata": {
        "id": "2AKj8IesWc7q"
      },
      "source": [
        "# Finding bias and contributions for each prediction \n",
        "for i in range(len(val_X)):\n",
        "    print (\"Instance\", i)\n",
        "    print (\"Bias (trainset mean)\", bias[i])\n",
        "    print (\"Feature contributions:\")\n",
        "    for contri, feature in sorted(zip(contributions[i], \n",
        "                                 df_features), \n",
        "                             key=lambda x: -abs(x[0])):\n",
        "        print (feature, round(contri, 2))\n",
        "    print(\"\\nVerifying...\\nContributions + Prediction = \",np.sum(contributions[i])+bias[i])\n",
        "    print(\"Mean prediction: \",prediction[i])\n",
        "    print (\"-\"*20 )"
      ],
      "execution_count": null,
      "outputs": []
    },
    {
      "cell_type": "code",
      "metadata": {
        "id": "ezuAmjSyJXS9",
        "colab": {
          "base_uri": "https://localhost:8080/"
        },
        "outputId": "c78fd0c8-1347-4f5e-d021-02c3e7a444c9"
      },
      "source": [
        "m_contributions = np.mean(contributions, axis=0) \n",
        "m_bias = np.mean(bias, axis=0)\n",
        "for contri, feature in sorted(zip(m_contributions, \n",
        "                                 df_features), \n",
        "                             key=lambda x: -abs(x[0])):\n",
        "        print (feature, contri)\n",
        "print (\"\\nVerifying...\\nContributions + Prediction = \",np.sum(m_contributions) + m_bias)\n",
        "print (\"Mean prediction: \", np.mean(prediction))"
      ],
      "execution_count": 10,
      "outputs": [
        {
          "output_type": "stream",
          "text": [
            "B -0.7138945473389315\n",
            "AGE 0.5179588424821638\n",
            "ZN 0.1271092398124832\n",
            "NOX 0.0421223361589755\n",
            "TAX -0.005172858273787153\n",
            "CRIM 0.0\n",
            "INDUS 0.0\n",
            "CHAS 0.0\n",
            "RM 0.0\n",
            "DIS 0.0\n",
            "RAD 0.0\n",
            "PTRATIO 0.0\n",
            "LSTAT 0.0\n",
            "\n",
            "Verifying...\n",
            "Contributions + Prediction =  22.762667257057572\n",
            "Mean prediction:  22.762667257057565\n"
          ],
          "name": "stdout"
        }
      ]
    }
  ]
}