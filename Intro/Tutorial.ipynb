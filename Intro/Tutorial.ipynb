{
 "cells": [
  {
   "cell_type": "code",
   "execution_count": 323,
   "id": "nasty-louisville",
   "metadata": {},
   "outputs": [],
   "source": [
    "import torch \n",
    "import torchvision\n",
    "import torchvision.datasets as datasets\n",
    "import torch.nn as nn\n",
    "import torch.nn.functional as F\n",
    "import numpy as np\n",
    "from torch.utils.data import DataLoader\n",
    "from torchvision.transforms import ToTensor\n",
    "from torch import optim \n",
    "from torch.autograd import Variable\n",
    "from copy import deepcopy\n",
    "from captum.attr import IntegratedGradients"
   ]
  },
  {
   "cell_type": "code",
   "execution_count": 36,
   "id": "atmospheric-texas",
   "metadata": {},
   "outputs": [],
   "source": [
    "mnist_trainset = datasets.MNIST(root='./data', train=True, download=True, transform=ToTensor())"
   ]
  },
  {
   "cell_type": "code",
   "execution_count": 189,
   "id": "362323cf",
   "metadata": {},
   "outputs": [
    {
     "data": {
      "text/plain": [
       "tensor([5, 0, 4,  ..., 5, 6, 8])"
      ]
     },
     "execution_count": 189,
     "metadata": {},
     "output_type": "execute_result"
    }
   ],
   "source": [
    "mnist_trainset.targets"
   ]
  },
  {
   "cell_type": "code",
   "execution_count": 4,
   "id": "selected-adjustment",
   "metadata": {},
   "outputs": [
    {
     "name": "stderr",
     "output_type": "stream",
     "text": [
      "\n",
      "1654784it [01:08, 31412.08it/s]\u001b[A"
     ]
    }
   ],
   "source": [
    "#mnist_testset = datasets.MNIST(root='./data', train=False, download=True, transform=None)"
   ]
  },
  {
   "cell_type": "code",
   "execution_count": 312,
   "id": "returning-whale",
   "metadata": {},
   "outputs": [],
   "source": [
    "def process_data_set_binary_classif(dataset, classes=[1,8]):\n",
    "    \n",
    "    assert (type(classes)) == list  and (len(classes)==2), \"classes must be a list of two elements\"\n",
    "    number_interesting_labels = torch.sum(dataset.targets == classes[0]).item() + torch.sum(dataset.targets == classes[1]).item()\n",
    "    #binary_labels = torch.empty(number_interesting_labels, dtype=float)\n",
    "    binary_labels = []\n",
    "    binary_data = torch.empty(number_interesting_labels, 28, 28)\n",
    "    \n",
    "    for i, t in enumerate(dataset.targets):\n",
    "        c=0\n",
    "        #print(t.item())\n",
    "        if t.item() in classes:\n",
    "            if t.item() == classes[0]:\n",
    "                binary_labels.append([1,0])\n",
    "            else:\n",
    "                binary_labels.append([0,1])\n",
    "            binary_data[c, :,:] = dataset.data[i]\n",
    "            c += 1\n",
    "            \n",
    "    return binary_data, torch.from_numpy(np.array(binary_labels))\n",
    "    "
   ]
  },
  {
   "cell_type": "code",
   "execution_count": 313,
   "id": "255bc299",
   "metadata": {},
   "outputs": [],
   "source": [
    "d,l = process_data_set_binary_classif(mnist_trainset, classes=[1, 8])"
   ]
  },
  {
   "cell_type": "code",
   "execution_count": 314,
   "id": "88b71a64",
   "metadata": {},
   "outputs": [
    {
     "data": {
      "text/plain": [
       "tensor([[1, 0],\n",
       "        [1, 0],\n",
       "        [1, 0],\n",
       "        ...,\n",
       "        [1, 0],\n",
       "        [0, 1],\n",
       "        [0, 1]])"
      ]
     },
     "execution_count": 314,
     "metadata": {},
     "output_type": "execute_result"
    }
   ],
   "source": [
    "l"
   ]
  },
  {
   "cell_type": "code",
   "execution_count": 315,
   "id": "1408985d",
   "metadata": {},
   "outputs": [],
   "source": [
    "new_train = deepcopy(mnist_trainset)"
   ]
  },
  {
   "cell_type": "code",
   "execution_count": 316,
   "id": "60c7972b",
   "metadata": {},
   "outputs": [],
   "source": [
    "new_train.data = d\n",
    "new_train.targets = l\n",
    "new_train.classes = ['1 - one',\n",
    "                    '8 - eight']"
   ]
  },
  {
   "cell_type": "code",
   "execution_count": null,
   "id": "381c8761",
   "metadata": {},
   "outputs": [],
   "source": []
  },
  {
   "cell_type": "code",
   "execution_count": 334,
   "id": "c899c6e8",
   "metadata": {},
   "outputs": [],
   "source": [
    "Data_train = torch.utils.data.DataLoader(mnist_trainset, \n",
    "                                          batch_size=100, \n",
    "                                          shuffle=True,\n",
    "                                          num_workers=1)"
   ]
  },
  {
   "cell_type": "markdown",
   "id": "6746f1c2",
   "metadata": {},
   "source": [
    "$ Out = In * W + Biais$"
   ]
  },
  {
   "cell_type": "code",
   "execution_count": 404,
   "id": "growing-remark",
   "metadata": {},
   "outputs": [],
   "source": [
    "class CnnModel(nn.Module):\n",
    "    def __init__(self):\n",
    "        super(CnnModel, self).__init__()\n",
    "        self.conv1 = nn.Conv2d(1, 1, (5, 5), bias=True)\n",
    "        self.flatt = nn.Flatten()\n",
    "        self.dense1 = nn.Linear(576, 10)\n",
    "        self.softmax = nn.Softmax(dim=1)\n",
    "\n",
    "    def forward(self, x):\n",
    "        x = self.conv1(x)\n",
    "        x = F.relu(x)\n",
    "        x = self.flatt(x)\n",
    "        x1 = self.dense1(x)\n",
    "        return (self.softmax(x1))\n"
   ]
  },
  {
   "cell_type": "code",
   "execution_count": 405,
   "id": "frozen-april",
   "metadata": {},
   "outputs": [],
   "source": [
    "net = CnnModel()"
   ]
  },
  {
   "cell_type": "code",
   "execution_count": 406,
   "id": "third-observation",
   "metadata": {},
   "outputs": [
    {
     "data": {
      "text/plain": [
       "torch.Size([20, 10])"
      ]
     },
     "execution_count": 406,
     "metadata": {},
     "output_type": "execute_result"
    }
   ],
   "source": [
    "net(data_train[0:20].reshape(20,1,28,28)).shape"
   ]
  },
  {
   "cell_type": "code",
   "execution_count": 399,
   "id": "5d8b5133",
   "metadata": {},
   "outputs": [
    {
     "ename": "AttributeError",
     "evalue": "'DataLoader' object has no attribute 'labels'",
     "output_type": "error",
     "traceback": [
      "\u001b[0;31m---------------------------------------------------------------------------\u001b[0m",
      "\u001b[0;31mAttributeError\u001b[0m                            Traceback (most recent call last)",
      "\u001b[0;32m<ipython-input-399-f58449684e25>\u001b[0m in \u001b[0;36m<module>\u001b[0;34m\u001b[0m\n\u001b[0;32m----> 1\u001b[0;31m \u001b[0mData_train\u001b[0m\u001b[0;34m.\u001b[0m\u001b[0mlabels\u001b[0m\u001b[0;34m\u001b[0m\u001b[0;34m\u001b[0m\u001b[0m\n\u001b[0m",
      "\u001b[0;31mAttributeError\u001b[0m: 'DataLoader' object has no attribute 'labels'"
     ]
    }
   ],
   "source": [
    "Data_train.labels"
   ]
  },
  {
   "cell_type": "code",
   "execution_count": 407,
   "id": "north-guitar",
   "metadata": {},
   "outputs": [
    {
     "name": "stdout",
     "output_type": "stream",
     "text": [
      "Epoch [1/10], Step [100/600], Loss: 1.7133\n",
      "Epoch [1/10], Step [200/600], Loss: 1.6033\n",
      "Epoch [1/10], Step [300/600], Loss: 1.5867\n",
      "Epoch [1/10], Step [400/600], Loss: 1.5536\n",
      "Epoch [1/10], Step [500/600], Loss: 1.5784\n",
      "Epoch [1/10], Step [600/600], Loss: 1.5728\n",
      "Epoch [2/10], Step [100/600], Loss: 1.6049\n",
      "Epoch [2/10], Step [200/600], Loss: 1.6287\n",
      "Epoch [2/10], Step [300/600], Loss: 1.5076\n",
      "Epoch [2/10], Step [400/600], Loss: 1.5479\n",
      "Epoch [2/10], Step [500/600], Loss: 1.5895\n",
      "Epoch [2/10], Step [600/600], Loss: 1.5763\n",
      "Epoch [3/10], Step [100/600], Loss: 1.5390\n",
      "Epoch [3/10], Step [200/600], Loss: 1.5710\n",
      "Epoch [3/10], Step [300/600], Loss: 1.5834\n",
      "Epoch [3/10], Step [400/600], Loss: 1.5492\n",
      "Epoch [3/10], Step [500/600], Loss: 1.5372\n",
      "Epoch [3/10], Step [600/600], Loss: 1.6057\n",
      "Epoch [4/10], Step [100/600], Loss: 1.5536\n",
      "Epoch [4/10], Step [200/600], Loss: 1.5728\n",
      "Epoch [4/10], Step [300/600], Loss: 1.5655\n",
      "Epoch [4/10], Step [400/600], Loss: 1.5733\n",
      "Epoch [4/10], Step [500/600], Loss: 1.5498\n",
      "Epoch [4/10], Step [600/600], Loss: 1.5586\n",
      "Epoch [5/10], Step [100/600], Loss: 1.5601\n",
      "Epoch [5/10], Step [200/600], Loss: 1.5693\n",
      "Epoch [5/10], Step [300/600], Loss: 1.5238\n",
      "Epoch [5/10], Step [400/600], Loss: 1.5434\n",
      "Epoch [5/10], Step [500/600], Loss: 1.5161\n",
      "Epoch [5/10], Step [600/600], Loss: 1.5339\n",
      "Epoch [6/10], Step [100/600], Loss: 1.5535\n",
      "Epoch [6/10], Step [200/600], Loss: 1.5494\n",
      "Epoch [6/10], Step [300/600], Loss: 1.5303\n",
      "Epoch [6/10], Step [400/600], Loss: 1.4998\n",
      "Epoch [6/10], Step [500/600], Loss: 1.5315\n",
      "Epoch [6/10], Step [600/600], Loss: 1.5315\n",
      "Epoch [7/10], Step [100/600], Loss: 1.5176\n",
      "Epoch [7/10], Step [200/600], Loss: 1.6202\n",
      "Epoch [7/10], Step [300/600], Loss: 1.5435\n",
      "Epoch [7/10], Step [400/600], Loss: 1.5304\n",
      "Epoch [7/10], Step [500/600], Loss: 1.5477\n",
      "Epoch [7/10], Step [600/600], Loss: 1.5717\n",
      "Epoch [8/10], Step [100/600], Loss: 1.5204\n",
      "Epoch [8/10], Step [200/600], Loss: 1.5151\n",
      "Epoch [8/10], Step [300/600], Loss: 1.5341\n",
      "Epoch [8/10], Step [400/600], Loss: 1.5505\n",
      "Epoch [8/10], Step [500/600], Loss: 1.5542\n",
      "Epoch [8/10], Step [600/600], Loss: 1.5616\n",
      "Epoch [9/10], Step [100/600], Loss: 1.5130\n",
      "Epoch [9/10], Step [200/600], Loss: 1.5482\n",
      "Epoch [9/10], Step [300/600], Loss: 1.4809\n",
      "Epoch [9/10], Step [400/600], Loss: 1.5584\n",
      "Epoch [9/10], Step [500/600], Loss: 1.5356\n",
      "Epoch [9/10], Step [600/600], Loss: 1.5579\n",
      "Epoch [10/10], Step [100/600], Loss: 1.5363\n",
      "Epoch [10/10], Step [200/600], Loss: 1.5429\n",
      "Epoch [10/10], Step [300/600], Loss: 1.5172\n",
      "Epoch [10/10], Step [400/600], Loss: 1.5677\n",
      "Epoch [10/10], Step [500/600], Loss: 1.5308\n",
      "Epoch [10/10], Step [600/600], Loss: 1.5415\n"
     ]
    }
   ],
   "source": [
    "optimizer = optim.Adam(net.parameters(), lr = 0.001) \n",
    "loss_func = nn.CrossEntropyLoss() \n",
    "num_epochs = 10\n",
    "total_step = len(Data_train)\n",
    "for epoch in range(num_epochs):\n",
    "    for i, (images,labels) in enumerate(Data_train):\n",
    "        b_x = Variable(images)   # images\n",
    "        b_y = Variable(labels)   # labels\n",
    "        output = net(b_x)\n",
    "        #print(b_y)\n",
    "        #print(output)\n",
    "        loss = loss_func(output, b_y)\n",
    "        optimizer.zero_grad()\n",
    "        loss.backward() \n",
    "        optimizer.step()\n",
    "        #break\n",
    "        if (i+1) % 100 == 0:\n",
    "            print ('Epoch [{}/{}], Step [{}/{}], Loss: {:.4f}' .format(epoch + 1, num_epochs, i + 1, total_step, loss.item()))\n"
   ]
  },
  {
   "cell_type": "code",
   "execution_count": 408,
   "id": "ca24fa7e",
   "metadata": {},
   "outputs": [],
   "source": []
  },
  {
   "cell_type": "code",
   "execution_count": 409,
   "id": "90ee20be",
   "metadata": {},
   "outputs": [
    {
     "data": {
      "text/plain": [
       "torch.Size([10, 576])"
      ]
     },
     "execution_count": 409,
     "metadata": {},
     "output_type": "execute_result"
    }
   ],
   "source": [
    "net.dense1.weight.shape"
   ]
  },
  {
   "cell_type": "code",
   "execution_count": 469,
   "id": "327497e9",
   "metadata": {},
   "outputs": [],
   "source": [
    "w = net.dense1.weight[5].reshape(24,24).detach().numpy()\n",
    "#w = net.dense1.weight[0].reshape(24,24).detach().numpy()"
   ]
  },
  {
   "cell_type": "code",
   "execution_count": 470,
   "id": "67cce7e1",
   "metadata": {},
   "outputs": [],
   "source": [
    "import matplotlib.pyplot as plt"
   ]
  },
  {
   "cell_type": "code",
   "execution_count": 471,
   "id": "dc96f015",
   "metadata": {},
   "outputs": [
    {
     "data": {
      "text/plain": [
       "<matplotlib.colorbar.Colorbar at 0x7feb59973760>"
      ]
     },
     "execution_count": 471,
     "metadata": {},
     "output_type": "execute_result"
    },
    {
     "data": {
      "image/png": "[encoded data removed]",
      "text/plain": [
       "<Figure size 432x288 with 2 Axes>"
      ]
     },
     "metadata": {
      "needs_background": "light"
     },
     "output_type": "display_data"
    }
   ],
   "source": [
    "plt.imshow(w)\n",
    "plt.colorbar()"
   ]
  },
  {
   "cell_type": "code",
   "execution_count": 439,
   "id": "b23c814e",
   "metadata": {},
   "outputs": [
    {
     "data": {
      "text/plain": [
       "<matplotlib.image.AxesImage at 0x7feb316ef340>"
      ]
     },
     "execution_count": 439,
     "metadata": {},
     "output_type": "execute_result"
    },
    {
     "data": {
      "image/png": "[encoded data removed]",
      "text/plain": [
       "<Figure size 432x288 with 1 Axes>"
      ]
     },
     "metadata": {
      "needs_background": "light"
     },
     "output_type": "display_data"
    }
   ],
   "source": [
    "plt.imshow(conv)"
   ]
  },
  {
   "cell_type": "code",
   "execution_count": 440,
   "id": "a6964523",
   "metadata": {},
   "outputs": [],
   "source": [
    "nexte = iter(Data_train)"
   ]
  },
  {
   "cell_type": "code",
   "execution_count": 458,
   "id": "fc249836",
   "metadata": {},
   "outputs": [],
   "source": [
    "input1 = nexte.next()[0][0].reshape(1,1,28,28)\n",
    "i = input1.detach().numpy().reshape(28,28)"
   ]
  },
  {
   "cell_type": "code",
   "execution_count": 459,
   "id": "d7fecd12",
   "metadata": {},
   "outputs": [
    {
     "data": {
      "text/plain": [
       "<matplotlib.colorbar.Colorbar at 0x7feb79ede910>"
      ]
     },
     "execution_count": 459,
     "metadata": {},
     "output_type": "execute_result"
    },
    {
     "data": {
      "image/png": "[encoded data removed]",
      "text/plain": [
       "<Figure size 432x288 with 2 Axes>"
      ]
     },
     "metadata": {
      "needs_background": "light"
     },
     "output_type": "display_data"
    }
   ],
   "source": [
    "plt.imshow(i)\n",
    "plt.colorbar()"
   ]
  },
  {
   "cell_type": "code",
   "execution_count": 460,
   "id": "a63c5800",
   "metadata": {},
   "outputs": [],
   "source": [
    "out_full = net(torch.from_numpy(i).reshape(1,1,28,28)).detach().numpy()\n",
    "out = net.conv1(torch.from_numpy(i).reshape(1,1,28,28)).reshape(24,24).detach().numpy()"
   ]
  },
  {
   "cell_type": "code",
   "execution_count": 461,
   "id": "bafe5805",
   "metadata": {},
   "outputs": [
    {
     "data": {
      "text/plain": [
       "<matplotlib.colorbar.Colorbar at 0x7fead92f6190>"
      ]
     },
     "execution_count": 461,
     "metadata": {},
     "output_type": "execute_result"
    },
    {
     "data": {
      "image/png": "[encoded data removed]",
      "text/plain": [
       "<Figure size 432x288 with 2 Axes>"
      ]
     },
     "metadata": {
      "needs_background": "light"
     },
     "output_type": "display_data"
    }
   ],
   "source": [
    "plt.imshow(out)\n",
    "plt.colorbar()"
   ]
  },
  {
   "cell_type": "code",
   "execution_count": 472,
   "id": "30148d15",
   "metadata": {},
   "outputs": [
    {
     "data": {
      "text/plain": [
       "<matplotlib.colorbar.Colorbar at 0x7feb320f8730>"
      ]
     },
     "execution_count": 472,
     "metadata": {},
     "output_type": "execute_result"
    },
    {
     "data": {
      "image/png": "[encoded data removed]",
      "text/plain": [
       "<Figure size 432x288 with 2 Axes>"
      ]
     },
     "metadata": {
      "needs_background": "light"
     },
     "output_type": "display_data"
    }
   ],
   "source": [
    "plt.imshow(w)\n",
    "plt.colorbar()"
   ]
  },
  {
   "cell_type": "code",
   "execution_count": 473,
   "id": "9d0422be",
   "metadata": {},
   "outputs": [
    {
     "data": {
      "text/plain": [
       "<matplotlib.colorbar.Colorbar at 0x7feb599a0790>"
      ]
     },
     "execution_count": 473,
     "metadata": {},
     "output_type": "execute_result"
    },
    {
     "data": {
      "image/png": "[encoded data removed]",
      "text/plain": [
       "<Figure size 432x288 with 2 Axes>"
      ]
     },
     "metadata": {
      "needs_background": "light"
     },
     "output_type": "display_data"
    }
   ],
   "source": [
    "plt.imshow((out*w))\n",
    "plt.colorbar()"
   ]
  },
  {
   "cell_type": "code",
   "execution_count": 272,
   "id": "ea55a1cf",
   "metadata": {},
   "outputs": [
    {
     "data": {
      "text/plain": [
       "Parameter containing:\n",
       "tensor([-0.0140, -0.0196], requires_grad=True)"
      ]
     },
     "execution_count": 272,
     "metadata": {},
     "output_type": "execute_result"
    }
   ],
   "source": [
    "net.dense1.bias"
   ]
  },
  {
   "cell_type": "code",
   "execution_count": 474,
   "id": "62a430ec",
   "metadata": {},
   "outputs": [],
   "source": [
    "\n",
    "input1.require_grad = True"
   ]
  },
  {
   "cell_type": "code",
   "execution_count": 475,
   "id": "2f3e4ee4",
   "metadata": {},
   "outputs": [],
   "source": [
    "base = torch.zeros((1,1,28,28))"
   ]
  },
  {
   "cell_type": "code",
   "execution_count": 476,
   "id": "66f0fad0",
   "metadata": {},
   "outputs": [
    {
     "data": {
      "text/plain": [
       "torch.Size([1, 1, 28, 28])"
      ]
     },
     "execution_count": 476,
     "metadata": {},
     "output_type": "execute_result"
    }
   ],
   "source": [
    "input1.shape"
   ]
  },
  {
   "cell_type": "code",
   "execution_count": 477,
   "id": "2f7ec17d",
   "metadata": {},
   "outputs": [],
   "source": [
    "ig = IntegratedGradients(net)"
   ]
  },
  {
   "cell_type": "code",
   "execution_count": 478,
   "id": "2eaa52d5",
   "metadata": {},
   "outputs": [],
   "source": [
    "attributions= ig.attribute(input1,target=8)"
   ]
  },
  {
   "cell_type": "code",
   "execution_count": 479,
   "id": "b47f25f5",
   "metadata": {},
   "outputs": [],
   "source": [
    "new_att = attributions.reshape((28,28))"
   ]
  },
  {
   "cell_type": "code",
   "execution_count": 480,
   "id": "00567ffb",
   "metadata": {},
   "outputs": [
    {
     "data": {
      "text/plain": [
       "<matplotlib.colorbar.Colorbar at 0x7fead9562670>"
      ]
     },
     "execution_count": 480,
     "metadata": {},
     "output_type": "execute_result"
    },
    {
     "data": {
      "image/png": "[encoded data removed]",
      "text/plain": [
       "<Figure size 432x288 with 2 Axes>"
      ]
     },
     "metadata": {
      "needs_background": "light"
     },
     "output_type": "display_data"
    }
   ],
   "source": [
    "plt.imshow(new_att)\n",
    "plt.colorbar()"
   ]
  },
  {
   "cell_type": "code",
   "execution_count": 481,
   "id": "e97c6042",
   "metadata": {},
   "outputs": [
    {
     "data": {
      "text/plain": [
       "<matplotlib.image.AxesImage at 0x7feb79f75d60>"
      ]
     },
     "execution_count": 481,
     "metadata": {},
     "output_type": "execute_result"
    },
    {
     "data": {
      "image/png": "[encoded data removed]",
      "text/plain": [
       "<Figure size 432x288 with 1 Axes>"
      ]
     },
     "metadata": {
      "needs_background": "light"
     },
     "output_type": "display_data"
    }
   ],
   "source": [
    "plt.imshow(input1.reshape(28,28))"
   ]
  },
  {
   "cell_type": "code",
   "execution_count": 482,
   "id": "bb958874",
   "metadata": {},
   "outputs": [
    {
     "data": {
      "text/plain": [
       "tensor(5)"
      ]
     },
     "execution_count": 482,
     "metadata": {},
     "output_type": "execute_result"
    }
   ],
   "source": [
    "torch.argmax(net(input1).reshape(10))"
   ]
  },
  {
   "cell_type": "code",
   "execution_count": null,
   "id": "27995a75",
   "metadata": {},
   "outputs": [],
   "source": []
  }
 ],
 "metadata": {
  "kernelspec": {
   "display_name": "Python 3",
   "language": "python",
   "name": "python3"
  },
  "language_info": {
   "codemirror_mode": {
    "name": "ipython",
    "version": 3
   },
   "file_extension": ".py",
   "mimetype": "text/x-python",
   "name": "python",
   "nbconvert_exporter": "python",
   "pygments_lexer": "ipython3",
   "version": "3.9.5"
  }
 },
 "nbformat": 4,
 "nbformat_minor": 5
}
